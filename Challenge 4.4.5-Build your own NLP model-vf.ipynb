{
 "cells": [
  {
   "cell_type": "code",
   "execution_count": 1,
   "metadata": {
    "scrolled": true
   },
   "outputs": [],
   "source": [
    "from matplotlib import pyplot as plt\n",
    "from sklearn.naive_bayes import BernoulliNB\n",
    "from sklearn.model_selection import cross_val_score\n",
    "from sklearn.model_selection import train_test_split\n",
    "from sklearn import neighbors\n",
    "from imblearn.over_sampling import SMOTENC\n",
    "from imblearn.over_sampling import SMOTE\n",
    "from sklearn.linear_model import LogisticRegression\n",
    "from sklearn.metrics import confusion_matrix\n",
    "from sklearn.svm import SVC\n",
    "from collections import Counter\n",
    "from sklearn import ensemble\n",
    "from sklearn import metrics\n",
    "import numpy as np\n",
    "import pandas as pd\n",
    "import seaborn as sns\n",
    "import re\n",
    "\n",
    "import spacy\n",
    "\n",
    "sns.set(rc={'figure.figsize':(12,7)}, style='whitegrid', color_codes=True)"
   ]
  },
  {
   "cell_type": "markdown",
   "metadata": {
    "collapsed": true
   },
   "source": [
    "Source = http://jmcauley.ucsd.edu/data/amazon/ "
   ]
  },
  {
   "cell_type": "markdown",
   "metadata": {},
   "source": [
    "## Challenge: Is to Build an NLP model to classify reviews or texts from Amazon as positive or negative."
   ]
  },
  {
   "cell_type": "code",
   "execution_count": 2,
   "metadata": {},
   "outputs": [],
   "source": [
    "#df =  pd.read_csv('/Users/Sri/Downloads/Amazon_Books_Review.csv')\n",
    "df = pd.read_json('Amazon_Instant_Video_5.json', lines=True)"
   ]
  },
  {
   "cell_type": "code",
   "execution_count": 3,
   "metadata": {
    "scrolled": true
   },
   "outputs": [
    {
     "data": {
      "text/html": [
       "<div>\n",
       "<style scoped>\n",
       "    .dataframe tbody tr th:only-of-type {\n",
       "        vertical-align: middle;\n",
       "    }\n",
       "\n",
       "    .dataframe tbody tr th {\n",
       "        vertical-align: top;\n",
       "    }\n",
       "\n",
       "    .dataframe thead th {\n",
       "        text-align: right;\n",
       "    }\n",
       "</style>\n",
       "<table border=\"1\" class=\"dataframe\">\n",
       "  <thead>\n",
       "    <tr style=\"text-align: right;\">\n",
       "      <th></th>\n",
       "      <th>asin</th>\n",
       "      <th>helpful</th>\n",
       "      <th>overall</th>\n",
       "      <th>reviewText</th>\n",
       "      <th>reviewTime</th>\n",
       "      <th>reviewerID</th>\n",
       "      <th>reviewerName</th>\n",
       "      <th>summary</th>\n",
       "      <th>unixReviewTime</th>\n",
       "    </tr>\n",
       "  </thead>\n",
       "  <tbody>\n",
       "    <tr>\n",
       "      <th>0</th>\n",
       "      <td>B000H00VBQ</td>\n",
       "      <td>[0, 0]</td>\n",
       "      <td>2</td>\n",
       "      <td>I had big expectations because I love English ...</td>\n",
       "      <td>05 3, 2014</td>\n",
       "      <td>A11N155CW1UV02</td>\n",
       "      <td>AdrianaM</td>\n",
       "      <td>A little bit boring for me</td>\n",
       "      <td>1399075200</td>\n",
       "    </tr>\n",
       "    <tr>\n",
       "      <th>1</th>\n",
       "      <td>B000H00VBQ</td>\n",
       "      <td>[0, 0]</td>\n",
       "      <td>5</td>\n",
       "      <td>I highly recommend this series. It is a must f...</td>\n",
       "      <td>09 3, 2012</td>\n",
       "      <td>A3BC8O2KCL29V2</td>\n",
       "      <td>Carol T</td>\n",
       "      <td>Excellent Grown Up TV</td>\n",
       "      <td>1346630400</td>\n",
       "    </tr>\n",
       "    <tr>\n",
       "      <th>2</th>\n",
       "      <td>B000H00VBQ</td>\n",
       "      <td>[0, 1]</td>\n",
       "      <td>1</td>\n",
       "      <td>This one is a real snoozer. Don't believe anyt...</td>\n",
       "      <td>10 16, 2013</td>\n",
       "      <td>A60D5HQFOTSOM</td>\n",
       "      <td>Daniel Cooper \"dancoopermedia\"</td>\n",
       "      <td>Way too boring for me</td>\n",
       "      <td>1381881600</td>\n",
       "    </tr>\n",
       "    <tr>\n",
       "      <th>3</th>\n",
       "      <td>B000H00VBQ</td>\n",
       "      <td>[0, 0]</td>\n",
       "      <td>4</td>\n",
       "      <td>Mysteries are interesting.  The tension betwee...</td>\n",
       "      <td>10 30, 2013</td>\n",
       "      <td>A1RJPIGRSNX4PW</td>\n",
       "      <td>J. Kaplan \"JJ\"</td>\n",
       "      <td>Robson Green is mesmerizing</td>\n",
       "      <td>1383091200</td>\n",
       "    </tr>\n",
       "    <tr>\n",
       "      <th>4</th>\n",
       "      <td>B000H00VBQ</td>\n",
       "      <td>[1, 1]</td>\n",
       "      <td>5</td>\n",
       "      <td>This show always is excellent, as far as briti...</td>\n",
       "      <td>02 11, 2009</td>\n",
       "      <td>A16XRPF40679KG</td>\n",
       "      <td>Michael Dobey</td>\n",
       "      <td>Robson green and great writing</td>\n",
       "      <td>1234310400</td>\n",
       "    </tr>\n",
       "  </tbody>\n",
       "</table>\n",
       "</div>"
      ],
      "text/plain": [
       "         asin helpful  overall  \\\n",
       "0  B000H00VBQ  [0, 0]        2   \n",
       "1  B000H00VBQ  [0, 0]        5   \n",
       "2  B000H00VBQ  [0, 1]        1   \n",
       "3  B000H00VBQ  [0, 0]        4   \n",
       "4  B000H00VBQ  [1, 1]        5   \n",
       "\n",
       "                                          reviewText   reviewTime  \\\n",
       "0  I had big expectations because I love English ...   05 3, 2014   \n",
       "1  I highly recommend this series. It is a must f...   09 3, 2012   \n",
       "2  This one is a real snoozer. Don't believe anyt...  10 16, 2013   \n",
       "3  Mysteries are interesting.  The tension betwee...  10 30, 2013   \n",
       "4  This show always is excellent, as far as briti...  02 11, 2009   \n",
       "\n",
       "       reviewerID                    reviewerName  \\\n",
       "0  A11N155CW1UV02                        AdrianaM   \n",
       "1  A3BC8O2KCL29V2                         Carol T   \n",
       "2   A60D5HQFOTSOM  Daniel Cooper \"dancoopermedia\"   \n",
       "3  A1RJPIGRSNX4PW                  J. Kaplan \"JJ\"   \n",
       "4  A16XRPF40679KG                   Michael Dobey   \n",
       "\n",
       "                          summary  unixReviewTime  \n",
       "0      A little bit boring for me      1399075200  \n",
       "1           Excellent Grown Up TV      1346630400  \n",
       "2           Way too boring for me      1381881600  \n",
       "3     Robson Green is mesmerizing      1383091200  \n",
       "4  Robson green and great writing      1234310400  "
      ]
     },
     "execution_count": 3,
     "metadata": {},
     "output_type": "execute_result"
    }
   ],
   "source": [
    "df.head()"
   ]
  },
  {
   "cell_type": "code",
   "execution_count": 4,
   "metadata": {},
   "outputs": [
    {
     "data": {
      "text/plain": [
       "5    0.562678\n",
       "4    0.227496\n",
       "3    0.112778\n",
       "2    0.050773\n",
       "1    0.046275\n",
       "Name: overall, dtype: float64"
      ]
     },
     "execution_count": 4,
     "metadata": {},
     "output_type": "execute_result"
    }
   ],
   "source": [
    "df.overall.value_counts(normalize=True)"
   ]
  },
  {
   "cell_type": "code",
   "execution_count": 5,
   "metadata": {},
   "outputs": [
    {
     "name": "stdout",
     "output_type": "stream",
     "text": [
      "<class 'pandas.core.frame.DataFrame'>\n",
      "RangeIndex: 37126 entries, 0 to 37125\n",
      "Data columns (total 9 columns):\n",
      "asin              37126 non-null object\n",
      "helpful           37126 non-null object\n",
      "overall           37126 non-null int64\n",
      "reviewText        37126 non-null object\n",
      "reviewTime        37126 non-null object\n",
      "reviewerID        37126 non-null object\n",
      "reviewerName      36797 non-null object\n",
      "summary           37126 non-null object\n",
      "unixReviewTime    37126 non-null int64\n",
      "dtypes: int64(2), object(7)\n",
      "memory usage: 2.5+ MB\n"
     ]
    }
   ],
   "source": [
    "df.info()"
   ]
  },
  {
   "cell_type": "code",
   "execution_count": 6,
   "metadata": {},
   "outputs": [],
   "source": [
    "# Making a subset dataframe of only the columns which are necessary for analysis.\n",
    "data=df[['reviewText', 'overall']]"
   ]
  },
  {
   "cell_type": "code",
   "execution_count": 7,
   "metadata": {},
   "outputs": [],
   "source": [
    "# Making a subset of the data for faster run time\n",
    "data = data.sample(frac=0.1, replace=False, random_state=1)\n",
    "data.reset_index(drop=True, inplace=True)"
   ]
  },
  {
   "cell_type": "code",
   "execution_count": 8,
   "metadata": {
    "scrolled": true
   },
   "outputs": [
    {
     "name": "stdout",
     "output_type": "stream",
     "text": [
      "<class 'pandas.core.frame.DataFrame'>\n",
      "RangeIndex: 3713 entries, 0 to 3712\n",
      "Data columns (total 2 columns):\n",
      "reviewText    3713 non-null object\n",
      "overall       3713 non-null int64\n",
      "dtypes: int64(1), object(1)\n",
      "memory usage: 58.1+ KB\n"
     ]
    }
   ],
   "source": [
    "data.info()"
   ]
  },
  {
   "cell_type": "code",
   "execution_count": 9,
   "metadata": {},
   "outputs": [
    {
     "data": {
      "text/html": [
       "<div>\n",
       "<style scoped>\n",
       "    .dataframe tbody tr th:only-of-type {\n",
       "        vertical-align: middle;\n",
       "    }\n",
       "\n",
       "    .dataframe tbody tr th {\n",
       "        vertical-align: top;\n",
       "    }\n",
       "\n",
       "    .dataframe thead th {\n",
       "        text-align: right;\n",
       "    }\n",
       "</style>\n",
       "<table border=\"1\" class=\"dataframe\">\n",
       "  <thead>\n",
       "    <tr style=\"text-align: right;\">\n",
       "      <th></th>\n",
       "      <th>reviewText</th>\n",
       "      <th>overall</th>\n",
       "    </tr>\n",
       "  </thead>\n",
       "  <tbody>\n",
       "    <tr>\n",
       "      <th>0</th>\n",
       "      <td>i saw the series on TV and wasn;t too imressed...</td>\n",
       "      <td>5</td>\n",
       "    </tr>\n",
       "    <tr>\n",
       "      <th>1</th>\n",
       "      <td>I love police procedurals. My favorite is the ...</td>\n",
       "      <td>5</td>\n",
       "    </tr>\n",
       "    <tr>\n",
       "      <th>2</th>\n",
       "      <td>Very good well written series,  so sorry it di...</td>\n",
       "      <td>3</td>\n",
       "    </tr>\n",
       "    <tr>\n",
       "      <th>3</th>\n",
       "      <td>One episode in, I plan to watch another. The a...</td>\n",
       "      <td>3</td>\n",
       "    </tr>\n",
       "    <tr>\n",
       "      <th>4</th>\n",
       "      <td>This is a wild ride, on the one hand we've got...</td>\n",
       "      <td>5</td>\n",
       "    </tr>\n",
       "  </tbody>\n",
       "</table>\n",
       "</div>"
      ],
      "text/plain": [
       "                                          reviewText  overall\n",
       "0  i saw the series on TV and wasn;t too imressed...        5\n",
       "1  I love police procedurals. My favorite is the ...        5\n",
       "2  Very good well written series,  so sorry it di...        3\n",
       "3  One episode in, I plan to watch another. The a...        3\n",
       "4  This is a wild ride, on the one hand we've got...        5"
      ]
     },
     "execution_count": 9,
     "metadata": {},
     "output_type": "execute_result"
    }
   ],
   "source": [
    "data.head()"
   ]
  },
  {
   "cell_type": "code",
   "execution_count": 10,
   "metadata": {
    "scrolled": true
   },
   "outputs": [
    {
     "data": {
      "text/plain": [
       "Series([], dtype: int64)"
      ]
     },
     "execution_count": 10,
     "metadata": {},
     "output_type": "execute_result"
    }
   ],
   "source": [
    "#Checking for nulls\n",
    "data.isnull().sum()[data.isnull().sum()>0]"
   ]
  },
  {
   "cell_type": "code",
   "execution_count": 11,
   "metadata": {},
   "outputs": [
    {
     "data": {
      "text/plain": [
       "array([5, 3, 4, 2, 1], dtype=int64)"
      ]
     },
     "execution_count": 11,
     "metadata": {},
     "output_type": "execute_result"
    }
   ],
   "source": [
    "data.overall.unique()"
   ]
  },
  {
   "cell_type": "code",
   "execution_count": 12,
   "metadata": {},
   "outputs": [],
   "source": [
    "# Creating outcome variable i.e review_sentiment as positive or negative\n",
    "data['review_sentiment'] = np.where(data['overall'] > 3, 1, 0)"
   ]
  },
  {
   "cell_type": "code",
   "execution_count": 13,
   "metadata": {},
   "outputs": [
    {
     "data": {
      "text/html": [
       "<div>\n",
       "<style scoped>\n",
       "    .dataframe tbody tr th:only-of-type {\n",
       "        vertical-align: middle;\n",
       "    }\n",
       "\n",
       "    .dataframe tbody tr th {\n",
       "        vertical-align: top;\n",
       "    }\n",
       "\n",
       "    .dataframe thead th {\n",
       "        text-align: right;\n",
       "    }\n",
       "</style>\n",
       "<table border=\"1\" class=\"dataframe\">\n",
       "  <thead>\n",
       "    <tr style=\"text-align: right;\">\n",
       "      <th></th>\n",
       "      <th>reviewText</th>\n",
       "      <th>overall</th>\n",
       "      <th>review_sentiment</th>\n",
       "    </tr>\n",
       "  </thead>\n",
       "  <tbody>\n",
       "    <tr>\n",
       "      <th>0</th>\n",
       "      <td>i saw the series on TV and wasn;t too imressed...</td>\n",
       "      <td>5</td>\n",
       "      <td>1</td>\n",
       "    </tr>\n",
       "    <tr>\n",
       "      <th>1</th>\n",
       "      <td>I love police procedurals. My favorite is the ...</td>\n",
       "      <td>5</td>\n",
       "      <td>1</td>\n",
       "    </tr>\n",
       "    <tr>\n",
       "      <th>2</th>\n",
       "      <td>Very good well written series,  so sorry it di...</td>\n",
       "      <td>3</td>\n",
       "      <td>0</td>\n",
       "    </tr>\n",
       "    <tr>\n",
       "      <th>3</th>\n",
       "      <td>One episode in, I plan to watch another. The a...</td>\n",
       "      <td>3</td>\n",
       "      <td>0</td>\n",
       "    </tr>\n",
       "    <tr>\n",
       "      <th>4</th>\n",
       "      <td>This is a wild ride, on the one hand we've got...</td>\n",
       "      <td>5</td>\n",
       "      <td>1</td>\n",
       "    </tr>\n",
       "  </tbody>\n",
       "</table>\n",
       "</div>"
      ],
      "text/plain": [
       "                                          reviewText  overall  \\\n",
       "0  i saw the series on TV and wasn;t too imressed...        5   \n",
       "1  I love police procedurals. My favorite is the ...        5   \n",
       "2  Very good well written series,  so sorry it di...        3   \n",
       "3  One episode in, I plan to watch another. The a...        3   \n",
       "4  This is a wild ride, on the one hand we've got...        5   \n",
       "\n",
       "   review_sentiment  \n",
       "0                 1  \n",
       "1                 1  \n",
       "2                 0  \n",
       "3                 0  \n",
       "4                 1  "
      ]
     },
     "execution_count": 13,
     "metadata": {},
     "output_type": "execute_result"
    }
   ],
   "source": [
    "data.head()"
   ]
  },
  {
   "cell_type": "code",
   "execution_count": 14,
   "metadata": {},
   "outputs": [],
   "source": [
    "# Making a subset dataframe of only the columns which are necessary for analysis.\n",
    "data.drop('overall', inplace=True, axis=1)"
   ]
  },
  {
   "cell_type": "markdown",
   "metadata": {},
   "source": [
    "Before doing any of the next steps we need to extract the reviews as positive or negative for creating features category wise."
   ]
  },
  {
   "cell_type": "code",
   "execution_count": 15,
   "metadata": {},
   "outputs": [],
   "source": [
    "all_reviews_positive=[]\n",
    "all_reviews_negative=[]\n",
    "\n",
    "for text in (data.loc[data['review_sentiment'] == 1, 'reviewText'].values):\n",
    "    all_reviews_positive.append(text)\n",
    "    \n",
    "for text in (data.loc[data['review_sentiment'] == 0, 'reviewText'].values):\n",
    "    all_reviews_negative.append(text)"
   ]
  },
  {
   "cell_type": "code",
   "execution_count": 16,
   "metadata": {},
   "outputs": [
    {
     "data": {
      "text/plain": [
       "2954"
      ]
     },
     "execution_count": 16,
     "metadata": {},
     "output_type": "execute_result"
    }
   ],
   "source": [
    "len(all_reviews_positive)"
   ]
  },
  {
   "cell_type": "code",
   "execution_count": 17,
   "metadata": {},
   "outputs": [
    {
     "data": {
      "text/plain": [
       "759"
      ]
     },
     "execution_count": 17,
     "metadata": {},
     "output_type": "execute_result"
    }
   ],
   "source": [
    "len(all_reviews_negative)"
   ]
  },
  {
   "cell_type": "code",
   "execution_count": 18,
   "metadata": {},
   "outputs": [
    {
     "name": "stdout",
     "output_type": "stream",
     "text": [
      "341\n",
      "413\n",
      "110\n",
      "169\n",
      "861\n",
      "237\n",
      "505\n",
      "277\n",
      "1462\n",
      "111\n"
     ]
    }
   ],
   "source": [
    "# Finding the length of each review for 10 rows\n",
    "for i in range(10):\n",
    "    print (len (data['reviewText'][i]))"
   ]
  },
  {
   "cell_type": "markdown",
   "metadata": {},
   "source": [
    "Some of them have pretty long reviews. More the words better it is for word training."
   ]
  },
  {
   "cell_type": "markdown",
   "metadata": {},
   "source": [
    "Since the size of the text is greater than 1 million, Spacy gives an error. so broken down the text into a list of strings."
   ]
  },
  {
   "cell_type": "markdown",
   "metadata": {},
   "source": [
    "### 1. Data cleaning / processing / language parsing"
   ]
  },
  {
   "cell_type": "code",
   "execution_count": 19,
   "metadata": {},
   "outputs": [],
   "source": [
    "# Cleaning the texts and making the tokens ready for further processing\n",
    "temp='' \n",
    "all_reviews_positive_cl = []\n",
    "all_reviews_negative_cl =[]\n",
    "for review in all_reviews_positive:\n",
    "\n",
    "    for word in str.split(review):\n",
    "        if word.isalpha():\n",
    "            temp =temp + ' '+word.lower()\n",
    "    all_reviews_positive_cl.append(temp)\n",
    "    temp=''\n",
    "        \n",
    "for review in all_reviews_negative:\n",
    "    for word in str.split(review):\n",
    "        if word.isalpha():\n",
    "            temp = temp + ' ' + word.lower()\n",
    "    all_reviews_negative_cl.append(temp)\n",
    "    temp=''"
   ]
  },
  {
   "cell_type": "code",
   "execution_count": 20,
   "metadata": {},
   "outputs": [
    {
     "data": {
      "text/plain": [
       "' i saw the series on tv and too the second time around was much story line moves the characters are intriguing and the suspense is highly recommend this series to all who would enjoy horror with a great story see the first american horror is'"
      ]
     },
     "execution_count": 20,
     "metadata": {},
     "output_type": "execute_result"
    }
   ],
   "source": [
    "all_reviews_positive_cl[0]"
   ]
  },
  {
   "cell_type": "code",
   "execution_count": 21,
   "metadata": {},
   "outputs": [],
   "source": [
    "# Parsing the texts\n",
    "nlp = spacy.load('en')\n",
    "\n",
    "all_reviews_positive_list_nlp = [nlp(text) for text in all_reviews_positive_cl]\n",
    "all_reviews_negative_list_nlp = [nlp(text) for text in all_reviews_negative_cl]"
   ]
  },
  {
   "cell_type": "code",
   "execution_count": 22,
   "metadata": {},
   "outputs": [],
   "source": [
    "all_reviews_positive_list_tokens=[]\n",
    "all_reviews_negative_list_tokens=[]\n",
    "for review in all_reviews_positive_list_nlp:\n",
    "    allwords = [token for token in review if not token.is_punct and not token.is_stop\n",
    "                and not token.is_space and token.is_alpha]\n",
    "    all_reviews_positive_list_tokens.append(allwords)\n",
    "    allwords=[]\n",
    "for review in all_reviews_negative_list_nlp:\n",
    "    allwords = [token for token in review if not token.is_punct and not token.is_stop\n",
    "                and not token.is_space and token.is_alpha]\n",
    "    all_reviews_negative_list_tokens.append(allwords)\n",
    "    allwords=[]"
   ]
  },
  {
   "cell_type": "markdown",
   "metadata": {},
   "source": [
    "### 2. Create features using two different NLP methods: For example,  BOW and tf-idf."
   ]
  },
  {
   "cell_type": "markdown",
   "metadata": {},
   "source": [
    "### BOW feature generation"
   ]
  },
  {
   "cell_type": "code",
   "execution_count": 23,
   "metadata": {},
   "outputs": [],
   "source": [
    "# Utility function to create a list of the unique adjectives which describe the\n",
    "#sentiment of the review and taking the unique words here.\n",
    "\n",
    "def bag_of_words_adject(doc):\n",
    "    \n",
    "    # Filter out punctuation and stop words.\n",
    "    \n",
    "    pos = [token.text for sent in doc.sents for token in sent if token.pos_ == 'ADJ']\n",
    "               \n",
    "    # Return the most common words.\n",
    "    return [item[0] for item in Counter(pos).most_common(1000)]    \n",
    "    \n",
    "# Set up the bags.\n",
    "# Another function to consolidate all words\n",
    "\n",
    "def combine(function, text):\n",
    "    temp = []\n",
    "    for item in text:   \n",
    "        temp.append(function(item))\n",
    "    return temp"
   ]
  },
  {
   "cell_type": "code",
   "execution_count": 24,
   "metadata": {},
   "outputs": [],
   "source": [
    "#Creating bags for unique words\n",
    "review_positive_adject = []\n",
    "review_negative_adject = []\n",
    "review_positive_adject = combine(bag_of_words_adject, all_reviews_positive_list_nlp)\n",
    "review_negative_adject = combine(bag_of_words_adject, all_reviews_negative_list_nlp)\n",
    "\n",
    "#Taking the unique adjectives of positive and negative reviews\n",
    "review_positive_adject = set([x for x in (review_positive_adject) for x in x])\n",
    "review_negative_adject = set([x for x in (review_negative_adject) for x in x])\n",
    "\n",
    "unique_adject1 = review_positive_adject - review_negative_adject\n",
    "unique_adject2 = review_negative_adject - review_positive_adject\n",
    "unique_adject = list(unique_adject1) + list(unique_adject2)\n",
    "#unique_adject1 =set(unique_adject))"
   ]
  },
  {
   "cell_type": "code",
   "execution_count": 25,
   "metadata": {},
   "outputs": [
    {
     "data": {
      "text/plain": [
       "2161"
      ]
     },
     "execution_count": 25,
     "metadata": {},
     "output_type": "execute_result"
    }
   ],
   "source": [
    "len(unique_adject) # Length of unique words found which are unique only to one group positive or negative"
   ]
  },
  {
   "cell_type": "code",
   "execution_count": 26,
   "metadata": {},
   "outputs": [
    {
     "data": {
      "text/html": [
       "<div>\n",
       "<style scoped>\n",
       "    .dataframe tbody tr th:only-of-type {\n",
       "        vertical-align: middle;\n",
       "    }\n",
       "\n",
       "    .dataframe tbody tr th {\n",
       "        vertical-align: top;\n",
       "    }\n",
       "\n",
       "    .dataframe thead th {\n",
       "        text-align: right;\n",
       "    }\n",
       "</style>\n",
       "<table border=\"1\" class=\"dataframe\">\n",
       "  <thead>\n",
       "    <tr style=\"text-align: right;\">\n",
       "      <th></th>\n",
       "      <th>visceral</th>\n",
       "      <th>unsuitable</th>\n",
       "      <th>arthurian</th>\n",
       "      <th>adventuresome</th>\n",
       "      <th>predatory</th>\n",
       "      <th>ballistic</th>\n",
       "      <th>causton</th>\n",
       "      <th>skeletal</th>\n",
       "      <th>slasher</th>\n",
       "      <th>easier</th>\n",
       "      <th>...</th>\n",
       "      <th>core</th>\n",
       "      <th>divorced</th>\n",
       "      <th>feeble</th>\n",
       "      <th>peaceful</th>\n",
       "      <th>midwest</th>\n",
       "      <th>avid</th>\n",
       "      <th>cynical</th>\n",
       "      <th>funniest</th>\n",
       "      <th>review_text</th>\n",
       "      <th>review_sentiment</th>\n",
       "    </tr>\n",
       "  </thead>\n",
       "  <tbody>\n",
       "    <tr>\n",
       "      <th>0</th>\n",
       "      <td>0</td>\n",
       "      <td>0</td>\n",
       "      <td>0</td>\n",
       "      <td>0</td>\n",
       "      <td>0</td>\n",
       "      <td>0</td>\n",
       "      <td>0</td>\n",
       "      <td>0</td>\n",
       "      <td>0</td>\n",
       "      <td>0</td>\n",
       "      <td>...</td>\n",
       "      <td>0</td>\n",
       "      <td>0</td>\n",
       "      <td>0</td>\n",
       "      <td>0</td>\n",
       "      <td>0</td>\n",
       "      <td>0</td>\n",
       "      <td>0</td>\n",
       "      <td>0</td>\n",
       "      <td>( , i, saw, the, series, on, tv, and, too, the...</td>\n",
       "      <td>1</td>\n",
       "    </tr>\n",
       "    <tr>\n",
       "      <th>1</th>\n",
       "      <td>0</td>\n",
       "      <td>0</td>\n",
       "      <td>0</td>\n",
       "      <td>0</td>\n",
       "      <td>0</td>\n",
       "      <td>0</td>\n",
       "      <td>0</td>\n",
       "      <td>0</td>\n",
       "      <td>0</td>\n",
       "      <td>0</td>\n",
       "      <td>...</td>\n",
       "      <td>0</td>\n",
       "      <td>0</td>\n",
       "      <td>0</td>\n",
       "      <td>0</td>\n",
       "      <td>0</td>\n",
       "      <td>0</td>\n",
       "      <td>0</td>\n",
       "      <td>0</td>\n",
       "      <td>( , i, love, police, my, favorite, is, the, sw...</td>\n",
       "      <td>1</td>\n",
       "    </tr>\n",
       "    <tr>\n",
       "      <th>2</th>\n",
       "      <td>0</td>\n",
       "      <td>0</td>\n",
       "      <td>0</td>\n",
       "      <td>0</td>\n",
       "      <td>0</td>\n",
       "      <td>0</td>\n",
       "      <td>0</td>\n",
       "      <td>0</td>\n",
       "      <td>0</td>\n",
       "      <td>0</td>\n",
       "      <td>...</td>\n",
       "      <td>0</td>\n",
       "      <td>0</td>\n",
       "      <td>0</td>\n",
       "      <td>0</td>\n",
       "      <td>0</td>\n",
       "      <td>0</td>\n",
       "      <td>0</td>\n",
       "      <td>0</td>\n",
       "      <td>( , this, is, a, wild, on, the, one, hand, got...</td>\n",
       "      <td>1</td>\n",
       "    </tr>\n",
       "    <tr>\n",
       "      <th>3</th>\n",
       "      <td>0</td>\n",
       "      <td>0</td>\n",
       "      <td>0</td>\n",
       "      <td>0</td>\n",
       "      <td>0</td>\n",
       "      <td>0</td>\n",
       "      <td>0</td>\n",
       "      <td>0</td>\n",
       "      <td>0</td>\n",
       "      <td>0</td>\n",
       "      <td>...</td>\n",
       "      <td>0</td>\n",
       "      <td>0</td>\n",
       "      <td>0</td>\n",
       "      <td>0</td>\n",
       "      <td>0</td>\n",
       "      <td>0</td>\n",
       "      <td>0</td>\n",
       "      <td>0</td>\n",
       "      <td>( , i, like, this, tv, series, which, nowadays...</td>\n",
       "      <td>1</td>\n",
       "    </tr>\n",
       "    <tr>\n",
       "      <th>4</th>\n",
       "      <td>0</td>\n",
       "      <td>0</td>\n",
       "      <td>0</td>\n",
       "      <td>0</td>\n",
       "      <td>0</td>\n",
       "      <td>0</td>\n",
       "      <td>0</td>\n",
       "      <td>0</td>\n",
       "      <td>0</td>\n",
       "      <td>0</td>\n",
       "      <td>...</td>\n",
       "      <td>0</td>\n",
       "      <td>0</td>\n",
       "      <td>0</td>\n",
       "      <td>0</td>\n",
       "      <td>0</td>\n",
       "      <td>0</td>\n",
       "      <td>0</td>\n",
       "      <td>0</td>\n",
       "      <td>( , i, liked, a, girl, goes, to, a, party, and...</td>\n",
       "      <td>1</td>\n",
       "    </tr>\n",
       "  </tbody>\n",
       "</table>\n",
       "<p>5 rows × 2163 columns</p>\n",
       "</div>"
      ],
      "text/plain": [
       "   visceral  unsuitable  arthurian  adventuresome  predatory  ballistic  \\\n",
       "0         0           0          0              0          0          0   \n",
       "1         0           0          0              0          0          0   \n",
       "2         0           0          0              0          0          0   \n",
       "3         0           0          0              0          0          0   \n",
       "4         0           0          0              0          0          0   \n",
       "\n",
       "   causton  skeletal  slasher  easier  ...  core  divorced  feeble  peaceful  \\\n",
       "0        0         0        0       0  ...     0         0       0         0   \n",
       "1        0         0        0       0  ...     0         0       0         0   \n",
       "2        0         0        0       0  ...     0         0       0         0   \n",
       "3        0         0        0       0  ...     0         0       0         0   \n",
       "4        0         0        0       0  ...     0         0       0         0   \n",
       "\n",
       "   midwest  avid  cynical  funniest  \\\n",
       "0        0     0        0         0   \n",
       "1        0     0        0         0   \n",
       "2        0     0        0         0   \n",
       "3        0     0        0         0   \n",
       "4        0     0        0         0   \n",
       "\n",
       "                                         review_text  review_sentiment  \n",
       "0  ( , i, saw, the, series, on, tv, and, too, the...                 1  \n",
       "1  ( , i, love, police, my, favorite, is, the, sw...                 1  \n",
       "2  ( , this, is, a, wild, on, the, one, hand, got...                 1  \n",
       "3  ( , i, like, this, tv, series, which, nowadays...                 1  \n",
       "4  ( , i, liked, a, girl, goes, to, a, party, and...                 1  \n",
       "\n",
       "[5 rows x 2163 columns]"
      ]
     },
     "execution_count": 26,
     "metadata": {},
     "output_type": "execute_result"
    }
   ],
   "source": [
    "#Creating dataframes for holding the features\n",
    "\n",
    "df = pd.DataFrame(columns=['Text'])\n",
    "total = all_reviews_positive_list_nlp+all_reviews_negative_list_nlp\n",
    "for i, review in enumerate(total):\n",
    "    df.loc[i, 'Text'] = review\n",
    "df['review_sentiment'] = 0\n",
    "df.loc[0:len(all_reviews_positive_list_nlp)-1, 'review_sentiment'] = 1\n",
    "\n",
    "reviews_df = pd.DataFrame(columns=unique_adject)\n",
    "reviews_df['review_text'] = df['Text']\n",
    "reviews_df['review_sentiment'] = df['review_sentiment']\n",
    "reviews_df.loc[:, unique_adject] = 0\n",
    "reviews_df.head()"
   ]
  },
  {
   "cell_type": "code",
   "execution_count": 27,
   "metadata": {},
   "outputs": [
    {
     "name": "stdout",
     "output_type": "stream",
     "text": [
      "Processing row 0\n",
      "Processing row 1000\n",
      "Processing row 2000\n",
      "Processing row 3000\n",
      "Done Atlast!!!\n"
     ]
    },
    {
     "data": {
      "text/html": [
       "<div>\n",
       "<style scoped>\n",
       "    .dataframe tbody tr th:only-of-type {\n",
       "        vertical-align: middle;\n",
       "    }\n",
       "\n",
       "    .dataframe tbody tr th {\n",
       "        vertical-align: top;\n",
       "    }\n",
       "\n",
       "    .dataframe thead th {\n",
       "        text-align: right;\n",
       "    }\n",
       "</style>\n",
       "<table border=\"1\" class=\"dataframe\">\n",
       "  <thead>\n",
       "    <tr style=\"text-align: right;\">\n",
       "      <th></th>\n",
       "      <th>visceral</th>\n",
       "      <th>unsuitable</th>\n",
       "      <th>arthurian</th>\n",
       "      <th>adventuresome</th>\n",
       "      <th>predatory</th>\n",
       "      <th>ballistic</th>\n",
       "      <th>causton</th>\n",
       "      <th>skeletal</th>\n",
       "      <th>slasher</th>\n",
       "      <th>easier</th>\n",
       "      <th>...</th>\n",
       "      <th>core</th>\n",
       "      <th>divorced</th>\n",
       "      <th>feeble</th>\n",
       "      <th>peaceful</th>\n",
       "      <th>midwest</th>\n",
       "      <th>avid</th>\n",
       "      <th>cynical</th>\n",
       "      <th>funniest</th>\n",
       "      <th>review_text</th>\n",
       "      <th>review_sentiment</th>\n",
       "    </tr>\n",
       "  </thead>\n",
       "  <tbody>\n",
       "    <tr>\n",
       "      <th>0</th>\n",
       "      <td>0</td>\n",
       "      <td>0</td>\n",
       "      <td>0</td>\n",
       "      <td>0</td>\n",
       "      <td>0</td>\n",
       "      <td>0</td>\n",
       "      <td>0</td>\n",
       "      <td>0</td>\n",
       "      <td>0</td>\n",
       "      <td>0</td>\n",
       "      <td>...</td>\n",
       "      <td>0</td>\n",
       "      <td>0</td>\n",
       "      <td>0</td>\n",
       "      <td>0</td>\n",
       "      <td>0</td>\n",
       "      <td>0</td>\n",
       "      <td>0</td>\n",
       "      <td>0</td>\n",
       "      <td>( , i, saw, the, series, on, tv, and, too, the...</td>\n",
       "      <td>1</td>\n",
       "    </tr>\n",
       "    <tr>\n",
       "      <th>1</th>\n",
       "      <td>0</td>\n",
       "      <td>0</td>\n",
       "      <td>0</td>\n",
       "      <td>0</td>\n",
       "      <td>0</td>\n",
       "      <td>0</td>\n",
       "      <td>0</td>\n",
       "      <td>0</td>\n",
       "      <td>0</td>\n",
       "      <td>0</td>\n",
       "      <td>...</td>\n",
       "      <td>0</td>\n",
       "      <td>0</td>\n",
       "      <td>0</td>\n",
       "      <td>0</td>\n",
       "      <td>0</td>\n",
       "      <td>0</td>\n",
       "      <td>0</td>\n",
       "      <td>0</td>\n",
       "      <td>( , i, love, police, my, favorite, is, the, sw...</td>\n",
       "      <td>1</td>\n",
       "    </tr>\n",
       "    <tr>\n",
       "      <th>2</th>\n",
       "      <td>0</td>\n",
       "      <td>0</td>\n",
       "      <td>0</td>\n",
       "      <td>0</td>\n",
       "      <td>0</td>\n",
       "      <td>0</td>\n",
       "      <td>0</td>\n",
       "      <td>0</td>\n",
       "      <td>0</td>\n",
       "      <td>0</td>\n",
       "      <td>...</td>\n",
       "      <td>0</td>\n",
       "      <td>0</td>\n",
       "      <td>0</td>\n",
       "      <td>0</td>\n",
       "      <td>0</td>\n",
       "      <td>0</td>\n",
       "      <td>0</td>\n",
       "      <td>0</td>\n",
       "      <td>( , this, is, a, wild, on, the, one, hand, got...</td>\n",
       "      <td>1</td>\n",
       "    </tr>\n",
       "    <tr>\n",
       "      <th>3</th>\n",
       "      <td>0</td>\n",
       "      <td>0</td>\n",
       "      <td>0</td>\n",
       "      <td>0</td>\n",
       "      <td>0</td>\n",
       "      <td>0</td>\n",
       "      <td>0</td>\n",
       "      <td>0</td>\n",
       "      <td>0</td>\n",
       "      <td>0</td>\n",
       "      <td>...</td>\n",
       "      <td>0</td>\n",
       "      <td>0</td>\n",
       "      <td>0</td>\n",
       "      <td>0</td>\n",
       "      <td>0</td>\n",
       "      <td>0</td>\n",
       "      <td>0</td>\n",
       "      <td>0</td>\n",
       "      <td>( , i, like, this, tv, series, which, nowadays...</td>\n",
       "      <td>1</td>\n",
       "    </tr>\n",
       "    <tr>\n",
       "      <th>4</th>\n",
       "      <td>0</td>\n",
       "      <td>0</td>\n",
       "      <td>0</td>\n",
       "      <td>0</td>\n",
       "      <td>0</td>\n",
       "      <td>0</td>\n",
       "      <td>0</td>\n",
       "      <td>0</td>\n",
       "      <td>0</td>\n",
       "      <td>0</td>\n",
       "      <td>...</td>\n",
       "      <td>0</td>\n",
       "      <td>0</td>\n",
       "      <td>0</td>\n",
       "      <td>0</td>\n",
       "      <td>0</td>\n",
       "      <td>0</td>\n",
       "      <td>0</td>\n",
       "      <td>0</td>\n",
       "      <td>( , i, liked, a, girl, goes, to, a, party, and...</td>\n",
       "      <td>1</td>\n",
       "    </tr>\n",
       "  </tbody>\n",
       "</table>\n",
       "<p>5 rows × 2163 columns</p>\n",
       "</div>"
      ],
      "text/plain": [
       "   visceral  unsuitable  arthurian  adventuresome  predatory  ballistic  \\\n",
       "0         0           0          0              0          0          0   \n",
       "1         0           0          0              0          0          0   \n",
       "2         0           0          0              0          0          0   \n",
       "3         0           0          0              0          0          0   \n",
       "4         0           0          0              0          0          0   \n",
       "\n",
       "   causton  skeletal  slasher  easier  ...  core  divorced  feeble  peaceful  \\\n",
       "0        0         0        0       0  ...     0         0       0         0   \n",
       "1        0         0        0       0  ...     0         0       0         0   \n",
       "2        0         0        0       0  ...     0         0       0         0   \n",
       "3        0         0        0       0  ...     0         0       0         0   \n",
       "4        0         0        0       0  ...     0         0       0         0   \n",
       "\n",
       "   midwest  avid  cynical  funniest  \\\n",
       "0        0     0        0         0   \n",
       "1        0     0        0         0   \n",
       "2        0     0        0         0   \n",
       "3        0     0        0         0   \n",
       "4        0     0        0         0   \n",
       "\n",
       "                                         review_text  review_sentiment  \n",
       "0  ( , i, saw, the, series, on, tv, and, too, the...                 1  \n",
       "1  ( , i, love, police, my, favorite, is, the, sw...                 1  \n",
       "2  ( , this, is, a, wild, on, the, one, hand, got...                 1  \n",
       "3  ( , i, like, this, tv, series, which, nowadays...                 1  \n",
       "4  ( , i, liked, a, girl, goes, to, a, party, and...                 1  \n",
       "\n",
       "[5 rows x 2163 columns]"
      ]
     },
     "execution_count": 27,
     "metadata": {},
     "output_type": "execute_result"
    }
   ],
   "source": [
    "\n",
    "# Creates a data frame with features for each word in our common word set.\n",
    "\n",
    "def bow_features(reviews_df=reviews_df, unique_adject=unique_adject):\n",
    "\n",
    "        # Process each row, counting the occurrence of words in each sentence.\n",
    "    for i, review in enumerate(reviews_df['review_text']):\n",
    "       \n",
    "        # Populate the row with word counts.\n",
    "        for token in review:\n",
    "      \n",
    "            if token.text in unique_adject:\n",
    "               reviews_df.loc[i, token.text] += 1\n",
    "\n",
    "        ## This counter is just to make sure the kernel didn't hang.\n",
    "        if i % 1000 == 0:\n",
    "            print (\"Processing row {}\".format(i))\n",
    "        \n",
    "    print (\"Done Atlast!!!\")                   \n",
    "    return reviews_df\n",
    "\n",
    "review_df = bow_features()\n",
    "review_df.head()"
   ]
  },
  {
   "cell_type": "code",
   "execution_count": 28,
   "metadata": {},
   "outputs": [],
   "source": [
    "# Splitting data into X and Y\n",
    "Y = review_df['review_sentiment']\n",
    "X = review_df.loc[:, ~(review_df.columns).isin(['review_sentiment', 'review_text'])]"
   ]
  },
  {
   "cell_type": "code",
   "execution_count": 29,
   "metadata": {},
   "outputs": [
    {
     "name": "stdout",
     "output_type": "stream",
     "text": [
      "Number of review samples per each class\n",
      " Counter({1: 2954, 0: 759})\n"
     ]
    }
   ],
   "source": [
    "print('Number of review samples per each class\\n {}'.format(Counter(Y)))"
   ]
  },
  {
   "cell_type": "markdown",
   "metadata": {},
   "source": [
    "There is a lot of class imbalance here. Need to correct the problem before going further by over sampling and under sampling (SMOTE)."
   ]
  },
  {
   "cell_type": "code",
   "execution_count": 30,
   "metadata": {},
   "outputs": [
    {
     "name": "stdout",
     "output_type": "stream",
     "text": [
      "Number of review samples per each class\n",
      " Counter({1: 2954, 0: 2954})\n"
     ]
    }
   ],
   "source": [
    "# SMOTE i.e oversampling and undersampling\n",
    "smote = SMOTE(random_state=1)\n",
    "X, Y = smote.fit_resample(X, Y)\n",
    "print('Number of review samples per each class\\n {}'.format(Counter(Y)))"
   ]
  },
  {
   "cell_type": "code",
   "execution_count": 31,
   "metadata": {},
   "outputs": [],
   "source": [
    "#Shuffle data since smote add over sampled minority samples at the end.\n",
    "X = pd.DataFrame(X)\n",
    "Y = pd.Series(Y)\n",
    "\n",
    "X = X.sample(frac=1, replace=False, random_state=2)\n",
    "Y = Y.sample(frac=1, replace=False, random_state=2)\n",
    "\n",
    "X.reset_index(drop=True, inplace=True)\n",
    "Y.reset_index(drop=True, inplace=True)"
   ]
  },
  {
   "cell_type": "code",
   "execution_count": 32,
   "metadata": {},
   "outputs": [
    {
     "data": {
      "text/plain": [
       "0    0\n",
       "1    0\n",
       "2    0\n",
       "3    0\n",
       "4    0\n",
       "dtype: int64"
      ]
     },
     "execution_count": 32,
     "metadata": {},
     "output_type": "execute_result"
    }
   ],
   "source": [
    "Y.head()"
   ]
  },
  {
   "cell_type": "markdown",
   "metadata": {},
   "source": [
    "### 3. Use the features to fit supervised learning models for each feature set to predict the category outcomes.\n",
    "### 4. Assess your models using cross-validation and determine whether one model performed better."
   ]
  },
  {
   "cell_type": "code",
   "execution_count": 33,
   "metadata": {},
   "outputs": [],
   "source": [
    "def model(mod, X=X, Y=Y):\n",
    "    model_object=mod\n",
    "    #Data split to Train and test\n",
    "    global X_train, X_test, y_train, y_test\n",
    "    X_train, X_test, y_train, y_test = train_test_split(X, Y, test_size=0.25, random_state=3)\n",
    "    model_object.fit(X_train, y_train)\n",
    "    print (\"Model train score is %0.2f\" % (model_object.score(X_train, y_train)) )\n",
    "    evaluation(model_object)\n",
    "    return model_object\n",
    "\n",
    "def evaluation(model_object):\n",
    "    #Evalution of model\n",
    "    score=cross_val_score(X=X_test, y=y_test, estimator=model_object, cv=10)\n",
    "    print ('\\nCross_validation scores below :\\n', score)\n",
    "    print(\"\\nMean/test accuracy: %0.2f (+/- %0.2f)\\n\" % (score.mean(), score.std() * 2))\n",
    "    \n",
    "    y_pred=model_object.predict(X_test)\n",
    "  \n",
    "   #Plotting the ROC-AUC curve   \n",
    "    \n",
    "    fpr, tpr, threshold = metrics.roc_curve(y_test, y_pred)\n",
    "    roc_auc = metrics.auc(fpr, tpr)\n",
    "    plt.title('Receiver Operating Characteristic')\n",
    "    plt.plot(fpr, tpr, 'b', linewidth=4,label = 'AUC = %0.2f' % roc_auc)\n",
    "    plt.legend(loc = 'lower right', fancybox=True, fontsize='large')\n",
    "    plt.plot([0, 1], [0, 1],'r--')\n",
    "    plt.xlim([0, 1])\n",
    "    plt.ylim([0, 1])\n",
    "    plt.ylabel('True Positive Rate')\n",
    "    plt.xlabel('False Positive Rate')\n",
    "    plt.show()\n",
    "    \n",
    "    fpr=fpr[1]\n",
    "    tpr=tpr[1]\n",
    "    print ('The sensitivity i.e true positives is {0:2f}% '.format(tpr*100))\n",
    "    print ('The specificity i.e true negatives is {0:2f}% '.format((1-fpr)*100))\n",
    "    print ('The Type I error i.e. false negatives is {0:2f}% '.format((1-tpr)*100))\n",
    "    print ('The Type II error i.e. false positives is {0:2f}% '.format(fpr*100))\n",
    "    return"
   ]
  },
  {
   "cell_type": "code",
   "execution_count": 34,
   "metadata": {},
   "outputs": [],
   "source": [
    "### Naive Bayes Classifier"
   ]
  },
  {
   "cell_type": "code",
   "execution_count": 35,
   "metadata": {
    "scrolled": true
   },
   "outputs": [
    {
     "name": "stdout",
     "output_type": "stream",
     "text": [
      "Model train score is 0.69\n",
      "\n",
      "Cross_validation scores below :\n",
      " [0.58783784 0.60810811 0.60810811 0.58108108 0.54054054 0.59459459\n",
      " 0.62162162 0.59863946 0.60544218 0.59183673]\n",
      "\n",
      "Mean/test accuracy: 0.59 (+/- 0.04)\n",
      "\n"
     ]
    },
    {
     "data": {
      "image/png": "[encoded data removed]",
      "text/plain": [
       "<Figure size 432x288 with 1 Axes>"
      ]
     },
     "metadata": {
      "needs_background": "light"
     },
     "output_type": "display_data"
    },
    {
     "name": "stdout",
     "output_type": "stream",
     "text": [
      "The sensitivity i.e true positives is 38.127544% \n",
      "The specificity i.e true negatives is 90.810811% \n",
      "The Type I error i.e. false negatives is 61.872456% \n",
      "The Type II error i.e. false positives is 9.189189% \n"
     ]
    },
    {
     "data": {
      "text/plain": [
       "BernoulliNB(alpha=1.0, binarize=0.0, class_prior=None, fit_prior=True)"
      ]
     },
     "execution_count": 35,
     "metadata": {},
     "output_type": "execute_result"
    }
   ],
   "source": [
    "model(BernoulliNB())"
   ]
  },
  {
   "cell_type": "code",
   "execution_count": 36,
   "metadata": {},
   "outputs": [],
   "source": [
    "### kNN Classifier"
   ]
  },
  {
   "cell_type": "code",
   "execution_count": 37,
   "metadata": {},
   "outputs": [
    {
     "name": "stdout",
     "output_type": "stream",
     "text": [
      "Model train score is 0.65\n",
      "\n",
      "Cross_validation scores below :\n",
      " [0.5        0.47297297 0.53378378 0.5472973  0.56756757 0.57432432\n",
      " 0.55405405 0.57142857 0.52380952 0.55102041]\n",
      "\n",
      "Mean/test accuracy: 0.54 (+/- 0.06)\n",
      "\n"
     ]
    },
    {
     "data": {
      "image/png": "[encoded data removed]",
      "text/plain": [
       "<Figure size 432x288 with 1 Axes>"
      ]
     },
     "metadata": {
      "needs_background": "light"
     },
     "output_type": "display_data"
    },
    {
     "name": "stdout",
     "output_type": "stream",
     "text": [
      "The sensitivity i.e true positives is 27.544098% \n",
      "The specificity i.e true negatives is 87.972973% \n",
      "The Type I error i.e. false negatives is 72.455902% \n",
      "The Type II error i.e. false positives is 12.027027% \n"
     ]
    },
    {
     "data": {
      "text/plain": [
       "KNeighborsClassifier(algorithm='auto', leaf_size=30, metric='minkowski',\n",
       "           metric_params=None, n_jobs=None, n_neighbors=5, p=2,\n",
       "           weights='uniform')"
      ]
     },
     "execution_count": 37,
     "metadata": {},
     "output_type": "execute_result"
    }
   ],
   "source": [
    "model(neighbors.KNeighborsClassifier(n_neighbors=5))"
   ]
  },
  {
   "cell_type": "code",
   "execution_count": 38,
   "metadata": {},
   "outputs": [],
   "source": [
    "### Random Forest Classifier"
   ]
  },
  {
   "cell_type": "code",
   "execution_count": 39,
   "metadata": {},
   "outputs": [
    {
     "name": "stderr",
     "output_type": "stream",
     "text": [
      "C:\\Users\\nagad\\Anaconda3\\lib\\site-packages\\sklearn\\ensemble\\forest.py:246: FutureWarning: The default value of n_estimators will change from 10 in version 0.20 to 100 in 0.22.\n",
      "  \"10 in version 0.20 to 100 in 0.22.\", FutureWarning)\n"
     ]
    },
    {
     "name": "stdout",
     "output_type": "stream",
     "text": [
      "Model train score is 0.81\n",
      "\n",
      "Cross_validation scores below :\n",
      " [0.60135135 0.62162162 0.60135135 0.60135135 0.5472973  0.58783784\n",
      " 0.60810811 0.62585034 0.57142857 0.6462585 ]\n",
      "\n",
      "Mean/test accuracy: 0.60 (+/- 0.05)\n",
      "\n"
     ]
    },
    {
     "data": {
      "image/png": "[encoded data removed]",
      "text/plain": [
       "<Figure size 432x288 with 1 Axes>"
      ]
     },
     "metadata": {
      "needs_background": "light"
     },
     "output_type": "display_data"
    },
    {
     "name": "stdout",
     "output_type": "stream",
     "text": [
      "The sensitivity i.e true positives is 40.705563% \n",
      "The specificity i.e true negatives is 87.297297% \n",
      "The Type I error i.e. false negatives is 59.294437% \n",
      "The Type II error i.e. false positives is 12.702703% \n"
     ]
    },
    {
     "data": {
      "text/plain": [
       "RandomForestClassifier(bootstrap=True, class_weight=None, criterion='gini',\n",
       "            max_depth=None, max_features='auto', max_leaf_nodes=None,\n",
       "            min_impurity_decrease=0.0, min_impurity_split=None,\n",
       "            min_samples_leaf=1, min_samples_split=2,\n",
       "            min_weight_fraction_leaf=0.0, n_estimators=10, n_jobs=None,\n",
       "            oob_score=False, random_state=None, verbose=0,\n",
       "            warm_start=False)"
      ]
     },
     "execution_count": 39,
     "metadata": {},
     "output_type": "execute_result"
    }
   ],
   "source": [
    "model(ensemble.RandomForestClassifier())"
   ]
  },
  {
   "cell_type": "code",
   "execution_count": 40,
   "metadata": {},
   "outputs": [],
   "source": [
    "### Logistic Regression"
   ]
  },
  {
   "cell_type": "code",
   "execution_count": 41,
   "metadata": {},
   "outputs": [
    {
     "name": "stdout",
     "output_type": "stream",
     "text": [
      "Model train score is 0.77\n",
      "\n",
      "Cross_validation scores below :\n",
      " [0.66891892 0.66891892 0.63513514 0.60810811 0.62162162 0.62162162\n",
      " 0.56081081 0.63945578 0.65306122 0.72108844]\n",
      "\n",
      "Mean/test accuracy: 0.64 (+/- 0.08)\n",
      "\n"
     ]
    },
    {
     "data": {
      "image/png": "[encoded data removed]",
      "text/plain": [
       "<Figure size 432x288 with 1 Axes>"
      ]
     },
     "metadata": {
      "needs_background": "light"
     },
     "output_type": "display_data"
    },
    {
     "name": "stdout",
     "output_type": "stream",
     "text": [
      "The sensitivity i.e true positives is 51.967436% \n",
      "The specificity i.e true negatives is 83.108108% \n",
      "The Type I error i.e. false negatives is 48.032564% \n",
      "The Type II error i.e. false positives is 16.891892% \n"
     ]
    },
    {
     "data": {
      "text/plain": [
       "LogisticRegression(C=1000000000.0, class_weight=None, dual=False,\n",
       "          fit_intercept=True, intercept_scaling=1, max_iter=100,\n",
       "          multi_class='warn', n_jobs=None, penalty='l2', random_state=None,\n",
       "          solver='liblinear', tol=0.0001, verbose=0, warm_start=False)"
      ]
     },
     "execution_count": 41,
     "metadata": {},
     "output_type": "execute_result"
    }
   ],
   "source": [
    "model(LogisticRegression(C=1e9, solver='liblinear'))"
   ]
  },
  {
   "cell_type": "code",
   "execution_count": 42,
   "metadata": {},
   "outputs": [],
   "source": [
    "### Gradient Boost Classifier"
   ]
  },
  {
   "cell_type": "code",
   "execution_count": 43,
   "metadata": {},
   "outputs": [
    {
     "name": "stdout",
     "output_type": "stream",
     "text": [
      "Model train score is 0.65\n",
      "\n",
      "Cross_validation scores below :\n",
      " [0.56756757 0.54054054 0.59459459 0.57432432 0.52702703 0.60135135\n",
      " 0.5472973  0.60544218 0.55102041 0.5170068 ]\n",
      "\n",
      "Mean/test accuracy: 0.56 (+/- 0.06)\n",
      "\n"
     ]
    },
    {
     "data": {
      "image/png": "[encoded data removed]",
      "text/plain": [
       "<Figure size 432x288 with 1 Axes>"
      ]
     },
     "metadata": {
      "needs_background": "light"
     },
     "output_type": "display_data"
    },
    {
     "name": "stdout",
     "output_type": "stream",
     "text": [
      "The sensitivity i.e true positives is 76.526459% \n",
      "The specificity i.e true negatives is 40.405405% \n",
      "The Type I error i.e. false negatives is 23.473541% \n",
      "The Type II error i.e. false positives is 59.594595% \n"
     ]
    },
    {
     "data": {
      "text/plain": [
       "GradientBoostingClassifier(criterion='friedman_mse', init=None,\n",
       "              learning_rate=0.1, loss='deviance', max_depth=3,\n",
       "              max_features=None, max_leaf_nodes=None,\n",
       "              min_impurity_decrease=0.0, min_impurity_split=None,\n",
       "              min_samples_leaf=1, min_samples_split=2,\n",
       "              min_weight_fraction_leaf=0.0, n_estimators=100,\n",
       "              n_iter_no_change=None, presort='auto', random_state=None,\n",
       "              subsample=1.0, tol=0.0001, validation_fraction=0.1,\n",
       "              verbose=0, warm_start=False)"
      ]
     },
     "execution_count": 43,
     "metadata": {},
     "output_type": "execute_result"
    }
   ],
   "source": [
    "model(ensemble.GradientBoostingClassifier())"
   ]
  },
  {
   "cell_type": "markdown",
   "metadata": {},
   "source": [
    "The Logistic regression gives the best AUC of 0.67. percent 64% test accuracy and also low errors compared to other models."
   ]
  },
  {
   "cell_type": "markdown",
   "metadata": {
    "collapsed": true
   },
   "source": [
    "Now let us see how the TF-IDF does with accuracy and errors"
   ]
  },
  {
   "cell_type": "markdown",
   "metadata": {},
   "source": [
    "### TF-IDF"
   ]
  },
  {
   "cell_type": "code",
   "execution_count": 44,
   "metadata": {},
   "outputs": [],
   "source": [
    "#df =  pd.read_csv('/Users/Sri/Downloads/Amazon_Books_Review.csv')\n",
    "df = pd.read_json('Amazon_Instant_Video_5.json', lines=True)"
   ]
  },
  {
   "cell_type": "code",
   "execution_count": 45,
   "metadata": {},
   "outputs": [
    {
     "name": "stdout",
     "output_type": "stream",
     "text": [
      "<class 'pandas.core.frame.DataFrame'>\n",
      "RangeIndex: 37126 entries, 0 to 37125\n",
      "Data columns (total 9 columns):\n",
      "asin              37126 non-null object\n",
      "helpful           37126 non-null object\n",
      "overall           37126 non-null int64\n",
      "reviewText        37126 non-null object\n",
      "reviewTime        37126 non-null object\n",
      "reviewerID        37126 non-null object\n",
      "reviewerName      36797 non-null object\n",
      "summary           37126 non-null object\n",
      "unixReviewTime    37126 non-null int64\n",
      "dtypes: int64(2), object(7)\n",
      "memory usage: 2.5+ MB\n"
     ]
    }
   ],
   "source": [
    "df.info()"
   ]
  },
  {
   "cell_type": "code",
   "execution_count": 46,
   "metadata": {},
   "outputs": [],
   "source": [
    "# Making a subset dataframe of only the columns which are necessary for analysis.\n",
    "data=df[['reviewText', 'overall']]"
   ]
  },
  {
   "cell_type": "code",
   "execution_count": 47,
   "metadata": {},
   "outputs": [],
   "source": [
    "# Making a subset of the data for faster run time\n",
    "data = data.sample(frac=0.1, replace=False, random_state=1)\n",
    "data.reset_index(drop=True, inplace=True)"
   ]
  },
  {
   "cell_type": "code",
   "execution_count": 48,
   "metadata": {
    "scrolled": true
   },
   "outputs": [
    {
     "name": "stdout",
     "output_type": "stream",
     "text": [
      "<class 'pandas.core.frame.DataFrame'>\n",
      "RangeIndex: 3713 entries, 0 to 3712\n",
      "Data columns (total 2 columns):\n",
      "reviewText    3713 non-null object\n",
      "overall       3713 non-null int64\n",
      "dtypes: int64(1), object(1)\n",
      "memory usage: 58.1+ KB\n"
     ]
    }
   ],
   "source": [
    "data.info()"
   ]
  },
  {
   "cell_type": "code",
   "execution_count": 49,
   "metadata": {},
   "outputs": [
    {
     "data": {
      "text/html": [
       "<div>\n",
       "<style scoped>\n",
       "    .dataframe tbody tr th:only-of-type {\n",
       "        vertical-align: middle;\n",
       "    }\n",
       "\n",
       "    .dataframe tbody tr th {\n",
       "        vertical-align: top;\n",
       "    }\n",
       "\n",
       "    .dataframe thead th {\n",
       "        text-align: right;\n",
       "    }\n",
       "</style>\n",
       "<table border=\"1\" class=\"dataframe\">\n",
       "  <thead>\n",
       "    <tr style=\"text-align: right;\">\n",
       "      <th></th>\n",
       "      <th>reviewText</th>\n",
       "      <th>overall</th>\n",
       "    </tr>\n",
       "  </thead>\n",
       "  <tbody>\n",
       "    <tr>\n",
       "      <th>0</th>\n",
       "      <td>i saw the series on TV and wasn;t too imressed...</td>\n",
       "      <td>5</td>\n",
       "    </tr>\n",
       "    <tr>\n",
       "      <th>1</th>\n",
       "      <td>I love police procedurals. My favorite is the ...</td>\n",
       "      <td>5</td>\n",
       "    </tr>\n",
       "    <tr>\n",
       "      <th>2</th>\n",
       "      <td>Very good well written series,  so sorry it di...</td>\n",
       "      <td>3</td>\n",
       "    </tr>\n",
       "    <tr>\n",
       "      <th>3</th>\n",
       "      <td>One episode in, I plan to watch another. The a...</td>\n",
       "      <td>3</td>\n",
       "    </tr>\n",
       "    <tr>\n",
       "      <th>4</th>\n",
       "      <td>This is a wild ride, on the one hand we've got...</td>\n",
       "      <td>5</td>\n",
       "    </tr>\n",
       "  </tbody>\n",
       "</table>\n",
       "</div>"
      ],
      "text/plain": [
       "                                          reviewText  overall\n",
       "0  i saw the series on TV and wasn;t too imressed...        5\n",
       "1  I love police procedurals. My favorite is the ...        5\n",
       "2  Very good well written series,  so sorry it di...        3\n",
       "3  One episode in, I plan to watch another. The a...        3\n",
       "4  This is a wild ride, on the one hand we've got...        5"
      ]
     },
     "execution_count": 49,
     "metadata": {},
     "output_type": "execute_result"
    }
   ],
   "source": [
    "data.head()"
   ]
  },
  {
   "cell_type": "markdown",
   "metadata": {},
   "source": [
    "Since the size of the text is greater than 1 million, Spacy gives an error. so broken down the text into a list of strings."
   ]
  },
  {
   "cell_type": "code",
   "execution_count": 50,
   "metadata": {},
   "outputs": [
    {
     "data": {
      "text/plain": [
       "[i saw the series on TV and wasn;t too imressed. The second time around was much, much better!The story line moves effortlessly, the characters are intriguing and the suspense is superb.I highly recommend this series to all who would enjoy horror with a great story line.Also see the first American Horror Story...that is really,really good!!]"
      ]
     },
     "execution_count": 50,
     "metadata": {},
     "output_type": "execute_result"
    }
   ],
   "source": [
    "# Parsing the texts\n",
    "nlp = spacy.load('en')\n",
    "\n",
    "all_reviews_positive_list_doc = [ nlp(text) for text in all_reviews_positive]\n",
    "all_reviews_negative_list_doc = [ nlp(text) for text in all_reviews_negative]\n",
    "\n",
    "all_reviews_positive_list_doc[:1]"
   ]
  },
  {
   "cell_type": "code",
   "execution_count": 51,
   "metadata": {},
   "outputs": [
    {
     "data": {
      "text/plain": [
       "' i saw the series on tv and too imressed the second time around was much much story line moves effortlessly the characters are intriguing and the suspense is superb i highly recommend this series to all who would enjoy horror with a great story line also see the first american horror story that is really really good'"
      ]
     },
     "execution_count": 51,
     "metadata": {},
     "output_type": "execute_result"
    }
   ],
   "source": [
    "### 1. Data cleaning / processing / language parsing\n",
    "\n",
    "# Cleaning the texts and making the words ready for further processing\n",
    "\n",
    "all_reviews_list_cleaned_doc=[]\n",
    "temp=''         \n",
    "for review in all_reviews_positive_list_doc:\n",
    "    for token in review:\n",
    "        if not token.is_punct and not token.is_space and  token.is_alpha:\n",
    "            temp = temp + ' ' + token.text.lower()\n",
    "    all_reviews_list_cleaned_doc.append(temp)\n",
    "    temp=''\n",
    "        \n",
    "for review in all_reviews_negative_list_doc:\n",
    "    for token in review:\n",
    "        if not token.is_punct and not token.is_space and  token.is_alpha:\n",
    "            temp = temp + ' ' + token.text.lower()\n",
    "    all_reviews_list_cleaned_doc.append(temp)\n",
    "    temp=''\n",
    "\n",
    "all_reviews_list_cleaned_doc[0]"
   ]
  },
  {
   "cell_type": "code",
   "execution_count": 52,
   "metadata": {},
   "outputs": [],
   "source": [
    "def tf_idf_svd(doc):\n",
    "    from sklearn.feature_extraction.text import TfidfVectorizer\n",
    "\n",
    "\n",
    "    vectorizer = TfidfVectorizer(max_df=0.5, # drop words that occur in more than half the paragraphs\n",
    "                             min_df=2, # only use words that appear at least twice\n",
    "                             stop_words='english', \n",
    "                             lowercase=True, #convert everything to lower case (since Alice in Wonderland has the HABIT of CAPITALIZING WORDS for EMPHASIS)\n",
    "                             use_idf=True,#we definitely want to use inverse document frequencies in our weighting\n",
    "                             norm=u'l2', #Applies a correction factor so that longer paragraphs and shorter paragraphs get treated equally\n",
    "                             smooth_idf=True #Adds 1 to all document frequencies, as if an extra document existed that used every word once.  Prevents divide-by-zero errors\n",
    "                            )\n",
    "    #Applying the vectorizer\n",
    "    review_tfidf=vectorizer.fit_transform(doc)\n",
    "    print(\"Number of features: %d\" % review_tfidf.get_shape()[1])\n",
    "\n",
    "    from sklearn.decomposition import TruncatedSVD\n",
    "    from sklearn.pipeline import make_pipeline\n",
    "    from sklearn.preprocessing import Normalizer\n",
    "\n",
    "    #Our SVD data reducer.  We are going to reduce the feature space.\n",
    "    n = int((review_tfidf.get_shape()[1])/5)\n",
    "    print ('Dimension Reduction from %d to %d' % (review_tfidf.get_shape()[1], n))\n",
    "    svd= TruncatedSVD(n)\n",
    "    lsa = make_pipeline(svd, Normalizer(copy=False))\n",
    "    # Run SVD.\n",
    "    review_lsa = lsa.fit_transform(review_tfidf)\n",
    "\n",
    "    variance_explained=svd.explained_variance_ratio_\n",
    "    total_variance = variance_explained.sum()\n",
    "    print(\"\\nPercent variance captured by all components:\",total_variance*100)\n",
    "    reviews_by_component=pd.DataFrame(review_lsa, index=doc)\n",
    "\n",
    "    return reviews_by_component"
   ]
  },
  {
   "cell_type": "code",
   "execution_count": 53,
   "metadata": {},
   "outputs": [
    {
     "name": "stdout",
     "output_type": "stream",
     "text": [
      "Number of features: 9544\n",
      "Dimension Reduction from 9544 to 1908\n",
      "\n",
      "Percent variance captured by all components: 89.87117044602914\n"
     ]
    }
   ],
   "source": [
    "reviews_by_component = tf_idf_svd(all_reviews_list_cleaned_doc)"
   ]
  },
  {
   "cell_type": "code",
   "execution_count": 54,
   "metadata": {},
   "outputs": [],
   "source": [
    "#Adding review sentiment to the final dataframe with tfidf values\n",
    "reviews_by_component.reset_index(drop=True, inplace=True)\n",
    "data.reset_index(drop=True, inplace=True)\n",
    "\n",
    "reviews_by_component['review_sentiment'] = 0\n",
    "reviews_by_component.loc[0:len(all_reviews_positive_list_doc)-1, 'review_sentiment'] = 1"
   ]
  },
  {
   "cell_type": "code",
   "execution_count": 55,
   "metadata": {},
   "outputs": [
    {
     "data": {
      "text/html": [
       "<div>\n",
       "<style scoped>\n",
       "    .dataframe tbody tr th:only-of-type {\n",
       "        vertical-align: middle;\n",
       "    }\n",
       "\n",
       "    .dataframe tbody tr th {\n",
       "        vertical-align: top;\n",
       "    }\n",
       "\n",
       "    .dataframe thead th {\n",
       "        text-align: right;\n",
       "    }\n",
       "</style>\n",
       "<table border=\"1\" class=\"dataframe\">\n",
       "  <thead>\n",
       "    <tr style=\"text-align: right;\">\n",
       "      <th></th>\n",
       "      <th>0</th>\n",
       "      <th>1</th>\n",
       "      <th>2</th>\n",
       "      <th>3</th>\n",
       "      <th>4</th>\n",
       "      <th>5</th>\n",
       "      <th>6</th>\n",
       "      <th>7</th>\n",
       "      <th>8</th>\n",
       "      <th>9</th>\n",
       "      <th>...</th>\n",
       "      <th>1899</th>\n",
       "      <th>1900</th>\n",
       "      <th>1901</th>\n",
       "      <th>1902</th>\n",
       "      <th>1903</th>\n",
       "      <th>1904</th>\n",
       "      <th>1905</th>\n",
       "      <th>1906</th>\n",
       "      <th>1907</th>\n",
       "      <th>review_sentiment</th>\n",
       "    </tr>\n",
       "  </thead>\n",
       "  <tbody>\n",
       "    <tr>\n",
       "      <th>0</th>\n",
       "      <td>0.313032</td>\n",
       "      <td>-0.117873</td>\n",
       "      <td>0.144888</td>\n",
       "      <td>-0.207028</td>\n",
       "      <td>0.010515</td>\n",
       "      <td>0.111207</td>\n",
       "      <td>-0.161987</td>\n",
       "      <td>-0.034516</td>\n",
       "      <td>-0.056834</td>\n",
       "      <td>0.106840</td>\n",
       "      <td>...</td>\n",
       "      <td>0.000045</td>\n",
       "      <td>0.009204</td>\n",
       "      <td>0.003628</td>\n",
       "      <td>-0.000505</td>\n",
       "      <td>0.009967</td>\n",
       "      <td>-0.005784</td>\n",
       "      <td>0.001667</td>\n",
       "      <td>-0.006249</td>\n",
       "      <td>0.002409</td>\n",
       "      <td>1</td>\n",
       "    </tr>\n",
       "    <tr>\n",
       "      <th>1</th>\n",
       "      <td>0.150912</td>\n",
       "      <td>-0.048456</td>\n",
       "      <td>0.078848</td>\n",
       "      <td>0.025853</td>\n",
       "      <td>0.056999</td>\n",
       "      <td>-0.033234</td>\n",
       "      <td>-0.071333</td>\n",
       "      <td>-0.019334</td>\n",
       "      <td>0.016072</td>\n",
       "      <td>0.019514</td>\n",
       "      <td>...</td>\n",
       "      <td>-0.010459</td>\n",
       "      <td>-0.014864</td>\n",
       "      <td>0.009009</td>\n",
       "      <td>0.013337</td>\n",
       "      <td>-0.006882</td>\n",
       "      <td>-0.001994</td>\n",
       "      <td>-0.022676</td>\n",
       "      <td>-0.018623</td>\n",
       "      <td>0.017670</td>\n",
       "      <td>1</td>\n",
       "    </tr>\n",
       "    <tr>\n",
       "      <th>2</th>\n",
       "      <td>0.106306</td>\n",
       "      <td>-0.035666</td>\n",
       "      <td>-0.004998</td>\n",
       "      <td>-0.020258</td>\n",
       "      <td>-0.068440</td>\n",
       "      <td>0.024775</td>\n",
       "      <td>-0.011298</td>\n",
       "      <td>0.034725</td>\n",
       "      <td>0.013567</td>\n",
       "      <td>-0.018011</td>\n",
       "      <td>...</td>\n",
       "      <td>0.003294</td>\n",
       "      <td>0.003069</td>\n",
       "      <td>0.010905</td>\n",
       "      <td>0.005505</td>\n",
       "      <td>0.013701</td>\n",
       "      <td>-0.004735</td>\n",
       "      <td>0.010729</td>\n",
       "      <td>-0.013304</td>\n",
       "      <td>-0.008804</td>\n",
       "      <td>1</td>\n",
       "    </tr>\n",
       "    <tr>\n",
       "      <th>3</th>\n",
       "      <td>0.266267</td>\n",
       "      <td>0.072374</td>\n",
       "      <td>-0.041293</td>\n",
       "      <td>0.020490</td>\n",
       "      <td>-0.137873</td>\n",
       "      <td>-0.042805</td>\n",
       "      <td>0.010941</td>\n",
       "      <td>-0.025466</td>\n",
       "      <td>0.112133</td>\n",
       "      <td>-0.193991</td>\n",
       "      <td>...</td>\n",
       "      <td>-0.007027</td>\n",
       "      <td>0.002324</td>\n",
       "      <td>0.000318</td>\n",
       "      <td>-0.001043</td>\n",
       "      <td>-0.010286</td>\n",
       "      <td>0.013423</td>\n",
       "      <td>-0.004277</td>\n",
       "      <td>0.006052</td>\n",
       "      <td>-0.010688</td>\n",
       "      <td>1</td>\n",
       "    </tr>\n",
       "    <tr>\n",
       "      <th>4</th>\n",
       "      <td>0.137645</td>\n",
       "      <td>-0.083494</td>\n",
       "      <td>-0.070827</td>\n",
       "      <td>0.026686</td>\n",
       "      <td>0.103407</td>\n",
       "      <td>0.075827</td>\n",
       "      <td>-0.054038</td>\n",
       "      <td>0.101211</td>\n",
       "      <td>0.018956</td>\n",
       "      <td>-0.010538</td>\n",
       "      <td>...</td>\n",
       "      <td>-0.000478</td>\n",
       "      <td>-0.009622</td>\n",
       "      <td>0.005304</td>\n",
       "      <td>-0.020518</td>\n",
       "      <td>0.005972</td>\n",
       "      <td>-0.016634</td>\n",
       "      <td>-0.005524</td>\n",
       "      <td>-0.005521</td>\n",
       "      <td>0.012139</td>\n",
       "      <td>1</td>\n",
       "    </tr>\n",
       "  </tbody>\n",
       "</table>\n",
       "<p>5 rows × 1909 columns</p>\n",
       "</div>"
      ],
      "text/plain": [
       "          0         1         2         3         4         5         6  \\\n",
       "0  0.313032 -0.117873  0.144888 -0.207028  0.010515  0.111207 -0.161987   \n",
       "1  0.150912 -0.048456  0.078848  0.025853  0.056999 -0.033234 -0.071333   \n",
       "2  0.106306 -0.035666 -0.004998 -0.020258 -0.068440  0.024775 -0.011298   \n",
       "3  0.266267  0.072374 -0.041293  0.020490 -0.137873 -0.042805  0.010941   \n",
       "4  0.137645 -0.083494 -0.070827  0.026686  0.103407  0.075827 -0.054038   \n",
       "\n",
       "          7         8         9  ...      1899      1900      1901      1902  \\\n",
       "0 -0.034516 -0.056834  0.106840  ...  0.000045  0.009204  0.003628 -0.000505   \n",
       "1 -0.019334  0.016072  0.019514  ... -0.010459 -0.014864  0.009009  0.013337   \n",
       "2  0.034725  0.013567 -0.018011  ...  0.003294  0.003069  0.010905  0.005505   \n",
       "3 -0.025466  0.112133 -0.193991  ... -0.007027  0.002324  0.000318 -0.001043   \n",
       "4  0.101211  0.018956 -0.010538  ... -0.000478 -0.009622  0.005304 -0.020518   \n",
       "\n",
       "       1903      1904      1905      1906      1907  review_sentiment  \n",
       "0  0.009967 -0.005784  0.001667 -0.006249  0.002409                 1  \n",
       "1 -0.006882 -0.001994 -0.022676 -0.018623  0.017670                 1  \n",
       "2  0.013701 -0.004735  0.010729 -0.013304 -0.008804                 1  \n",
       "3 -0.010286  0.013423 -0.004277  0.006052 -0.010688                 1  \n",
       "4  0.005972 -0.016634 -0.005524 -0.005521  0.012139                 1  \n",
       "\n",
       "[5 rows x 1909 columns]"
      ]
     },
     "execution_count": 55,
     "metadata": {},
     "output_type": "execute_result"
    }
   ],
   "source": [
    "reviews_by_component.head()"
   ]
  },
  {
   "cell_type": "code",
   "execution_count": 56,
   "metadata": {},
   "outputs": [],
   "source": [
    "# To schuffle samples\n",
    "\n",
    "\n",
    "reviews_by_component = reviews_by_component.sample(frac=1, replace=False, random_state=2)\n",
    "reviews_by_component.reset_index(drop=True, inplace=True)\n",
    "\n",
    "# Splitting data into X and Y\n",
    "Y = reviews_by_component['review_sentiment']\n",
    "X = reviews_by_component.loc[:, ~(reviews_by_component.columns).isin(['review_sentiment'])]"
   ]
  },
  {
   "cell_type": "code",
   "execution_count": 57,
   "metadata": {},
   "outputs": [
    {
     "data": {
      "text/html": [
       "<div>\n",
       "<style scoped>\n",
       "    .dataframe tbody tr th:only-of-type {\n",
       "        vertical-align: middle;\n",
       "    }\n",
       "\n",
       "    .dataframe tbody tr th {\n",
       "        vertical-align: top;\n",
       "    }\n",
       "\n",
       "    .dataframe thead th {\n",
       "        text-align: right;\n",
       "    }\n",
       "</style>\n",
       "<table border=\"1\" class=\"dataframe\">\n",
       "  <thead>\n",
       "    <tr style=\"text-align: right;\">\n",
       "      <th></th>\n",
       "      <th>0</th>\n",
       "      <th>1</th>\n",
       "      <th>2</th>\n",
       "      <th>3</th>\n",
       "      <th>4</th>\n",
       "      <th>5</th>\n",
       "      <th>6</th>\n",
       "      <th>7</th>\n",
       "      <th>8</th>\n",
       "      <th>9</th>\n",
       "      <th>...</th>\n",
       "      <th>1899</th>\n",
       "      <th>1900</th>\n",
       "      <th>1901</th>\n",
       "      <th>1902</th>\n",
       "      <th>1903</th>\n",
       "      <th>1904</th>\n",
       "      <th>1905</th>\n",
       "      <th>1906</th>\n",
       "      <th>1907</th>\n",
       "      <th>review_sentiment</th>\n",
       "    </tr>\n",
       "  </thead>\n",
       "  <tbody>\n",
       "    <tr>\n",
       "      <th>0</th>\n",
       "      <td>0.171477</td>\n",
       "      <td>-0.108976</td>\n",
       "      <td>-0.104719</td>\n",
       "      <td>0.028295</td>\n",
       "      <td>-0.004206</td>\n",
       "      <td>-0.003784</td>\n",
       "      <td>-0.008903</td>\n",
       "      <td>-0.067037</td>\n",
       "      <td>0.010015</td>\n",
       "      <td>0.004033</td>\n",
       "      <td>...</td>\n",
       "      <td>-0.020900</td>\n",
       "      <td>0.007613</td>\n",
       "      <td>-0.010660</td>\n",
       "      <td>0.006220</td>\n",
       "      <td>-0.000172</td>\n",
       "      <td>-0.002300</td>\n",
       "      <td>0.005771</td>\n",
       "      <td>-0.012946</td>\n",
       "      <td>-0.002324</td>\n",
       "      <td>0</td>\n",
       "    </tr>\n",
       "    <tr>\n",
       "      <th>1</th>\n",
       "      <td>0.107200</td>\n",
       "      <td>-0.026862</td>\n",
       "      <td>0.031547</td>\n",
       "      <td>-0.024571</td>\n",
       "      <td>0.036708</td>\n",
       "      <td>-0.081848</td>\n",
       "      <td>0.019000</td>\n",
       "      <td>-0.004782</td>\n",
       "      <td>-0.004014</td>\n",
       "      <td>-0.090929</td>\n",
       "      <td>...</td>\n",
       "      <td>-0.002532</td>\n",
       "      <td>-0.029994</td>\n",
       "      <td>0.001311</td>\n",
       "      <td>0.027233</td>\n",
       "      <td>-0.001462</td>\n",
       "      <td>-0.004727</td>\n",
       "      <td>-0.025555</td>\n",
       "      <td>-0.007572</td>\n",
       "      <td>-0.010688</td>\n",
       "      <td>1</td>\n",
       "    </tr>\n",
       "    <tr>\n",
       "      <th>2</th>\n",
       "      <td>0.198578</td>\n",
       "      <td>-0.082577</td>\n",
       "      <td>0.047695</td>\n",
       "      <td>0.023760</td>\n",
       "      <td>-0.009154</td>\n",
       "      <td>0.100898</td>\n",
       "      <td>-0.103441</td>\n",
       "      <td>-0.023464</td>\n",
       "      <td>-0.004381</td>\n",
       "      <td>0.004192</td>\n",
       "      <td>...</td>\n",
       "      <td>-0.022550</td>\n",
       "      <td>0.012665</td>\n",
       "      <td>0.010859</td>\n",
       "      <td>0.001210</td>\n",
       "      <td>0.004794</td>\n",
       "      <td>-0.002681</td>\n",
       "      <td>0.014772</td>\n",
       "      <td>-0.009818</td>\n",
       "      <td>-0.002592</td>\n",
       "      <td>1</td>\n",
       "    </tr>\n",
       "    <tr>\n",
       "      <th>3</th>\n",
       "      <td>0.123311</td>\n",
       "      <td>-0.031464</td>\n",
       "      <td>0.073128</td>\n",
       "      <td>-0.043717</td>\n",
       "      <td>-0.153147</td>\n",
       "      <td>0.062699</td>\n",
       "      <td>-0.041598</td>\n",
       "      <td>0.022138</td>\n",
       "      <td>-0.027638</td>\n",
       "      <td>-0.002909</td>\n",
       "      <td>...</td>\n",
       "      <td>0.001270</td>\n",
       "      <td>0.002997</td>\n",
       "      <td>-0.005533</td>\n",
       "      <td>-0.001775</td>\n",
       "      <td>-0.000042</td>\n",
       "      <td>-0.002086</td>\n",
       "      <td>-0.000027</td>\n",
       "      <td>-0.000590</td>\n",
       "      <td>-0.002337</td>\n",
       "      <td>1</td>\n",
       "    </tr>\n",
       "    <tr>\n",
       "      <th>4</th>\n",
       "      <td>0.124957</td>\n",
       "      <td>-0.028354</td>\n",
       "      <td>-0.037385</td>\n",
       "      <td>-0.039589</td>\n",
       "      <td>-0.018824</td>\n",
       "      <td>-0.013854</td>\n",
       "      <td>-0.046600</td>\n",
       "      <td>-0.010594</td>\n",
       "      <td>0.096876</td>\n",
       "      <td>0.043299</td>\n",
       "      <td>...</td>\n",
       "      <td>0.002935</td>\n",
       "      <td>0.008487</td>\n",
       "      <td>-0.011590</td>\n",
       "      <td>0.013386</td>\n",
       "      <td>0.013117</td>\n",
       "      <td>0.009409</td>\n",
       "      <td>0.015472</td>\n",
       "      <td>0.008492</td>\n",
       "      <td>0.014537</td>\n",
       "      <td>1</td>\n",
       "    </tr>\n",
       "  </tbody>\n",
       "</table>\n",
       "<p>5 rows × 1909 columns</p>\n",
       "</div>"
      ],
      "text/plain": [
       "          0         1         2         3         4         5         6  \\\n",
       "0  0.171477 -0.108976 -0.104719  0.028295 -0.004206 -0.003784 -0.008903   \n",
       "1  0.107200 -0.026862  0.031547 -0.024571  0.036708 -0.081848  0.019000   \n",
       "2  0.198578 -0.082577  0.047695  0.023760 -0.009154  0.100898 -0.103441   \n",
       "3  0.123311 -0.031464  0.073128 -0.043717 -0.153147  0.062699 -0.041598   \n",
       "4  0.124957 -0.028354 -0.037385 -0.039589 -0.018824 -0.013854 -0.046600   \n",
       "\n",
       "          7         8         9  ...      1899      1900      1901      1902  \\\n",
       "0 -0.067037  0.010015  0.004033  ... -0.020900  0.007613 -0.010660  0.006220   \n",
       "1 -0.004782 -0.004014 -0.090929  ... -0.002532 -0.029994  0.001311  0.027233   \n",
       "2 -0.023464 -0.004381  0.004192  ... -0.022550  0.012665  0.010859  0.001210   \n",
       "3  0.022138 -0.027638 -0.002909  ...  0.001270  0.002997 -0.005533 -0.001775   \n",
       "4 -0.010594  0.096876  0.043299  ...  0.002935  0.008487 -0.011590  0.013386   \n",
       "\n",
       "       1903      1904      1905      1906      1907  review_sentiment  \n",
       "0 -0.000172 -0.002300  0.005771 -0.012946 -0.002324                 0  \n",
       "1 -0.001462 -0.004727 -0.025555 -0.007572 -0.010688                 1  \n",
       "2  0.004794 -0.002681  0.014772 -0.009818 -0.002592                 1  \n",
       "3 -0.000042 -0.002086 -0.000027 -0.000590 -0.002337                 1  \n",
       "4  0.013117  0.009409  0.015472  0.008492  0.014537                 1  \n",
       "\n",
       "[5 rows x 1909 columns]"
      ]
     },
     "execution_count": 57,
     "metadata": {},
     "output_type": "execute_result"
    }
   ],
   "source": [
    "reviews_by_component.head()"
   ]
  },
  {
   "cell_type": "code",
   "execution_count": 58,
   "metadata": {},
   "outputs": [
    {
     "data": {
      "text/plain": [
       "array([0, 1, 1, ..., 1, 1, 0], dtype=int64)"
      ]
     },
     "execution_count": 58,
     "metadata": {},
     "output_type": "execute_result"
    }
   ],
   "source": [
    "np.array(Y.T)"
   ]
  },
  {
   "cell_type": "code",
   "execution_count": 59,
   "metadata": {},
   "outputs": [
    {
     "name": "stdout",
     "output_type": "stream",
     "text": [
      "Number of review samples per each class\n",
      " Counter({1: 2954, 0: 759})\n"
     ]
    }
   ],
   "source": [
    "print('Number of review samples per each class\\n {}'.format(Counter(Y)))"
   ]
  },
  {
   "cell_type": "markdown",
   "metadata": {},
   "source": [
    "There is a lot of class imbalance here. Need to correct the problem before going further by over sampling and under sampling (SMOTE)."
   ]
  },
  {
   "cell_type": "code",
   "execution_count": 60,
   "metadata": {},
   "outputs": [
    {
     "name": "stdout",
     "output_type": "stream",
     "text": [
      "Number of review samples per each class\n",
      " Counter({0: 2954, 1: 2954})\n"
     ]
    }
   ],
   "source": [
    "# SMOTE i.e oversampling and undersampling\n",
    "smote = SMOTE(random_state=1)\n",
    "X, Y = smote.fit_resample(X, Y)\n",
    "print('Number of review samples per each class\\n {}'.format(Counter(Y)))"
   ]
  },
  {
   "cell_type": "markdown",
   "metadata": {},
   "source": [
    "Smote does minority oversampling...but adds them all together at the end causing a non-randomness in the samples.\n",
    "Need to shuffle again"
   ]
  },
  {
   "cell_type": "code",
   "execution_count": 61,
   "metadata": {},
   "outputs": [],
   "source": [
    "#Shuffle again \n",
    "X = pd.DataFrame(X)\n",
    "Y = pd.DataFrame(Y,columns=['sentiment'])\n",
    "\n",
    "\n",
    "X = X.sample(frac=1, replace=False, random_state=2)\n",
    "Y = Y.sample(frac=1, replace=False, random_state=2)\n",
    "\n",
    "X.reset_index(drop=True, inplace=True)\n",
    "Y.reset_index(drop=True, inplace=True)\n",
    "Y = Y['sentiment']"
   ]
  },
  {
   "cell_type": "code",
   "execution_count": 62,
   "metadata": {},
   "outputs": [
    {
     "name": "stdout",
     "output_type": "stream",
     "text": [
      "Number of review samples per each class\n",
      " Counter({0: 2954, 1: 2954})\n"
     ]
    }
   ],
   "source": [
    "print('Number of review samples per each class\\n {}'.format(Counter(np.array(Y))))"
   ]
  },
  {
   "cell_type": "code",
   "execution_count": 63,
   "metadata": {
    "scrolled": true
   },
   "outputs": [
    {
     "data": {
      "text/plain": [
       "array([0, 0, 1, ..., 0, 0, 1], dtype=int64)"
      ]
     },
     "execution_count": 63,
     "metadata": {},
     "output_type": "execute_result"
    }
   ],
   "source": [
    "np.array(Y)"
   ]
  },
  {
   "cell_type": "markdown",
   "metadata": {},
   "source": [
    "### 3. Use the features to fit supervised learning models for each feature set to predict the category outcomes.\n",
    "### 4. Assess your models using cross-validation and determine whether one model performed better."
   ]
  },
  {
   "cell_type": "code",
   "execution_count": 64,
   "metadata": {},
   "outputs": [],
   "source": [
    "def model(mod, X=X, Y=Y):\n",
    "    model_object=mod\n",
    "    #Data split to Train and test\n",
    "    global X_train, X_test, y_train, y_test\n",
    "    X_train, X_test, y_train, y_test = train_test_split(X, Y, test_size=0.25, random_state=3)\n",
    "    model_object.fit(X_train, y_train)\n",
    "    print (\"Model train score is %0.2f\" % (model_object.score(X_train, y_train)) )\n",
    "    evaluation(model_object)\n",
    "    return model_object\n",
    "\n",
    "def evaluation(model_object):\n",
    "    #Evalution of model\n",
    "    score=cross_val_score(X=X_test, y=y_test, estimator=model_object, cv=10)\n",
    "    print ('\\nCross_validation scores below :\\n', score)\n",
    "    print(\"\\nMean/test accuracy: %0.2f (+/- %0.2f)\\n\" % (score.mean(), score.std() * 2))\n",
    "    \n",
    "    y_pred=model_object.predict(X_test)\n",
    "  \n",
    "   #Plotting the ROC-AUC curve   \n",
    "    \n",
    "    fpr, tpr, threshold = metrics.roc_curve(y_test, y_pred)\n",
    "    roc_auc = metrics.auc(fpr, tpr)\n",
    "    plt.title('Receiver Operating Characteristic')\n",
    "    plt.plot(fpr, tpr, 'b', linewidth=4,label = 'AUC = %0.2f' % roc_auc)\n",
    "    plt.legend(loc = 'lower right', fancybox=True, fontsize='large')\n",
    "    plt.plot([0, 1], [0, 1],'r--')\n",
    "    plt.xlim([0, 1])\n",
    "    plt.ylim([0, 1])\n",
    "    plt.ylabel('True Positive Rate')\n",
    "    plt.xlabel('False Positive Rate')\n",
    "    plt.show()\n",
    "    \n",
    "    fpr=fpr[1]\n",
    "    tpr=tpr[1]\n",
    "    print ('The sensitivity i.e true positives is {0:2f}% '.format(tpr*100))\n",
    "    print ('The specificity i.e true negatives is {0:2f}% '.format((1-fpr)*100))\n",
    "    print ('The Type I error i.e. false negatives is {0:2f}% '.format((1-tpr)*100))\n",
    "    print ('The Type II error i.e. false positives is {0:2f}% '.format(fpr*100))\n",
    "    return"
   ]
  },
  {
   "cell_type": "code",
   "execution_count": 65,
   "metadata": {},
   "outputs": [],
   "source": [
    "### Naive Bayes Classifier"
   ]
  },
  {
   "cell_type": "code",
   "execution_count": 66,
   "metadata": {
    "scrolled": true
   },
   "outputs": [
    {
     "name": "stdout",
     "output_type": "stream",
     "text": [
      "Model train score is 0.88\n",
      "\n",
      "Cross_validation scores below :\n",
      " [0.76510067 0.81081081 0.72972973 0.72297297 0.74324324 0.73648649\n",
      " 0.7414966  0.76870748 0.70068027 0.75510204]\n",
      "\n",
      "Mean/test accuracy: 0.75 (+/- 0.06)\n",
      "\n"
     ]
    },
    {
     "data": {
      "image/png": "[encoded data removed]",
      "text/plain": [
       "<Figure size 432x288 with 1 Axes>"
      ]
     },
     "metadata": {
      "needs_background": "light"
     },
     "output_type": "display_data"
    },
    {
     "name": "stdout",
     "output_type": "stream",
     "text": [
      "The sensitivity i.e true positives is 83.265857% \n",
      "The specificity i.e true negatives is 76.086957% \n",
      "The Type I error i.e. false negatives is 16.734143% \n",
      "The Type II error i.e. false positives is 23.913043% \n"
     ]
    },
    {
     "data": {
      "text/plain": [
       "BernoulliNB(alpha=1.0, binarize=0.0, class_prior=None, fit_prior=True)"
      ]
     },
     "execution_count": 66,
     "metadata": {},
     "output_type": "execute_result"
    }
   ],
   "source": [
    "model(BernoulliNB())"
   ]
  },
  {
   "cell_type": "code",
   "execution_count": 67,
   "metadata": {},
   "outputs": [],
   "source": [
    "### kNN Classifier"
   ]
  },
  {
   "cell_type": "code",
   "execution_count": 68,
   "metadata": {},
   "outputs": [
    {
     "name": "stdout",
     "output_type": "stream",
     "text": [
      "Model train score is 0.57\n",
      "\n",
      "Cross_validation scores below :\n",
      " [0.5033557  0.50675676 0.52027027 0.50675676 0.52027027 0.5\n",
      " 0.49659864 0.5170068  0.50340136 0.49659864]\n",
      "\n",
      "Mean/test accuracy: 0.51 (+/- 0.02)\n",
      "\n"
     ]
    },
    {
     "data": {
      "image/png": "[encoded data removed]",
      "text/plain": [
       "<Figure size 432x288 with 1 Axes>"
      ]
     },
     "metadata": {
      "needs_background": "light"
     },
     "output_type": "display_data"
    },
    {
     "name": "stdout",
     "output_type": "stream",
     "text": [
      "The sensitivity i.e true positives is 6.072874% \n",
      "The specificity i.e true negatives is 99.864130% \n",
      "The Type I error i.e. false negatives is 93.927126% \n",
      "The Type II error i.e. false positives is 0.135870% \n"
     ]
    },
    {
     "data": {
      "text/plain": [
       "KNeighborsClassifier(algorithm='auto', leaf_size=30, metric='minkowski',\n",
       "           metric_params=None, n_jobs=None, n_neighbors=5, p=2,\n",
       "           weights='uniform')"
      ]
     },
     "execution_count": 68,
     "metadata": {},
     "output_type": "execute_result"
    }
   ],
   "source": [
    "model(neighbors.KNeighborsClassifier(n_neighbors=5))"
   ]
  },
  {
   "cell_type": "code",
   "execution_count": 69,
   "metadata": {},
   "outputs": [],
   "source": [
    "### Random Forest Classifier"
   ]
  },
  {
   "cell_type": "code",
   "execution_count": 70,
   "metadata": {},
   "outputs": [
    {
     "name": "stderr",
     "output_type": "stream",
     "text": [
      "C:\\Users\\nagad\\Anaconda3\\lib\\site-packages\\sklearn\\ensemble\\forest.py:246: FutureWarning: The default value of n_estimators will change from 10 in version 0.20 to 100 in 0.22.\n",
      "  \"10 in version 0.20 to 100 in 0.22.\", FutureWarning)\n"
     ]
    },
    {
     "name": "stdout",
     "output_type": "stream",
     "text": [
      "Model train score is 0.99\n",
      "\n",
      "Cross_validation scores below :\n",
      " [0.66442953 0.76351351 0.75       0.70945946 0.68918919 0.64864865\n",
      " 0.63945578 0.66666667 0.68027211 0.67346939]\n",
      "\n",
      "Mean/test accuracy: 0.69 (+/- 0.08)\n",
      "\n"
     ]
    },
    {
     "data": {
      "image/png": "[encoded data removed]",
      "text/plain": [
       "<Figure size 432x288 with 1 Axes>"
      ]
     },
     "metadata": {
      "needs_background": "light"
     },
     "output_type": "display_data"
    },
    {
     "name": "stdout",
     "output_type": "stream",
     "text": [
      "The sensitivity i.e true positives is 73.819163% \n",
      "The specificity i.e true negatives is 86.413043% \n",
      "The Type I error i.e. false negatives is 26.180837% \n",
      "The Type II error i.e. false positives is 13.586957% \n"
     ]
    },
    {
     "data": {
      "text/plain": [
       "RandomForestClassifier(bootstrap=True, class_weight=None, criterion='gini',\n",
       "            max_depth=None, max_features='auto', max_leaf_nodes=None,\n",
       "            min_impurity_decrease=0.0, min_impurity_split=None,\n",
       "            min_samples_leaf=1, min_samples_split=2,\n",
       "            min_weight_fraction_leaf=0.0, n_estimators=10, n_jobs=None,\n",
       "            oob_score=False, random_state=None, verbose=0,\n",
       "            warm_start=False)"
      ]
     },
     "execution_count": 70,
     "metadata": {},
     "output_type": "execute_result"
    }
   ],
   "source": [
    "model(ensemble.RandomForestClassifier())"
   ]
  },
  {
   "cell_type": "code",
   "execution_count": 71,
   "metadata": {},
   "outputs": [],
   "source": [
    "### Gradient Boost Classifier"
   ]
  },
  {
   "cell_type": "code",
   "execution_count": 72,
   "metadata": {},
   "outputs": [
    {
     "name": "stdout",
     "output_type": "stream",
     "text": [
      "Model train score is 0.97\n",
      "\n",
      "Cross_validation scores below :\n",
      " [0.80536913 0.83108108 0.81756757 0.77027027 0.7972973  0.83108108\n",
      " 0.79591837 0.8707483  0.82312925 0.76190476]\n",
      "\n",
      "Mean/test accuracy: 0.81 (+/- 0.06)\n",
      "\n"
     ]
    },
    {
     "data": {
      "image/png": "[encoded data removed]",
      "text/plain": [
       "<Figure size 432x288 with 1 Axes>"
      ]
     },
     "metadata": {
      "needs_background": "light"
     },
     "output_type": "display_data"
    },
    {
     "name": "stdout",
     "output_type": "stream",
     "text": [
      "The sensitivity i.e true positives is 84.615385% \n",
      "The specificity i.e true negatives is 86.956522% \n",
      "The Type I error i.e. false negatives is 15.384615% \n",
      "The Type II error i.e. false positives is 13.043478% \n"
     ]
    },
    {
     "data": {
      "text/plain": [
       "GradientBoostingClassifier(criterion='friedman_mse', init=None,\n",
       "              learning_rate=0.1, loss='deviance', max_depth=3,\n",
       "              max_features=None, max_leaf_nodes=None,\n",
       "              min_impurity_decrease=0.0, min_impurity_split=None,\n",
       "              min_samples_leaf=1, min_samples_split=2,\n",
       "              min_weight_fraction_leaf=0.0, n_estimators=100,\n",
       "              n_iter_no_change=None, presort='auto', random_state=None,\n",
       "              subsample=1.0, tol=0.0001, validation_fraction=0.1,\n",
       "              verbose=0, warm_start=False)"
      ]
     },
     "execution_count": 72,
     "metadata": {},
     "output_type": "execute_result"
    }
   ],
   "source": [
    "model(ensemble.GradientBoostingClassifier())"
   ]
  },
  {
   "cell_type": "code",
   "execution_count": 73,
   "metadata": {},
   "outputs": [],
   "source": [
    "### Logistic Regression"
   ]
  },
  {
   "cell_type": "code",
   "execution_count": 74,
   "metadata": {},
   "outputs": [
    {
     "name": "stdout",
     "output_type": "stream",
     "text": [
      "Model train score is 0.93\n",
      "\n",
      "Cross_validation scores below :\n",
      " [0.81208054 0.7972973  0.89864865 0.84459459 0.78378378 0.89864865\n",
      " 0.84353741 0.8707483  0.81632653 0.82312925]\n",
      "\n",
      "Mean/test accuracy: 0.84 (+/- 0.08)\n",
      "\n"
     ]
    },
    {
     "data": {
      "image/png": "[encoded data removed]",
      "text/plain": [
       "<Figure size 432x288 with 1 Axes>"
      ]
     },
     "metadata": {
      "needs_background": "light"
     },
     "output_type": "display_data"
    },
    {
     "name": "stdout",
     "output_type": "stream",
     "text": [
      "The sensitivity i.e true positives is 86.369771% \n",
      "The specificity i.e true negatives is 89.266304% \n",
      "The Type I error i.e. false negatives is 13.630229% \n",
      "The Type II error i.e. false positives is 10.733696% \n"
     ]
    },
    {
     "data": {
      "text/plain": [
       "LogisticRegression(C=1.0, class_weight=None, dual=False, fit_intercept=True,\n",
       "          intercept_scaling=1, max_iter=100, multi_class='warn',\n",
       "          n_jobs=None, penalty='l2', random_state=None, solver='liblinear',\n",
       "          tol=0.0001, verbose=0, warm_start=False)"
      ]
     },
     "execution_count": 74,
     "metadata": {},
     "output_type": "execute_result"
    }
   ],
   "source": [
    "model(LogisticRegression( solver='liblinear'))"
   ]
  },
  {
   "cell_type": "markdown",
   "metadata": {},
   "source": [
    "### With TFIDF feature set : The Logistic regression gave the best AUC of 0.88.  84% test accuracy."
   ]
  },
  {
   "cell_type": "markdown",
   "metadata": {},
   "source": [
    "### With BOW feature set : The Gradient Boost classifier gave the best AUC of 0.67.  64% test accuracy."
   ]
  },
  {
   "cell_type": "markdown",
   "metadata": {},
   "source": [
    "### When compared with the BOW features and TF_IDF features, models generated from TF_IDF feature set gave much better results."
   ]
  },
  {
   "cell_type": "markdown",
   "metadata": {},
   "source": [
    "## 5. Pick one of the models and try to increase accuracy by at least 5 percentage points."
   ]
  },
  {
   "cell_type": "code",
   "execution_count": 75,
   "metadata": {},
   "outputs": [],
   "source": [
    "### Gradient Boost Classifier"
   ]
  },
  {
   "cell_type": "markdown",
   "metadata": {},
   "source": [
    "The default parameters are :\n",
    "    GradientBoostingClassifier(criterion='friedman_mse', init=None,\n",
    "                           learning_rate=0.1, loss='deviance', max_depth=3,\n",
    "                           max_features=None, max_leaf_nodes=None,\n",
    "                           min_impurity_decrease=0.0, min_impurity_split=None,\n",
    "                           min_samples_leaf=1, min_samples_split=2,\n",
    "                           min_weight_fraction_leaf=0.0, n_estimators=100,\n",
    "                           n_iter_no_change=None, presort='auto',\n",
    "                           random_state=None, subsample=1.0, tol=0.0001,\n",
    "                           validation_fraction=0.1, verbose=0,\n",
    "                           warm_start=False)"
   ]
  },
  {
   "cell_type": "markdown",
   "metadata": {},
   "source": [
    "I have changed the following: and got 5% increase in accuracy from 82% to 87%.\n",
    "    \n",
    "params = {'learning_rate': 0.1, 'max_depth': 5,\n",
    "          'max_features': 'sqrt','loss': 'deviance',\n",
    "          'n_estimators': 1000}"
   ]
  },
  {
   "cell_type": "code",
   "execution_count": 76,
   "metadata": {},
   "outputs": [],
   "source": [
    "### Gradient Boost Classifier"
   ]
  },
  {
   "cell_type": "code",
   "execution_count": 77,
   "metadata": {},
   "outputs": [
    {
     "name": "stdout",
     "output_type": "stream",
     "text": [
      "Model train score is 1.00\n",
      "\n",
      "Cross_validation scores below :\n",
      " [0.86577181 0.87837838 0.89189189 0.87162162 0.83108108 0.83108108\n",
      " 0.87755102 0.85714286 0.85034014 0.84353741]\n",
      "\n",
      "Mean/test accuracy: 0.86 (+/- 0.04)\n",
      "\n"
     ]
    },
    {
     "data": {
      "image/png": "[encoded data removed]",
      "text/plain": [
       "<Figure size 432x288 with 1 Axes>"
      ]
     },
     "metadata": {
      "needs_background": "light"
     },
     "output_type": "display_data"
    },
    {
     "name": "stdout",
     "output_type": "stream",
     "text": [
      "The sensitivity i.e true positives is 95.816464% \n",
      "The specificity i.e true negatives is 91.576087% \n",
      "The Type I error i.e. false negatives is 4.183536% \n",
      "The Type II error i.e. false positives is 8.423913% \n"
     ]
    },
    {
     "data": {
      "text/plain": [
       "GradientBoostingClassifier(criterion='friedman_mse', init=None,\n",
       "              learning_rate=0.1, loss='deviance', max_depth=5,\n",
       "              max_features='sqrt', max_leaf_nodes=None,\n",
       "              min_impurity_decrease=0.0, min_impurity_split=None,\n",
       "              min_samples_leaf=1, min_samples_split=2,\n",
       "              min_weight_fraction_leaf=0.0, n_estimators=1000,\n",
       "              n_iter_no_change=None, presort='auto', random_state=None,\n",
       "              subsample=1.0, tol=0.0001, validation_fraction=0.1,\n",
       "              verbose=0, warm_start=False)"
      ]
     },
     "execution_count": 77,
     "metadata": {},
     "output_type": "execute_result"
    }
   ],
   "source": [
    "params = {'learning_rate': 0.1, 'max_depth': 5,\n",
    "          'max_features': 'sqrt','loss': 'deviance',\n",
    "          'n_estimators': 1000}\n",
    "\n",
    "model(ensemble.GradientBoostingClassifier(**params))"
   ]
  },
  {
   "cell_type": "markdown",
   "metadata": {},
   "source": [
    "To increase more I used GridSearchCV() GridSearch by cross validation by using the below code.\n",
    "But it is taking a long time for the gridsearch."
   ]
  },
  {
   "cell_type": "code",
   "execution_count": null,
   "metadata": {},
   "outputs": [],
   "source": [
    "model_object = ensemble.GradientBoostingClassifier()\n",
    "params = {\n",
    "    \"n_estimators\":[50,250,500],\n",
    "    \"max_depth\":[1,2, 3, 5],\n",
    "    \"learning_rate\":[0.01,0.1,1]\n",
    "}\n",
    "\n",
    "from sklearn.model_selection import GridSearchCV\n",
    "GSCV = GridSearchCV(model_object,params,cv=5)\n",
    "X_train.reset_index(drop=True, inplace=True)\n",
    "y_train.reset_index(drop=True, inplace=True)\n",
    "GSCV.fit(X_train, y_train)\n",
    "print('Best parameters are: {}'.format(GSCV.best_params_))"
   ]
  },
  {
   "cell_type": "markdown",
   "metadata": {},
   "source": [
    "The model can be enhanced even more using Neural networks and implement word2vec or sentence2vec or doc2vec embedding to generalize more."
   ]
  }
 ],
 "metadata": {
  "kernelspec": {
   "display_name": "Python 3",
   "language": "python",
   "name": "python3"
  },
  "language_info": {
   "codemirror_mode": {
    "name": "ipython",
    "version": 3
   },
   "file_extension": ".py",
   "mimetype": "text/x-python",
   "name": "python",
   "nbconvert_exporter": "python",
   "pygments_lexer": "ipython3",
   "version": "3.7.1"
  }
 },
 "nbformat": 4,
 "nbformat_minor": 2
}
