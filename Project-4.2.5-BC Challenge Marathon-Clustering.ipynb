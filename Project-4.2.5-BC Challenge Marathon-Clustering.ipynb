{
 "cells": [
  {
   "cell_type": "code",
   "execution_count": 1,
   "metadata": {},
   "outputs": [
    {
     "name": "stderr",
     "output_type": "stream",
     "text": [
      "/Users/Sri/anaconda3/lib/python3.6/site-packages/sklearn/externals/six.py:31: DeprecationWarning: The module is deprecated in version 0.21 and will be removed in version 0.23 since we've dropped support for Python 2.7. Please rely on the official version of six (https://pypi.org/project/six/).\n",
      "  \"(https://pypi.org/project/six/).\", DeprecationWarning)\n"
     ]
    }
   ],
   "source": [
    "import pandas as pd\n",
    "import numpy as np\n",
    "from sklearn.preprocessing import normalize\n",
    "import scipy\n",
    "import matplotlib.pyplot as plt\n",
    "from sklearn.cluster import KMeans\n",
    "import seaborn as sns\n",
    "from sklearn.model_selection import cross_val_score\n",
    "from sklearn.cluster import SpectralClustering\n",
    "from sklearn.cluster import MeanShift, estimate_bandwidth\n",
    "from sklearn.linear_model import LogisticRegression\n",
    "from sklearn.model_selection import train_test_split\n",
    "from sklearn import metrics\n",
    "from matplotlib import pyplot as plt\n",
    "from sklearn.naive_bayes import BernoulliNB\n",
    "from sklearn.model_selection import train_test_split\n",
    "from sklearn import neighbors\n",
    "from imblearn.over_sampling import SMOTENC\n",
    "from imblearn.over_sampling import SMOTE\n",
    "from sklearn.linear_model import LogisticRegression\n",
    "from sklearn.metrics import confusion_matrix\n",
    "from sklearn.svm import SVC\n",
    "from collections import Counter\n",
    "from sklearn import ensemble\n",
    "from sklearn import linear_model\n",
    "from sklearn.metrics import pairwise_distances\n",
    "from sklearn.cluster import AffinityPropagation\n",
    "\n",
    "\n",
    "\n",
    "# Functions that will be used later for reducing the written code\n",
    "def model(mod, X, Y):\n",
    "    #Data split to Train and test\n",
    "    global X_train, X_test, y_train, y_test\n",
    "    X_train, X_test, y_train, y_test = train_test_split(X, Y, test_size=0.5, random_state=1)\n",
    "    model_object=mod\n",
    "    model_object.fit(X_train, y_train)\n",
    "    evaluation(model_object)\n",
    "    return model_object\n",
    "\n",
    "def evaluation(model_object):\n",
    "    #Evalution of model\n",
    "    score=cross_val_score(X=X_test, y=y_test, estimator=model_object, cv=10)\n",
    "    print(\"Accuracy: %0.2f (+/- %0.2f)\\n\" % (score.mean(), score.std() * 2))\n",
    "    pos_label=None\n",
    "    y_pred=pd.Series(model_object.predict(X_test))\n",
    "    \n",
    "    #Plotting the ROC-AUC curve   \n",
    "    if ((len(np.unique(y_test)) > 2)):\n",
    "        pos_label=2\n",
    "    fpr, tpr, threshold = metrics.roc_curve(y_test, y_pred, pos_label=pos_label)\n",
    "    roc_auc = metrics.auc(fpr, tpr)\n",
    "    plt.title('Receiver Operating Characteristic')\n",
    "    plt.plot(fpr, tpr, 'b', linewidth=4,label = 'AUC = %0.2f' % roc_auc)\n",
    "    plt.legend(loc = 'lower right', fancybox=True, fontsize='large')\n",
    "    plt.plot([0, 1], [0, 1],'r--')\n",
    "    plt.xlim([0, 1])\n",
    "    plt.ylim([0, 1])\n",
    "    plt.ylabel('True Positive Rate')\n",
    "    plt.xlabel('False Positive Rate')\n",
    "    plt.title('Receiver Operating Characteristic')\n",
    "    \n",
    "    fpr=fpr[1]\n",
    "    tpr=tpr[1]\n",
    "    print ('The sensitivity i.e true positives is {0:2f}% '.format(tpr*100))\n",
    "    print ('The specificity i.e true negatives is {0:2f}% '.format((1-fpr)*100))\n",
    "    print ('The Type I error i.e. false negatives is {0:2f}% '.format((1-tpr)*100))\n",
    "    print ('The Type II error i.e. false positives is {0:2f}% '.format(fpr*100))\n",
    "    return\n",
    "\n",
    "%matplotlib inline\n",
    "sns.set(rc={'figure.figsize':(12,7)}, style='whitegrid', color_codes=True)"
   ]
  },
  {
   "cell_type": "code",
   "execution_count": 2,
   "metadata": {},
   "outputs": [
    {
     "data": {
      "text/html": [
       "<div>\n",
       "<style>\n",
       "    .dataframe thead tr:only-child th {\n",
       "        text-align: right;\n",
       "    }\n",
       "\n",
       "    .dataframe thead th {\n",
       "        text-align: left;\n",
       "    }\n",
       "\n",
       "    .dataframe tbody tr th {\n",
       "        vertical-align: top;\n",
       "    }\n",
       "</style>\n",
       "<table border=\"1\" class=\"dataframe\">\n",
       "  <thead>\n",
       "    <tr style=\"text-align: right;\">\n",
       "      <th></th>\n",
       "      <th>25k</th>\n",
       "      <th>age</th>\n",
       "      <th>name</th>\n",
       "      <th>division</th>\n",
       "      <th>10k</th>\n",
       "      <th>gender</th>\n",
       "      <th>half</th>\n",
       "      <th>official</th>\n",
       "      <th>bib</th>\n",
       "      <th>ctz</th>\n",
       "      <th>...</th>\n",
       "      <th>overall</th>\n",
       "      <th>pace</th>\n",
       "      <th>state</th>\n",
       "      <th>30k</th>\n",
       "      <th>5k</th>\n",
       "      <th>genderdiv</th>\n",
       "      <th>20k</th>\n",
       "      <th>35k</th>\n",
       "      <th>city</th>\n",
       "      <th>40k</th>\n",
       "    </tr>\n",
       "  </thead>\n",
       "  <tbody>\n",
       "    <tr>\n",
       "      <th>0</th>\n",
       "      <td>49.87</td>\n",
       "      <td>28</td>\n",
       "      <td>Cassidy, Josh R.</td>\n",
       "      <td>9</td>\n",
       "      <td>18.18</td>\n",
       "      <td>M</td>\n",
       "      <td>40.93</td>\n",
       "      <td>90.90</td>\n",
       "      <td>W1</td>\n",
       "      <td>NaN</td>\n",
       "      <td>...</td>\n",
       "      <td>9</td>\n",
       "      <td>3.47</td>\n",
       "      <td>ON</td>\n",
       "      <td>62.07</td>\n",
       "      <td>8.90</td>\n",
       "      <td>9</td>\n",
       "      <td>38.80</td>\n",
       "      <td>74.73</td>\n",
       "      <td>Toronto</td>\n",
       "      <td>85.55</td>\n",
       "    </tr>\n",
       "    <tr>\n",
       "      <th>1</th>\n",
       "      <td>77.27</td>\n",
       "      <td>30</td>\n",
       "      <td>Korir, Wesley</td>\n",
       "      <td>5</td>\n",
       "      <td>30.90</td>\n",
       "      <td>M</td>\n",
       "      <td>64.90</td>\n",
       "      <td>132.50</td>\n",
       "      <td>1</td>\n",
       "      <td>NaN</td>\n",
       "      <td>...</td>\n",
       "      <td>5</td>\n",
       "      <td>5.07</td>\n",
       "      <td>NaN</td>\n",
       "      <td>92.97</td>\n",
       "      <td>15.90</td>\n",
       "      <td>5</td>\n",
       "      <td>61.52</td>\n",
       "      <td>108.78</td>\n",
       "      <td>Kenya</td>\n",
       "      <td>124.77</td>\n",
       "    </tr>\n",
       "    <tr>\n",
       "      <th>2</th>\n",
       "      <td>77.23</td>\n",
       "      <td>23</td>\n",
       "      <td>Desisa, Lelisa</td>\n",
       "      <td>1</td>\n",
       "      <td>30.90</td>\n",
       "      <td>M</td>\n",
       "      <td>64.92</td>\n",
       "      <td>130.37</td>\n",
       "      <td>2</td>\n",
       "      <td>NaN</td>\n",
       "      <td>...</td>\n",
       "      <td>1</td>\n",
       "      <td>4.98</td>\n",
       "      <td>NaN</td>\n",
       "      <td>92.72</td>\n",
       "      <td>15.93</td>\n",
       "      <td>1</td>\n",
       "      <td>61.53</td>\n",
       "      <td>108.68</td>\n",
       "      <td>Ambo</td>\n",
       "      <td>123.78</td>\n",
       "    </tr>\n",
       "    <tr>\n",
       "      <th>3</th>\n",
       "      <td>50.50</td>\n",
       "      <td>32</td>\n",
       "      <td>Fearnley, Kurt H.</td>\n",
       "      <td>5</td>\n",
       "      <td>18.73</td>\n",
       "      <td>M</td>\n",
       "      <td>42.00</td>\n",
       "      <td>88.43</td>\n",
       "      <td>W2</td>\n",
       "      <td>NaN</td>\n",
       "      <td>...</td>\n",
       "      <td>5</td>\n",
       "      <td>3.38</td>\n",
       "      <td>NaN</td>\n",
       "      <td>61.35</td>\n",
       "      <td>8.98</td>\n",
       "      <td>5</td>\n",
       "      <td>39.88</td>\n",
       "      <td>73.00</td>\n",
       "      <td>Hamilton</td>\n",
       "      <td>83.43</td>\n",
       "    </tr>\n",
       "    <tr>\n",
       "      <th>4</th>\n",
       "      <td>48.75</td>\n",
       "      <td>39</td>\n",
       "      <td>Hokinoue, Kota</td>\n",
       "      <td>3</td>\n",
       "      <td>18.18</td>\n",
       "      <td>M</td>\n",
       "      <td>40.57</td>\n",
       "      <td>87.22</td>\n",
       "      <td>W3</td>\n",
       "      <td>NaN</td>\n",
       "      <td>...</td>\n",
       "      <td>3</td>\n",
       "      <td>3.33</td>\n",
       "      <td>NaN</td>\n",
       "      <td>59.92</td>\n",
       "      <td>8.92</td>\n",
       "      <td>3</td>\n",
       "      <td>38.55</td>\n",
       "      <td>71.68</td>\n",
       "      <td>Iizuka</td>\n",
       "      <td>81.88</td>\n",
       "    </tr>\n",
       "  </tbody>\n",
       "</table>\n",
       "<p>5 rows × 21 columns</p>\n",
       "</div>"
      ],
      "text/plain": [
       "     25k  age               name  division    10k gender   half  official bib  \\\n",
       "0  49.87   28   Cassidy, Josh R.         9  18.18      M  40.93     90.90  W1   \n",
       "1  77.27   30      Korir, Wesley         5  30.90      M  64.90    132.50   1   \n",
       "2  77.23   23     Desisa, Lelisa         1  30.90      M  64.92    130.37   2   \n",
       "3  50.50   32  Fearnley, Kurt H.         5  18.73      M  42.00     88.43  W2   \n",
       "4  48.75   39     Hokinoue, Kota         3  18.18      M  40.57     87.22  W3   \n",
       "\n",
       "   ctz   ...   overall  pace  state    30k     5k genderdiv    20k     35k  \\\n",
       "0  NaN   ...         9  3.47     ON  62.07   8.90         9  38.80   74.73   \n",
       "1  NaN   ...         5  5.07    NaN  92.97  15.90         5  61.52  108.78   \n",
       "2  NaN   ...         1  4.98    NaN  92.72  15.93         1  61.53  108.68   \n",
       "3  NaN   ...         5  3.38    NaN  61.35   8.98         5  39.88   73.00   \n",
       "4  NaN   ...         3  3.33    NaN  59.92   8.92         3  38.55   71.68   \n",
       "\n",
       "       city     40k  \n",
       "0   Toronto   85.55  \n",
       "1     Kenya  124.77  \n",
       "2      Ambo  123.78  \n",
       "3  Hamilton   83.43  \n",
       "4    Iizuka   81.88  \n",
       "\n",
       "[5 rows x 21 columns]"
      ]
     },
     "execution_count": 2,
     "metadata": {},
     "output_type": "execute_result"
    }
   ],
   "source": [
    "df=pd.read_csv('results.csv')\n",
    "df.head()"
   ]
  },
  {
   "cell_type": "markdown",
   "metadata": {},
   "source": [
    "Specifically, use the tools at hand to determine which clustering solution, including number of clusters and algorithm used, is best for the marathon data. Once you have a solution you like, write a data story, including visualizations, where you teach the reader something about the Boston Marathon based on your clusters."
   ]
  },
  {
   "cell_type": "code",
   "execution_count": 3,
   "metadata": {},
   "outputs": [
    {
     "name": "stdout",
     "output_type": "stream",
     "text": [
      "<class 'pandas.core.frame.DataFrame'>\n",
      "RangeIndex: 16164 entries, 0 to 16163\n",
      "Data columns (total 21 columns):\n",
      "25k          16164 non-null object\n",
      "age          16164 non-null int64\n",
      "name         16164 non-null object\n",
      "division     16164 non-null int64\n",
      "10k          16164 non-null object\n",
      "gender       16164 non-null object\n",
      "half         16164 non-null object\n",
      "official     16164 non-null float64\n",
      "bib          16164 non-null object\n",
      "ctz          757 non-null object\n",
      "country      16164 non-null object\n",
      "overall      16164 non-null int64\n",
      "pace         16164 non-null float64\n",
      "state        14701 non-null object\n",
      "30k          16164 non-null object\n",
      "5k           16164 non-null object\n",
      "genderdiv    16164 non-null int64\n",
      "20k          16164 non-null object\n",
      "35k          16164 non-null object\n",
      "city         16163 non-null object\n",
      "40k          16164 non-null object\n",
      "dtypes: float64(2), int64(4), object(15)\n",
      "memory usage: 2.6+ MB\n"
     ]
    }
   ],
   "source": [
    "df.info()"
   ]
  },
  {
   "cell_type": "code",
   "execution_count": 4,
   "metadata": {},
   "outputs": [
    {
     "name": "stdout",
     "output_type": "stream",
     "text": [
      "<class 'pandas.core.frame.DataFrame'>\n",
      "RangeIndex: 14609 entries, 0 to 14608\n",
      "Data columns (total 20 columns):\n",
      "25k          14609 non-null object\n",
      "age          14609 non-null int64\n",
      "name         14609 non-null object\n",
      "division     14609 non-null int64\n",
      "10k          14609 non-null object\n",
      "gender       14609 non-null object\n",
      "half         14609 non-null object\n",
      "official     14609 non-null float64\n",
      "bib          14609 non-null object\n",
      "country      14609 non-null object\n",
      "overall      14609 non-null int64\n",
      "pace         14609 non-null float64\n",
      "state        14609 non-null object\n",
      "30k          14609 non-null object\n",
      "5k           14609 non-null object\n",
      "genderdiv    14609 non-null int64\n",
      "20k          14609 non-null object\n",
      "35k          14609 non-null object\n",
      "city         14609 non-null object\n",
      "40k          14609 non-null object\n",
      "dtypes: float64(2), int64(4), object(14)\n",
      "memory usage: 2.2+ MB\n"
     ]
    }
   ],
   "source": [
    "# Dropping ctz since most of the data here is null.\n",
    "df.drop('ctz', inplace=True, axis=1)\n",
    "\n",
    "# Removing the '-' in columns by deleting the rows.\n",
    "df.replace('-', value=np.nan, inplace=True)\n",
    "\n",
    "df.dropna(inplace=True)\n",
    "df.reset_index(drop=True, inplace=True)\n",
    "df.info()"
   ]
  },
  {
   "cell_type": "code",
   "execution_count": 5,
   "metadata": {},
   "outputs": [
    {
     "name": "stdout",
     "output_type": "stream",
     "text": [
      "<class 'pandas.core.frame.DataFrame'>\n",
      "RangeIndex: 14609 entries, 0 to 14608\n",
      "Data columns (total 20 columns):\n",
      "25k          14609 non-null float64\n",
      "age          14609 non-null int64\n",
      "name         14609 non-null object\n",
      "division     14609 non-null int64\n",
      "10k          14609 non-null float64\n",
      "gender       14609 non-null object\n",
      "half         14609 non-null object\n",
      "official     14609 non-null float64\n",
      "bib          14609 non-null object\n",
      "country      14609 non-null object\n",
      "overall      14609 non-null int64\n",
      "pace         14609 non-null float64\n",
      "state        14609 non-null object\n",
      "30k          14609 non-null float64\n",
      "5k           14609 non-null float64\n",
      "genderdiv    14609 non-null int64\n",
      "20k          14609 non-null float64\n",
      "35k          14609 non-null float64\n",
      "city         14609 non-null object\n",
      "40k          14609 non-null float64\n",
      "dtypes: float64(9), int64(4), object(7)\n",
      "memory usage: 2.2+ MB\n"
     ]
    }
   ],
   "source": [
    "# Need to convert the 25k, 10k mile finish results to numbers from strings of numbers\n",
    "\n",
    "for name in df.columns:\n",
    "    if name.find('k') > 0:\n",
    "        df[name] = pd.to_numeric(df[name])\n",
    "df.info()"
   ]
  },
  {
   "cell_type": "code",
   "execution_count": 6,
   "metadata": {
    "collapsed": true
   },
   "outputs": [],
   "source": [
    "# Normalization of the data of all numeric columns\n",
    "col_names=df.select_dtypes(include=['number']).columns\n",
    "df=df.sample(frac=0.5, replace=True, random_state=1)\n",
    "df.reset_index(drop=True, inplace=True)\n",
    "X_norm=pd.DataFrame(normalize(df[col_names]), columns=col_names)"
   ]
  },
  {
   "cell_type": "code",
   "execution_count": 7,
   "metadata": {},
   "outputs": [
    {
     "name": "stdout",
     "output_type": "stream",
     "text": [
      "No. of columns normalized for clustering  14\n",
      "\n",
      "Columns/Features used in Clustering analysis  Index(['25k', 'age', 'division', '10k', 'official', 'overall', 'pace', '30k',\n",
      "       '5k', 'genderdiv', '20k', '35k', '40k', 'gender'],\n",
      "      dtype='object')\n"
     ]
    }
   ],
   "source": [
    "# Converting gender categorical column into a binary feature\n",
    "X_norm['gender'] = np.where(df['gender']=='M', 1, 0)\n",
    "col_names=X_norm.columns\n",
    "print ('No. of columns normalized for clustering ', X_norm.shape[1])\n",
    "print (\"\\nColumns/Features used in Clustering analysis \", col_names)"
   ]
  },
  {
   "cell_type": "markdown",
   "metadata": {},
   "source": [
    "Since we do not know accurately how many clusters can be possible here  let us use mean shift clustering method to calculate the possible clusters by its algorithm"
   ]
  },
  {
   "cell_type": "code",
   "execution_count": 8,
   "metadata": {},
   "outputs": [
    {
     "name": "stdout",
     "output_type": "stream",
     "text": [
      "Number of estimated clusters by the algorithm: 4\n"
     ]
    }
   ],
   "source": [
    "bandwidth = estimate_bandwidth(X_norm, quantile=0.2, n_samples=X_norm.shape[0])\n",
    "ms=MeanShift(bandwidth=bandwidth, bin_seeding=True)\n",
    "ms.fit_predict(X_norm)\n",
    "labels=ms.labels_\n",
    "cluster_centers = ms.cluster_centers_\n",
    "n_clusters_=len(np.unique(labels))\n",
    "print(\"Number of estimated clusters by the algorithm: {}\".format(n_clusters_))"
   ]
  },
  {
   "cell_type": "code",
   "execution_count": 9,
   "metadata": {},
   "outputs": [
    {
     "data": {
      "image/png": "[encoded data removed]",
      "text/plain": [
       "<matplotlib.figure.Figure at 0x1a0ad58a90>"
      ]
     },
     "metadata": {},
     "output_type": "display_data"
    }
   ],
   "source": [
    "from itertools import cycle\n",
    "X_norm_array=np.array(X_norm)\n",
    "colors = cycle('bgrcmykbgrcmykbgrcmykbgrcmyk')\n",
    "for k, col in zip(range(n_clusters_), colors):\n",
    "    my_members = labels == k\n",
    "    cluster_center = cluster_centers[k]\n",
    "    plt.plot(X_norm_array[my_members, 0], X_norm_array[my_members, 1], col + '.')\n",
    "    plt.plot(cluster_center[0], cluster_center[1], 'o', markerfacecolor=col,\n",
    "             markeredgecolor='k', markersize=14)\n",
    "plt.title('Estimated number of clusters: %d' % n_clusters_)\n",
    "plt.show()"
   ]
  },
  {
   "cell_type": "markdown",
   "metadata": {},
   "source": [
    "Now let us see which clustering models can perform better by evaluating them. But to do the evaluation we donot have any ground truth that the number of clusters should be known or it should be known that any datapoint should belong to a particular cluster. Since we dont know any of these the best metric to evaluate the clustering models is by Silhouette coefficient.\n",
    "\n",
    "Silhouette Coefficient is the similarity test...how similar are the datapoints classified in a cluster with each other.\n",
    "\n",
    "Values range from -1 for very bad clusters to +1 for very dense clusters."
   ]
  },
  {
   "cell_type": "code",
   "execution_count": 10,
   "metadata": {
    "collapsed": true
   },
   "outputs": [],
   "source": [
    "def SilCft(mod, X_norm):\n",
    "    mod.fit(X_norm)\n",
    "    labels = mod.labels_\n",
    "    print(metrics.silhouette_score(X_norm, labels, metric='euclidean'))\n",
    "    return metrics.silhouette_score(X_norm, labels, metric='euclidean')\n",
    "score={}"
   ]
  },
  {
   "cell_type": "code",
   "execution_count": 11,
   "metadata": {},
   "outputs": [
    {
     "name": "stdout",
     "output_type": "stream",
     "text": [
      "0.749743753274\n"
     ]
    }
   ],
   "source": [
    "######## K Mean clustering\n",
    "score['K Mean'] = SilCft(KMeans(n_clusters=4, random_state=42), X_norm)"
   ]
  },
  {
   "cell_type": "code",
   "execution_count": 12,
   "metadata": {},
   "outputs": [
    {
     "name": "stdout",
     "output_type": "stream",
     "text": [
      "0.74824606966\n"
     ]
    }
   ],
   "source": [
    "######## MeanShift clustering\n",
    "bandwidth = estimate_bandwidth(X_norm, quantile=0.2, n_samples=X_norm.shape[0])\n",
    "score['MeanShift'] = SilCft(MeanShift(bandwidth=bandwidth, bin_seeding=True), X_norm)"
   ]
  },
  {
   "cell_type": "code",
   "execution_count": 13,
   "metadata": {},
   "outputs": [
    {
     "name": "stdout",
     "output_type": "stream",
     "text": [
      "0.741423903716\n"
     ]
    }
   ],
   "source": [
    "######## Spectral clustering\n",
    "score['Spectral'] = SilCft(SpectralClustering(n_clusters=4), X_norm)"
   ]
  },
  {
   "cell_type": "code",
   "execution_count": 14,
   "metadata": {},
   "outputs": [],
   "source": [
    "######## Affinity Propagation clustering\n",
    "#score['AffinityPropg'] = SilCft(AffinityPropagation(), X_norm)\n",
    "## Affinity P clustering is stalling the system so...this segment is not run here."
   ]
  },
  {
   "cell_type": "code",
   "execution_count": 15,
   "metadata": {},
   "outputs": [
    {
     "data": {
      "text/plain": [
       "{'K Mean': 0.74974375327410137,\n",
       " 'MeanShift': 0.74824606966003016,\n",
       " 'Spectral': 0.7414239037162158}"
      ]
     },
     "execution_count": 15,
     "metadata": {},
     "output_type": "execute_result"
    }
   ],
   "source": [
    "score"
   ]
  },
  {
   "cell_type": "markdown",
   "metadata": {},
   "source": [
    "From these scores we can say that all of the models except Affinity propagation performed equally well and cluster datapoints were more similar to their centroid and other cluster centers."
   ]
  },
  {
   "cell_type": "markdown",
   "metadata": {},
   "source": [
    "Now we know that the data can be clustered into 4 groups. But we donot know how these groups were formed or what these 4 groups represetn in a marathon data.\n",
    "\n",
    "To know this, I thought by using what rows fall into which cluster data we can do a supervised learning model and get the feature importance from the model and see what factors can go in predicting the four clusters.\n",
    "\n",
    "So then we can say probably these four clusters would also be formed based on these four features or in other words, the marathon data can be classified into four clusters based on these features."
   ]
  },
  {
   "cell_type": "code",
   "execution_count": 16,
   "metadata": {
    "collapsed": true
   },
   "outputs": [],
   "source": [
    "# Assigning X and Y\n",
    "df['Clusters_assign'] = pd.DataFrame(labels)\n",
    "Y = df['Clusters_assign']\n",
    "X = X_norm"
   ]
  },
  {
   "cell_type": "code",
   "execution_count": 17,
   "metadata": {},
   "outputs": [
    {
     "data": {
      "text/plain": [
       "1    2990\n",
       "0    2936\n",
       "2    1244\n",
       "3     134\n",
       "Name: Clusters_assign, dtype: int64"
      ]
     },
     "execution_count": 17,
     "metadata": {},
     "output_type": "execute_result"
    }
   ],
   "source": [
    "df['Clusters_assign'].value_counts()"
   ]
  },
  {
   "cell_type": "markdown",
   "metadata": {},
   "source": [
    "We see a class imbalance problem here which can lead to errors.So fixing it by SMOTE analysis or oversampling and undersanmpling."
   ]
  },
  {
   "cell_type": "code",
   "execution_count": 19,
   "metadata": {},
   "outputs": [
    {
     "name": "stdout",
     "output_type": "stream",
     "text": [
      "Resampled dataset samples per each class\n",
      " Counter({1: 2990, 3: 2990, 0: 2990, 2: 2990})\n"
     ]
    }
   ],
   "source": [
    "# SMOTE i.e oversampling and undersampling\n",
    "# Storing the column names as we are generating numpy arrays which dont have labels\n",
    "\n",
    "smote_nc = SMOTENC(categorical_features=[0], random_state=0)\n",
    "X, Y = smote_nc.fit_resample(X, Y)\n",
    "print('Resampled dataset samples per each class\\n {}'.format(Counter(Y)))"
   ]
  },
  {
   "cell_type": "markdown",
   "metadata": {},
   "source": [
    "### Gradient Boost Classifier"
   ]
  },
  {
   "cell_type": "code",
   "execution_count": 20,
   "metadata": {},
   "outputs": [
    {
     "name": "stdout",
     "output_type": "stream",
     "text": [
      "Accuracy: 1.00 (+/- 0.00)\n",
      "\n",
      "The sensitivity i.e true positives is 0.000000% \n",
      "The specificity i.e true negatives is 66.957885% \n",
      "The Type I error i.e. false negatives is 100.000000% \n",
      "The Type II error i.e. false positives is 33.042115% \n"
     ]
    },
    {
     "data": {
      "image/png": "[encoded data removed]",
      "text/plain": [
       "<matplotlib.figure.Figure at 0x1a09dedeb8>"
      ]
     },
     "metadata": {},
     "output_type": "display_data"
    }
   ],
   "source": [
    "params = {'n_estimators': 500,\n",
    "          'max_depth': 2,\n",
    "           'learning_rate': 0.01,\n",
    "          'loss': 'deviance'}\n",
    "mo=model(ensemble.GradientBoostingClassifier(**params), X, Y)\n",
    "feature_importance = mo.feature_importances_\n",
    "# Make importances relative to max importance.\n",
    "feature_importance = 100.0 * (feature_importance / feature_importance.max())\n",
    "fea_imp=np.array(sorted(list(feature_importance), reverse=True)[0:40])\n",
    "sorted_idx = np.argsort(fea_imp)\n",
    "pos = np.arange(sorted_idx.shape[0]) + .5\n",
    "plt.subplot(1, 2, 2)\n",
    "plt.barh(pos, fea_imp[sorted_idx], align='center')\n",
    "plt.yticks(pos, col_names[sorted_idx])\n",
    "plt.xlabel('Relative Importance')\n",
    "plt.title('Variable Importance')\n",
    "plt.show()"
   ]
  },
  {
   "cell_type": "markdown",
   "metadata": {},
   "source": [
    "We can conclude from this exercise that the all the boston marathon data can be divided into four clusters based majorly on the run time of 25k mile time or age or division or 10k mile time in that order."
   ]
  }
 ],
 "metadata": {
  "kernelspec": {
   "display_name": "Python 3",
   "language": "python",
   "name": "python3"
  },
  "language_info": {
   "codemirror_mode": {
    "name": "ipython",
    "version": 3
   },
   "file_extension": ".py",
   "mimetype": "text/x-python",
   "name": "python",
   "nbconvert_exporter": "python",
   "pygments_lexer": "ipython3",
   "version": "3.6.2"
  }
 },
 "nbformat": 4,
 "nbformat_minor": 2
}
