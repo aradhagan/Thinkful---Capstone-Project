{
 "cells": [
  {
   "cell_type": "markdown",
   "metadata": {},
   "source": [
    "# Capstone Project"
   ]
  },
  {
   "cell_type": "markdown",
   "metadata": {},
   "source": [
    "##  Traffic Violations"
   ]
  },
  {
   "cell_type": "markdown",
   "metadata": {},
   "source": [
    "## Dataset is Open Parking and Camera Violations\n",
    "Source: NYC OpenDATA issued by City of New York.\n",
    "https://data.cityofnewyork.us/City-Government/Open-Parking-and-Camera-Violations/nc67-uf89/data"
   ]
  },
  {
   "cell_type": "markdown",
   "metadata": {},
   "source": [
    "The dataset is hosted by NYC OpenData and created on Jan 4th, 2016 and updated everyday. It was made public on 01/11/2016. The dataset used here was last updated on Dec 19, 2018. This dataset contains Open Parking and Camera Violations issued by the City of New York. The Agency that issued the dataset is Department of Finance (DOF).\n",
    "\n",
    "It has 1048575 Rows and 16 Columns."
   ]
  },
  {
   "cell_type": "code",
   "execution_count": 1,
   "metadata": {
    "collapsed": true
   },
   "outputs": [],
   "source": [
    "#importing libraries for analysing data\n",
    "import pandas as pd\n",
    "import numpy as np\n",
    "import datetime\n",
    "import calendar\n",
    "import matplotlib.pyplot as plt"
   ]
  },
  {
   "cell_type": "code",
   "execution_count": 2,
   "metadata": {
    "collapsed": true
   },
   "outputs": [],
   "source": [
    "# Reading the dataset into a dataframe\n",
    "df1=pd.read_csv(\"Open_Parking_and_Camera_Violations.csv\")"
   ]
  },
  {
   "cell_type": "code",
   "execution_count": 3,
   "metadata": {},
   "outputs": [
    {
     "name": "stdout",
     "output_type": "stream",
     "text": [
      "<class 'pandas.core.frame.DataFrame'>\n",
      "RangeIndex: 1048575 entries, 0 to 1048574\n",
      "Data columns (total 16 columns):\n",
      "Plate               1048532 non-null object\n",
      "State               1048575 non-null object\n",
      "License Type        1048575 non-null object\n",
      "Issue Date          1048575 non-null object\n",
      "Violation Time      1045001 non-null object\n",
      "Violation           1044978 non-null object\n",
      "Fine Amount         1045028 non-null float64\n",
      "Penalty Amount      1045028 non-null float64\n",
      "Interest Amount     1045028 non-null float64\n",
      "Reduction Amount    1045028 non-null float64\n",
      "Payment Amount      1045028 non-null float64\n",
      "Amount Due          1045028 non-null float64\n",
      "Precinct            1045028 non-null float64\n",
      "County              1032704 non-null object\n",
      "Issuing Agency      1045012 non-null object\n",
      "Violation Status    254512 non-null object\n",
      "dtypes: float64(7), object(9)\n",
      "memory usage: 128.0+ MB\n"
     ]
    }
   ],
   "source": [
    "df1.info()"
   ]
  },
  {
   "cell_type": "markdown",
   "metadata": {},
   "source": [
    "## Question 1: Does the time of the day or month of year or Day of the week have any effect on Violations?\n",
    "\n",
    "##                                                      OR\n",
    "                                               \n",
    "  ## Are more violations happening in the rush hours of the day?"
   ]
  },
  {
   "cell_type": "markdown",
   "metadata": {},
   "source": [
    "### Step 1: Clean the data of NaNs"
   ]
  },
  {
   "cell_type": "code",
   "execution_count": 4,
   "metadata": {},
   "outputs": [
    {
     "data": {
      "text/plain": [
       "Plate                   43\n",
       "State                    0\n",
       "License Type             0\n",
       "Issue Date               0\n",
       "Violation Time        3574\n",
       "Violation             3597\n",
       "Fine Amount           3547\n",
       "Penalty Amount        3547\n",
       "Interest Amount       3547\n",
       "Reduction Amount      3547\n",
       "Payment Amount        3547\n",
       "Amount Due            3547\n",
       "Precinct              3547\n",
       "County               15871\n",
       "Issuing Agency        3563\n",
       "Violation Status    794063\n",
       "dtype: int64"
      ]
     },
     "execution_count": 4,
     "metadata": {},
     "output_type": "execute_result"
    }
   ],
   "source": [
    "df1.isnull().sum()"
   ]
  },
  {
   "cell_type": "code",
   "execution_count": 5,
   "metadata": {
    "collapsed": true
   },
   "outputs": [],
   "source": [
    "# Converting the column name to not have spaces in between (to avoid syntax error when using without quotes)\n",
    "df1.rename(columns={'Violation Time':'Violation_Time'}, inplace=True)"
   ]
  },
  {
   "cell_type": "markdown",
   "metadata": {},
   "source": [
    "There are 3574 not null or NaN values in Violation_Time. Need to remove the records with NaN. to copy only records with non-null values to dataframe."
   ]
  },
  {
   "cell_type": "code",
   "execution_count": 6,
   "metadata": {},
   "outputs": [
    {
     "data": {
      "text/plain": [
       "Plate                   42\n",
       "State                    0\n",
       "License Type             0\n",
       "Issue Date               0\n",
       "Violation_Time           0\n",
       "Violation               28\n",
       "Fine Amount              0\n",
       "Penalty Amount           0\n",
       "Interest Amount          0\n",
       "Reduction Amount         0\n",
       "Payment Amount           0\n",
       "Amount Due               0\n",
       "Precinct                 0\n",
       "County               12299\n",
       "Issuing Agency           0\n",
       "Violation Status    790501\n",
       "dtype: int64"
      ]
     },
     "execution_count": 6,
     "metadata": {},
     "output_type": "execute_result"
    }
   ],
   "source": [
    "df1=df1[df1.Violation_Time.notnull()]\n",
    "df1.isnull().sum()"
   ]
  },
  {
   "cell_type": "markdown",
   "metadata": {},
   "source": [
    "### Step 2: Formating the 'Violation_Time' column to 24-hour date format for efficient date extractions and readability"
   ]
  },
  {
   "cell_type": "code",
   "execution_count": 7,
   "metadata": {
    "collapsed": true
   },
   "outputs": [],
   "source": [
    "# converting the values to correct format of hh:mm AM/PM instead of hh:mm A/P and dropping the\n",
    "# records which doesnt have A or P.\n",
    "list_time=[]\n",
    "list_time=df1.Violation_Time.tolist()\n",
    "new_list_time=[]\n",
    "for value in list_time:\n",
    "    if value.find('P') > -1:\n",
    "        new_list_time.append(value.replace('P', ' PM'))\n",
    "    elif value.find('A') > -1:\n",
    "        new_list_time.append(value.replace('A', ' AM'))\n",
    "    else:\n",
    "        df1.drop(df1[(df1['Violation_Time'] == value)].index, inplace=True)\n",
    "df1.reset_index(drop=True, inplace=True)           \n",
    "df1['Violation_Time']=pd.DataFrame(new_list_time)"
   ]
  },
  {
   "cell_type": "code",
   "execution_count": 8,
   "metadata": {
    "collapsed": true
   },
   "outputs": [],
   "source": [
    "# Some of the Violation_Time values have '00:xx' in the fields. Converting the '00:xx' to '12:xx'\n",
    "list_time=df1.Violation_Time.tolist()\n",
    "new_list_time=[]\n",
    "for value in list_time:    \n",
    "    if value[0:2]=='00':\n",
    "        new_list_time.append(value.replace('00', '12'))\n",
    "    else:\n",
    "        new_list_time.append(value)\n",
    "df1.reset_index(drop=True, inplace=True) \n",
    "df1['Violation_Time']=pd.DataFrame(new_list_time)"
   ]
  },
  {
   "cell_type": "markdown",
   "metadata": {},
   "source": [
    "Some typos in data entry exists...Need to correct or remove them.\n",
    "11:00  PMM,   :   PM ,   06:3. AM,   :   PM and many more...which are called ValueErrors."
   ]
  },
  {
   "cell_type": "code",
   "execution_count": 9,
   "metadata": {
    "collapsed": true
   },
   "outputs": [],
   "source": [
    "# Now getting to convert the strings in Violation_Time into datetime64 format with 24 hour format\n",
    "# This process also takes care of the ValueErrors cited above by deleting those records.\n",
    "Time_list=df1.Violation_Time.tolist()\n",
    "new_time_list=[]\n",
    "for value in Time_list:\n",
    "    try:\n",
    "        new_time_list.append(datetime.datetime.strptime(value, '%I:%M %p').time().strftime('%H:%M'))\n",
    "    except ValueError:\n",
    "        new_time_list.append(np.nan)\n",
    "\n",
    "df1[\"Violation_Time\"]=pd.DataFrame(new_time_list)\n",
    "df1=df1[df1.Violation_Time.notnull()]\n",
    "df1.reset_index(drop=True, inplace=True)"
   ]
  },
  {
   "cell_type": "code",
   "execution_count": 10,
   "metadata": {
    "collapsed": true
   },
   "outputs": [],
   "source": [
    "# Extracting the hour from the time\n",
    "#df1['Issue_Date_formatted']=pd.to_datetime(df1['Issue_Date_formatted'])\n",
    "df1['Violation_Time']=pd.to_datetime(df1['Violation_Time'])\n",
    "df1['Violation_Time_inhours']=df1['Violation_Time'].dt.hour"
   ]
  },
  {
   "cell_type": "code",
   "execution_count": 11,
   "metadata": {
    "collapsed": true
   },
   "outputs": [],
   "source": [
    "# Years from Date field are abonormally greater than last update date...any year after update year \n",
    "# needs to be dropped.\n",
    "# The month and date are greater than 12 and 31 respecitively...so need to drop these records.\n",
    "# and numerous other value errors.\n",
    "\n",
    "df2=pd.read_csv(\"Open_Parking_and_Camera_Violations.csv\")\n",
    "\n",
    "df2.rename(columns={'Issue Date':'Issue_Date'}, inplace=True)\n",
    "df2=df2[df2.Issue_Date.notnull()]\n",
    "date_list=df2.Issue_Date.tolist()\n",
    "new_date_list=[]\n",
    "for value in date_list:\n",
    "    try:\n",
    "        new_date_list.append(datetime.datetime.strptime(value, '%m/%d/%Y').date().strftime('%m/%d/%Y'))\n",
    "    except ValueError:\n",
    "        new_date_list.append(np.nan)\n",
    "\n",
    "df2[\"Issue_Date\"]=pd.DataFrame(new_date_list)\n",
    "df2=df2[df2.Issue_Date.notnull()]\n",
    "df2.reset_index(drop=True, inplace=True)"
   ]
  },
  {
   "cell_type": "code",
   "execution_count": 12,
   "metadata": {
    "collapsed": true
   },
   "outputs": [],
   "source": [
    "# Converting to datetime64 format\n",
    "df2['Issue_Date']=pd.to_datetime(df2['Issue_Date'])\n",
    "#  Extracting day of the week from the date and creating a new column\n",
    "df2['Issue_date_dayofweek']=df2['Issue_Date'].dt.weekday_name\n",
    "#  Extracting month of the year from the date and creating a new column\n",
    "df2['Issue_date_month']=df2['Issue_Date'].dt.month\n",
    "df2.reset_index(drop=True, inplace=True)"
   ]
  },
  {
   "cell_type": "code",
   "execution_count": 13,
   "metadata": {
    "collapsed": true
   },
   "outputs": [],
   "source": [
    "# Dropping records which have date later than the last updated date.\n",
    "df2.drop(df2[(df2['Issue_Date'] > pd.to_datetime('12/19/2018'))].index, inplace=True)"
   ]
  },
  {
   "cell_type": "markdown",
   "metadata": {},
   "source": [
    "### Step 3: Now plotting the desired analysis in Matplotlib using bar charts"
   ]
  },
  {
   "cell_type": "code",
   "execution_count": 14,
   "metadata": {},
   "outputs": [
    {
     "data": {
      "image/png": "[encoded data removed]",
      "text/plain": [
       "<Figure size 1224x864 with 2 Axes>"
      ]
     },
     "metadata": {},
     "output_type": "display_data"
    },
    {
     "data": {
      "image/png": "[encoded data removed]",
      "text/plain": [
       "<Figure size 1224x864 with 1 Axes>"
      ]
     },
     "metadata": {},
     "output_type": "display_data"
    }
   ],
   "source": [
    "# Now plotting the desired analysis\n",
    "plt.figure (figsize=(17,12))\n",
    "plt.rcParams.update({'font.size': 14})\n",
    "\n",
    "plt.subplot(2,1,1)\n",
    "\n",
    "plt.bar(np.arange(1,25), df1.Violation_Time_inhours.value_counts().sort_index(), color='black' )\n",
    "plt.xticks(df1.Violation_Time_inhours.unique() )\n",
    "plt.xlabel(\"Time in 24-hour format  \")\n",
    "plt.ylabel(\"No. of Violations\")\n",
    "plt.title(\"Hour of the day VS No. of Violations\")\n",
    "\n",
    "\n",
    "plt.subplot(2,1,2)\n",
    "D=df2.Issue_date_dayofweek.value_counts().to_dict()\n",
    "plt.bar(np.arange(1, 8), [D[value] for value in list(calendar.day_name)], color='black')\n",
    "plt.xticks(np.arange(1, 8), list(calendar.day_name))\n",
    "plt.xlabel(\"Days of the week\")\n",
    "plt.ylabel(\"No. of Violations\")\n",
    "plt.title(\"Day of the week VS No. of Violations\")\n",
    "\n",
    "\n",
    "plt.figure (figsize=(17,12))\n",
    "x=list(calendar.month_name)\n",
    "x.pop(0)\n",
    "plt.bar(np.arange(1, 13), df2.Issue_date_month.value_counts().sort_index(), color='black')\n",
    "plt.xticks(np.arange(1, 13), x )\n",
    "plt.xlabel(\"Month of the year\")\n",
    "plt.ylabel(\"No. of Violations\")\n",
    "plt.title(\"Month of the year VS No. of Violations\")\n",
    "\n",
    "plt.show()"
   ]
  },
  {
   "cell_type": "markdown",
   "metadata": {},
   "source": [
    "## Question 2: How far are the Viotions given by the Law enforcement officer really lawful from the cases that came to the court?\n",
    "\n",
    "##       a) Say, If you are given a ticket or Violation, what is the probabiltiy that you will be not be guilty if appealed to court?\n",
    "\n",
    "##        b) How far are the amount of fees charged by Officer really correct from the cases that came to the court ?"
   ]
  },
  {
   "cell_type": "markdown",
   "metadata": {},
   "source": [
    "### To Answer this question\n",
    "\n",
    "### Step 1: We need to identify how many cases came to the court and hearing has been held. "
   ]
  },
  {
   "cell_type": "code",
   "execution_count": 15,
   "metadata": {
    "collapsed": true
   },
   "outputs": [],
   "source": [
    "df3=pd.read_csv(\"Open_Parking_and_Camera_Violations.csv\")"
   ]
  },
  {
   "cell_type": "code",
   "execution_count": 16,
   "metadata": {},
   "outputs": [
    {
     "data": {
      "text/html": [
       "<div>\n",
       "<style scoped>\n",
       "    .dataframe tbody tr th:only-of-type {\n",
       "        vertical-align: middle;\n",
       "    }\n",
       "\n",
       "    .dataframe tbody tr th {\n",
       "        vertical-align: top;\n",
       "    }\n",
       "\n",
       "    .dataframe thead th {\n",
       "        text-align: right;\n",
       "    }\n",
       "</style>\n",
       "<table border=\"1\" class=\"dataframe\">\n",
       "  <thead>\n",
       "    <tr style=\"text-align: right;\">\n",
       "      <th></th>\n",
       "      <th>Plate</th>\n",
       "      <th>State</th>\n",
       "      <th>License Type</th>\n",
       "      <th>Issue Date</th>\n",
       "      <th>Violation Time</th>\n",
       "      <th>Violation</th>\n",
       "      <th>Fine Amount</th>\n",
       "      <th>Penalty Amount</th>\n",
       "      <th>Interest Amount</th>\n",
       "      <th>Reduction Amount</th>\n",
       "      <th>Payment Amount</th>\n",
       "      <th>Amount Due</th>\n",
       "      <th>Precinct</th>\n",
       "      <th>County</th>\n",
       "      <th>Issuing Agency</th>\n",
       "      <th>Violation Status</th>\n",
       "    </tr>\n",
       "  </thead>\n",
       "  <tbody>\n",
       "    <tr>\n",
       "      <th>0</th>\n",
       "      <td>AH66926</td>\n",
       "      <td>AZ</td>\n",
       "      <td>PAS</td>\n",
       "      <td>8/24/2018</td>\n",
       "      <td>02:45P</td>\n",
       "      <td>NO STANDING-EXC. AUTH. VEHICLE</td>\n",
       "      <td>95.0</td>\n",
       "      <td>0.0</td>\n",
       "      <td>0.00</td>\n",
       "      <td>0.0</td>\n",
       "      <td>95.0</td>\n",
       "      <td>0.00</td>\n",
       "      <td>20.0</td>\n",
       "      <td>NY</td>\n",
       "      <td>TRAFFIC</td>\n",
       "      <td>NaN</td>\n",
       "    </tr>\n",
       "    <tr>\n",
       "      <th>1</th>\n",
       "      <td>GCF8736</td>\n",
       "      <td>NY</td>\n",
       "      <td>PAS</td>\n",
       "      <td>8/24/2018</td>\n",
       "      <td>03:53P</td>\n",
       "      <td>NO STANDING-EXC. TRUCK LOADING</td>\n",
       "      <td>95.0</td>\n",
       "      <td>0.0</td>\n",
       "      <td>0.00</td>\n",
       "      <td>0.0</td>\n",
       "      <td>95.0</td>\n",
       "      <td>0.00</td>\n",
       "      <td>20.0</td>\n",
       "      <td>NY</td>\n",
       "      <td>TRAFFIC</td>\n",
       "      <td>NaN</td>\n",
       "    </tr>\n",
       "    <tr>\n",
       "      <th>2</th>\n",
       "      <td>8BE0823</td>\n",
       "      <td>MD</td>\n",
       "      <td>PAS</td>\n",
       "      <td>11/8/2014</td>\n",
       "      <td>03:46P</td>\n",
       "      <td>NO STANDING-COMM METER ZONE</td>\n",
       "      <td>115.0</td>\n",
       "      <td>60.0</td>\n",
       "      <td>59.25</td>\n",
       "      <td>0.0</td>\n",
       "      <td>0.0</td>\n",
       "      <td>234.25</td>\n",
       "      <td>14.0</td>\n",
       "      <td>NY</td>\n",
       "      <td>POLICE DEPARTMENT</td>\n",
       "      <td>NaN</td>\n",
       "    </tr>\n",
       "    <tr>\n",
       "      <th>3</th>\n",
       "      <td>GRD6399</td>\n",
       "      <td>NY</td>\n",
       "      <td>OMS</td>\n",
       "      <td>1/10/2015</td>\n",
       "      <td>04:50P</td>\n",
       "      <td>NO STANDING-COMM METER ZONE</td>\n",
       "      <td>115.0</td>\n",
       "      <td>60.0</td>\n",
       "      <td>56.19</td>\n",
       "      <td>0.0</td>\n",
       "      <td>0.0</td>\n",
       "      <td>231.19</td>\n",
       "      <td>14.0</td>\n",
       "      <td>NY</td>\n",
       "      <td>POLICE DEPARTMENT</td>\n",
       "      <td>NaN</td>\n",
       "    </tr>\n",
       "    <tr>\n",
       "      <th>4</th>\n",
       "      <td>JLW8105</td>\n",
       "      <td>PA</td>\n",
       "      <td>PAS</td>\n",
       "      <td>8/18/2015</td>\n",
       "      <td>02:30P</td>\n",
       "      <td>NO STANDING-COMM METER ZONE</td>\n",
       "      <td>115.0</td>\n",
       "      <td>60.0</td>\n",
       "      <td>47.19</td>\n",
       "      <td>0.0</td>\n",
       "      <td>0.0</td>\n",
       "      <td>222.19</td>\n",
       "      <td>14.0</td>\n",
       "      <td>NaN</td>\n",
       "      <td>POLICE DEPARTMENT</td>\n",
       "      <td>NaN</td>\n",
       "    </tr>\n",
       "  </tbody>\n",
       "</table>\n",
       "</div>"
      ],
      "text/plain": [
       "     Plate State License Type Issue Date Violation Time  \\\n",
       "0  AH66926    AZ          PAS  8/24/2018         02:45P   \n",
       "1  GCF8736    NY          PAS  8/24/2018         03:53P   \n",
       "2  8BE0823    MD          PAS  11/8/2014         03:46P   \n",
       "3  GRD6399    NY          OMS  1/10/2015         04:50P   \n",
       "4  JLW8105    PA          PAS  8/18/2015         02:30P   \n",
       "\n",
       "                        Violation  Fine Amount  Penalty Amount  \\\n",
       "0  NO STANDING-EXC. AUTH. VEHICLE         95.0             0.0   \n",
       "1  NO STANDING-EXC. TRUCK LOADING         95.0             0.0   \n",
       "2     NO STANDING-COMM METER ZONE        115.0            60.0   \n",
       "3     NO STANDING-COMM METER ZONE        115.0            60.0   \n",
       "4     NO STANDING-COMM METER ZONE        115.0            60.0   \n",
       "\n",
       "   Interest Amount  Reduction Amount  Payment Amount  Amount Due  Precinct  \\\n",
       "0             0.00               0.0            95.0        0.00      20.0   \n",
       "1             0.00               0.0            95.0        0.00      20.0   \n",
       "2            59.25               0.0             0.0      234.25      14.0   \n",
       "3            56.19               0.0             0.0      231.19      14.0   \n",
       "4            47.19               0.0             0.0      222.19      14.0   \n",
       "\n",
       "  County     Issuing Agency Violation Status  \n",
       "0     NY            TRAFFIC              NaN  \n",
       "1     NY            TRAFFIC              NaN  \n",
       "2     NY  POLICE DEPARTMENT              NaN  \n",
       "3     NY  POLICE DEPARTMENT              NaN  \n",
       "4    NaN  POLICE DEPARTMENT              NaN  "
      ]
     },
     "execution_count": 16,
     "metadata": {},
     "output_type": "execute_result"
    }
   ],
   "source": [
    "df3.head()"
   ]
  },
  {
   "cell_type": "code",
   "execution_count": 17,
   "metadata": {
    "collapsed": true
   },
   "outputs": [],
   "source": [
    "# Renaming the column names to avoid syntax errors with a space inbetween\n",
    "df3.rename(columns={'Violation Status':'Violation_Status'}, inplace=True)"
   ]
  },
  {
   "cell_type": "code",
   "execution_count": 18,
   "metadata": {},
   "outputs": [
    {
     "data": {
      "text/plain": [
       "array([nan, 'HEARING HELD-NOT GUILTY', 'HEARING HELD-GUILTY',\n",
       "       'APPEAL REVERSED', 'HEARING HELD-GUILTY REDUCTION',\n",
       "       'HEARING ADJOURNMENT', 'HEARING PENDING', 'APPEAL AFFIRMED',\n",
       "       'APPEAL ABANDONED', 'ADMIN CLAIM GRANTED', 'ADMIN REDUCTION',\n",
       "       'ADMIN CLAIM DENIED', 'HEARING HELD-REINSTATEMENT',\n",
       "       'APPEAL MODIFIED', 'APPEAL REMANDED'], dtype=object)"
      ]
     },
     "execution_count": 18,
     "metadata": {},
     "output_type": "execute_result"
    }
   ],
   "source": [
    "df3.Violation_Status.unique()"
   ]
  },
  {
   "cell_type": "code",
   "execution_count": 19,
   "metadata": {},
   "outputs": [
    {
     "data": {
      "text/plain": [
       "HEARING HELD-GUILTY              100786\n",
       "HEARING HELD-GUILTY REDUCTION     64950\n",
       "HEARING HELD-NOT GUILTY           61565\n",
       "HEARING PENDING                   19012\n",
       "HEARING ADJOURNMENT                3158\n",
       "Name: Violation_Status, dtype: int64"
      ]
     },
     "execution_count": 19,
     "metadata": {},
     "output_type": "execute_result"
    }
   ],
   "source": [
    "df3['Violation_Status'].value_counts().head()"
   ]
  },
  {
   "cell_type": "markdown",
   "metadata": {},
   "source": [
    "Therefore, Cases that came to court are the ones where Hearing is held i.e. the first three above.. 100786 + 64950 +61565 = 227301."
   ]
  },
  {
   "cell_type": "markdown",
   "metadata": {},
   "source": [
    "### Step 2: We need to calculate how many are not guilty which will give a percentage of Violations that are not really lawful or incorrectly charged."
   ]
  },
  {
   "cell_type": "markdown",
   "metadata": {},
   "source": [
    "Of these number of cases that came to court, 100786 are \"guilty\" or lawful. i.e 100786/227301 = 44% "
   ]
  },
  {
   "cell_type": "markdown",
   "metadata": {},
   "source": [
    "In other words the if you are given a ticket or Violation, the probabiltiy that you will be not be guilty if appealed to court is 56% (100-44%) or 0.56 chance of not being guilty."
   ]
  },
  {
   "cell_type": "markdown",
   "metadata": {},
   "source": [
    "## b) How far are the amount of fees charged by Officer correctly charged based on the cases that were charged a fine amount for the violation ?\n",
    "\n",
    "To answer this question, we need to find the percentage of cases where the reduction of fees is zero out of the cases where there was a charge."
   ]
  },
  {
   "cell_type": "markdown",
   "metadata": {},
   "source": [
    "### Step 1: Find the number of non-null cases where there is a charge or the Fine amount is greater than 0"
   ]
  },
  {
   "cell_type": "code",
   "execution_count": 20,
   "metadata": {
    "collapsed": true
   },
   "outputs": [],
   "source": [
    "df3.rename(columns={'Fine Amount':'Fine_Amount'}, inplace=True)\n",
    "df3.rename(columns={'Reduction Amount':'Reduction_Amount'}, inplace=True)\n",
    "df3=df3[df3.Fine_Amount.notnull()]"
   ]
  },
  {
   "cell_type": "code",
   "execution_count": 21,
   "metadata": {},
   "outputs": [
    {
     "data": {
      "text/plain": [
       "1045012"
      ]
     },
     "execution_count": 21,
     "metadata": {},
     "output_type": "execute_result"
    }
   ],
   "source": [
    "FA=df3[df3['Fine_Amount'] > 0]\n",
    "len(FA) #1045012"
   ]
  },
  {
   "cell_type": "markdown",
   "metadata": {},
   "source": [
    "### Step 2: From those cases find the number of cases where the charge was correct i.e where the reduction amount was zero."
   ]
  },
  {
   "cell_type": "code",
   "execution_count": 22,
   "metadata": {},
   "outputs": [
    {
     "data": {
      "text/plain": [
       "180662"
      ]
     },
     "execution_count": 22,
     "metadata": {},
     "output_type": "execute_result"
    }
   ],
   "source": [
    "FA[FA['Reduction_Amount'] == 0].Reduction_Amount.value_counts() #864350 is charge correct\n",
    "FA[FA['Reduction_Amount'] > 0].Reduction_Amount.value_counts().sum() #180662 is charge incorrect"
   ]
  },
  {
   "cell_type": "markdown",
   "metadata": {},
   "source": [
    "There fore, out of 1045012 cases where there is a charge, 864350 cases the charge was reduced.\n",
    "i.e . 82.7% of the time the charges levied are appropriate."
   ]
  },
  {
   "cell_type": "markdown",
   "metadata": {},
   "source": [
    "## Question 3:  Which county has the highest number of Violations and does the number of Violations correlate with the population/Number of vehicles in those counties ?\n",
    "\n",
    "### To answer this question need to find the number of Violations according to the County.\n",
    "#### The numbers then need to be normalized to the total number of vehicles  in each county of NY. However, it was hard to find that data in public datasets. Closest data I found was Population and Area of each county."
   ]
  },
  {
   "cell_type": "code",
   "execution_count": 23,
   "metadata": {
    "collapsed": true
   },
   "outputs": [],
   "source": [
    "df4=pd.read_csv(\"Open_Parking_and_Camera_Violations.csv\")"
   ]
  },
  {
   "cell_type": "code",
   "execution_count": 24,
   "metadata": {
    "collapsed": true
   },
   "outputs": [],
   "source": [
    "# Abbreviations from Wikipedia\n",
    "D_abbr={'BX':'Bronx', 'NY':'New York', 'Q':'Queens', 'K':'Kings', 'R':'Richmond',\n",
    "        'BK':'Broome', 'QN':'Unknown ', 'MN':'Monroe', 'ST':'St.Lawrence' }\n",
    "# 2010 Populations from Wikipedia\n",
    "D_popul={'BX':1385108, 'NY':1585873, 'Q':2230722, 'K':2504700, 'R':468730,\n",
    "        'BK':200600, 'QN': 0, 'MN':744344, 'ST':111944 }\n",
    "# Area in Sq.miles from Wikipedia\n",
    "D_area={'BX':57.43, 'NY':33.77, 'Q':178.28, 'K':96.9, 'R':102.5,\n",
    "        'BK':715, 'QN':' ', 'MN':1366, 'ST':2821 }\n",
    "# Wikipedia source: https://en.wikipedia.org/wiki/List_of_counties_in_New_York_(state) "
   ]
  },
  {
   "cell_type": "code",
   "execution_count": 35,
   "metadata": {},
   "outputs": [
    {
     "data": {
      "text/plain": [
       "New York       130355\n",
       "Queens          47702\n",
       "Kings           47350\n",
       "Bronx           22705\n",
       "Richmond         2710\n",
       "Broome           1250\n",
       "Unknown           902\n",
       "Monroe            266\n",
       "St.Lawrence       122\n",
       "Name: County, dtype: int64"
      ]
     },
     "execution_count": 35,
     "metadata": {},
     "output_type": "execute_result"
    }
   ],
   "source": [
    "# County-wise Violations\n",
    "# To lable the counties in full expanded form wrote the following code takeing the abbreviations data from the dictionary\n",
    "# created above.\n",
    "county_series=df4.County.value_counts()\n",
    "new_list1=[]\n",
    "for value in county_series.index:\n",
    "    new_list1.append(D_abbr[value])\n",
    "county_series.index=new_list1\n",
    "county_series"
   ]
  },
  {
   "cell_type": "code",
   "execution_count": 36,
   "metadata": {
    "scrolled": true
   },
   "outputs": [
    {
     "data": {
      "image/png": "[encoded data removed]",
      "text/plain": [
       "<Figure size 432x432 with 1 Axes>"
      ]
     },
     "metadata": {},
     "output_type": "display_data"
    }
   ],
   "source": [
    "# Depiction of the above data as a pie chart\n",
    "plt.figure(figsize=(6,6))\n",
    "\n",
    "plt.pie (county_series.head(), labels=['New York','Queens','Kings','Bronx','Others'],  explode= (.1,.1,.1,.1,.1),\n",
    "         shadow=True, startangle=90, autopct='%1.0f%%')\n",
    "plt.show()"
   ]
  },
  {
   "cell_type": "code",
   "execution_count": 27,
   "metadata": {
    "collapsed": true
   },
   "outputs": [],
   "source": [
    "popul=pd.DataFrame.from_dict(D_popul, orient='index', columns=['Population'])\n",
    "area=pd.DataFrame.from_dict(D_popul, orient='index', columns=['Area'])"
   ]
  },
  {
   "cell_type": "code",
   "execution_count": 28,
   "metadata": {},
   "outputs": [
    {
     "data": {
      "image/png": "[encoded data removed]",
      "text/plain": [
       "<Figure size 1224x360 with 2 Axes>"
      ]
     },
     "metadata": {},
     "output_type": "display_data"
    }
   ],
   "source": [
    "plt.figure(figsize=(17,5))\n",
    "plt.rcParams.update({'font.size': 12})\n",
    "\n",
    "plt.subplot(1,2,1)\n",
    "plt.scatter(x=county_series, y=popul, color='red')\n",
    "plt.xlabel('Violations of 9 counties')\n",
    "plt.ylabel('Population of 9 counties')\n",
    "plt.title('Correlation of Violations vs Population')\n",
    "\n",
    "plt.subplot(1,2,2)\n",
    "plt.scatter(x=county_series, y=area, color='green')\n",
    "plt.xlabel('Violations of 9 counties')\n",
    "plt.ylabel('Area(Sq.Miles) of 9 counties')\n",
    "plt.title('Correlation of Violations vs Area')\n",
    "plt.show()"
   ]
  },
  {
   "cell_type": "markdown",
   "metadata": {},
   "source": [
    "If there is correlation between x and y there should a linear line formation. There appears to be no correlation between Violation counts from the 9 counties and Population or Area. Therefore, Violations is not dependant on the population or area of this State NY.\n",
    "\n",
    "Since more than 50% of the Violations are happening in the NewYork county it can recommended to the NYPD to add more resources to check the violations.\n",
    "\n",
    "Justed wanted to check if population and area of these counties are correlated plotted them versus each other."
   ]
  },
  {
   "cell_type": "code",
   "execution_count": 29,
   "metadata": {},
   "outputs": [
    {
     "data": {
      "image/png": "[encoded data removed]",
      "text/plain": [
       "<Figure size 432x288 with 1 Axes>"
      ]
     },
     "metadata": {},
     "output_type": "display_data"
    }
   ],
   "source": [
    "# Correlation between Population and area of 9 counties in NY state.\n",
    "plt.scatter(x=popul, y=area, color='blue')\n",
    "plt.xlabel('Population of 9 counties')\n",
    "plt.ylabel('Area(Sq.Miles) of 9 counties')\n",
    "plt.title('Correlation of Area vs Population')\n",
    "plt.show()"
   ]
  },
  {
   "cell_type": "markdown",
   "metadata": {},
   "source": [
    "The population and area are positively correlated here for the 9 counties in NY state."
   ]
  },
  {
   "cell_type": "markdown",
   "metadata": {},
   "source": [
    "## Question 4: Of all the cases appealed to the court, what is the category of violations\n",
    "\n",
    "\n",
    "##        a) that have appealed to the court, the highest ?\n",
    "\n",
    "##        b) that have the highest cases of not guilty?"
   ]
  },
  {
   "cell_type": "markdown",
   "metadata": {},
   "source": [
    "### a) To answer this question \n",
    "\n",
    "### First, we need to find the Violation cases that have appealed to the court\n",
    "\n",
    " This we can do by simply considering the non-null records of Violation Status which indicates that a hearing is held i.e 'HEARING HELD'"
   ]
  },
  {
   "cell_type": "code",
   "execution_count": 30,
   "metadata": {
    "scrolled": true
   },
   "outputs": [
    {
     "data": {
      "text/plain": [
       "array([nan, 'HEARING HELD-NOT GUILTY', 'HEARING HELD-GUILTY',\n",
       "       'APPEAL REVERSED', 'HEARING HELD-GUILTY REDUCTION',\n",
       "       'HEARING ADJOURNMENT', 'HEARING PENDING', 'APPEAL AFFIRMED',\n",
       "       'APPEAL ABANDONED', 'ADMIN CLAIM GRANTED', 'ADMIN REDUCTION',\n",
       "       'ADMIN CLAIM DENIED', 'HEARING HELD-REINSTATEMENT',\n",
       "       'APPEAL MODIFIED', 'APPEAL REMANDED'], dtype=object)"
      ]
     },
     "execution_count": 30,
     "metadata": {},
     "output_type": "execute_result"
    }
   ],
   "source": [
    "df4.rename(columns={'Violation Status':'Violation_Status'}, inplace=True)\n",
    "df4.Violation_Status.unique()"
   ]
  },
  {
   "cell_type": "code",
   "execution_count": 31,
   "metadata": {
    "collapsed": true
   },
   "outputs": [],
   "source": [
    "df4=df4[df4.Violation_Status.notnull()]\n",
    "group=df4[(df4['Violation_Status']=='HEARING HELD-NOT GUILTY') | (df4['Violation_Status']== 'HEARING HELD-GUILTY')\n",
    "    |  (df4['Violation_Status']== 'HEARING HELD-GUILTY REDUCTION')]"
   ]
  },
  {
   "cell_type": "markdown",
   "metadata": {},
   "source": [
    "### Second, we need to check the categories of Violations and see from the cases that appealed is there any category which has the highest number of appeals."
   ]
  },
  {
   "cell_type": "code",
   "execution_count": 32,
   "metadata": {},
   "outputs": [
    {
     "data": {
      "text/plain": [
       "NO STANDING-DAY/TIME LIMITS       34477\n",
       "FAIL TO DSPLY MUNI METER RECPT    32815\n",
       "NO PARKING-STREET CLEANING        16356\n",
       "DOUBLE PARKING                    14850\n",
       "NO PARKING-DAY/TIME LIMITS        13290\n",
       "Name: Violation, dtype: int64"
      ]
     },
     "execution_count": 32,
     "metadata": {},
     "output_type": "execute_result"
    }
   ],
   "source": [
    "group.Violation.value_counts().head()"
   ]
  },
  {
   "cell_type": "markdown",
   "metadata": {},
   "source": [
    "'NO STANDING-DAY/TIME LIMITS'  is the cateogory which has the highest number of appeals to the court."
   ]
  },
  {
   "cell_type": "markdown",
   "metadata": {},
   "source": [
    "## b) What is the category of  violations that have the highest cases of not guilty?\n",
    "\n",
    "### To answer this question \n",
    "\n",
    "\n",
    "### We need to take all the cases of not guilty and see which category is highest."
   ]
  },
  {
   "cell_type": "code",
   "execution_count": 33,
   "metadata": {},
   "outputs": [
    {
     "data": {
      "text/plain": [
       "FAIL TO DSPLY MUNI METER RECPT    14453\n",
       "DOUBLE PARKING                     7828\n",
       "NO PARKING-DAY/TIME LIMITS         6165\n",
       "NO STANDING-DAY/TIME LIMITS        5026\n",
       "NO PARKING-STREET CLEANING         4023\n",
       "Name: Violation, dtype: int64"
      ]
     },
     "execution_count": 33,
     "metadata": {},
     "output_type": "execute_result"
    }
   ],
   "source": [
    "df4[df4.Violation_Status == 'HEARING HELD-NOT GUILTY'].Violation.value_counts().head()"
   ]
  },
  {
   "cell_type": "code",
   "execution_count": 34,
   "metadata": {},
   "outputs": [
    {
     "data": {
      "text/plain": [
       "NO STANDING-DAY/TIME LIMITS       12764\n",
       "NO PARKING-STREET CLEANING        11790\n",
       "FAIL TO DSPLY MUNI METER RECPT     8094\n",
       "INSP. STICKER-EXPIRED/MISSING      7838\n",
       "FIRE HYDRANT                       7629\n",
       "Name: Violation, dtype: int64"
      ]
     },
     "execution_count": 34,
     "metadata": {},
     "output_type": "execute_result"
    }
   ],
   "source": [
    "df4[df4.Violation_Status == 'HEARING HELD-GUILTY'].Violation.value_counts().head()"
   ]
  },
  {
   "cell_type": "markdown",
   "metadata": {},
   "source": [
    "There fore, looking at the above result, we can conclude that the \"FAIL TO DSPLY MUNI METER RECPT\" category has the highest number of 'not guilty' cases i.e. 14453.\n",
    "\n",
    "Also, the number of guilty cases in the same category are 8094. i.e out of a total of 22547 cases where hearing was held for this category 14453 cases were 'not guilty' i.e a 64% of cases are not guitly.\n",
    "\n",
    "This shows that charging people with this Violation there is a lot of ambiguity and the law enforcement officers need to be more judicious when booking the charge."
   ]
  },
  {
   "cell_type": "markdown",
   "metadata": {},
   "source": [
    "## RESEARCH PROPOSAL"
   ]
  },
  {
   "cell_type": "markdown",
   "metadata": {},
   "source": [
    "When a person is  ticketted and he feels he is not guilty, then it will be highly benfeficial for a person to know his chances of getting proven not guilty before deciding to appeal to the court."
   ]
  },
  {
   "cell_type": "markdown",
   "metadata": {},
   "source": [
    "To answer this question,  first one needs to calculate what are the chances of guilty or not guilty for all the major categories, based on the past/existing data."
   ]
  },
  {
   "cell_type": "markdown",
   "metadata": {},
   "source": [
    "Then, using a prediction model, one needs to train the model using the existing data and then predict the chances of not guilty based on a cateogory."
   ]
  }
 ],
 "metadata": {
  "kernelspec": {
   "display_name": "Python 3",
   "language": "python",
   "name": "python3"
  },
  "language_info": {
   "codemirror_mode": {
    "name": "ipython",
    "version": 3
   },
   "file_extension": ".py",
   "mimetype": "text/x-python",
   "name": "python",
   "nbconvert_exporter": "python",
   "pygments_lexer": "ipython3",
   "version": "3.7.1"
  }
 },
 "nbformat": 4,
 "nbformat_minor": 2
}
