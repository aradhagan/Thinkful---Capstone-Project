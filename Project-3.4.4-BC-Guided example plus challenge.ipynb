{
 "cells": [
  {
   "cell_type": "code",
   "execution_count": 6,
   "metadata": {
    "collapsed": true
   },
   "outputs": [],
   "source": [
    "import numpy as np\n",
    "import pandas as pd\n",
    "import scipy\n",
    "import seaborn as sns\n",
    "import matplotlib.pyplot as plt\n",
    "import seaborn as sns\n",
    "from sklearn.svm import SVR\n",
    "from sklearn.svm import SVC\n",
    "from sklearn.decomposition import PCA\n",
    "from sklearn.model_selection import cross_val_score\n",
    "from sklearn.feature_selection import RFE\n",
    "from sklearn.feature_selection import RFECV\n",
    "from sklearn.feature_selection import SelectKBest\n",
    "from sklearn.feature_selection import chi2\n",
    "%matplotlib inline"
   ]
  },
  {
   "cell_type": "code",
   "execution_count": 7,
   "metadata": {},
   "outputs": [
    {
     "data": {
      "text/html": [
       "<div>\n",
       "<style>\n",
       "    .dataframe thead tr:only-child th {\n",
       "        text-align: right;\n",
       "    }\n",
       "\n",
       "    .dataframe thead th {\n",
       "        text-align: left;\n",
       "    }\n",
       "\n",
       "    .dataframe tbody tr th {\n",
       "        vertical-align: top;\n",
       "    }\n",
       "</style>\n",
       "<table border=\"1\" class=\"dataframe\">\n",
       "  <thead>\n",
       "    <tr style=\"text-align: right;\">\n",
       "      <th></th>\n",
       "      <th>title</th>\n",
       "      <th>rating</th>\n",
       "      <th>#cakeweek</th>\n",
       "      <th>#wasteless</th>\n",
       "      <th>22-minute meals</th>\n",
       "      <th>3-ingredient recipes</th>\n",
       "      <th>30 days of groceries</th>\n",
       "      <th>advance prep required</th>\n",
       "      <th>alabama</th>\n",
       "      <th>alaska</th>\n",
       "      <th>...</th>\n",
       "      <th>yellow squash</th>\n",
       "      <th>yogurt</th>\n",
       "      <th>yonkers</th>\n",
       "      <th>yuca</th>\n",
       "      <th>zucchini</th>\n",
       "      <th>cookbooks</th>\n",
       "      <th>leftovers</th>\n",
       "      <th>snack</th>\n",
       "      <th>snack week</th>\n",
       "      <th>turkey</th>\n",
       "    </tr>\n",
       "  </thead>\n",
       "  <tbody>\n",
       "    <tr>\n",
       "      <th>0</th>\n",
       "      <td>Lentil, Apple, and Turkey Wrap</td>\n",
       "      <td>2.500</td>\n",
       "      <td>0.0</td>\n",
       "      <td>0.0</td>\n",
       "      <td>0.0</td>\n",
       "      <td>0.0</td>\n",
       "      <td>0.0</td>\n",
       "      <td>0.0</td>\n",
       "      <td>0.0</td>\n",
       "      <td>0.0</td>\n",
       "      <td>...</td>\n",
       "      <td>0.0</td>\n",
       "      <td>0.0</td>\n",
       "      <td>0.0</td>\n",
       "      <td>0.0</td>\n",
       "      <td>0.0</td>\n",
       "      <td>0.0</td>\n",
       "      <td>0.0</td>\n",
       "      <td>0.0</td>\n",
       "      <td>0.0</td>\n",
       "      <td>1.0</td>\n",
       "    </tr>\n",
       "    <tr>\n",
       "      <th>1</th>\n",
       "      <td>Boudin Blanc Terrine with Red Onion Confit</td>\n",
       "      <td>4.375</td>\n",
       "      <td>0.0</td>\n",
       "      <td>0.0</td>\n",
       "      <td>0.0</td>\n",
       "      <td>0.0</td>\n",
       "      <td>0.0</td>\n",
       "      <td>0.0</td>\n",
       "      <td>0.0</td>\n",
       "      <td>0.0</td>\n",
       "      <td>...</td>\n",
       "      <td>0.0</td>\n",
       "      <td>0.0</td>\n",
       "      <td>0.0</td>\n",
       "      <td>0.0</td>\n",
       "      <td>0.0</td>\n",
       "      <td>0.0</td>\n",
       "      <td>0.0</td>\n",
       "      <td>0.0</td>\n",
       "      <td>0.0</td>\n",
       "      <td>0.0</td>\n",
       "    </tr>\n",
       "    <tr>\n",
       "      <th>2</th>\n",
       "      <td>Potato and Fennel Soup Hodge</td>\n",
       "      <td>3.750</td>\n",
       "      <td>0.0</td>\n",
       "      <td>0.0</td>\n",
       "      <td>0.0</td>\n",
       "      <td>0.0</td>\n",
       "      <td>0.0</td>\n",
       "      <td>0.0</td>\n",
       "      <td>0.0</td>\n",
       "      <td>0.0</td>\n",
       "      <td>...</td>\n",
       "      <td>0.0</td>\n",
       "      <td>0.0</td>\n",
       "      <td>0.0</td>\n",
       "      <td>0.0</td>\n",
       "      <td>0.0</td>\n",
       "      <td>0.0</td>\n",
       "      <td>0.0</td>\n",
       "      <td>0.0</td>\n",
       "      <td>0.0</td>\n",
       "      <td>0.0</td>\n",
       "    </tr>\n",
       "    <tr>\n",
       "      <th>3</th>\n",
       "      <td>Mahi-Mahi in Tomato Olive Sauce</td>\n",
       "      <td>5.000</td>\n",
       "      <td>0.0</td>\n",
       "      <td>0.0</td>\n",
       "      <td>0.0</td>\n",
       "      <td>0.0</td>\n",
       "      <td>0.0</td>\n",
       "      <td>0.0</td>\n",
       "      <td>0.0</td>\n",
       "      <td>0.0</td>\n",
       "      <td>...</td>\n",
       "      <td>0.0</td>\n",
       "      <td>0.0</td>\n",
       "      <td>0.0</td>\n",
       "      <td>0.0</td>\n",
       "      <td>0.0</td>\n",
       "      <td>0.0</td>\n",
       "      <td>0.0</td>\n",
       "      <td>0.0</td>\n",
       "      <td>0.0</td>\n",
       "      <td>0.0</td>\n",
       "    </tr>\n",
       "    <tr>\n",
       "      <th>4</th>\n",
       "      <td>Spinach Noodle Casserole</td>\n",
       "      <td>3.125</td>\n",
       "      <td>0.0</td>\n",
       "      <td>0.0</td>\n",
       "      <td>0.0</td>\n",
       "      <td>0.0</td>\n",
       "      <td>0.0</td>\n",
       "      <td>0.0</td>\n",
       "      <td>0.0</td>\n",
       "      <td>0.0</td>\n",
       "      <td>...</td>\n",
       "      <td>0.0</td>\n",
       "      <td>0.0</td>\n",
       "      <td>0.0</td>\n",
       "      <td>0.0</td>\n",
       "      <td>0.0</td>\n",
       "      <td>0.0</td>\n",
       "      <td>0.0</td>\n",
       "      <td>0.0</td>\n",
       "      <td>0.0</td>\n",
       "      <td>0.0</td>\n",
       "    </tr>\n",
       "  </tbody>\n",
       "</table>\n",
       "<p>5 rows × 676 columns</p>\n",
       "</div>"
      ],
      "text/plain": [
       "                                         title  rating  #cakeweek  #wasteless  \\\n",
       "0              Lentil, Apple, and Turkey Wrap    2.500        0.0         0.0   \n",
       "1  Boudin Blanc Terrine with Red Onion Confit    4.375        0.0         0.0   \n",
       "2                Potato and Fennel Soup Hodge    3.750        0.0         0.0   \n",
       "3             Mahi-Mahi in Tomato Olive Sauce    5.000        0.0         0.0   \n",
       "4                    Spinach Noodle Casserole    3.125        0.0         0.0   \n",
       "\n",
       "   22-minute meals  3-ingredient recipes  30 days of groceries  \\\n",
       "0              0.0                   0.0                   0.0   \n",
       "1              0.0                   0.0                   0.0   \n",
       "2              0.0                   0.0                   0.0   \n",
       "3              0.0                   0.0                   0.0   \n",
       "4              0.0                   0.0                   0.0   \n",
       "\n",
       "   advance prep required  alabama  alaska   ...    yellow squash  yogurt  \\\n",
       "0                    0.0      0.0     0.0   ...              0.0     0.0   \n",
       "1                    0.0      0.0     0.0   ...              0.0     0.0   \n",
       "2                    0.0      0.0     0.0   ...              0.0     0.0   \n",
       "3                    0.0      0.0     0.0   ...              0.0     0.0   \n",
       "4                    0.0      0.0     0.0   ...              0.0     0.0   \n",
       "\n",
       "   yonkers  yuca  zucchini  cookbooks  leftovers  snack  snack week  turkey  \n",
       "0      0.0   0.0       0.0        0.0        0.0    0.0         0.0     1.0  \n",
       "1      0.0   0.0       0.0        0.0        0.0    0.0         0.0     0.0  \n",
       "2      0.0   0.0       0.0        0.0        0.0    0.0         0.0     0.0  \n",
       "3      0.0   0.0       0.0        0.0        0.0    0.0         0.0     0.0  \n",
       "4      0.0   0.0       0.0        0.0        0.0    0.0         0.0     0.0  \n",
       "\n",
       "[5 rows x 676 columns]"
      ]
     },
     "execution_count": 7,
     "metadata": {},
     "output_type": "execute_result"
    }
   ],
   "source": [
    "data = pd.read_csv('https://tf-assets-prod.s3.amazonaws.com/tf-curric/data-science/epi_r.csv')\n",
    "# Dropping the null values\n",
    "data.dropna(inplace=True,axis=1)\n",
    "data.head()"
   ]
  },
  {
   "cell_type": "markdown",
   "metadata": {},
   "source": [
    "## Trial 1 Modelling SVR with all the features but without null values"
   ]
  },
  {
   "cell_type": "code",
   "execution_count": 3,
   "metadata": {},
   "outputs": [
    {
     "data": {
      "text/plain": [
       "0.038565706512988962"
      ]
     },
     "execution_count": 3,
     "metadata": {},
     "output_type": "execute_result"
    }
   ],
   "source": [
    "# Modelling SVR\n",
    "svr = SVR()\n",
    "X = data.drop(['rating', 'title'], 1)\n",
    "Y = data.rating\n",
    "svr.fit(X,Y)\n",
    "svr.score(X, Y)"
   ]
  },
  {
   "cell_type": "markdown",
   "metadata": {},
   "source": [
    "Removing the null values but keeping the nutritional information features helped a little bit in the accuracy of the model when compared to the model in the unit lesson which was will null values. But still the model is very poor."
   ]
  },
  {
   "cell_type": "markdown",
   "metadata": {},
   "source": [
    "## Trial 2 - Adding a feature for the outcome variable which summarises the rating"
   ]
  },
  {
   "cell_type": "code",
   "execution_count": 8,
   "metadata": {},
   "outputs": [
    {
     "data": {
      "text/plain": [
       "0.78487307641425386"
      ]
     },
     "execution_count": 8,
     "metadata": {},
     "output_type": "execute_result"
    }
   ],
   "source": [
    "# Adding a new feature\n",
    "# Based on a decision that rating lower than 2.5 considered bad and greater considered good\n",
    "data['rating_good']=np.where(data['rating'] > 2.5, 1, 0)\n",
    "\n",
    "# Modelling SVR\n",
    "svr = SVR()\n",
    "X = data.drop(['rating', 'title'], 1)\n",
    "Y = data.rating\n",
    "svr.fit(X,Y)\n",
    "svr.score(X, Y)"
   ]
  },
  {
   "cell_type": "markdown",
   "metadata": {},
   "source": [
    "Adding a single feature changed the model accuracy from 0.03 to 0.78 accuracy."
   ]
  },
  {
   "cell_type": "markdown",
   "metadata": {},
   "source": [
    "## Trial 3 - Reducing the number of features by PCA"
   ]
  },
  {
   "cell_type": "code",
   "execution_count": null,
   "metadata": {},
   "outputs": [
    {
     "name": "stdout",
     "output_type": "stream",
     "text": [
      "The no. of PCA components 10 and accuracy is  0.42 (+/- 0.01)\n",
      "The no. of PCA components 60 and accuracy is  0.78 (+/- 0.01)\n",
      "The no. of PCA components 110 and accuracy is  0.78 (+/- 0.01)\n"
     ]
    }
   ],
   "source": [
    "Y = data.rating\n",
    "for n in range (10, 160, 50):\n",
    "    pca = PCA(n_components=n)\n",
    "    X = data.drop(['rating', 'title'], 1)\n",
    "    pca.fit(X)\n",
    "    X=pca.transform(X)\n",
    "    svr = SVR()\n",
    "    svr.fit(X,Y)\n",
    "    score=cross_val_score(svr, X, Y, cv=5)\n",
    "    print ('The no. of PCA components %d and accuracy is  %0.2f (+/- %0.2f)' % (n, score.mean(), score.std() * 2) )"
   ]
  },
  {
   "cell_type": "markdown",
   "metadata": {},
   "source": [
    "The PCA could help to quite an extent in improving the model from 43% accuracy to 78%. Basically it could equal the accuracy of modelling of 676 features with as little as 60 features i.e reduction or cutdown by 100 times in the number of features."
   ]
  },
  {
   "cell_type": "markdown",
   "metadata": {},
   "source": [
    "## Trial 3  - Changing the model from Regression to Classifier"
   ]
  },
  {
   "cell_type": "markdown",
   "metadata": {},
   "source": [
    "We can change the SV Regression to classifier since the rating is a classification problem.\n",
    "\n",
    "We can change the outcome variable, rating into a binary classifier rather than multiple classifier to make the model simple and accurate."
   ]
  },
  {
   "cell_type": "code",
   "execution_count": null,
   "metadata": {},
   "outputs": [
    {
     "name": "stdout",
     "output_type": "stream",
     "text": [
      "accuracy is  0.87 (+/- 0.00)\n"
     ]
    }
   ],
   "source": [
    "X = data.drop(['rating', 'rating_good', 'title'], 1)\n",
    "Y = data.rating_good\n",
    "svc = SVC()\n",
    "svc.fit(X,Y)\n",
    "score=cross_val_score(svc, X, Y, cv=5)\n",
    "print ('accuracy is  %0.2f (+/- %0.2f)' % (score.mean(), score.std() * 2) )"
   ]
  },
  {
   "cell_type": "markdown",
   "metadata": {},
   "source": [
    "Converting the model from Regression to Classifier improved model from 78% to 87%."
   ]
  },
  {
   "cell_type": "markdown",
   "metadata": {},
   "source": [
    "## Trial 4 - Feature selection brings down to 30 most valuable features"
   ]
  },
  {
   "cell_type": "markdown",
   "metadata": {},
   "source": [
    "Using Feature selection methods to bring down the features to the 30 most value features"
   ]
  },
  {
   "cell_type": "code",
   "execution_count": 9,
   "metadata": {},
   "outputs": [
    {
     "name": "stdout",
     "output_type": "stream",
     "text": [
      "The most important columns are ['drink', 'alcoholic', 'house & garden', 'gin', 'cocktail', 'spirit', 'cocktail party', 'bitters', 'harpercollins', 'liqueur', 'sauté', 'non-alcoholic', 'bon appétit', 'rum', 'condiment', 'bake', 'fall', 'brandy', 'créme de cacao', 'weelicious', 'fortified wine', 'roast', 'peanut free', 'quick & easy', 'soy free', 'pernod', 'winter', 'fruit juice', 'chartreuse']\n",
      "\n",
      "Accuracy is  0.88 (+/- 0.00)\n"
     ]
    }
   ],
   "source": [
    "# Using selectKBest feature selection method to select important features\n",
    "X = data.drop(['rating', 'rating_good', 'title'], 1)\n",
    "Y = data.rating_good\n",
    "\n",
    "# feature extraction\n",
    "test = SelectKBest(score_func=chi2, k=30)\n",
    "fit = test.fit(X, Y)\n",
    "# summarize scores and select the best 30 columns or features\n",
    "np.set_printoptions(precision=3)\n",
    "dic=dict()\n",
    "for i, name in enumerate(X.columns):\n",
    "    dic[name]=fit.scores_[i]\n",
    "cols_selected=sorted(dic, key=dic.__getitem__, reverse=True)\n",
    "print ('The most important columns are', cols_selected[0:29])\n",
    "\n",
    "X=data[cols_selected[0:29]]\n",
    "svc = SVC()\n",
    "svc.fit(X,Y)\n",
    "score=cross_val_score(svc, X, Y, cv=5)\n",
    "print ('\\nAccuracy is  %0.2f (+/- %0.2f)' % (score.mean(), score.std() * 2))"
   ]
  },
  {
   "cell_type": "markdown",
   "metadata": {},
   "source": [
    "By bringing the features down to 30 from 676 features the accuracy of the model improved from 78% when it was 676 features to 88% with 30 features......and the also the run time and memory burden has reduced quite a bit."
   ]
  },
  {
   "cell_type": "code",
   "execution_count": 10,
   "metadata": {
    "collapsed": true
   },
   "outputs": [],
   "source": [
    "X = data.drop(['rating', 'rating_good', 'title'], 1)\n",
    "Y = data.rating_good"
   ]
  },
  {
   "cell_type": "markdown",
   "metadata": {},
   "source": [
    "## Trial 5 -  Since PCA and SV Classifier separately increased accuracy.....tried them in combination"
   ]
  },
  {
   "cell_type": "code",
   "execution_count": null,
   "metadata": {},
   "outputs": [
    {
     "name": "stdout",
     "output_type": "stream",
     "text": [
      "The no. of PCA components 1 and accuracy is  0.87 (+/- 0.00)\n",
      "The no. of PCA components 11 and accuracy is  0.87 (+/- 0.00)\n",
      "The no. of PCA components 21 and accuracy is  0.87 (+/- 0.00)\n",
      "The no. of PCA components 31 and accuracy is  0.87 (+/- 0.00)\n",
      "The no. of PCA components 41 and accuracy is  0.87 (+/- 0.00)\n"
     ]
    }
   ],
   "source": [
    "Y = data.rating_good\n",
    "for n in range (1, 50, 10):\n",
    "    pca = PCA(n_components=n)\n",
    "    X = data.drop(['rating', 'rating_good', 'title'], 1)\n",
    "    pca.fit(X)\n",
    "    X=pca.transform(X)\n",
    "    svc = SVC()\n",
    "    svc.fit(X,Y)\n",
    "    score=cross_val_score(svc, X, Y, cv=5)\n",
    "    print ('The no. of PCA components %d and accuracy is  %0.2f (+/- %0.2f)' % (n, score.mean(), score.std() * 2) )"
   ]
  },
  {
   "cell_type": "markdown",
   "metadata": {
    "collapsed": true
   },
   "source": [
    "With as less as PCA components of even one component an accuracy of 87% could be achieved i.e reduction of features from 676 to one componnent with higher accuracy."
   ]
  },
  {
   "cell_type": "markdown",
   "metadata": {},
   "source": [
    "## Trial 5 -  Since feature selection and PCA both had a positive effect, combined the PCA on selected features by method."
   ]
  },
  {
   "cell_type": "code",
   "execution_count": 12,
   "metadata": {},
   "outputs": [
    {
     "name": "stdout",
     "output_type": "stream",
     "text": [
      "The most important columns are ['drink', 'alcoholic', 'house & garden', 'gin', 'cocktail', 'spirit', 'cocktail party', 'bitters', 'harpercollins', 'liqueur', 'sauté', 'non-alcoholic', 'bon appétit', 'rum', 'condiment', 'bake', 'fall', 'brandy', 'créme de cacao', 'weelicious', 'fortified wine', 'roast', 'peanut free', 'quick & easy', 'soy free', 'pernod', 'winter', 'fruit juice', 'chartreuse']\n",
      "The no. of PCA components 1 and accuracy is  0.87 (+/- 0.00)\n",
      "The no. of PCA components 6 and accuracy is  0.87 (+/- 0.00)\n",
      "The no. of PCA components 11 and accuracy is  0.88 (+/- 0.00)\n",
      "The no. of PCA components 16 and accuracy is  0.88 (+/- 0.00)\n"
     ]
    }
   ],
   "source": [
    "# Using selectKBest feature selection method to select important features\n",
    "\n",
    "print ('The most important columns are', cols_selected[0:29])\n",
    "\n",
    "for n in range (1, 20, 5):\n",
    "    pca = PCA(n_components=n)\n",
    "    X=data[cols_selected[0:29]]\n",
    "    pca.fit(X)\n",
    "    X=pca.transform(X)\n",
    "    svc = SVC()\n",
    "    svc.fit(X,Y)\n",
    "    score=cross_val_score(svc, X, Y, cv=5)\n",
    "    print ('The no. of PCA components %d and accuracy is  %0.2f (+/- %0.2f)' % (n, score.mean(), score.std() * 2) )"
   ]
  },
  {
   "cell_type": "markdown",
   "metadata": {
    "collapsed": true
   },
   "source": [
    "The accuracy could not be improved beyond 87% by SVC."
   ]
  },
  {
   "cell_type": "code",
   "execution_count": null,
   "metadata": {
    "collapsed": true
   },
   "outputs": [],
   "source": []
  }
 ],
 "metadata": {
  "kernelspec": {
   "display_name": "Python 3",
   "language": "python",
   "name": "python3"
  },
  "language_info": {
   "codemirror_mode": {
    "name": "ipython",
    "version": 3
   },
   "file_extension": ".py",
   "mimetype": "text/x-python",
   "name": "python",
   "nbconvert_exporter": "python",
   "pygments_lexer": "ipython3",
   "version": "3.6.2"
  }
 },
 "nbformat": 4,
 "nbformat_minor": 2
}
