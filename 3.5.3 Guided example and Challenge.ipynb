{
 "cells": [
  {
   "cell_type": "code",
   "execution_count": 1,
   "metadata": {
    "run_control": {
     "frozen": false,
     "read_only": false
    }
   },
   "outputs": [],
   "source": [
    "import pandas as pd\n",
    "import numpy as np\n",
    "import scipy\n",
    "import matplotlib.pyplot as plt\n",
    "%matplotlib inline\n",
    "\n",
    "from sklearn import ensemble\n",
    "from sklearn import datasets\n",
    "from sklearn.utils import shuffle\n",
    "from sklearn.metrics import mean_squared_error\n",
    "from sklearn.model_selection import cross_val_score"
   ]
  },
  {
   "cell_type": "markdown",
   "metadata": {},
   "source": [
    "### Gradient boost guided example\n",
    "\n",
    "Having walked through gradient boost by hand, now let's try it with SKlearn.  We'll still use the European Social Survey Data, but now with a categorical outcome: Whether or not someone lives with a partner."
   ]
  },
  {
   "cell_type": "code",
   "execution_count": 2,
   "metadata": {},
   "outputs": [
    {
     "name": "stdout",
     "output_type": "stream",
     "text": [
      "   year  tvtot  ppltrst  pplfair  pplhlp  happy  sclmeet  sclact  gndr  agea  \\\n",
      "0     6    3.0      3.0     10.0     5.0    8.0      5.0     4.0   2.0  60.0   \n",
      "1     6    6.0      5.0      7.0     5.0    9.0      3.0     2.0   2.0  59.0   \n",
      "2     6    1.0      8.0      8.0     8.0    7.0      6.0     3.0   1.0  24.0   \n",
      "3     6    4.0      6.0      6.0     7.0   10.0      6.0     2.0   2.0  64.0   \n",
      "4     6    5.0      6.0      7.0     5.0    8.0      7.0     2.0   2.0  55.0   \n",
      "\n",
      "   CH  CZ  DE  ES  NO  SE  \n",
      "0   1   0   0   0   0   0  \n",
      "1   1   0   0   0   0   0  \n",
      "2   1   0   0   0   0   0  \n",
      "3   1   0   0   0   0   0  \n",
      "4   1   0   0   0   0   0  \n"
     ]
    }
   ],
   "source": [
    "df = pd.read_csv((\n",
    "    \"https://raw.githubusercontent.com/Thinkful-Ed/data-201-resources/\"\n",
    "    \"master/ESS_practice_data/ESSdata_Thinkful.csv\")).dropna()\n",
    "\n",
    "# Make the categorical variable 'country' into dummies.\n",
    "df = pd.concat([df, pd.get_dummies(df['cntry'])], axis=1)\n",
    "\n",
    "# Definine outcome and predictors.\n",
    "# Set our outcome to 0 and 1.\n",
    "y = df['partner'] - 1\n",
    "X = df.loc[:, ~df.columns.isin(['partner', 'cntry', 'idno'])]\n",
    "print (X.head())\n",
    "\n",
    "\n",
    "# Create training and test sets.\n",
    "offset = int(X.shape[0] * 0.9)\n",
    "\n",
    "# Put 90% of the data in the training set.\n",
    "X_train, y_train = X[:offset], y[:offset]\n",
    "\n",
    "# And put 10% in the test set.\n",
    "X_test, y_test = X[offset:], y[offset:]"
   ]
  },
  {
   "cell_type": "markdown",
   "metadata": {},
   "source": [
    "Since we're now working with a binary outcome, we've switched to a classifier.  Now our loss function can't be the residuals.  Our options are \"deviance\", or \"exponential\".  Deviance is used for logistic regression, and we'll try that here."
   ]
  },
  {
   "cell_type": "code",
   "execution_count": 3,
   "metadata": {},
   "outputs": [
    {
     "name": "stdout",
     "output_type": "stream",
     "text": [
      "7332\n",
      "col_0     0.0   1.0   All\n",
      "partner                  \n",
      "0.0      4167   341  4508\n",
      "1.0      1291  1533  2824\n",
      "All      5458  1874  7332\n",
      "Training set accuracy:\n",
      "Percent Type I errors: 0.04650845608292417\n",
      "Percent Type II errors: 0.17607746863066012\n",
      "\n",
      "Test set accuracy:\n",
      "Percent Type I errors: 0.06257668711656442\n",
      "Percent Type II errors: 0.18527607361963191\n"
     ]
    }
   ],
   "source": [
    "# We'll make 500 iterations, use 2-deep trees, and set our loss function.\n",
    "params = {'n_estimators': 500,\n",
    "          'max_depth': 2,\n",
    "          'loss': 'deviance'}\n",
    "\n",
    "# Initialize and fit the model.\n",
    "clf = ensemble.GradientBoostingClassifier(**params)\n",
    "clf.fit(X_train, y_train)\n",
    "\n",
    "predict_train = clf.predict(X_train)\n",
    "predict_test = clf.predict(X_test)\n",
    "\n",
    "# Accuracy tables.\n",
    "table_train = pd.crosstab(y_train, predict_train, margins=True)\n",
    "table_test = pd.crosstab(y_test, predict_test, margins=True)\n",
    "\n",
    "train_tI_errors = table_train.loc[0.0,1.0] / table_train.loc['All','All']\n",
    "train_tII_errors = table_train.loc[1.0,0.0] / table_train.loc['All','All']\n",
    "\n",
    "test_tI_errors = table_test.loc[0.0,1.0]/table_test.loc['All','All']\n",
    "test_tII_errors = table_test.loc[1.0,0.0]/table_test.loc['All','All']\n",
    "print (table_train.loc['All','All'])\n",
    "print (table_train)\n",
    "print((\n",
    "    'Training set accuracy:\\n'\n",
    "    'Percent Type I errors: {}\\n'\n",
    "    'Percent Type II errors: {}\\n\\n'\n",
    "    'Test set accuracy:\\n'\n",
    "    'Percent Type I errors: {}\\n'\n",
    "    'Percent Type II errors: {}'\n",
    ").format(train_tI_errors, train_tII_errors, test_tI_errors, test_tII_errors))\n"
   ]
  },
  {
   "cell_type": "markdown",
   "metadata": {},
   "source": [
    "Unlike decision trees, gradient boost solutions are not terribly easy to interpret on the surface.  But they aren't quite a black box.  We can get a measure of how important various features are by counting how many times a feature is used over the course of many decision trees."
   ]
  },
  {
   "cell_type": "code",
   "execution_count": 4,
   "metadata": {},
   "outputs": [
    {
     "name": "stdout",
     "output_type": "stream",
     "text": [
      "<class 'numpy.ndarray'>\n"
     ]
    },
    {
     "data": {
      "image/png": "[encoded data removed]",
      "text/plain": [
       "<Figure size 432x288 with 1 Axes>"
      ]
     },
     "metadata": {
      "needs_background": "light"
     },
     "output_type": "display_data"
    },
    {
     "name": "stdout",
     "output_type": "stream",
     "text": [
      "[2.71896141e-01 3.02840860e+00 1.41566220e+00 1.70066601e+00\n",
      " 1.23084214e+00 1.65032826e+01 4.20038229e+00 1.38299644e+00\n",
      " 5.11383330e+00 1.00000000e+02 3.53383670e-01 5.32887821e-01\n",
      " 7.26677173e-02 2.03128912e+00 5.55396992e-01 2.19074782e-01]\n"
     ]
    }
   ],
   "source": [
    "feature_importance = clf.feature_importances_\n",
    "print (type(feature_importance))\n",
    "# Make importances relative to max importance.\n",
    "feature_importance = 100.0 * (feature_importance / feature_importance.max())\n",
    "sorted_idx = np.argsort(feature_importance)\n",
    "pos = np.arange(sorted_idx.shape[0]) + .5\n",
    "#plt.subplot(1, 2, 2)\n",
    "plt.barh(pos, feature_importance[sorted_idx], align='center')\n",
    "plt.yticks(pos, X.columns[sorted_idx])\n",
    "plt.xlabel('Relative Importance')\n",
    "plt.title('Variable Importance')\n",
    "plt.show()\n",
    "print (feature_importance)"
   ]
  },
  {
   "cell_type": "markdown",
   "metadata": {},
   "source": [
    "It appears that age and happiness are the most important features in predicting whether or not someone lives with a partner."
   ]
  },
  {
   "cell_type": "markdown",
   "metadata": {
    "collapsed": true
   },
   "source": [
    "### DRILL: Improve this gradient boost model\n",
    "\n",
    "While this model is already doing alright, we've seen from the Type I and Type II error rates that there is definitely room for improvement.  Your task is to see how low you can get the error rates to go in the test set, based on your model in the training set.  Strategies you might use include:\n",
    "\n",
    "* Creating new features\n",
    "* Applying more overfitting-prevention strategies like subsampling\n",
    "* More iterations\n",
    "* Trying a different loss function\n",
    "* Changing the structure of the weak learner: Allowing more leaves in the tree, or other modifications\n",
    "\n",
    "Have fun!"
   ]
  },
  {
   "cell_type": "markdown",
   "metadata": {},
   "source": [
    "\n",
    "Applying more overfitting-prevention strategies like subsampling\n",
    "More iterations\n",
    "Trying a different loss function\n",
    "Changing the structure of the weak learner: Allowing more leaves in the tree, or other modifications"
   ]
  },
  {
   "cell_type": "code",
   "execution_count": 5,
   "metadata": {},
   "outputs": [
    {
     "name": "stdout",
     "output_type": "stream",
     "text": [
      "[[454  51]\n",
      " [151 159]]\n",
      "The sensitivity i.e true positives is 51.290323% \n",
      "The specificity i.e true negatives is 89.900990% \n",
      "The Type I error i.e. false negatives is 24.958678% \n",
      "The Type II error i.e. false positives is 24.285714% \n"
     ]
    }
   ],
   "source": [
    "# Predicting the model and testing initially to see the error rate first without applying these measures\n",
    "\n",
    "y_pred=clf.predict(X_test)\n",
    "\n",
    "from sklearn.metrics import confusion_matrix\n",
    "conf_mat=confusion_matrix(y_test, y_pred)\n",
    "print (conf_mat)\n",
    "print ('The sensitivity i.e true positives is {0:2f}% '.format((conf_mat[1,1]/(conf_mat[1,1]+conf_mat[1,0]))*100))\n",
    "print ('The specificity i.e true negatives is {0:2f}% '.format((conf_mat[0,0]/(conf_mat[0,0]+conf_mat[0,1]))*100))\n",
    "print ('The Type I error i.e. false negatives is {0:2f}% '.format((conf_mat[1,0]/(conf_mat[1,0]+conf_mat[0,0]))*100))\n",
    "print ('The Type II error i.e. false positives is {0:2f}% '.format((conf_mat[0,1]/(conf_mat[0,1]+conf_mat[1,1]))*100))"
   ]
  },
  {
   "cell_type": "markdown",
   "metadata": {},
   "source": [
    "### Creating new features"
   ]
  },
  {
   "cell_type": "code",
   "execution_count": 6,
   "metadata": {},
   "outputs": [
    {
     "data": {
      "image/png": "[encoded data removed]",
      "text/plain": [
       "<Figure size 432x288 with 1 Axes>"
      ]
     },
     "metadata": {
      "needs_background": "light"
     },
     "output_type": "display_data"
    }
   ],
   "source": [
    "plt.scatter(x=df.agea.value_counts().index , y=df.agea.value_counts())\n",
    "plt.xlabel('Age in years')\n",
    "plt.ylabel('Counts')\n",
    "plt.show()"
   ]
  },
  {
   "cell_type": "code",
   "execution_count": 7,
   "metadata": {},
   "outputs": [],
   "source": [
    "# added senior citizens variable based on age\n",
    "df['age_seniors']=np.where(df['agea'] > 60, 1, 0)"
   ]
  },
  {
   "cell_type": "code",
   "execution_count": 8,
   "metadata": {},
   "outputs": [],
   "source": [
    "#added happy binary feature\n",
    "df['happy_binary']=np.where(df['happy']> 6, 1, 0)"
   ]
  },
  {
   "cell_type": "code",
   "execution_count": 9,
   "metadata": {},
   "outputs": [],
   "source": [
    "#added Gender binary feature as 1 and 0 which is male and female instead of 2 and 1\n",
    "df['gender_binary']=df['gndr']-1"
   ]
  },
  {
   "cell_type": "code",
   "execution_count": 10,
   "metadata": {},
   "outputs": [],
   "source": [
    "#added Social meet binary feature as 1 and 0 which is meeting socially or not\n",
    "df['sclmeet_binary']=np.where(df['sclmeet']> 5, 1, 0)"
   ]
  },
  {
   "cell_type": "code",
   "execution_count": 11,
   "metadata": {},
   "outputs": [],
   "source": [
    "# Changed the partner i.e the outcome variable into binary outcome variable in the dataframe\n",
    "df['partner']=df['partner']-1"
   ]
  },
  {
   "cell_type": "markdown",
   "metadata": {},
   "source": [
    "### Applying more overfitting-prevention strategies like subsampling"
   ]
  },
  {
   "cell_type": "code",
   "execution_count": 12,
   "metadata": {},
   "outputs": [],
   "source": [
    "# Make the categorical variable 'country' into dummies.\n",
    "\n",
    "X=df.loc[:, ~(df.columns).isin(['partner', 'cntry', 'idno'])].sample(frac=0.3, replace=True, random_state=1)\n",
    "Y=df.partner.sample(frac=0.3, replace=True, random_state=1)\n",
    "\n",
    "# Create training and test sets.\n",
    "offset = int(X.shape[0] * 0.9)\n",
    "\n",
    "# Put 90% of the data in the training set.\n",
    "X_train, y_train = X[:offset], Y[:offset]\n",
    "\n",
    "\n",
    "# And put 10% in the test set.\n",
    "X_test, y_test = X[offset:], Y[offset:]\n"
   ]
  },
  {
   "cell_type": "code",
   "execution_count": 13,
   "metadata": {},
   "outputs": [
    {
     "name": "stdout",
     "output_type": "stream",
     "text": [
      "[[138  17]\n",
      " [ 44  46]]\n",
      "The sensitivity i.e true positives is 51.111111% \n",
      "The specificity i.e true negatives is 89.032258% \n",
      "The Type I error i.e. false negatives is 24.175824% \n",
      "The Type II error i.e. false positives is 26.984127% \n"
     ]
    }
   ],
   "source": [
    "# Fitting the model and testing how these two measures help in lowering the errors\n",
    "\n",
    "# Initialize and fit the model.\n",
    "clf = ensemble.GradientBoostingClassifier(**params)\n",
    "clf.fit(X_train, y_train)\n",
    "\n",
    "y_pred=clf.predict(X_test)\n",
    "\n",
    "conf_mat=confusion_matrix(y_test, y_pred)\n",
    "print (conf_mat)\n",
    "print ('The sensitivity i.e true positives is {0:2f}% '.format((conf_mat[1,1]/(conf_mat[1,1]+conf_mat[1,0]))*100))\n",
    "print ('The specificity i.e true negatives is {0:2f}% '.format((conf_mat[0,0]/(conf_mat[0,0]+conf_mat[0,1]))*100))\n",
    "print ('The Type I error i.e. false negatives is {0:2f}% '.format((conf_mat[1,0]/(conf_mat[1,0]+conf_mat[0,0]))*100))\n",
    "print ('The Type II error i.e. false positives is {0:2f}% '.format((conf_mat[0,1]/(conf_mat[0,1]+conf_mat[1,1]))*100))"
   ]
  },
  {
   "cell_type": "markdown",
   "metadata": {},
   "source": [
    "Even after adding new features and doing sub-sampling there is no reduction in errors in prediction"
   ]
  },
  {
   "cell_type": "markdown",
   "metadata": {},
   "source": [
    "### More iterations and : Allowing more leaves in the tree,"
   ]
  },
  {
   "cell_type": "code",
   "execution_count": 14,
   "metadata": {},
   "outputs": [
    {
     "name": "stdout",
     "output_type": "stream",
     "text": [
      "[[131  24]\n",
      " [ 30  60]]\n",
      "The sensitivity i.e true positives is 66.666667% \n",
      "The specificity i.e true negatives is 84.516129% \n",
      "The Type I error i.e. false negatives is 18.633540% \n",
      "The Type II error i.e. false positives is 28.571429% \n"
     ]
    }
   ],
   "source": [
    "params = {'n_estimators': 5000,\n",
    "          'max_depth': 3,\n",
    "          'loss': 'deviance'}\n",
    "# Make the categorical variable 'country' into dummies.\n",
    "\n",
    "X=df.loc[:, ~(df.columns).isin(['partner', 'cntry', 'idno'])].sample(frac=0.3, replace=True, random_state=1)\n",
    "Y=df.partner.sample(frac=0.3, replace=True, random_state=1)\n",
    "\n",
    "# Create training and test sets.\n",
    "offset = int(X.shape[0] * 0.9)\n",
    "\n",
    "# Put 90% of the data in the training set.\n",
    "X_train, y_train = X[:offset], Y[:offset]\n",
    "\n",
    "\n",
    "# And put 10% in the test set.\n",
    "X_test, y_test = X[offset:], Y[offset:]\n",
    "\n",
    "# Fitting the model and testing how these two measures help in lowering the errors\n",
    "\n",
    "# Initialize and fit the model.\n",
    "clf = ensemble.GradientBoostingClassifier(**params)\n",
    "clf.fit(X_train, y_train)\n",
    "\n",
    "y_pred=clf.predict(X_test)\n",
    "\n",
    "conf_mat=confusion_matrix(y_test, y_pred)\n",
    "print (conf_mat)\n",
    "print ('The sensitivity i.e true positives is {0:2f}% '.format((conf_mat[1,1]/(conf_mat[1,1]+conf_mat[1,0]))*100))\n",
    "print ('The specificity i.e true negatives is {0:2f}% '.format((conf_mat[0,0]/(conf_mat[0,0]+conf_mat[0,1]))*100))\n",
    "print ('The Type I error i.e. false negatives is {0:2f}% '.format((conf_mat[1,0]/(conf_mat[1,0]+conf_mat[0,0]))*100))\n",
    "print ('The Type II error i.e. false positives is {0:2f}% '.format((conf_mat[0,1]/(conf_mat[0,1]+conf_mat[1,1]))*100))\n"
   ]
  },
  {
   "cell_type": "markdown",
   "metadata": {},
   "source": [
    "Beyond 5000 iterations and 3 leaves there is no further improvement in error. But increasing the iterations and number of leaves reduced the type I error a little but increase type II error too."
   ]
  },
  {
   "cell_type": "markdown",
   "metadata": {},
   "source": [
    "### Trying a different loss function\n",
    "### Changing the structure of the weak learner:"
   ]
  },
  {
   "cell_type": "code",
   "execution_count": 15,
   "metadata": {},
   "outputs": [
    {
     "name": "stdout",
     "output_type": "stream",
     "text": [
      "[[133  22]\n",
      " [ 32  58]]\n",
      "The sensitivity i.e true positives is 64.444444% \n",
      "The specificity i.e true negatives is 85.806452% \n",
      "The Type I error i.e. false negatives is 19.393939% \n",
      "The Type II error i.e. false positives is 27.500000% \n"
     ]
    }
   ],
   "source": [
    "params = {'n_estimators': 5000,\n",
    "          'max_depth': 3,\n",
    "          'loss': 'exponential'}\n",
    "# Make the categorical variable 'country' into dummies.\n",
    "\n",
    "X=df.loc[:, ~(df.columns).isin(['partner', 'cntry', 'idno'])].sample(frac=0.3, replace=True, random_state=1)\n",
    "Y=df.partner.sample(frac=0.3, replace=True, random_state=1)\n",
    "\n",
    "# Create training and test sets.\n",
    "offset = int(X.shape[0] * 0.9)\n",
    "\n",
    "# Put 90% of the data in the training set.\n",
    "X_train, y_train = X[:offset], Y[:offset]\n",
    "\n",
    "\n",
    "# And put 10% in the test set.\n",
    "X_test, y_test = X[offset:], Y[offset:]\n",
    "\n",
    "# Fitting the model and testing how these two measures help in lowering the errors\n",
    "\n",
    "# Initialize and fit the model.\n",
    "clf = ensemble.GradientBoostingClassifier(**params)\n",
    "clf.fit(X_train, y_train)\n",
    "\n",
    "y_pred=clf.predict(X_test)\n",
    "\n",
    "conf_mat=confusion_matrix(y_test, y_pred)\n",
    "print (conf_mat)\n",
    "print ('The sensitivity i.e true positives is {0:2f}% '.format((conf_mat[1,1]/(conf_mat[1,1]+conf_mat[1,0]))*100))\n",
    "print ('The specificity i.e true negatives is {0:2f}% '.format((conf_mat[0,0]/(conf_mat[0,0]+conf_mat[0,1]))*100))\n",
    "print ('The Type I error i.e. false negatives is {0:2f}% '.format((conf_mat[1,0]/(conf_mat[1,0]+conf_mat[0,0]))*100))\n",
    "print ('The Type II error i.e. false positives is {0:2f}% '.format((conf_mat[0,1]/(conf_mat[0,1]+conf_mat[1,1]))*100))\n"
   ]
  },
  {
   "cell_type": "markdown",
   "metadata": {},
   "source": [
    "Trying a different loss function such as 'exponential' did not help either."
   ]
  },
  {
   "cell_type": "markdown",
   "metadata": {},
   "source": [
    "### Balancing the class imbalance in outcome variable\n"
   ]
  },
  {
   "cell_type": "code",
   "execution_count": 22,
   "metadata": {},
   "outputs": [
    {
     "data": {
      "text/plain": [
       "0.0    5013\n",
       "1.0    3134\n",
       "Name: partner, dtype: int64"
      ]
     },
     "execution_count": 22,
     "metadata": {},
     "output_type": "execute_result"
    }
   ],
   "source": [
    "df.partner.value_counts()"
   ]
  },
  {
   "cell_type": "markdown",
   "metadata": {},
   "source": [
    "we observe here that the partner outcome variable has class imbalance problem. So need to do over sampling or under sampling to avoid overfitting to one class. Here I did equal sampling of both the classes."
   ]
  },
  {
   "cell_type": "code",
   "execution_count": 78,
   "metadata": {},
   "outputs": [
    {
     "data": {
      "text/plain": [
       "0.0    5013\n",
       "1.0    3134\n",
       "Name: partner, dtype: int64"
      ]
     },
     "execution_count": 78,
     "metadata": {},
     "output_type": "execute_result"
    }
   ],
   "source": [
    "df = pd.read_csv((\n",
    "    \"https://raw.githubusercontent.com/Thinkful-Ed/data-201-resources/\"\n",
    "    \"master/ESS_practice_data/ESSdata_Thinkful.csv\")).dropna()\n",
    "\n",
    "# Make the categorical variable 'country' into dummies.\n",
    "df = pd.concat([df, pd.get_dummies(df['cntry'])], axis=1)\n",
    "\n",
    "# Changed the partner i.e the outcome variable into binary outcome variable in the dataframe\n",
    "df['partner']=df['partner']-1\n",
    "df.partner.value_counts()"
   ]
  },
  {
   "cell_type": "code",
   "execution_count": 79,
   "metadata": {},
   "outputs": [
    {
     "name": "stdout",
     "output_type": "stream",
     "text": [
      "0.0    3000\n",
      "Name: partner, dtype: int64\n",
      "1.0    3000\n",
      "Name: partner, dtype: int64\n"
     ]
    }
   ],
   "source": [
    "# Make the categorical variable 'country' into dummies.\n",
    "X0=df[df['partner']==0].sample(n=3000, replace=False, random_state=1)\n",
    "X1=df[df['partner']==1].sample(n=3000, replace=False, random_state=1)\n",
    "\n",
    "print (X0.partner.value_counts())\n",
    "print (X1.partner.value_counts())\n",
    "X=pd.concat([X0,X1])\n",
    "X.partner.value_counts()\n",
    "X.sort_index(inplace=True)"
   ]
  },
  {
   "cell_type": "code",
   "execution_count": 80,
   "metadata": {},
   "outputs": [
    {
     "name": "stdout",
     "output_type": "stream",
     "text": [
      "[[73 21]\n",
      " [21 65]]\n",
      "The sensitivity i.e true positives is 75.581395% \n",
      "The specificity i.e true negatives is 77.659574% \n",
      "The Type I error i.e. false negatives is 22.340426% \n",
      "The Type II error i.e. false positives is 24.418605% \n"
     ]
    }
   ],
   "source": [
    "Y=X.partner.sample(frac=0.3, replace=True, random_state=1)\n",
    "X=X.loc[:, ~(X.columns).isin(['partner', 'cntry', 'idno'])].sample(frac=0.3, replace=True, random_state=1)\n",
    "\n",
    "\n",
    "# Create training and test sets.\n",
    "offset = int(X.shape[0] * 0.9)\n",
    "\n",
    "# Put 90% of the data in the training set.\n",
    "X_train, y_train = X[:offset], Y[:offset]\n",
    "\n",
    "\n",
    "# And put 10% in the test set.\n",
    "X_test, y_test = X[offset:], Y[offset:]\n",
    "\n",
    "# Fitting the model and testing how these two measures help in lowering the errors\n",
    "\n",
    "# Initialize and fit the model.\n",
    "clf = ensemble.GradientBoostingClassifier(**params)\n",
    "clf.fit(X_train, y_train)\n",
    "\n",
    "y_pred=clf.predict(X_test)\n",
    "\n",
    "conf_mat=confusion_matrix(y_test, y_pred)\n",
    "print (conf_mat)\n",
    "print ('The sensitivity i.e true positives is {0:2f}% '.format((conf_mat[1,1]/(conf_mat[1,1]+conf_mat[1,0]))*100))\n",
    "print ('The specificity i.e true negatives is {0:2f}% '.format((conf_mat[0,0]/(conf_mat[0,0]+conf_mat[0,1]))*100))\n",
    "print ('The Type I error i.e. false negatives is {0:2f}% '.format((conf_mat[1,0]/(conf_mat[1,0]+conf_mat[0,0]))*100))\n",
    "print ('The Type II error i.e. false positives is {0:2f}% '.format((conf_mat[0,1]/(conf_mat[0,1]+conf_mat[1,1]))*100))"
   ]
  },
  {
   "cell_type": "markdown",
   "metadata": {},
   "source": [
    "Did not reduce the error. Made no difference in the error after doing class imbalance."
   ]
  },
  {
   "cell_type": "code",
   "execution_count": null,
   "metadata": {},
   "outputs": [],
   "source": []
  }
 ],
 "metadata": {
  "hide_input": false,
  "kernelspec": {
   "display_name": "Python 3",
   "language": "python",
   "name": "python3"
  },
  "language_info": {
   "codemirror_mode": {
    "name": "ipython",
    "version": 3
   },
   "file_extension": ".py",
   "mimetype": "text/x-python",
   "name": "python",
   "nbconvert_exporter": "python",
   "pygments_lexer": "ipython3",
   "version": "3.7.1"
  },
  "toc": {
   "colors": {
    "hover_highlight": "#DAA520",
    "running_highlight": "#FF0000",
    "selected_highlight": "#FFD700"
   },
   "moveMenuLeft": true,
   "nav_menu": {
    "height": "59px",
    "width": "252px"
   },
   "navigate_menu": true,
   "number_sections": true,
   "sideBar": true,
   "threshold": 4,
   "toc_cell": false,
   "toc_section_display": "block",
   "toc_window_display": false
  }
 },
 "nbformat": 4,
 "nbformat_minor": 2
}
