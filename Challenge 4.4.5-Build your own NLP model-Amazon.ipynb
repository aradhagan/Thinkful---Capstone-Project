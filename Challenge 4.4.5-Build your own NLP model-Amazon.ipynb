{
 "cells": [
  {
   "cell_type": "code",
   "execution_count": 1,
   "metadata": {
    "scrolled": true
   },
   "outputs": [
    {
     "name": "stderr",
     "output_type": "stream",
     "text": [
      "/Users/Sri/anaconda3/lib/python3.6/site-packages/sklearn/externals/six.py:31: DeprecationWarning: The module is deprecated in version 0.21 and will be removed in version 0.23 since we've dropped support for Python 2.7. Please rely on the official version of six (https://pypi.org/project/six/).\n",
      "  \"(https://pypi.org/project/six/).\", DeprecationWarning)\n"
     ]
    }
   ],
   "source": [
    "from matplotlib import pyplot as plt\n",
    "from sklearn.naive_bayes import BernoulliNB\n",
    "from sklearn.model_selection import cross_val_score\n",
    "from sklearn.model_selection import train_test_split\n",
    "from sklearn import neighbors\n",
    "from imblearn.over_sampling import SMOTENC\n",
    "from imblearn.over_sampling import SMOTE\n",
    "from sklearn.linear_model import LogisticRegression\n",
    "from sklearn.metrics import confusion_matrix\n",
    "from sklearn.svm import SVC\n",
    "from collections import Counter\n",
    "from sklearn import ensemble\n",
    "from sklearn import metrics\n",
    "import numpy as np\n",
    "import pandas as pd\n",
    "import seaborn as sns\n",
    "\n",
    "import spacy\n",
    "\n",
    "sns.set(rc={'figure.figsize':(12,7)}, style='whitegrid', color_codes=True)"
   ]
  },
  {
   "cell_type": "markdown",
   "metadata": {
    "collapsed": true
   },
   "source": [
    "Source = http://jmcauley.ucsd.edu/data/amazon/ "
   ]
  },
  {
   "cell_type": "markdown",
   "metadata": {},
   "source": [
    "## Challenge: Is to Build an NLP model to classify reviews or texts from Amazon as positive or negative."
   ]
  },
  {
   "cell_type": "code",
   "execution_count": 2,
   "metadata": {
    "collapsed": true
   },
   "outputs": [],
   "source": [
    "#df =  pd.read_csv('/Users/Sri/Downloads/Amazon_Books_Review.csv')\n",
    "df = pd.read_json('Amazon_Instant_Video_5.json', lines=True)"
   ]
  },
  {
   "cell_type": "code",
   "execution_count": 3,
   "metadata": {
    "scrolled": true
   },
   "outputs": [
    {
     "data": {
      "text/html": [
       "<div>\n",
       "<style>\n",
       "    .dataframe thead tr:only-child th {\n",
       "        text-align: right;\n",
       "    }\n",
       "\n",
       "    .dataframe thead th {\n",
       "        text-align: left;\n",
       "    }\n",
       "\n",
       "    .dataframe tbody tr th {\n",
       "        vertical-align: top;\n",
       "    }\n",
       "</style>\n",
       "<table border=\"1\" class=\"dataframe\">\n",
       "  <thead>\n",
       "    <tr style=\"text-align: right;\">\n",
       "      <th></th>\n",
       "      <th>asin</th>\n",
       "      <th>helpful</th>\n",
       "      <th>overall</th>\n",
       "      <th>reviewText</th>\n",
       "      <th>reviewTime</th>\n",
       "      <th>reviewerID</th>\n",
       "      <th>reviewerName</th>\n",
       "      <th>summary</th>\n",
       "      <th>unixReviewTime</th>\n",
       "    </tr>\n",
       "  </thead>\n",
       "  <tbody>\n",
       "    <tr>\n",
       "      <th>0</th>\n",
       "      <td>B000H00VBQ</td>\n",
       "      <td>[0, 0]</td>\n",
       "      <td>2</td>\n",
       "      <td>I had big expectations because I love English ...</td>\n",
       "      <td>05 3, 2014</td>\n",
       "      <td>A11N155CW1UV02</td>\n",
       "      <td>AdrianaM</td>\n",
       "      <td>A little bit boring for me</td>\n",
       "      <td>1399075200</td>\n",
       "    </tr>\n",
       "    <tr>\n",
       "      <th>1</th>\n",
       "      <td>B000H00VBQ</td>\n",
       "      <td>[0, 0]</td>\n",
       "      <td>5</td>\n",
       "      <td>I highly recommend this series. It is a must f...</td>\n",
       "      <td>09 3, 2012</td>\n",
       "      <td>A3BC8O2KCL29V2</td>\n",
       "      <td>Carol T</td>\n",
       "      <td>Excellent Grown Up TV</td>\n",
       "      <td>1346630400</td>\n",
       "    </tr>\n",
       "    <tr>\n",
       "      <th>2</th>\n",
       "      <td>B000H00VBQ</td>\n",
       "      <td>[0, 1]</td>\n",
       "      <td>1</td>\n",
       "      <td>This one is a real snoozer. Don't believe anyt...</td>\n",
       "      <td>10 16, 2013</td>\n",
       "      <td>A60D5HQFOTSOM</td>\n",
       "      <td>Daniel Cooper \"dancoopermedia\"</td>\n",
       "      <td>Way too boring for me</td>\n",
       "      <td>1381881600</td>\n",
       "    </tr>\n",
       "    <tr>\n",
       "      <th>3</th>\n",
       "      <td>B000H00VBQ</td>\n",
       "      <td>[0, 0]</td>\n",
       "      <td>4</td>\n",
       "      <td>Mysteries are interesting.  The tension betwee...</td>\n",
       "      <td>10 30, 2013</td>\n",
       "      <td>A1RJPIGRSNX4PW</td>\n",
       "      <td>J. Kaplan \"JJ\"</td>\n",
       "      <td>Robson Green is mesmerizing</td>\n",
       "      <td>1383091200</td>\n",
       "    </tr>\n",
       "    <tr>\n",
       "      <th>4</th>\n",
       "      <td>B000H00VBQ</td>\n",
       "      <td>[1, 1]</td>\n",
       "      <td>5</td>\n",
       "      <td>This show always is excellent, as far as briti...</td>\n",
       "      <td>02 11, 2009</td>\n",
       "      <td>A16XRPF40679KG</td>\n",
       "      <td>Michael Dobey</td>\n",
       "      <td>Robson green and great writing</td>\n",
       "      <td>1234310400</td>\n",
       "    </tr>\n",
       "  </tbody>\n",
       "</table>\n",
       "</div>"
      ],
      "text/plain": [
       "         asin helpful  overall  \\\n",
       "0  B000H00VBQ  [0, 0]        2   \n",
       "1  B000H00VBQ  [0, 0]        5   \n",
       "2  B000H00VBQ  [0, 1]        1   \n",
       "3  B000H00VBQ  [0, 0]        4   \n",
       "4  B000H00VBQ  [1, 1]        5   \n",
       "\n",
       "                                          reviewText   reviewTime  \\\n",
       "0  I had big expectations because I love English ...   05 3, 2014   \n",
       "1  I highly recommend this series. It is a must f...   09 3, 2012   \n",
       "2  This one is a real snoozer. Don't believe anyt...  10 16, 2013   \n",
       "3  Mysteries are interesting.  The tension betwee...  10 30, 2013   \n",
       "4  This show always is excellent, as far as briti...  02 11, 2009   \n",
       "\n",
       "       reviewerID                    reviewerName  \\\n",
       "0  A11N155CW1UV02                        AdrianaM   \n",
       "1  A3BC8O2KCL29V2                         Carol T   \n",
       "2   A60D5HQFOTSOM  Daniel Cooper \"dancoopermedia\"   \n",
       "3  A1RJPIGRSNX4PW                  J. Kaplan \"JJ\"   \n",
       "4  A16XRPF40679KG                   Michael Dobey   \n",
       "\n",
       "                          summary  unixReviewTime  \n",
       "0      A little bit boring for me      1399075200  \n",
       "1           Excellent Grown Up TV      1346630400  \n",
       "2           Way too boring for me      1381881600  \n",
       "3     Robson Green is mesmerizing      1383091200  \n",
       "4  Robson green and great writing      1234310400  "
      ]
     },
     "execution_count": 3,
     "metadata": {},
     "output_type": "execute_result"
    }
   ],
   "source": [
    "df.head()"
   ]
  },
  {
   "cell_type": "code",
   "execution_count": 4,
   "metadata": {},
   "outputs": [
    {
     "data": {
      "text/plain": [
       "5    0.562678\n",
       "4    0.227496\n",
       "3    0.112778\n",
       "2    0.050773\n",
       "1    0.046275\n",
       "Name: overall, dtype: float64"
      ]
     },
     "execution_count": 4,
     "metadata": {},
     "output_type": "execute_result"
    }
   ],
   "source": [
    "df.overall.value_counts(normalize=True)"
   ]
  },
  {
   "cell_type": "code",
   "execution_count": 5,
   "metadata": {},
   "outputs": [
    {
     "name": "stdout",
     "output_type": "stream",
     "text": [
      "<class 'pandas.core.frame.DataFrame'>\n",
      "Int64Index: 37126 entries, 0 to 37125\n",
      "Data columns (total 9 columns):\n",
      "asin              37126 non-null object\n",
      "helpful           37126 non-null object\n",
      "overall           37126 non-null int64\n",
      "reviewText        37126 non-null object\n",
      "reviewTime        37126 non-null object\n",
      "reviewerID        37126 non-null object\n",
      "reviewerName      36797 non-null object\n",
      "summary           37126 non-null object\n",
      "unixReviewTime    37126 non-null int64\n",
      "dtypes: int64(2), object(7)\n",
      "memory usage: 2.8+ MB\n"
     ]
    }
   ],
   "source": [
    "df.info()"
   ]
  },
  {
   "cell_type": "code",
   "execution_count": 6,
   "metadata": {
    "collapsed": true
   },
   "outputs": [],
   "source": [
    "# Making a subset dataframe of only the columns which are necessary for analysis.\n",
    "data=df[['reviewText', 'overall']]"
   ]
  },
  {
   "cell_type": "code",
   "execution_count": 7,
   "metadata": {
    "collapsed": true
   },
   "outputs": [],
   "source": [
    "# Making a subset of the data for faster run time\n",
    "data = data.sample(frac=0.05, replace=False, random_state=1)"
   ]
  },
  {
   "cell_type": "code",
   "execution_count": 8,
   "metadata": {},
   "outputs": [
    {
     "name": "stdout",
     "output_type": "stream",
     "text": [
      "<class 'pandas.core.frame.DataFrame'>\n",
      "Int64Index: 1856 entries, 19223 to 33133\n",
      "Data columns (total 2 columns):\n",
      "reviewText    1856 non-null object\n",
      "overall       1856 non-null int64\n",
      "dtypes: int64(1), object(1)\n",
      "memory usage: 43.5+ KB\n"
     ]
    }
   ],
   "source": [
    "data.info()"
   ]
  },
  {
   "cell_type": "code",
   "execution_count": 9,
   "metadata": {},
   "outputs": [
    {
     "data": {
      "text/html": [
       "<div>\n",
       "<style>\n",
       "    .dataframe thead tr:only-child th {\n",
       "        text-align: right;\n",
       "    }\n",
       "\n",
       "    .dataframe thead th {\n",
       "        text-align: left;\n",
       "    }\n",
       "\n",
       "    .dataframe tbody tr th {\n",
       "        vertical-align: top;\n",
       "    }\n",
       "</style>\n",
       "<table border=\"1\" class=\"dataframe\">\n",
       "  <thead>\n",
       "    <tr style=\"text-align: right;\">\n",
       "      <th></th>\n",
       "      <th>reviewText</th>\n",
       "      <th>overall</th>\n",
       "    </tr>\n",
       "  </thead>\n",
       "  <tbody>\n",
       "    <tr>\n",
       "      <th>19223</th>\n",
       "      <td>i saw the series on TV and wasn;t too imressed...</td>\n",
       "      <td>5</td>\n",
       "    </tr>\n",
       "    <tr>\n",
       "      <th>8564</th>\n",
       "      <td>I love police procedurals. My favorite is the ...</td>\n",
       "      <td>5</td>\n",
       "    </tr>\n",
       "    <tr>\n",
       "      <th>10406</th>\n",
       "      <td>Very good well written series,  so sorry it di...</td>\n",
       "      <td>3</td>\n",
       "    </tr>\n",
       "    <tr>\n",
       "      <th>14717</th>\n",
       "      <td>One episode in, I plan to watch another. The a...</td>\n",
       "      <td>3</td>\n",
       "    </tr>\n",
       "    <tr>\n",
       "      <th>2554</th>\n",
       "      <td>This is a wild ride, on the one hand we've got...</td>\n",
       "      <td>5</td>\n",
       "    </tr>\n",
       "  </tbody>\n",
       "</table>\n",
       "</div>"
      ],
      "text/plain": [
       "                                              reviewText  overall\n",
       "19223  i saw the series on TV and wasn;t too imressed...        5\n",
       "8564   I love police procedurals. My favorite is the ...        5\n",
       "10406  Very good well written series,  so sorry it di...        3\n",
       "14717  One episode in, I plan to watch another. The a...        3\n",
       "2554   This is a wild ride, on the one hand we've got...        5"
      ]
     },
     "execution_count": 9,
     "metadata": {},
     "output_type": "execute_result"
    }
   ],
   "source": [
    "data.head()"
   ]
  },
  {
   "cell_type": "code",
   "execution_count": 10,
   "metadata": {},
   "outputs": [
    {
     "data": {
      "text/plain": [
       "Series([], dtype: int64)"
      ]
     },
     "execution_count": 10,
     "metadata": {},
     "output_type": "execute_result"
    }
   ],
   "source": [
    "data.isnull().sum()[data.isnull().sum()>0]"
   ]
  },
  {
   "cell_type": "code",
   "execution_count": 11,
   "metadata": {
    "collapsed": true
   },
   "outputs": [],
   "source": [
    "# Deleting the null values since they represent 0.006% of the data.\n",
    "data.dropna(inplace=True, axis=0)\n",
    "data.reset_index(inplace=True, drop=True)"
   ]
  },
  {
   "cell_type": "code",
   "execution_count": 12,
   "metadata": {},
   "outputs": [
    {
     "data": {
      "text/plain": [
       "array([5, 3, 4, 2, 1])"
      ]
     },
     "execution_count": 12,
     "metadata": {},
     "output_type": "execute_result"
    }
   ],
   "source": [
    "data.overall.unique()"
   ]
  },
  {
   "cell_type": "code",
   "execution_count": 13,
   "metadata": {
    "collapsed": true
   },
   "outputs": [],
   "source": [
    "# Creating outcome variable i.e review_sentiment as positive or negative\n",
    "data['review_sentiment'] = np.where(data['overall'] > 3, 1, 0)"
   ]
  },
  {
   "cell_type": "code",
   "execution_count": 14,
   "metadata": {},
   "outputs": [
    {
     "data": {
      "text/html": [
       "<div>\n",
       "<style>\n",
       "    .dataframe thead tr:only-child th {\n",
       "        text-align: right;\n",
       "    }\n",
       "\n",
       "    .dataframe thead th {\n",
       "        text-align: left;\n",
       "    }\n",
       "\n",
       "    .dataframe tbody tr th {\n",
       "        vertical-align: top;\n",
       "    }\n",
       "</style>\n",
       "<table border=\"1\" class=\"dataframe\">\n",
       "  <thead>\n",
       "    <tr style=\"text-align: right;\">\n",
       "      <th></th>\n",
       "      <th>reviewText</th>\n",
       "      <th>overall</th>\n",
       "      <th>review_sentiment</th>\n",
       "    </tr>\n",
       "  </thead>\n",
       "  <tbody>\n",
       "    <tr>\n",
       "      <th>0</th>\n",
       "      <td>i saw the series on TV and wasn;t too imressed...</td>\n",
       "      <td>5</td>\n",
       "      <td>1</td>\n",
       "    </tr>\n",
       "    <tr>\n",
       "      <th>1</th>\n",
       "      <td>I love police procedurals. My favorite is the ...</td>\n",
       "      <td>5</td>\n",
       "      <td>1</td>\n",
       "    </tr>\n",
       "    <tr>\n",
       "      <th>2</th>\n",
       "      <td>Very good well written series,  so sorry it di...</td>\n",
       "      <td>3</td>\n",
       "      <td>0</td>\n",
       "    </tr>\n",
       "    <tr>\n",
       "      <th>3</th>\n",
       "      <td>One episode in, I plan to watch another. The a...</td>\n",
       "      <td>3</td>\n",
       "      <td>0</td>\n",
       "    </tr>\n",
       "    <tr>\n",
       "      <th>4</th>\n",
       "      <td>This is a wild ride, on the one hand we've got...</td>\n",
       "      <td>5</td>\n",
       "      <td>1</td>\n",
       "    </tr>\n",
       "  </tbody>\n",
       "</table>\n",
       "</div>"
      ],
      "text/plain": [
       "                                          reviewText  overall  \\\n",
       "0  i saw the series on TV and wasn;t too imressed...        5   \n",
       "1  I love police procedurals. My favorite is the ...        5   \n",
       "2  Very good well written series,  so sorry it di...        3   \n",
       "3  One episode in, I plan to watch another. The a...        3   \n",
       "4  This is a wild ride, on the one hand we've got...        5   \n",
       "\n",
       "   review_sentiment  \n",
       "0                 1  \n",
       "1                 1  \n",
       "2                 0  \n",
       "3                 0  \n",
       "4                 1  "
      ]
     },
     "execution_count": 14,
     "metadata": {},
     "output_type": "execute_result"
    }
   ],
   "source": [
    "data.head()"
   ]
  },
  {
   "cell_type": "markdown",
   "metadata": {},
   "source": [
    "Before doing any of the next steps we need to extract the revies as positive or negative for creating features category wise."
   ]
  },
  {
   "cell_type": "code",
   "execution_count": 15,
   "metadata": {
    "collapsed": true
   },
   "outputs": [],
   "source": [
    "all_reviews_positive=[]\n",
    "all_reviews_negative=[]\n",
    "\n",
    "for text in (data.loc[data['review_sentiment'] == 1, 'reviewText'].values):\n",
    "    all_reviews_positive.append(text)\n",
    "    \n",
    "for text in (data.loc[data['review_sentiment'] == 0, 'reviewText'].values):\n",
    "    all_reviews_negative.append(text)"
   ]
  },
  {
   "cell_type": "code",
   "execution_count": 16,
   "metadata": {},
   "outputs": [
    {
     "data": {
      "text/plain": [
       "'This is a wild ride, on the one hand we\\'ve got this incredibly hyper violent bike gang made up of some really good guys. Seriously who would NOT want to go out for a beer with jackson, Opie, Chips, Scotty, Juice or Bobby Elvis?? Clay is another matter. Then there is the comparative morality of corrupt politicians, cynical, venal government agencies and morally compromised businessmen. So they get into all of these wild escapades, nothing is ever what it seems and the SOA is always about 15 minutes from death, destruction and prison as one scheme after another backfires. Someone should make a reel of the many \"oh s***\" moments in the series, whenever someone says it, it has already hit the fan. But it is never boring. I guarantee that if you buy the series you will be up all night watching it, simply to see what happens next. Highest possible rating.'"
      ]
     },
     "execution_count": 16,
     "metadata": {},
     "output_type": "execute_result"
    }
   ],
   "source": [
    "all_reviews_positive[2]"
   ]
  },
  {
   "cell_type": "code",
   "execution_count": 17,
   "metadata": {},
   "outputs": [
    {
     "data": {
      "text/plain": [
       "1480"
      ]
     },
     "execution_count": 17,
     "metadata": {},
     "output_type": "execute_result"
    }
   ],
   "source": [
    "len(all_reviews_positive)"
   ]
  },
  {
   "cell_type": "code",
   "execution_count": 18,
   "metadata": {},
   "outputs": [
    {
     "data": {
      "text/plain": [
       "376"
      ]
     },
     "execution_count": 18,
     "metadata": {},
     "output_type": "execute_result"
    }
   ],
   "source": [
    "len(all_reviews_negative)"
   ]
  },
  {
   "cell_type": "code",
   "execution_count": 19,
   "metadata": {},
   "outputs": [
    {
     "name": "stdout",
     "output_type": "stream",
     "text": [
      "341\n",
      "413\n",
      "110\n",
      "169\n",
      "861\n",
      "237\n",
      "505\n",
      "277\n",
      "1462\n",
      "111\n"
     ]
    }
   ],
   "source": [
    "# Finding the length of each review for 10 rows\n",
    "for i in range(10):\n",
    "    print (len (data['reviewText'][i]))"
   ]
  },
  {
   "cell_type": "markdown",
   "metadata": {},
   "source": [
    "Some of them have pretty long reviews. More the words better it is for word training."
   ]
  },
  {
   "cell_type": "markdown",
   "metadata": {},
   "source": [
    "Since the size of the text is greater than 1 million, Spacy gives an error. so broken down the text into a list of strings."
   ]
  },
  {
   "cell_type": "code",
   "execution_count": 20,
   "metadata": {
    "collapsed": true
   },
   "outputs": [],
   "source": [
    "# Parsing the texts\n",
    "nlp = spacy.load('en')\n",
    "\n",
    "all_reviews_positive_list_doc = [ nlp(text) for text in all_reviews_positive]\n",
    "all_reviews_negative_list_doc = [ nlp(text) for text in all_reviews_negative]"
   ]
  },
  {
   "cell_type": "code",
   "execution_count": 21,
   "metadata": {},
   "outputs": [
    {
     "data": {
      "text/plain": [
       "[i saw the series on TV and wasn;t too imressed. The second time around was much, much better!The story line moves effortlessly, the characters are intriguing and the suspense is superb.I highly recommend this series to all who would enjoy horror with a great story line.Also see the first American Horror Story...that is really,really good!!]"
      ]
     },
     "execution_count": 21,
     "metadata": {},
     "output_type": "execute_result"
    }
   ],
   "source": [
    "all_reviews_positive_list_doc[:1]"
   ]
  },
  {
   "cell_type": "markdown",
   "metadata": {},
   "source": [
    "### 1. Data cleaning / processing / language parsing"
   ]
  },
  {
   "cell_type": "code",
   "execution_count": 22,
   "metadata": {},
   "outputs": [],
   "source": [
    "# Cleaning the texts and making the words ready for further processing\n",
    "\n",
    "all_reviews_list_cleaned_doc=[]\n",
    "temp=''         \n",
    "for review in all_reviews_positive_list_doc:\n",
    "    for token in review:\n",
    "        if not token.is_punct and not token.is_space and  token.is_alpha:\n",
    "            temp = temp + ' ' + token.text.lower()\n",
    "    all_reviews_list_cleaned_doc.append(temp)\n",
    "    temp=''\n",
    "        \n",
    "for review in all_reviews_negative_list_doc:\n",
    "    for token in review:\n",
    "        if not token.is_punct and not token.is_space and  token.is_alpha:\n",
    "            temp = temp + ' ' + token.text.lower()\n",
    "    all_reviews_list_cleaned_doc.append(temp)\n",
    "    temp=''"
   ]
  },
  {
   "cell_type": "code",
   "execution_count": 23,
   "metadata": {},
   "outputs": [
    {
     "data": {
      "text/plain": [
       "' i saw the series on tv and too imressed the second time around was much much story line moves effortlessly the characters are intriguing and the suspense is superb i highly recommend this series to all who would enjoy horror with a great story line also see the first american horror story that is really really good'"
      ]
     },
     "execution_count": 23,
     "metadata": {},
     "output_type": "execute_result"
    }
   ],
   "source": [
    "all_reviews_list_cleaned_doc[0]"
   ]
  },
  {
   "cell_type": "markdown",
   "metadata": {},
   "source": [
    "### 2. Create features using two different NLP methods: For example,  tf-idf and word2vec."
   ]
  },
  {
   "cell_type": "markdown",
   "metadata": {},
   "source": [
    "### TF-IDF"
   ]
  },
  {
   "cell_type": "code",
   "execution_count": 24,
   "metadata": {
    "collapsed": true
   },
   "outputs": [],
   "source": [
    "def tf_idf_svd_normalizer(doc):\n",
    "    from sklearn.feature_extraction.text import TfidfVectorizer\n",
    "\n",
    "\n",
    "    vectorizer = TfidfVectorizer(max_df=0.5, # drop words that occur in more than half the paragraphs\n",
    "                             min_df=2, # only use words that appear at least twice\n",
    "                             stop_words='english', \n",
    "                             lowercase=True, #convert everything to lower case (since Alice in Wonderland has the HABIT of CAPITALIZING WORDS for EMPHASIS)\n",
    "                             use_idf=True,#we definitely want to use inverse document frequencies in our weighting\n",
    "                             norm=u'l2', #Applies a correction factor so that longer paragraphs and shorter paragraphs get treated equally\n",
    "                             smooth_idf=True #Adds 1 to all document frequencies, as if an extra document existed that used every word once.  Prevents divide-by-zero errors\n",
    "                            )\n",
    "    #Applying the vectorizer\n",
    "    review_tfidf=vectorizer.fit_transform(doc)\n",
    "    print(\"Number of features: %d\" % review_tfidf.get_shape()[1])\n",
    "\n",
    "    from sklearn.decomposition import TruncatedSVD\n",
    "    from sklearn.pipeline import make_pipeline\n",
    "    from sklearn.preprocessing import Normalizer\n",
    "\n",
    "    #Our SVD data reducer.  We are going to reduce the feature space.\n",
    "    svd= TruncatedSVD(80)\n",
    "    lsa = make_pipeline(svd, Normalizer(copy=False))\n",
    "    # Run SVD.\n",
    "    review_lsa = lsa.fit_transform(review_tfidf)\n",
    "\n",
    "    variance_explained=svd.explained_variance_ratio_\n",
    "    total_variance = variance_explained.sum()\n",
    "    print(\"\\nPercent variance captured by all components:\",total_variance*100)\n",
    "    reviews_by_component=pd.DataFrame(review_lsa, index=doc)\n",
    "\n",
    "    return reviews_by_component"
   ]
  },
  {
   "cell_type": "code",
   "execution_count": 25,
   "metadata": {},
   "outputs": [
    {
     "name": "stdout",
     "output_type": "stream",
     "text": [
      "Number of features: 6202\n",
      "\n",
      "Percent variance captured by all components: 22.81801015279512\n"
     ]
    }
   ],
   "source": [
    "reviews_by_component = tf_idf_svd_normalizer(all_reviews_list_cleaned_doc)"
   ]
  },
  {
   "cell_type": "code",
   "execution_count": 26,
   "metadata": {
    "collapsed": true
   },
   "outputs": [],
   "source": [
    "#Adding review sentiment to the final dataframe with tfidf values\n",
    "reviews_by_component.reset_index(drop=True, inplace=True)\n",
    "data.reset_index(drop=True, inplace=True)\n",
    "\n",
    "reviews_by_component['review_sentiment'] = 0\n",
    "reviews_by_component.loc[0:len(all_reviews_positive_list_doc)-1, 'review_sentiment'] = 1"
   ]
  },
  {
   "cell_type": "code",
   "execution_count": 27,
   "metadata": {},
   "outputs": [
    {
     "data": {
      "text/html": [
       "<div>\n",
       "<style>\n",
       "    .dataframe thead tr:only-child th {\n",
       "        text-align: right;\n",
       "    }\n",
       "\n",
       "    .dataframe thead th {\n",
       "        text-align: left;\n",
       "    }\n",
       "\n",
       "    .dataframe tbody tr th {\n",
       "        vertical-align: top;\n",
       "    }\n",
       "</style>\n",
       "<table border=\"1\" class=\"dataframe\">\n",
       "  <thead>\n",
       "    <tr style=\"text-align: right;\">\n",
       "      <th></th>\n",
       "      <th>0</th>\n",
       "      <th>1</th>\n",
       "      <th>2</th>\n",
       "      <th>3</th>\n",
       "      <th>4</th>\n",
       "      <th>5</th>\n",
       "      <th>6</th>\n",
       "      <th>7</th>\n",
       "      <th>8</th>\n",
       "      <th>9</th>\n",
       "      <th>...</th>\n",
       "      <th>71</th>\n",
       "      <th>72</th>\n",
       "      <th>73</th>\n",
       "      <th>74</th>\n",
       "      <th>75</th>\n",
       "      <th>76</th>\n",
       "      <th>77</th>\n",
       "      <th>78</th>\n",
       "      <th>79</th>\n",
       "      <th>review_sentiment</th>\n",
       "    </tr>\n",
       "  </thead>\n",
       "  <tbody>\n",
       "    <tr>\n",
       "      <th>0</th>\n",
       "      <td>0.409386</td>\n",
       "      <td>-0.167504</td>\n",
       "      <td>0.149653</td>\n",
       "      <td>-0.297478</td>\n",
       "      <td>0.067441</td>\n",
       "      <td>-0.093546</td>\n",
       "      <td>-0.349690</td>\n",
       "      <td>-0.078720</td>\n",
       "      <td>-0.196179</td>\n",
       "      <td>-0.115315</td>\n",
       "      <td>...</td>\n",
       "      <td>-0.005235</td>\n",
       "      <td>0.054369</td>\n",
       "      <td>0.023314</td>\n",
       "      <td>0.066395</td>\n",
       "      <td>0.176111</td>\n",
       "      <td>-0.030651</td>\n",
       "      <td>0.037291</td>\n",
       "      <td>0.006997</td>\n",
       "      <td>0.026691</td>\n",
       "      <td>1</td>\n",
       "    </tr>\n",
       "    <tr>\n",
       "      <th>1</th>\n",
       "      <td>0.321145</td>\n",
       "      <td>-0.044752</td>\n",
       "      <td>0.223515</td>\n",
       "      <td>0.014327</td>\n",
       "      <td>0.005456</td>\n",
       "      <td>0.115179</td>\n",
       "      <td>-0.079633</td>\n",
       "      <td>-0.047113</td>\n",
       "      <td>0.095964</td>\n",
       "      <td>0.056035</td>\n",
       "      <td>...</td>\n",
       "      <td>-0.100696</td>\n",
       "      <td>-0.170465</td>\n",
       "      <td>-0.058358</td>\n",
       "      <td>-0.116201</td>\n",
       "      <td>-0.040448</td>\n",
       "      <td>0.008757</td>\n",
       "      <td>-0.000471</td>\n",
       "      <td>0.024744</td>\n",
       "      <td>-0.045492</td>\n",
       "      <td>1</td>\n",
       "    </tr>\n",
       "    <tr>\n",
       "      <th>2</th>\n",
       "      <td>0.417521</td>\n",
       "      <td>-0.146403</td>\n",
       "      <td>-0.030087</td>\n",
       "      <td>-0.144196</td>\n",
       "      <td>-0.114588</td>\n",
       "      <td>-0.201507</td>\n",
       "      <td>0.116010</td>\n",
       "      <td>0.101960</td>\n",
       "      <td>0.100897</td>\n",
       "      <td>0.118997</td>\n",
       "      <td>...</td>\n",
       "      <td>-0.088107</td>\n",
       "      <td>0.042858</td>\n",
       "      <td>0.086857</td>\n",
       "      <td>-0.067961</td>\n",
       "      <td>-0.226714</td>\n",
       "      <td>0.015309</td>\n",
       "      <td>0.182233</td>\n",
       "      <td>0.173081</td>\n",
       "      <td>-0.215865</td>\n",
       "      <td>1</td>\n",
       "    </tr>\n",
       "    <tr>\n",
       "      <th>3</th>\n",
       "      <td>0.431610</td>\n",
       "      <td>0.130480</td>\n",
       "      <td>-0.123727</td>\n",
       "      <td>-0.058555</td>\n",
       "      <td>-0.222982</td>\n",
       "      <td>-0.026201</td>\n",
       "      <td>0.075022</td>\n",
       "      <td>-0.002397</td>\n",
       "      <td>0.203415</td>\n",
       "      <td>0.030632</td>\n",
       "      <td>...</td>\n",
       "      <td>-0.003971</td>\n",
       "      <td>0.088073</td>\n",
       "      <td>0.014646</td>\n",
       "      <td>-0.010094</td>\n",
       "      <td>0.084340</td>\n",
       "      <td>0.037972</td>\n",
       "      <td>0.016298</td>\n",
       "      <td>0.035692</td>\n",
       "      <td>0.035740</td>\n",
       "      <td>1</td>\n",
       "    </tr>\n",
       "    <tr>\n",
       "      <th>4</th>\n",
       "      <td>0.364417</td>\n",
       "      <td>-0.253571</td>\n",
       "      <td>-0.050427</td>\n",
       "      <td>0.251455</td>\n",
       "      <td>0.270324</td>\n",
       "      <td>-0.010629</td>\n",
       "      <td>-0.151657</td>\n",
       "      <td>0.173579</td>\n",
       "      <td>0.163715</td>\n",
       "      <td>0.116325</td>\n",
       "      <td>...</td>\n",
       "      <td>-0.284332</td>\n",
       "      <td>-0.028360</td>\n",
       "      <td>0.021132</td>\n",
       "      <td>0.099091</td>\n",
       "      <td>0.049784</td>\n",
       "      <td>-0.154065</td>\n",
       "      <td>-0.008398</td>\n",
       "      <td>0.014875</td>\n",
       "      <td>0.147180</td>\n",
       "      <td>1</td>\n",
       "    </tr>\n",
       "  </tbody>\n",
       "</table>\n",
       "<p>5 rows × 81 columns</p>\n",
       "</div>"
      ],
      "text/plain": [
       "          0         1         2         3         4         5         6  \\\n",
       "0  0.409386 -0.167504  0.149653 -0.297478  0.067441 -0.093546 -0.349690   \n",
       "1  0.321145 -0.044752  0.223515  0.014327  0.005456  0.115179 -0.079633   \n",
       "2  0.417521 -0.146403 -0.030087 -0.144196 -0.114588 -0.201507  0.116010   \n",
       "3  0.431610  0.130480 -0.123727 -0.058555 -0.222982 -0.026201  0.075022   \n",
       "4  0.364417 -0.253571 -0.050427  0.251455  0.270324 -0.010629 -0.151657   \n",
       "\n",
       "          7         8         9        ...               71        72  \\\n",
       "0 -0.078720 -0.196179 -0.115315        ...        -0.005235  0.054369   \n",
       "1 -0.047113  0.095964  0.056035        ...        -0.100696 -0.170465   \n",
       "2  0.101960  0.100897  0.118997        ...        -0.088107  0.042858   \n",
       "3 -0.002397  0.203415  0.030632        ...        -0.003971  0.088073   \n",
       "4  0.173579  0.163715  0.116325        ...        -0.284332 -0.028360   \n",
       "\n",
       "         73        74        75        76        77        78        79  \\\n",
       "0  0.023314  0.066395  0.176111 -0.030651  0.037291  0.006997  0.026691   \n",
       "1 -0.058358 -0.116201 -0.040448  0.008757 -0.000471  0.024744 -0.045492   \n",
       "2  0.086857 -0.067961 -0.226714  0.015309  0.182233  0.173081 -0.215865   \n",
       "3  0.014646 -0.010094  0.084340  0.037972  0.016298  0.035692  0.035740   \n",
       "4  0.021132  0.099091  0.049784 -0.154065 -0.008398  0.014875  0.147180   \n",
       "\n",
       "   review_sentiment  \n",
       "0                 1  \n",
       "1                 1  \n",
       "2                 1  \n",
       "3                 1  \n",
       "4                 1  \n",
       "\n",
       "[5 rows x 81 columns]"
      ]
     },
     "execution_count": 27,
     "metadata": {},
     "output_type": "execute_result"
    }
   ],
   "source": [
    "reviews_by_component.head()"
   ]
  },
  {
   "cell_type": "code",
   "execution_count": 28,
   "metadata": {},
   "outputs": [],
   "source": [
    "# To schuffle samples\n",
    "\n",
    "for i in range(10):\n",
    "    reviews_by_component = reviews_by_component.sample(frac=1, replace=False, random_state=2)\n",
    "reviews_by_component.reset_index(drop=True, inplace=True)\n",
    "\n",
    "# Splitting data into X and Y\n",
    "Y = reviews_by_component['review_sentiment']\n",
    "X = reviews_by_component.loc[:, ~(reviews_by_component.columns).isin(['review_sentiment'])]"
   ]
  },
  {
   "cell_type": "code",
   "execution_count": 29,
   "metadata": {},
   "outputs": [
    {
     "data": {
      "text/html": [
       "<div>\n",
       "<style>\n",
       "    .dataframe thead tr:only-child th {\n",
       "        text-align: right;\n",
       "    }\n",
       "\n",
       "    .dataframe thead th {\n",
       "        text-align: left;\n",
       "    }\n",
       "\n",
       "    .dataframe tbody tr th {\n",
       "        vertical-align: top;\n",
       "    }\n",
       "</style>\n",
       "<table border=\"1\" class=\"dataframe\">\n",
       "  <thead>\n",
       "    <tr style=\"text-align: right;\">\n",
       "      <th></th>\n",
       "      <th>0</th>\n",
       "      <th>1</th>\n",
       "      <th>2</th>\n",
       "      <th>3</th>\n",
       "      <th>4</th>\n",
       "      <th>5</th>\n",
       "      <th>6</th>\n",
       "      <th>7</th>\n",
       "      <th>8</th>\n",
       "      <th>9</th>\n",
       "      <th>...</th>\n",
       "      <th>71</th>\n",
       "      <th>72</th>\n",
       "      <th>73</th>\n",
       "      <th>74</th>\n",
       "      <th>75</th>\n",
       "      <th>76</th>\n",
       "      <th>77</th>\n",
       "      <th>78</th>\n",
       "      <th>79</th>\n",
       "      <th>review_sentiment</th>\n",
       "    </tr>\n",
       "  </thead>\n",
       "  <tbody>\n",
       "    <tr>\n",
       "      <th>0</th>\n",
       "      <td>0.393883</td>\n",
       "      <td>-0.063567</td>\n",
       "      <td>0.257261</td>\n",
       "      <td>-0.431183</td>\n",
       "      <td>-0.185275</td>\n",
       "      <td>-0.128605</td>\n",
       "      <td>-0.096146</td>\n",
       "      <td>0.158496</td>\n",
       "      <td>0.039335</td>\n",
       "      <td>0.090518</td>\n",
       "      <td>...</td>\n",
       "      <td>0.012684</td>\n",
       "      <td>-0.021070</td>\n",
       "      <td>-0.025396</td>\n",
       "      <td>0.098054</td>\n",
       "      <td>0.056963</td>\n",
       "      <td>0.006953</td>\n",
       "      <td>-0.064504</td>\n",
       "      <td>0.069662</td>\n",
       "      <td>-0.000399</td>\n",
       "      <td>1</td>\n",
       "    </tr>\n",
       "    <tr>\n",
       "      <th>1</th>\n",
       "      <td>0.239320</td>\n",
       "      <td>-0.129531</td>\n",
       "      <td>-0.029673</td>\n",
       "      <td>0.044872</td>\n",
       "      <td>-0.111814</td>\n",
       "      <td>0.069430</td>\n",
       "      <td>0.047863</td>\n",
       "      <td>-0.069548</td>\n",
       "      <td>0.071067</td>\n",
       "      <td>0.007624</td>\n",
       "      <td>...</td>\n",
       "      <td>-0.096269</td>\n",
       "      <td>0.097561</td>\n",
       "      <td>-0.174365</td>\n",
       "      <td>0.040121</td>\n",
       "      <td>0.054634</td>\n",
       "      <td>-0.092704</td>\n",
       "      <td>-0.136287</td>\n",
       "      <td>0.136612</td>\n",
       "      <td>-0.002873</td>\n",
       "      <td>1</td>\n",
       "    </tr>\n",
       "    <tr>\n",
       "      <th>2</th>\n",
       "      <td>0.190900</td>\n",
       "      <td>-0.034120</td>\n",
       "      <td>0.041958</td>\n",
       "      <td>0.054853</td>\n",
       "      <td>-0.099733</td>\n",
       "      <td>0.023326</td>\n",
       "      <td>0.328086</td>\n",
       "      <td>-0.123576</td>\n",
       "      <td>-0.165648</td>\n",
       "      <td>0.051635</td>\n",
       "      <td>...</td>\n",
       "      <td>0.029715</td>\n",
       "      <td>0.122833</td>\n",
       "      <td>0.012946</td>\n",
       "      <td>-0.075059</td>\n",
       "      <td>-0.071037</td>\n",
       "      <td>0.012516</td>\n",
       "      <td>0.056669</td>\n",
       "      <td>-0.054625</td>\n",
       "      <td>-0.114511</td>\n",
       "      <td>1</td>\n",
       "    </tr>\n",
       "    <tr>\n",
       "      <th>3</th>\n",
       "      <td>0.183180</td>\n",
       "      <td>-0.075942</td>\n",
       "      <td>-0.004258</td>\n",
       "      <td>-0.010940</td>\n",
       "      <td>0.008600</td>\n",
       "      <td>0.023648</td>\n",
       "      <td>-0.059022</td>\n",
       "      <td>-0.023905</td>\n",
       "      <td>-0.043008</td>\n",
       "      <td>0.101852</td>\n",
       "      <td>...</td>\n",
       "      <td>0.033308</td>\n",
       "      <td>0.004526</td>\n",
       "      <td>-0.053670</td>\n",
       "      <td>-0.003920</td>\n",
       "      <td>-0.075444</td>\n",
       "      <td>0.017720</td>\n",
       "      <td>-0.055234</td>\n",
       "      <td>-0.114543</td>\n",
       "      <td>0.109898</td>\n",
       "      <td>0</td>\n",
       "    </tr>\n",
       "    <tr>\n",
       "      <th>4</th>\n",
       "      <td>0.175584</td>\n",
       "      <td>-0.148213</td>\n",
       "      <td>-0.009032</td>\n",
       "      <td>-0.002570</td>\n",
       "      <td>-0.146987</td>\n",
       "      <td>0.029949</td>\n",
       "      <td>-0.119006</td>\n",
       "      <td>-0.129979</td>\n",
       "      <td>-0.016633</td>\n",
       "      <td>0.010882</td>\n",
       "      <td>...</td>\n",
       "      <td>0.137767</td>\n",
       "      <td>-0.072883</td>\n",
       "      <td>-0.086036</td>\n",
       "      <td>0.117234</td>\n",
       "      <td>0.104424</td>\n",
       "      <td>-0.226226</td>\n",
       "      <td>-0.177069</td>\n",
       "      <td>0.039526</td>\n",
       "      <td>0.149986</td>\n",
       "      <td>1</td>\n",
       "    </tr>\n",
       "  </tbody>\n",
       "</table>\n",
       "<p>5 rows × 81 columns</p>\n",
       "</div>"
      ],
      "text/plain": [
       "          0         1         2         3         4         5         6  \\\n",
       "0  0.393883 -0.063567  0.257261 -0.431183 -0.185275 -0.128605 -0.096146   \n",
       "1  0.239320 -0.129531 -0.029673  0.044872 -0.111814  0.069430  0.047863   \n",
       "2  0.190900 -0.034120  0.041958  0.054853 -0.099733  0.023326  0.328086   \n",
       "3  0.183180 -0.075942 -0.004258 -0.010940  0.008600  0.023648 -0.059022   \n",
       "4  0.175584 -0.148213 -0.009032 -0.002570 -0.146987  0.029949 -0.119006   \n",
       "\n",
       "          7         8         9        ...               71        72  \\\n",
       "0  0.158496  0.039335  0.090518        ...         0.012684 -0.021070   \n",
       "1 -0.069548  0.071067  0.007624        ...        -0.096269  0.097561   \n",
       "2 -0.123576 -0.165648  0.051635        ...         0.029715  0.122833   \n",
       "3 -0.023905 -0.043008  0.101852        ...         0.033308  0.004526   \n",
       "4 -0.129979 -0.016633  0.010882        ...         0.137767 -0.072883   \n",
       "\n",
       "         73        74        75        76        77        78        79  \\\n",
       "0 -0.025396  0.098054  0.056963  0.006953 -0.064504  0.069662 -0.000399   \n",
       "1 -0.174365  0.040121  0.054634 -0.092704 -0.136287  0.136612 -0.002873   \n",
       "2  0.012946 -0.075059 -0.071037  0.012516  0.056669 -0.054625 -0.114511   \n",
       "3 -0.053670 -0.003920 -0.075444  0.017720 -0.055234 -0.114543  0.109898   \n",
       "4 -0.086036  0.117234  0.104424 -0.226226 -0.177069  0.039526  0.149986   \n",
       "\n",
       "   review_sentiment  \n",
       "0                 1  \n",
       "1                 1  \n",
       "2                 1  \n",
       "3                 0  \n",
       "4                 1  \n",
       "\n",
       "[5 rows x 81 columns]"
      ]
     },
     "execution_count": 29,
     "metadata": {},
     "output_type": "execute_result"
    }
   ],
   "source": [
    "reviews_by_component.head()"
   ]
  },
  {
   "cell_type": "code",
   "execution_count": 30,
   "metadata": {},
   "outputs": [
    {
     "data": {
      "text/plain": [
       "array([1, 1, 1, ..., 0, 1, 1])"
      ]
     },
     "execution_count": 30,
     "metadata": {},
     "output_type": "execute_result"
    }
   ],
   "source": [
    "np.array(Y.T)"
   ]
  },
  {
   "cell_type": "code",
   "execution_count": 31,
   "metadata": {},
   "outputs": [
    {
     "name": "stdout",
     "output_type": "stream",
     "text": [
      "Number of review samples per each class\n",
      " Counter({1: 1480, 0: 376})\n"
     ]
    }
   ],
   "source": [
    "print('Number of review samples per each class\\n {}'.format(Counter(Y)))"
   ]
  },
  {
   "cell_type": "markdown",
   "metadata": {},
   "source": [
    "There is a lot of class imbalance here. Need to correct the problem before going further by over sampling and under sampling (SMOTE)."
   ]
  },
  {
   "cell_type": "code",
   "execution_count": 32,
   "metadata": {},
   "outputs": [
    {
     "name": "stdout",
     "output_type": "stream",
     "text": [
      "Number of review samples per each class\n",
      " Counter({1: 1480, 0: 1480})\n"
     ]
    }
   ],
   "source": [
    "# SMOTE i.e oversampling and undersampling\n",
    "smote = SMOTE(random_state=1)\n",
    "X, Y = smote.fit_resample(X, Y)\n",
    "print('Number of review samples per each class\\n {}'.format(Counter(Y)))"
   ]
  },
  {
   "cell_type": "code",
   "execution_count": 33,
   "metadata": {},
   "outputs": [
    {
     "data": {
      "text/plain": [
       "array([1, 1, 1, ..., 0, 0, 0])"
      ]
     },
     "execution_count": 33,
     "metadata": {},
     "output_type": "execute_result"
    }
   ],
   "source": [
    "Y"
   ]
  },
  {
   "cell_type": "markdown",
   "metadata": {},
   "source": [
    "Smote does minority oversampling...but adds them all together at the end causing a non-randomness in the samples.\n",
    "Need to shuffle again"
   ]
  },
  {
   "cell_type": "code",
   "execution_count": 34,
   "metadata": {},
   "outputs": [],
   "source": [
    "#Shuffle again \n",
    "X = pd.DataFrame(X)\n",
    "Y = pd.DataFrame(Y,columns=['sentiment'])\n",
    "\n",
    "for i in range(10):\n",
    "    X = X.sample(frac=1, replace=False, random_state=2)\n",
    "    Y = Y.sample(frac=1, replace=False, random_state=2)\n",
    "X.reset_index(drop=True, inplace=True)\n",
    "Y.reset_index(drop=True, inplace=True)\n",
    "Y = Y['sentiment']"
   ]
  },
  {
   "cell_type": "code",
   "execution_count": 35,
   "metadata": {},
   "outputs": [
    {
     "name": "stdout",
     "output_type": "stream",
     "text": [
      "Number of review samples per each class\n",
      " Counter({1: 1480, 0: 1480})\n"
     ]
    }
   ],
   "source": [
    "print('Number of review samples per each class\\n {}'.format(Counter(np.array(Y))))"
   ]
  },
  {
   "cell_type": "code",
   "execution_count": 36,
   "metadata": {},
   "outputs": [
    {
     "data": {
      "text/plain": [
       "array([1, 0, 0, ..., 1, 1, 1])"
      ]
     },
     "execution_count": 36,
     "metadata": {},
     "output_type": "execute_result"
    }
   ],
   "source": [
    "np.array(Y)"
   ]
  },
  {
   "cell_type": "markdown",
   "metadata": {},
   "source": [
    "### 3. Use the features to fit supervised learning models for each feature set to predict the category outcomes.\n",
    "### 4. Assess your models using cross-validation and determine whether one model performed better."
   ]
  },
  {
   "cell_type": "code",
   "execution_count": 37,
   "metadata": {
    "collapsed": true
   },
   "outputs": [],
   "source": [
    "def model(mod, X=X, Y=Y):\n",
    "    model_object=mod\n",
    "    #Data split to Train and test\n",
    "    global X_train, X_test, y_train, y_test\n",
    "    X_train, X_test, y_train, y_test = train_test_split(X, Y, test_size=0.25, random_state=3)\n",
    "    model_object.fit(X_train, y_train)\n",
    "    print (\"Model train score is %0.2f\" % (model_object.score(X_train, y_train)) )\n",
    "    evaluation(model_object)\n",
    "    return model_object\n",
    "\n",
    "def evaluation(model_object):\n",
    "    #Evalution of model\n",
    "    score=cross_val_score(X=X_test, y=y_test, estimator=model_object, cv=10)\n",
    "    print ('\\nCross_validation scores below :\\n', score)\n",
    "    print(\"\\nMean/test accuracy: %0.2f (+/- %0.2f)\\n\" % (score.mean(), score.std() * 2))\n",
    "    \n",
    "    y_pred=model_object.predict(X_test)\n",
    "  \n",
    "   #Plotting the ROC-AUC curve   \n",
    "    \n",
    "    fpr, tpr, threshold = metrics.roc_curve(y_test, y_pred)\n",
    "    roc_auc = metrics.auc(fpr, tpr)\n",
    "    plt.title('Receiver Operating Characteristic')\n",
    "    plt.plot(fpr, tpr, 'b', linewidth=4,label = 'AUC = %0.2f' % roc_auc)\n",
    "    plt.legend(loc = 'lower right', fancybox=True, fontsize='large')\n",
    "    plt.plot([0, 1], [0, 1],'r--')\n",
    "    plt.xlim([0, 1])\n",
    "    plt.ylim([0, 1])\n",
    "    plt.ylabel('True Positive Rate')\n",
    "    plt.xlabel('False Positive Rate')\n",
    "    plt.show()\n",
    "    \n",
    "    fpr=fpr[1]\n",
    "    tpr=tpr[1]\n",
    "    print ('The sensitivity i.e true positives is {0:2f}% '.format(tpr*100))\n",
    "    print ('The specificity i.e true negatives is {0:2f}% '.format((1-fpr)*100))\n",
    "    print ('The Type I error i.e. false negatives is {0:2f}% '.format((1-tpr)*100))\n",
    "    print ('The Type II error i.e. false positives is {0:2f}% '.format(fpr*100))\n",
    "    return"
   ]
  },
  {
   "cell_type": "code",
   "execution_count": 38,
   "metadata": {
    "collapsed": true
   },
   "outputs": [],
   "source": [
    "### Naive Bayes Classifier"
   ]
  },
  {
   "cell_type": "code",
   "execution_count": 39,
   "metadata": {},
   "outputs": [
    {
     "name": "stdout",
     "output_type": "stream",
     "text": [
      "Model train score is 0.73\n",
      "\n",
      "Cross_validation scores below :\n",
      " [0.69333333 0.74666667 0.66666667 0.62162162 0.67567568 0.7027027\n",
      " 0.74324324 0.7260274  0.67123288 0.7260274 ]\n",
      "\n",
      "Mean/test accuracy: 0.70 (+/- 0.07)\n",
      "\n"
     ]
    },
    {
     "data": {
      "image/png": "[encoded data removed]",
      "text/plain": [
       "<matplotlib.figure.Figure at 0x11b48eba8>"
      ]
     },
     "metadata": {},
     "output_type": "display_data"
    },
    {
     "name": "stdout",
     "output_type": "stream",
     "text": [
      "The sensitivity i.e true positives is 69.972452% \n",
      "The specificity i.e true negatives is 67.904509% \n",
      "The Type I error i.e. false negatives is 30.027548% \n",
      "The Type II error i.e. false positives is 32.095491% \n"
     ]
    },
    {
     "data": {
      "text/plain": [
       "BernoulliNB(alpha=1.0, binarize=0.0, class_prior=None, fit_prior=True)"
      ]
     },
     "execution_count": 39,
     "metadata": {},
     "output_type": "execute_result"
    }
   ],
   "source": [
    "model(BernoulliNB())"
   ]
  },
  {
   "cell_type": "code",
   "execution_count": 40,
   "metadata": {
    "collapsed": true
   },
   "outputs": [],
   "source": [
    "### kNN Classifier"
   ]
  },
  {
   "cell_type": "code",
   "execution_count": 41,
   "metadata": {},
   "outputs": [
    {
     "name": "stdout",
     "output_type": "stream",
     "text": [
      "Model train score is 0.77\n",
      "\n",
      "Cross_validation scores below :\n",
      " [0.58666667 0.68       0.62666667 0.67567568 0.59459459 0.7027027\n",
      " 0.7027027  0.63013699 0.65753425 0.67123288]\n",
      "\n",
      "Mean/test accuracy: 0.65 (+/- 0.08)\n",
      "\n"
     ]
    },
    {
     "data": {
      "image/png": "[encoded data removed]",
      "text/plain": [
       "<matplotlib.figure.Figure at 0x1a37cc97f0>"
      ]
     },
     "metadata": {},
     "output_type": "display_data"
    },
    {
     "name": "stdout",
     "output_type": "stream",
     "text": [
      "The sensitivity i.e true positives is 40.220386% \n",
      "The specificity i.e true negatives is 99.469496% \n",
      "The Type I error i.e. false negatives is 59.779614% \n",
      "The Type II error i.e. false positives is 0.530504% \n"
     ]
    },
    {
     "data": {
      "text/plain": [
       "KNeighborsClassifier(algorithm='auto', leaf_size=30, metric='minkowski',\n",
       "                     metric_params=None, n_jobs=None, n_neighbors=5, p=2,\n",
       "                     weights='uniform')"
      ]
     },
     "execution_count": 41,
     "metadata": {},
     "output_type": "execute_result"
    }
   ],
   "source": [
    "model(neighbors.KNeighborsClassifier(n_neighbors=5))"
   ]
  },
  {
   "cell_type": "code",
   "execution_count": 42,
   "metadata": {
    "collapsed": true
   },
   "outputs": [],
   "source": [
    "### Random Forest Classifier"
   ]
  },
  {
   "cell_type": "code",
   "execution_count": 43,
   "metadata": {},
   "outputs": [
    {
     "name": "stdout",
     "output_type": "stream",
     "text": [
      "Model train score is 0.99\n"
     ]
    },
    {
     "name": "stderr",
     "output_type": "stream",
     "text": [
      "/Users/Sri/anaconda3/lib/python3.6/site-packages/sklearn/ensemble/forest.py:245: FutureWarning: The default value of n_estimators will change from 10 in version 0.20 to 100 in 0.22.\n",
      "  \"10 in version 0.20 to 100 in 0.22.\", FutureWarning)\n"
     ]
    },
    {
     "name": "stdout",
     "output_type": "stream",
     "text": [
      "\n",
      "Cross_validation scores below :\n",
      " [0.77333333 0.85333333 0.70666667 0.72972973 0.74324324 0.82432432\n",
      " 0.7027027  0.78082192 0.73972603 0.7260274 ]\n",
      "\n",
      "Mean/test accuracy: 0.76 (+/- 0.09)\n",
      "\n"
     ]
    },
    {
     "data": {
      "image/png": "[encoded data removed]",
      "text/plain": [
       "<matplotlib.figure.Figure at 0x1a37f146a0>"
      ]
     },
     "metadata": {},
     "output_type": "display_data"
    },
    {
     "name": "stdout",
     "output_type": "stream",
     "text": [
      "The sensitivity i.e true positives is 77.410468% \n",
      "The specificity i.e true negatives is 90.981432% \n",
      "The Type I error i.e. false negatives is 22.589532% \n",
      "The Type II error i.e. false positives is 9.018568% \n"
     ]
    },
    {
     "data": {
      "text/plain": [
       "RandomForestClassifier(bootstrap=True, class_weight=None, criterion='gini',\n",
       "                       max_depth=None, max_features='auto', max_leaf_nodes=None,\n",
       "                       min_impurity_decrease=0.0, min_impurity_split=None,\n",
       "                       min_samples_leaf=1, min_samples_split=2,\n",
       "                       min_weight_fraction_leaf=0.0, n_estimators=10,\n",
       "                       n_jobs=None, oob_score=False, random_state=None,\n",
       "                       verbose=0, warm_start=False)"
      ]
     },
     "execution_count": 43,
     "metadata": {},
     "output_type": "execute_result"
    }
   ],
   "source": [
    "model(ensemble.RandomForestClassifier())"
   ]
  },
  {
   "cell_type": "code",
   "execution_count": 44,
   "metadata": {
    "collapsed": true
   },
   "outputs": [],
   "source": [
    "### Logistic Regression"
   ]
  },
  {
   "cell_type": "code",
   "execution_count": 45,
   "metadata": {},
   "outputs": [
    {
     "name": "stdout",
     "output_type": "stream",
     "text": [
      "Model train score is 0.80\n",
      "\n",
      "Cross_validation scores below :\n",
      " [0.73333333 0.77333333 0.74666667 0.71621622 0.75675676 0.72972973\n",
      " 0.72972973 0.80821918 0.7260274  0.68493151]\n",
      "\n",
      "Mean/test accuracy: 0.74 (+/- 0.06)\n",
      "\n"
     ]
    },
    {
     "data": {
      "image/png": "[encoded data removed]",
      "text/plain": [
       "<matplotlib.figure.Figure at 0x1a37dbecc0>"
      ]
     },
     "metadata": {},
     "output_type": "display_data"
    },
    {
     "name": "stdout",
     "output_type": "stream",
     "text": [
      "The sensitivity i.e true positives is 70.798898% \n",
      "The specificity i.e true negatives is 80.371353% \n",
      "The Type I error i.e. false negatives is 29.201102% \n",
      "The Type II error i.e. false positives is 19.628647% \n"
     ]
    },
    {
     "data": {
      "text/plain": [
       "LogisticRegression(C=1000000000.0, class_weight=None, dual=False,\n",
       "                   fit_intercept=True, intercept_scaling=1, l1_ratio=None,\n",
       "                   max_iter=100, multi_class='warn', n_jobs=None, penalty='l2',\n",
       "                   random_state=None, solver='liblinear', tol=0.0001, verbose=0,\n",
       "                   warm_start=False)"
      ]
     },
     "execution_count": 45,
     "metadata": {},
     "output_type": "execute_result"
    }
   ],
   "source": [
    "model(LogisticRegression(C=1e9, solver='liblinear'))"
   ]
  },
  {
   "cell_type": "code",
   "execution_count": 46,
   "metadata": {
    "collapsed": true
   },
   "outputs": [],
   "source": [
    "### Gradient Boost Classifier"
   ]
  },
  {
   "cell_type": "code",
   "execution_count": 47,
   "metadata": {},
   "outputs": [
    {
     "name": "stdout",
     "output_type": "stream",
     "text": [
      "Model train score is 0.99\n",
      "\n",
      "Cross_validation scores below :\n",
      " [0.74666667 0.77333333 0.76       0.78378378 0.7972973  0.87837838\n",
      " 0.7972973  0.79452055 0.7260274  0.80821918]\n",
      "\n",
      "Mean/test accuracy: 0.79 (+/- 0.08)\n",
      "\n"
     ]
    },
    {
     "data": {
      "image/png": "[encoded data removed]",
      "text/plain": [
       "<matplotlib.figure.Figure at 0x1a37e6b470>"
      ]
     },
     "metadata": {},
     "output_type": "display_data"
    },
    {
     "name": "stdout",
     "output_type": "stream",
     "text": [
      "The sensitivity i.e true positives is 80.716253% \n",
      "The specificity i.e true negatives is 92.042440% \n",
      "The Type I error i.e. false negatives is 19.283747% \n",
      "The Type II error i.e. false positives is 7.957560% \n"
     ]
    },
    {
     "data": {
      "text/plain": [
       "GradientBoostingClassifier(criterion='friedman_mse', init=None,\n",
       "                           learning_rate=0.1, loss='deviance', max_depth=2,\n",
       "                           max_features=None, max_leaf_nodes=None,\n",
       "                           min_impurity_decrease=0.0, min_impurity_split=None,\n",
       "                           min_samples_leaf=1, min_samples_split=2,\n",
       "                           min_weight_fraction_leaf=0.0, n_estimators=500,\n",
       "                           n_iter_no_change=None, presort='auto',\n",
       "                           random_state=None, subsample=1.0, tol=0.0001,\n",
       "                           validation_fraction=0.1, verbose=0,\n",
       "                           warm_start=False)"
      ]
     },
     "execution_count": 47,
     "metadata": {},
     "output_type": "execute_result"
    }
   ],
   "source": [
    "params = {'n_estimators': 500,\n",
    "          'max_depth': 2,\n",
    "          'loss': 'deviance'}\n",
    "model(ensemble.GradientBoostingClassifier(**params))"
   ]
  },
  {
   "cell_type": "markdown",
   "metadata": {},
   "source": [
    "The Gradient Boost classifier gives the best AUC of 0.86. percent 80% test accuracy and also low errors compared to other models."
   ]
  },
  {
   "cell_type": "markdown",
   "metadata": {},
   "source": [
    "### Word2Vec"
   ]
  },
  {
   "cell_type": "code",
   "execution_count": 48,
   "metadata": {},
   "outputs": [
    {
     "data": {
      "text/plain": [
       "1856"
      ]
     },
     "execution_count": 48,
     "metadata": {},
     "output_type": "execute_result"
    }
   ],
   "source": [
    "len(all_reviews_list_cleaned_doc)"
   ]
  },
  {
   "cell_type": "code",
   "execution_count": 49,
   "metadata": {},
   "outputs": [],
   "source": [
    "# Cleaning the texts and making the reviews as a list of lists needed for word2vec.\n",
    "\n",
    "all_reviews_list_cleaned_doc = []\n",
    "all_reviews_positive_list_cleaned_doc = []\n",
    "all_reviews_negative_list_cleaned_doc = []\n",
    "temp=[]         \n",
    "for review in all_reviews_positive_list_doc:\n",
    "    for token in review:\n",
    "        if not token.is_punct and not token.is_space and not token.is_stop and  token.is_alpha:\n",
    "            temp.append(token.text.lower())\n",
    "    all_reviews_positive_list_cleaned_doc.append(temp)\n",
    "    temp=[]\n",
    "        \n",
    "for review in all_reviews_negative_list_doc:\n",
    "    for token in review:\n",
    "        if not token.is_punct and not token.is_space and not token.is_stop and  token.is_alpha:\n",
    "            temp.append(token.text.lower())\n",
    "    all_reviews_negative_list_cleaned_doc.append(temp)\n",
    "    temp=[]\n",
    "all_reviews_list_cleaned_doc = all_reviews_positive_list_cleaned_doc+all_reviews_negative_list_cleaned_doc"
   ]
  },
  {
   "cell_type": "code",
   "execution_count": 51,
   "metadata": {},
   "outputs": [
    {
     "name": "stdout",
     "output_type": "stream",
     "text": [
      "['saw', 'series', 'tv', 'imressed', 'second', 'time', 'story', 'line', 'moves', 'effortlessly', 'characters', 'intriguing', 'suspense', 'superb', 'highly', 'recommend', 'series', 'enjoy', 'horror', 'great', 'story', 'line', 'american', 'horror', 'story', 'good']\n"
     ]
    }
   ],
   "source": [
    "for item in all_reviews_list_cleaned_doc:\n",
    "    print ((item))\n",
    "    break"
   ]
  },
  {
   "cell_type": "code",
   "execution_count": 52,
   "metadata": {},
   "outputs": [
    {
     "data": {
      "text/plain": [
       "1856"
      ]
     },
     "execution_count": 52,
     "metadata": {},
     "output_type": "execute_result"
    }
   ],
   "source": [
    "len(all_reviews_list_cleaned_doc)"
   ]
  },
  {
   "cell_type": "code",
   "execution_count": 53,
   "metadata": {},
   "outputs": [
    {
     "data": {
      "text/plain": [
       "(652219, 757740)"
      ]
     },
     "execution_count": 53,
     "metadata": {},
     "output_type": "execute_result"
    }
   ],
   "source": [
    "import gensim \n",
    "model = gensim.models.Word2Vec (all_reviews_list_cleaned_doc, size=10, window=5, min_count=2, workers=10)\n",
    "\n",
    "model.train(all_reviews_list_cleaned_doc,total_examples=len(all_reviews_list_cleaned_doc),epochs=10)"
   ]
  },
  {
   "cell_type": "code",
   "execution_count": 54,
   "metadata": {},
   "outputs": [],
   "source": [
    "vocab=model.wv.vocab.keys()"
   ]
  },
  {
   "cell_type": "code",
   "execution_count": 55,
   "metadata": {},
   "outputs": [
    {
     "name": "stdout",
     "output_type": "stream",
     "text": [
      "<class 'dict_keys'>\n"
     ]
    }
   ],
   "source": [
    "print (type(vocab))"
   ]
  },
  {
   "cell_type": "code",
   "execution_count": 56,
   "metadata": {},
   "outputs": [
    {
     "data": {
      "text/plain": [
       "[('sort', 0.9993503093719482),\n",
       " ('satisfying', 0.9991529583930969),\n",
       " ('wilson', 0.9991020560264587),\n",
       " ('intelligent', 0.9990094900131226),\n",
       " ('surprisingly', 0.9988892674446106),\n",
       " ('clever', 0.998873233795166),\n",
       " ('insightful', 0.9987607002258301),\n",
       " ('typical', 0.99870765209198),\n",
       " ('report', 0.9986562132835388),\n",
       " ('extremely', 0.9986466765403748)]"
      ]
     },
     "execution_count": 56,
     "metadata": {},
     "output_type": "execute_result"
    }
   ],
   "source": [
    "\n",
    "model.wv.most_similar (positive='cool')"
   ]
  },
  {
   "cell_type": "code",
   "execution_count": 57,
   "metadata": {},
   "outputs": [
    {
     "name": "stderr",
     "output_type": "stream",
     "text": [
      "/Users/Sri/anaconda3/lib/python3.6/site-packages/ipykernel_launcher.py:1: DeprecationWarning: Call to deprecated `__getitem__` (Method will be removed in 4.0.0, use self.wv.__getitem__() instead).\n",
      "  \"\"\"Entry point for launching an IPython kernel.\n"
     ]
    },
    {
     "data": {
      "text/plain": [
       "array([-0.91171587,  1.956307  , -2.0876255 , -1.2192907 , -0.9276077 ,\n",
       "       -0.69962287,  1.3873463 , -1.1240077 ,  0.60522383, -1.3595711 ],\n",
       "      dtype=float32)"
      ]
     },
     "execution_count": 57,
     "metadata": {},
     "output_type": "execute_result"
    }
   ],
   "source": [
    "model['excellent']"
   ]
  },
  {
   "cell_type": "code",
   "execution_count": 58,
   "metadata": {},
   "outputs": [
    {
     "ename": "SyntaxError",
     "evalue": "invalid syntax (<ipython-input-58-0c6390030d0b>, line 3)",
     "output_type": "error",
     "traceback": [
      "\u001b[0;36m  File \u001b[0;32m\"<ipython-input-58-0c6390030d0b>\"\u001b[0;36m, line \u001b[0;32m3\u001b[0m\n\u001b[0;31m    if word in\u001b[0m\n\u001b[0m               ^\u001b[0m\n\u001b[0;31mSyntaxError\u001b[0m\u001b[0;31m:\u001b[0m invalid syntax\n"
     ]
    }
   ],
   "source": [
    "word2vec_df = pd.DataFrame()\n",
    "for word in vocab:\n",
    "    if word in \n",
    "    word2vec_df[word] = model[word]"
   ]
  },
  {
   "cell_type": "code",
   "execution_count": null,
   "metadata": {
    "collapsed": true
   },
   "outputs": [],
   "source": []
  },
  {
   "cell_type": "code",
   "execution_count": null,
   "metadata": {
    "collapsed": true
   },
   "outputs": [],
   "source": []
  },
  {
   "cell_type": "code",
   "execution_count": null,
   "metadata": {
    "collapsed": true
   },
   "outputs": [],
   "source": []
  },
  {
   "cell_type": "code",
   "execution_count": null,
   "metadata": {
    "collapsed": true
   },
   "outputs": [],
   "source": []
  },
  {
   "cell_type": "code",
   "execution_count": null,
   "metadata": {
    "collapsed": true
   },
   "outputs": [],
   "source": []
  },
  {
   "cell_type": "code",
   "execution_count": null,
   "metadata": {
    "collapsed": true
   },
   "outputs": [],
   "source": []
  },
  {
   "cell_type": "code",
   "execution_count": null,
   "metadata": {
    "collapsed": true
   },
   "outputs": [],
   "source": []
  },
  {
   "cell_type": "code",
   "execution_count": null,
   "metadata": {
    "collapsed": true
   },
   "outputs": [],
   "source": []
  },
  {
   "cell_type": "code",
   "execution_count": null,
   "metadata": {
    "collapsed": true
   },
   "outputs": [],
   "source": [
    "#from gensim.test.utils import common_texts\n",
    "#from gensim.models.doc2vec import Doc2Vec, TaggedDocument\n",
    "\n",
    "#documents = [TaggedDocument(doc, [i]) for i, doc in enumerate(all_reviews_list_cleaned_doc)]\n",
    "#model = Doc2Vec(documents, vector_size=5, window=2, min_count=1, workers=4)"
   ]
  },
  {
   "cell_type": "code",
   "execution_count": null,
   "metadata": {
    "collapsed": true
   },
   "outputs": [],
   "source": [
    "#from gensim.test.utils import get_tmpfile\n",
    "\n",
    "#fname = get_tmpfile(\"my_doc2vec_model\")\n",
    "\n",
    "#model.save(fname)\n",
    "#model = Doc2Vec.load(fname)  # you can continue training with the loaded model!"
   ]
  },
  {
   "cell_type": "code",
   "execution_count": null,
   "metadata": {
    "collapsed": true
   },
   "outputs": [],
   "source": []
  },
  {
   "cell_type": "markdown",
   "metadata": {},
   "source": [
    "The model can be enhanced even more using sentence2vec or doc2vec embedding to generalize more."
   ]
  }
 ],
 "metadata": {
  "kernelspec": {
   "display_name": "Python 3",
   "language": "python",
   "name": "python3"
  },
  "language_info": {
   "codemirror_mode": {
    "name": "ipython",
    "version": 3
   },
   "file_extension": ".py",
   "mimetype": "text/x-python",
   "name": "python",
   "nbconvert_exporter": "python",
   "pygments_lexer": "ipython3",
   "version": "3.6.2"
  }
 },
 "nbformat": 4,
 "nbformat_minor": 2
}
