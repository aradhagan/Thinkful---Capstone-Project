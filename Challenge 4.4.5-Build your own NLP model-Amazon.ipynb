{
 "cells": [
  {
   "cell_type": "code",
   "execution_count": 123,
   "metadata": {
    "scrolled": true
   },
   "outputs": [],
   "source": [
    "from matplotlib import pyplot as plt\n",
    "from sklearn.naive_bayes import BernoulliNB\n",
    "from sklearn.model_selection import cross_val_score\n",
    "from sklearn.model_selection import train_test_split\n",
    "from sklearn import neighbors\n",
    "from imblearn.over_sampling import SMOTENC\n",
    "from imblearn.over_sampling import SMOTE\n",
    "from sklearn.linear_model import LogisticRegression\n",
    "from sklearn.metrics import confusion_matrix\n",
    "from sklearn.svm import SVC\n",
    "from collections import Counter\n",
    "from sklearn import ensemble\n",
    "from sklearn import metrics\n",
    "import numpy as np\n",
    "import pandas as pd\n",
    "import seaborn as sns\n",
    "\n",
    "import spacy\n",
    "\n",
    "sns.set(rc={'figure.figsize':(12,7)}, style='whitegrid', color_codes=True)"
   ]
  },
  {
   "cell_type": "markdown",
   "metadata": {
    "collapsed": true
   },
   "source": [
    "Source = http://jmcauley.ucsd.edu/data/amazon/ "
   ]
  },
  {
   "cell_type": "markdown",
   "metadata": {},
   "source": [
    "## Challenge: Is to Build an NLP model to classify reviews or texts from Amazon as positive or negative."
   ]
  },
  {
   "cell_type": "code",
   "execution_count": 124,
   "metadata": {
    "collapsed": true
   },
   "outputs": [],
   "source": [
    "#df =  pd.read_csv('/Users/Sri/Downloads/Amazon_Books_Review.csv')\n",
    "df = pd.read_json('Amazon_Instant_Video_5.json', lines=True)"
   ]
  },
  {
   "cell_type": "code",
   "execution_count": 125,
   "metadata": {
    "scrolled": true
   },
   "outputs": [
    {
     "data": {
      "text/html": [
       "<div>\n",
       "<style>\n",
       "    .dataframe thead tr:only-child th {\n",
       "        text-align: right;\n",
       "    }\n",
       "\n",
       "    .dataframe thead th {\n",
       "        text-align: left;\n",
       "    }\n",
       "\n",
       "    .dataframe tbody tr th {\n",
       "        vertical-align: top;\n",
       "    }\n",
       "</style>\n",
       "<table border=\"1\" class=\"dataframe\">\n",
       "  <thead>\n",
       "    <tr style=\"text-align: right;\">\n",
       "      <th></th>\n",
       "      <th>asin</th>\n",
       "      <th>helpful</th>\n",
       "      <th>overall</th>\n",
       "      <th>reviewText</th>\n",
       "      <th>reviewTime</th>\n",
       "      <th>reviewerID</th>\n",
       "      <th>reviewerName</th>\n",
       "      <th>summary</th>\n",
       "      <th>unixReviewTime</th>\n",
       "    </tr>\n",
       "  </thead>\n",
       "  <tbody>\n",
       "    <tr>\n",
       "      <th>0</th>\n",
       "      <td>B000H00VBQ</td>\n",
       "      <td>[0, 0]</td>\n",
       "      <td>2</td>\n",
       "      <td>I had big expectations because I love English ...</td>\n",
       "      <td>05 3, 2014</td>\n",
       "      <td>A11N155CW1UV02</td>\n",
       "      <td>AdrianaM</td>\n",
       "      <td>A little bit boring for me</td>\n",
       "      <td>1399075200</td>\n",
       "    </tr>\n",
       "    <tr>\n",
       "      <th>1</th>\n",
       "      <td>B000H00VBQ</td>\n",
       "      <td>[0, 0]</td>\n",
       "      <td>5</td>\n",
       "      <td>I highly recommend this series. It is a must f...</td>\n",
       "      <td>09 3, 2012</td>\n",
       "      <td>A3BC8O2KCL29V2</td>\n",
       "      <td>Carol T</td>\n",
       "      <td>Excellent Grown Up TV</td>\n",
       "      <td>1346630400</td>\n",
       "    </tr>\n",
       "    <tr>\n",
       "      <th>2</th>\n",
       "      <td>B000H00VBQ</td>\n",
       "      <td>[0, 1]</td>\n",
       "      <td>1</td>\n",
       "      <td>This one is a real snoozer. Don't believe anyt...</td>\n",
       "      <td>10 16, 2013</td>\n",
       "      <td>A60D5HQFOTSOM</td>\n",
       "      <td>Daniel Cooper \"dancoopermedia\"</td>\n",
       "      <td>Way too boring for me</td>\n",
       "      <td>1381881600</td>\n",
       "    </tr>\n",
       "    <tr>\n",
       "      <th>3</th>\n",
       "      <td>B000H00VBQ</td>\n",
       "      <td>[0, 0]</td>\n",
       "      <td>4</td>\n",
       "      <td>Mysteries are interesting.  The tension betwee...</td>\n",
       "      <td>10 30, 2013</td>\n",
       "      <td>A1RJPIGRSNX4PW</td>\n",
       "      <td>J. Kaplan \"JJ\"</td>\n",
       "      <td>Robson Green is mesmerizing</td>\n",
       "      <td>1383091200</td>\n",
       "    </tr>\n",
       "    <tr>\n",
       "      <th>4</th>\n",
       "      <td>B000H00VBQ</td>\n",
       "      <td>[1, 1]</td>\n",
       "      <td>5</td>\n",
       "      <td>This show always is excellent, as far as briti...</td>\n",
       "      <td>02 11, 2009</td>\n",
       "      <td>A16XRPF40679KG</td>\n",
       "      <td>Michael Dobey</td>\n",
       "      <td>Robson green and great writing</td>\n",
       "      <td>1234310400</td>\n",
       "    </tr>\n",
       "  </tbody>\n",
       "</table>\n",
       "</div>"
      ],
      "text/plain": [
       "         asin helpful  overall  \\\n",
       "0  B000H00VBQ  [0, 0]        2   \n",
       "1  B000H00VBQ  [0, 0]        5   \n",
       "2  B000H00VBQ  [0, 1]        1   \n",
       "3  B000H00VBQ  [0, 0]        4   \n",
       "4  B000H00VBQ  [1, 1]        5   \n",
       "\n",
       "                                          reviewText   reviewTime  \\\n",
       "0  I had big expectations because I love English ...   05 3, 2014   \n",
       "1  I highly recommend this series. It is a must f...   09 3, 2012   \n",
       "2  This one is a real snoozer. Don't believe anyt...  10 16, 2013   \n",
       "3  Mysteries are interesting.  The tension betwee...  10 30, 2013   \n",
       "4  This show always is excellent, as far as briti...  02 11, 2009   \n",
       "\n",
       "       reviewerID                    reviewerName  \\\n",
       "0  A11N155CW1UV02                        AdrianaM   \n",
       "1  A3BC8O2KCL29V2                         Carol T   \n",
       "2   A60D5HQFOTSOM  Daniel Cooper \"dancoopermedia\"   \n",
       "3  A1RJPIGRSNX4PW                  J. Kaplan \"JJ\"   \n",
       "4  A16XRPF40679KG                   Michael Dobey   \n",
       "\n",
       "                          summary  unixReviewTime  \n",
       "0      A little bit boring for me      1399075200  \n",
       "1           Excellent Grown Up TV      1346630400  \n",
       "2           Way too boring for me      1381881600  \n",
       "3     Robson Green is mesmerizing      1383091200  \n",
       "4  Robson green and great writing      1234310400  "
      ]
     },
     "execution_count": 125,
     "metadata": {},
     "output_type": "execute_result"
    }
   ],
   "source": [
    "df.head()"
   ]
  },
  {
   "cell_type": "code",
   "execution_count": 152,
   "metadata": {},
   "outputs": [
    {
     "data": {
      "text/plain": [
       "5    0.562678\n",
       "4    0.227496\n",
       "3    0.112778\n",
       "2    0.050773\n",
       "1    0.046275\n",
       "Name: overall, dtype: float64"
      ]
     },
     "execution_count": 152,
     "metadata": {},
     "output_type": "execute_result"
    }
   ],
   "source": [
    "df.overall.value_counts(normalize=True)"
   ]
  },
  {
   "cell_type": "code",
   "execution_count": 126,
   "metadata": {},
   "outputs": [
    {
     "name": "stdout",
     "output_type": "stream",
     "text": [
      "<class 'pandas.core.frame.DataFrame'>\n",
      "Int64Index: 37126 entries, 0 to 37125\n",
      "Data columns (total 9 columns):\n",
      "asin              37126 non-null object\n",
      "helpful           37126 non-null object\n",
      "overall           37126 non-null int64\n",
      "reviewText        37126 non-null object\n",
      "reviewTime        37126 non-null object\n",
      "reviewerID        37126 non-null object\n",
      "reviewerName      36797 non-null object\n",
      "summary           37126 non-null object\n",
      "unixReviewTime    37126 non-null int64\n",
      "dtypes: int64(2), object(7)\n",
      "memory usage: 2.8+ MB\n"
     ]
    }
   ],
   "source": [
    "df.info()"
   ]
  },
  {
   "cell_type": "code",
   "execution_count": 127,
   "metadata": {
    "collapsed": true
   },
   "outputs": [],
   "source": [
    "# Making a subset dataframe of only the columns which are necessary for analysis.\n",
    "data=df[['reviewText', 'overall']]"
   ]
  },
  {
   "cell_type": "code",
   "execution_count": 128,
   "metadata": {
    "collapsed": true
   },
   "outputs": [],
   "source": [
    "# Making a subset of the data for faster run time\n",
    "data = data.sample(frac=0.005, replace=False, random_state=1)"
   ]
  },
  {
   "cell_type": "code",
   "execution_count": 129,
   "metadata": {},
   "outputs": [
    {
     "name": "stdout",
     "output_type": "stream",
     "text": [
      "<class 'pandas.core.frame.DataFrame'>\n",
      "Int64Index: 186 entries, 19223 to 17925\n",
      "Data columns (total 2 columns):\n",
      "reviewText    186 non-null object\n",
      "overall       186 non-null int64\n",
      "dtypes: int64(1), object(1)\n",
      "memory usage: 4.4+ KB\n"
     ]
    }
   ],
   "source": [
    "data.info()"
   ]
  },
  {
   "cell_type": "code",
   "execution_count": 130,
   "metadata": {},
   "outputs": [
    {
     "data": {
      "text/html": [
       "<div>\n",
       "<style>\n",
       "    .dataframe thead tr:only-child th {\n",
       "        text-align: right;\n",
       "    }\n",
       "\n",
       "    .dataframe thead th {\n",
       "        text-align: left;\n",
       "    }\n",
       "\n",
       "    .dataframe tbody tr th {\n",
       "        vertical-align: top;\n",
       "    }\n",
       "</style>\n",
       "<table border=\"1\" class=\"dataframe\">\n",
       "  <thead>\n",
       "    <tr style=\"text-align: right;\">\n",
       "      <th></th>\n",
       "      <th>reviewText</th>\n",
       "      <th>overall</th>\n",
       "    </tr>\n",
       "  </thead>\n",
       "  <tbody>\n",
       "    <tr>\n",
       "      <th>19223</th>\n",
       "      <td>i saw the series on TV and wasn;t too imressed...</td>\n",
       "      <td>5</td>\n",
       "    </tr>\n",
       "    <tr>\n",
       "      <th>8564</th>\n",
       "      <td>I love police procedurals. My favorite is the ...</td>\n",
       "      <td>5</td>\n",
       "    </tr>\n",
       "    <tr>\n",
       "      <th>10406</th>\n",
       "      <td>Very good well written series,  so sorry it di...</td>\n",
       "      <td>3</td>\n",
       "    </tr>\n",
       "    <tr>\n",
       "      <th>14717</th>\n",
       "      <td>One episode in, I plan to watch another. The a...</td>\n",
       "      <td>3</td>\n",
       "    </tr>\n",
       "    <tr>\n",
       "      <th>2554</th>\n",
       "      <td>This is a wild ride, on the one hand we've got...</td>\n",
       "      <td>5</td>\n",
       "    </tr>\n",
       "  </tbody>\n",
       "</table>\n",
       "</div>"
      ],
      "text/plain": [
       "                                              reviewText  overall\n",
       "19223  i saw the series on TV and wasn;t too imressed...        5\n",
       "8564   I love police procedurals. My favorite is the ...        5\n",
       "10406  Very good well written series,  so sorry it di...        3\n",
       "14717  One episode in, I plan to watch another. The a...        3\n",
       "2554   This is a wild ride, on the one hand we've got...        5"
      ]
     },
     "execution_count": 130,
     "metadata": {},
     "output_type": "execute_result"
    }
   ],
   "source": [
    "data.head()"
   ]
  },
  {
   "cell_type": "code",
   "execution_count": 131,
   "metadata": {},
   "outputs": [
    {
     "data": {
      "text/plain": [
       "Series([], dtype: int64)"
      ]
     },
     "execution_count": 131,
     "metadata": {},
     "output_type": "execute_result"
    }
   ],
   "source": [
    "data.isnull().sum()[data.isnull().sum()>0]"
   ]
  },
  {
   "cell_type": "code",
   "execution_count": 132,
   "metadata": {
    "collapsed": true
   },
   "outputs": [],
   "source": [
    "# Deleting the null values since they represent 0.006% of the data.\n",
    "data.dropna(inplace=True, axis=0)\n",
    "data.reset_index(inplace=True, drop=True)"
   ]
  },
  {
   "cell_type": "code",
   "execution_count": 133,
   "metadata": {},
   "outputs": [
    {
     "data": {
      "text/plain": [
       "array([5, 3, 4, 2, 1])"
      ]
     },
     "execution_count": 133,
     "metadata": {},
     "output_type": "execute_result"
    }
   ],
   "source": [
    "data.overall.unique()"
   ]
  },
  {
   "cell_type": "code",
   "execution_count": 134,
   "metadata": {
    "collapsed": true
   },
   "outputs": [],
   "source": [
    "# Creating outcome variable i.e review_sentiment as positive or negative\n",
    "data['review_sentiment'] = np.where(data['overall'] > 3, 1, 0)"
   ]
  },
  {
   "cell_type": "code",
   "execution_count": 135,
   "metadata": {},
   "outputs": [
    {
     "data": {
      "text/html": [
       "<div>\n",
       "<style>\n",
       "    .dataframe thead tr:only-child th {\n",
       "        text-align: right;\n",
       "    }\n",
       "\n",
       "    .dataframe thead th {\n",
       "        text-align: left;\n",
       "    }\n",
       "\n",
       "    .dataframe tbody tr th {\n",
       "        vertical-align: top;\n",
       "    }\n",
       "</style>\n",
       "<table border=\"1\" class=\"dataframe\">\n",
       "  <thead>\n",
       "    <tr style=\"text-align: right;\">\n",
       "      <th></th>\n",
       "      <th>reviewText</th>\n",
       "      <th>overall</th>\n",
       "      <th>review_sentiment</th>\n",
       "    </tr>\n",
       "  </thead>\n",
       "  <tbody>\n",
       "    <tr>\n",
       "      <th>0</th>\n",
       "      <td>i saw the series on TV and wasn;t too imressed...</td>\n",
       "      <td>5</td>\n",
       "      <td>1</td>\n",
       "    </tr>\n",
       "    <tr>\n",
       "      <th>1</th>\n",
       "      <td>I love police procedurals. My favorite is the ...</td>\n",
       "      <td>5</td>\n",
       "      <td>1</td>\n",
       "    </tr>\n",
       "    <tr>\n",
       "      <th>2</th>\n",
       "      <td>Very good well written series,  so sorry it di...</td>\n",
       "      <td>3</td>\n",
       "      <td>0</td>\n",
       "    </tr>\n",
       "    <tr>\n",
       "      <th>3</th>\n",
       "      <td>One episode in, I plan to watch another. The a...</td>\n",
       "      <td>3</td>\n",
       "      <td>0</td>\n",
       "    </tr>\n",
       "    <tr>\n",
       "      <th>4</th>\n",
       "      <td>This is a wild ride, on the one hand we've got...</td>\n",
       "      <td>5</td>\n",
       "      <td>1</td>\n",
       "    </tr>\n",
       "  </tbody>\n",
       "</table>\n",
       "</div>"
      ],
      "text/plain": [
       "                                          reviewText  overall  \\\n",
       "0  i saw the series on TV and wasn;t too imressed...        5   \n",
       "1  I love police procedurals. My favorite is the ...        5   \n",
       "2  Very good well written series,  so sorry it di...        3   \n",
       "3  One episode in, I plan to watch another. The a...        3   \n",
       "4  This is a wild ride, on the one hand we've got...        5   \n",
       "\n",
       "   review_sentiment  \n",
       "0                 1  \n",
       "1                 1  \n",
       "2                 0  \n",
       "3                 0  \n",
       "4                 1  "
      ]
     },
     "execution_count": 135,
     "metadata": {},
     "output_type": "execute_result"
    }
   ],
   "source": [
    "data.head()"
   ]
  },
  {
   "cell_type": "markdown",
   "metadata": {},
   "source": [
    "Before doing any of the next steps we need to extract the revies as positive or negative for creating features category wise."
   ]
  },
  {
   "cell_type": "code",
   "execution_count": 136,
   "metadata": {
    "collapsed": true
   },
   "outputs": [],
   "source": [
    "all_reviews_positive=[]\n",
    "all_reviews_negative=[]\n",
    "\n",
    "for text in (data.loc[data['review_sentiment'] == 1, 'reviewText'].values):\n",
    "    all_reviews_positive.append(text)\n",
    "    \n",
    "for text in (data.loc[data['review_sentiment'] == 0, 'reviewText'].values):\n",
    "    all_reviews_negative.append(text)"
   ]
  },
  {
   "cell_type": "code",
   "execution_count": 137,
   "metadata": {},
   "outputs": [
    {
     "data": {
      "text/plain": [
       "145"
      ]
     },
     "execution_count": 137,
     "metadata": {},
     "output_type": "execute_result"
    }
   ],
   "source": [
    "len(all_reviews_positive)"
   ]
  },
  {
   "cell_type": "code",
   "execution_count": 138,
   "metadata": {},
   "outputs": [
    {
     "data": {
      "text/plain": [
       "41"
      ]
     },
     "execution_count": 138,
     "metadata": {},
     "output_type": "execute_result"
    }
   ],
   "source": [
    "len(all_reviews_negative)"
   ]
  },
  {
   "cell_type": "code",
   "execution_count": 139,
   "metadata": {},
   "outputs": [
    {
     "name": "stdout",
     "output_type": "stream",
     "text": [
      "341\n",
      "413\n",
      "110\n",
      "169\n",
      "861\n",
      "237\n",
      "505\n",
      "277\n",
      "1462\n",
      "111\n"
     ]
    }
   ],
   "source": [
    "# Finding the length of each review for 10 rows\n",
    "for i in range(10):\n",
    "    print (len (data['reviewText'][i]))"
   ]
  },
  {
   "cell_type": "markdown",
   "metadata": {},
   "source": [
    "Some of them have pretty long reviews. More the words better it is for word training."
   ]
  },
  {
   "cell_type": "markdown",
   "metadata": {},
   "source": [
    "Since the size of the text is greater than 1 million, Spacy gives an error. so broken down the text into a list of strings."
   ]
  },
  {
   "cell_type": "code",
   "execution_count": 140,
   "metadata": {
    "collapsed": true
   },
   "outputs": [],
   "source": [
    "# Parsing the texts\n",
    "nlp = spacy.load('en')\n",
    "\n",
    "all_reviews_positive_list_doc = [ nlp(text) for text in all_reviews_positive]\n",
    "all_reviews_negative_list_doc = [ nlp(text) for text in all_reviews_negative]"
   ]
  },
  {
   "cell_type": "code",
   "execution_count": 141,
   "metadata": {},
   "outputs": [
    {
     "data": {
      "text/plain": [
       "[i saw the series on TV and wasn;t too imressed. The second time around was much, much better!The story line moves effortlessly, the characters are intriguing and the suspense is superb.I highly recommend this series to all who would enjoy horror with a great story line.Also see the first American Horror Story...that is really,really good!!]"
      ]
     },
     "execution_count": 141,
     "metadata": {},
     "output_type": "execute_result"
    }
   ],
   "source": [
    "all_reviews_positive_list_doc[:1]"
   ]
  },
  {
   "cell_type": "code",
   "execution_count": 142,
   "metadata": {
    "collapsed": true
   },
   "outputs": [],
   "source": [
    "# Group into lists with label.\n",
    "for text_doc in all_reviews_positive_list_doc:\n",
    "    positive_review = [[review, 1] for review in all_reviews_positive_list_doc]\n",
    "    \n",
    "for text_doc in all_reviews_negative_list_doc:\n",
    "    negative_review = [[review, 0] for review in all_reviews_negative_list_doc]    \n"
   ]
  },
  {
   "cell_type": "markdown",
   "metadata": {},
   "source": [
    "### 1. Data cleaning / processing / language parsing"
   ]
  },
  {
   "cell_type": "code",
   "execution_count": 143,
   "metadata": {},
   "outputs": [],
   "source": [
    "# Cleaning the texts and making the words ready for further processing\n",
    "\n",
    "all_reviews_list_cleaned_doc=[]\n",
    "temp=''         \n",
    "for review in all_reviews_positive_list_doc:\n",
    "    for token in review:\n",
    "        if not token.is_punct and not token.is_space and  token.is_alpha:\n",
    "            temp = temp + ' ' + token.text.lower()\n",
    "    all_reviews_list_cleaned_doc.append(temp)\n",
    "    temp=''\n",
    "        \n",
    "for review in all_reviews_negative_list_doc:\n",
    "    for token in review:\n",
    "        if not token.is_punct and not token.is_space and  token.is_alpha:\n",
    "            temp = temp + ' ' + token.text.lower()\n",
    "    all_reviews_list_cleaned_doc.append(temp)\n",
    "    temp=''"
   ]
  },
  {
   "cell_type": "code",
   "execution_count": 144,
   "metadata": {},
   "outputs": [
    {
     "data": {
      "text/plain": [
       "' i saw the series on tv and too imressed the second time around was much much story line moves effortlessly the characters are intriguing and the suspense is superb i highly recommend this series to all who would enjoy horror with a great story line also see the first american horror story that is really really good'"
      ]
     },
     "execution_count": 144,
     "metadata": {},
     "output_type": "execute_result"
    }
   ],
   "source": [
    "all_reviews_list_cleaned_doc[0]"
   ]
  },
  {
   "cell_type": "markdown",
   "metadata": {},
   "source": [
    "### 2. Create features using two different NLP methods: For example,  tf-idf and word2vec."
   ]
  },
  {
   "cell_type": "markdown",
   "metadata": {},
   "source": [
    "### TF-IDF"
   ]
  },
  {
   "cell_type": "code",
   "execution_count": 145,
   "metadata": {
    "collapsed": true
   },
   "outputs": [],
   "source": [
    "def tf_idf_svd_normalizer(doc):\n",
    "    from sklearn.feature_extraction.text import TfidfVectorizer\n",
    "\n",
    "\n",
    "    vectorizer = TfidfVectorizer(max_df=0.5, # drop words that occur in more than half the paragraphs\n",
    "                             min_df=2, # only use words that appear at least twice\n",
    "                             stop_words='english', \n",
    "                             lowercase=True, #convert everything to lower case (since Alice in Wonderland has the HABIT of CAPITALIZING WORDS for EMPHASIS)\n",
    "                             use_idf=True,#we definitely want to use inverse document frequencies in our weighting\n",
    "                             norm=u'l2', #Applies a correction factor so that longer paragraphs and shorter paragraphs get treated equally\n",
    "                             smooth_idf=True #Adds 1 to all document frequencies, as if an extra document existed that used every word once.  Prevents divide-by-zero errors\n",
    "                            )\n",
    "    #Applying the vectorizer\n",
    "    review_tfidf=vectorizer.fit_transform(doc)\n",
    "    print(\"Number of features: %d\" % review_tfidf.get_shape()[1])\n",
    "\n",
    "    from sklearn.decomposition import TruncatedSVD\n",
    "    from sklearn.pipeline import make_pipeline\n",
    "    from sklearn.preprocessing import Normalizer\n",
    "\n",
    "    #Our SVD data reducer.  We are going to reduce the feature space.\n",
    "    svd= TruncatedSVD(990)\n",
    "    lsa = make_pipeline(svd, Normalizer(copy=False))\n",
    "    # Run SVD.\n",
    "    review_lsa = lsa.fit_transform(review_tfidf)\n",
    "\n",
    "    variance_explained=svd.explained_variance_ratio_\n",
    "    total_variance = variance_explained.sum()\n",
    "    print(\"\\nPercent variance captured by all components:\",total_variance*100)\n",
    "\n",
    "\n",
    "    return reviews_by_component"
   ]
  },
  {
   "cell_type": "code",
   "execution_count": 146,
   "metadata": {},
   "outputs": [
    {
     "name": "stdout",
     "output_type": "stream",
     "text": [
      "Number of features: 996\n"
     ]
    }
   ],
   "source": [
    "from sklearn.feature_extraction.text import TfidfVectorizer\n",
    "\n",
    "\n",
    "vectorizer = TfidfVectorizer(max_df=0.5, # drop words that occur in more than half the paragraphs\n",
    "                         min_df=2, # only use words that appear at least twice\n",
    "                         stop_words='english', \n",
    "                         lowercase=True, #convert everything to lower case (since Alice in Wonderland has the HABIT of CAPITALIZING WORDS for EMPHASIS)\n",
    "                         use_idf=True,#we definitely want to use inverse document frequencies in our weighting\n",
    "                         norm=u'l2', #Applies a correction factor so that longer paragraphs and shorter paragraphs get treated equally\n",
    "                         smooth_idf=True #Adds 1 to all document frequencies, as if an extra document existed that used every word once.  Prevents divide-by-zero errors\n",
    "                        )\n",
    "#Applying the vectorizer\n",
    "review_tfidf=vectorizer.fit_transform(all_reviews_list_cleaned_doc)\n",
    "print(\"Number of features: %d\" % review_tfidf.get_shape()[1])"
   ]
  },
  {
   "cell_type": "code",
   "execution_count": 147,
   "metadata": {},
   "outputs": [
    {
     "name": "stdout",
     "output_type": "stream",
     "text": [
      "Number of features: 996\n",
      "\n",
      "Percent variance captured by all components: 99.99999999999999\n"
     ]
    },
    {
     "data": {
      "text/html": [
       "<div>\n",
       "<style>\n",
       "    .dataframe thead tr:only-child th {\n",
       "        text-align: right;\n",
       "    }\n",
       "\n",
       "    .dataframe thead th {\n",
       "        text-align: left;\n",
       "    }\n",
       "\n",
       "    .dataframe tbody tr th {\n",
       "        vertical-align: top;\n",
       "    }\n",
       "</style>\n",
       "<table border=\"1\" class=\"dataframe\">\n",
       "  <thead>\n",
       "    <tr style=\"text-align: right;\">\n",
       "      <th></th>\n",
       "      <th>0</th>\n",
       "      <th>1</th>\n",
       "      <th>2</th>\n",
       "      <th>3</th>\n",
       "      <th>4</th>\n",
       "      <th>5</th>\n",
       "      <th>6</th>\n",
       "      <th>7</th>\n",
       "      <th>8</th>\n",
       "      <th>9</th>\n",
       "      <th>...</th>\n",
       "      <th>177</th>\n",
       "      <th>178</th>\n",
       "      <th>179</th>\n",
       "      <th>180</th>\n",
       "      <th>181</th>\n",
       "      <th>182</th>\n",
       "      <th>183</th>\n",
       "      <th>184</th>\n",
       "      <th>185</th>\n",
       "      <th>review_sentiment</th>\n",
       "    </tr>\n",
       "  </thead>\n",
       "  <tbody>\n",
       "    <tr>\n",
       "      <th>0</th>\n",
       "      <td>0.280221</td>\n",
       "      <td>-0.106055</td>\n",
       "      <td>-0.052344</td>\n",
       "      <td>-0.038930</td>\n",
       "      <td>-0.091373</td>\n",
       "      <td>0.064343</td>\n",
       "      <td>-0.054846</td>\n",
       "      <td>-0.059350</td>\n",
       "      <td>0.067681</td>\n",
       "      <td>0.027645</td>\n",
       "      <td>...</td>\n",
       "      <td>-0.001382</td>\n",
       "      <td>-0.009783</td>\n",
       "      <td>0.052100</td>\n",
       "      <td>0.030014</td>\n",
       "      <td>-0.000282</td>\n",
       "      <td>-0.026118</td>\n",
       "      <td>0.021503</td>\n",
       "      <td>0.006195</td>\n",
       "      <td>0.008299</td>\n",
       "      <td>1</td>\n",
       "    </tr>\n",
       "    <tr>\n",
       "      <th>1</th>\n",
       "      <td>0.133121</td>\n",
       "      <td>-0.088587</td>\n",
       "      <td>0.001238</td>\n",
       "      <td>-0.016597</td>\n",
       "      <td>-0.019608</td>\n",
       "      <td>-0.036434</td>\n",
       "      <td>0.088571</td>\n",
       "      <td>-0.023383</td>\n",
       "      <td>-0.151047</td>\n",
       "      <td>-0.059665</td>\n",
       "      <td>...</td>\n",
       "      <td>-0.065055</td>\n",
       "      <td>0.098587</td>\n",
       "      <td>0.037961</td>\n",
       "      <td>-0.031711</td>\n",
       "      <td>0.025827</td>\n",
       "      <td>-0.036603</td>\n",
       "      <td>-0.015756</td>\n",
       "      <td>-0.019240</td>\n",
       "      <td>0.007581</td>\n",
       "      <td>0</td>\n",
       "    </tr>\n",
       "    <tr>\n",
       "      <th>2</th>\n",
       "      <td>0.105341</td>\n",
       "      <td>-0.050162</td>\n",
       "      <td>-0.080122</td>\n",
       "      <td>-0.026814</td>\n",
       "      <td>0.015111</td>\n",
       "      <td>0.172954</td>\n",
       "      <td>-0.022508</td>\n",
       "      <td>0.090252</td>\n",
       "      <td>-0.102703</td>\n",
       "      <td>-0.052948</td>\n",
       "      <td>...</td>\n",
       "      <td>-0.034078</td>\n",
       "      <td>0.007372</td>\n",
       "      <td>-0.142039</td>\n",
       "      <td>0.031249</td>\n",
       "      <td>0.042723</td>\n",
       "      <td>-0.009173</td>\n",
       "      <td>-0.074460</td>\n",
       "      <td>-0.024002</td>\n",
       "      <td>0.021745</td>\n",
       "      <td>1</td>\n",
       "    </tr>\n",
       "    <tr>\n",
       "      <th>3</th>\n",
       "      <td>0.093107</td>\n",
       "      <td>-0.046553</td>\n",
       "      <td>0.029484</td>\n",
       "      <td>0.005375</td>\n",
       "      <td>-0.031458</td>\n",
       "      <td>0.034141</td>\n",
       "      <td>0.029959</td>\n",
       "      <td>0.039791</td>\n",
       "      <td>-0.049931</td>\n",
       "      <td>-0.118175</td>\n",
       "      <td>...</td>\n",
       "      <td>-0.020792</td>\n",
       "      <td>0.003406</td>\n",
       "      <td>0.014042</td>\n",
       "      <td>0.020205</td>\n",
       "      <td>-0.005931</td>\n",
       "      <td>-0.019892</td>\n",
       "      <td>0.003392</td>\n",
       "      <td>0.004053</td>\n",
       "      <td>0.003175</td>\n",
       "      <td>1</td>\n",
       "    </tr>\n",
       "    <tr>\n",
       "      <th>4</th>\n",
       "      <td>0.075236</td>\n",
       "      <td>-0.014046</td>\n",
       "      <td>-0.071312</td>\n",
       "      <td>0.043598</td>\n",
       "      <td>-0.136951</td>\n",
       "      <td>-0.017623</td>\n",
       "      <td>0.047673</td>\n",
       "      <td>0.045451</td>\n",
       "      <td>-0.052919</td>\n",
       "      <td>0.047439</td>\n",
       "      <td>...</td>\n",
       "      <td>-0.033179</td>\n",
       "      <td>0.003889</td>\n",
       "      <td>0.060188</td>\n",
       "      <td>0.053315</td>\n",
       "      <td>-0.009415</td>\n",
       "      <td>0.080368</td>\n",
       "      <td>0.016866</td>\n",
       "      <td>-0.015868</td>\n",
       "      <td>0.016978</td>\n",
       "      <td>1</td>\n",
       "    </tr>\n",
       "  </tbody>\n",
       "</table>\n",
       "<p>5 rows × 187 columns</p>\n",
       "</div>"
      ],
      "text/plain": [
       "          0         1         2         3         4         5         6  \\\n",
       "0  0.280221 -0.106055 -0.052344 -0.038930 -0.091373  0.064343 -0.054846   \n",
       "1  0.133121 -0.088587  0.001238 -0.016597 -0.019608 -0.036434  0.088571   \n",
       "2  0.105341 -0.050162 -0.080122 -0.026814  0.015111  0.172954 -0.022508   \n",
       "3  0.093107 -0.046553  0.029484  0.005375 -0.031458  0.034141  0.029959   \n",
       "4  0.075236 -0.014046 -0.071312  0.043598 -0.136951 -0.017623  0.047673   \n",
       "\n",
       "          7         8         9        ...              177       178  \\\n",
       "0 -0.059350  0.067681  0.027645        ...        -0.001382 -0.009783   \n",
       "1 -0.023383 -0.151047 -0.059665        ...        -0.065055  0.098587   \n",
       "2  0.090252 -0.102703 -0.052948        ...        -0.034078  0.007372   \n",
       "3  0.039791 -0.049931 -0.118175        ...        -0.020792  0.003406   \n",
       "4  0.045451 -0.052919  0.047439        ...        -0.033179  0.003889   \n",
       "\n",
       "        179       180       181       182       183       184       185  \\\n",
       "0  0.052100  0.030014 -0.000282 -0.026118  0.021503  0.006195  0.008299   \n",
       "1  0.037961 -0.031711  0.025827 -0.036603 -0.015756 -0.019240  0.007581   \n",
       "2 -0.142039  0.031249  0.042723 -0.009173 -0.074460 -0.024002  0.021745   \n",
       "3  0.014042  0.020205 -0.005931 -0.019892  0.003392  0.004053  0.003175   \n",
       "4  0.060188  0.053315 -0.009415  0.080368  0.016866 -0.015868  0.016978   \n",
       "\n",
       "   review_sentiment  \n",
       "0                 1  \n",
       "1                 0  \n",
       "2                 1  \n",
       "3                 1  \n",
       "4                 1  \n",
       "\n",
       "[5 rows x 187 columns]"
      ]
     },
     "execution_count": 147,
     "metadata": {},
     "output_type": "execute_result"
    }
   ],
   "source": [
    "reviews_by_component = tf_idf_svd_normalizer(all_reviews_list_cleaned_doc)\n",
    "reviews_by_component.head()"
   ]
  },
  {
   "cell_type": "code",
   "execution_count": 28,
   "metadata": {},
   "outputs": [],
   "source": [
    "# To schuffle samples\n",
    "reviews_by_component.reset_index(drop=True, inplace=True)\n",
    "data.reset_index(drop=True, inplace=True)\n",
    "\n",
    "reviews_by_component['review_sentiment'] = data['review_sentiment']\n",
    "\n",
    "for i in range(10):\n",
    "    reviews_by_component = reviews_by_component.sample(frac=1, replace=False, random_state=2)\n",
    "reviews_by_component.reset_index(drop=True, inplace=True)\n",
    "\n",
    "# Splitting data into X and Y\n",
    "Y = reviews_by_component['review_sentiment']\n",
    "X = reviews_by_component.loc[:, ~(reviews_by_component.columns).isin(['review_sentiment'])]"
   ]
  },
  {
   "cell_type": "code",
   "execution_count": 29,
   "metadata": {},
   "outputs": [
    {
     "data": {
      "text/plain": [
       "array([1, 0, 1, 1, 1, 1, 1, 1, 1, 1, 1, 0, 1, 0, 1, 1, 1, 1, 1, 1, 1, 1,\n",
       "       1, 0, 0, 1, 1, 1, 1, 1, 1, 1, 0, 1, 1, 1, 1, 1, 0, 1, 1, 1, 1, 1,\n",
       "       1, 1, 1, 0, 0, 1, 1, 1, 1, 1, 0, 1, 0, 1, 1, 1, 1, 0, 0, 1, 0, 1,\n",
       "       1, 1, 1, 1, 1, 1, 0, 0, 1, 1, 1, 1, 1, 1, 0, 1, 1, 1, 1, 0, 1, 1,\n",
       "       1, 0, 0, 1, 1, 1, 0, 0, 1, 1, 1, 1, 0, 1, 1, 1, 0, 1, 0, 0, 1, 1,\n",
       "       1, 0, 1, 1, 1, 1, 1, 1, 1, 0, 0, 1, 1, 0, 1, 1, 1, 1, 1, 1, 0, 1,\n",
       "       1, 1, 1, 1, 1, 1, 1, 1, 1, 1, 1, 1, 1, 1, 1, 1, 1, 1, 1, 1, 1, 1,\n",
       "       1, 0, 1, 0, 1, 1, 0, 0, 1, 1, 1, 1, 1, 0, 1, 1, 1, 0, 1, 1, 0, 1,\n",
       "       0, 0, 1, 1, 1, 1, 1, 0, 1, 1])"
      ]
     },
     "execution_count": 29,
     "metadata": {},
     "output_type": "execute_result"
    }
   ],
   "source": [
    "np.array(Y.T)"
   ]
  },
  {
   "cell_type": "code",
   "execution_count": 30,
   "metadata": {},
   "outputs": [
    {
     "name": "stdout",
     "output_type": "stream",
     "text": [
      "Number of review samples per each class\n",
      " Counter({1: 145, 0: 41})\n"
     ]
    }
   ],
   "source": [
    "print('Number of review samples per each class\\n {}'.format(Counter(Y)))"
   ]
  },
  {
   "cell_type": "markdown",
   "metadata": {},
   "source": [
    "There is a lot of class imbalance here. Need to correct the problem before going further by over sampling and under sampling (SMOTE)."
   ]
  },
  {
   "cell_type": "code",
   "execution_count": 31,
   "metadata": {},
   "outputs": [
    {
     "name": "stdout",
     "output_type": "stream",
     "text": [
      "Number of review samples per each class\n",
      " Counter({1: 145, 0: 145})\n"
     ]
    }
   ],
   "source": [
    "# SMOTE i.e oversampling and undersampling\n",
    "smote = SMOTE(random_state=1)\n",
    "X, Y = smote.fit_resample(X, Y)\n",
    "print('Number of review samples per each class\\n {}'.format(Counter(Y)))"
   ]
  },
  {
   "cell_type": "code",
   "execution_count": 32,
   "metadata": {},
   "outputs": [
    {
     "data": {
      "text/plain": [
       "array([1, 0, 1, 1, 1, 1, 1, 1, 1, 1, 1, 0, 1, 0, 1, 1, 1, 1, 1, 1, 1, 1,\n",
       "       1, 0, 0, 1, 1, 1, 1, 1, 1, 1, 0, 1, 1, 1, 1, 1, 0, 1, 1, 1, 1, 1,\n",
       "       1, 1, 1, 0, 0, 1, 1, 1, 1, 1, 0, 1, 0, 1, 1, 1, 1, 0, 0, 1, 0, 1,\n",
       "       1, 1, 1, 1, 1, 1, 0, 0, 1, 1, 1, 1, 1, 1, 0, 1, 1, 1, 1, 0, 1, 1,\n",
       "       1, 0, 0, 1, 1, 1, 0, 0, 1, 1, 1, 1, 0, 1, 1, 1, 0, 1, 0, 0, 1, 1,\n",
       "       1, 0, 1, 1, 1, 1, 1, 1, 1, 0, 0, 1, 1, 0, 1, 1, 1, 1, 1, 1, 0, 1,\n",
       "       1, 1, 1, 1, 1, 1, 1, 1, 1, 1, 1, 1, 1, 1, 1, 1, 1, 1, 1, 1, 1, 1,\n",
       "       1, 0, 1, 0, 1, 1, 0, 0, 1, 1, 1, 1, 1, 0, 1, 1, 1, 0, 1, 1, 0, 1,\n",
       "       0, 0, 1, 1, 1, 1, 1, 0, 1, 1, 0, 0, 0, 0, 0, 0, 0, 0, 0, 0, 0, 0,\n",
       "       0, 0, 0, 0, 0, 0, 0, 0, 0, 0, 0, 0, 0, 0, 0, 0, 0, 0, 0, 0, 0, 0,\n",
       "       0, 0, 0, 0, 0, 0, 0, 0, 0, 0, 0, 0, 0, 0, 0, 0, 0, 0, 0, 0, 0, 0,\n",
       "       0, 0, 0, 0, 0, 0, 0, 0, 0, 0, 0, 0, 0, 0, 0, 0, 0, 0, 0, 0, 0, 0,\n",
       "       0, 0, 0, 0, 0, 0, 0, 0, 0, 0, 0, 0, 0, 0, 0, 0, 0, 0, 0, 0, 0, 0,\n",
       "       0, 0, 0, 0])"
      ]
     },
     "execution_count": 32,
     "metadata": {},
     "output_type": "execute_result"
    }
   ],
   "source": [
    "Y"
   ]
  },
  {
   "cell_type": "markdown",
   "metadata": {},
   "source": [
    "Smote does minority oversampling...but adds them all together at the end causing a non-randomness in the samples.\n",
    "Need to shuffle again"
   ]
  },
  {
   "cell_type": "code",
   "execution_count": 33,
   "metadata": {},
   "outputs": [],
   "source": [
    "#Shuffle again \n",
    "X = pd.DataFrame(X)\n",
    "Y = pd.DataFrame(Y,columns=['sentiment'])\n",
    "\n",
    "for i in range(10):\n",
    "    X = X.sample(frac=1, replace=False, random_state=2)\n",
    "    Y = Y.sample(frac=1, replace=False, random_state=2)\n",
    "X.reset_index(drop=True, inplace=True)\n",
    "Y.reset_index(drop=True, inplace=True)\n",
    "Y = Y['sentiment']"
   ]
  },
  {
   "cell_type": "code",
   "execution_count": 34,
   "metadata": {},
   "outputs": [
    {
     "name": "stdout",
     "output_type": "stream",
     "text": [
      "Number of review samples per each class\n",
      " Counter({0: 145, 1: 145})\n"
     ]
    }
   ],
   "source": [
    "print('Number of review samples per each class\\n {}'.format(Counter(np.array(Y))))"
   ]
  },
  {
   "cell_type": "code",
   "execution_count": 48,
   "metadata": {},
   "outputs": [
    {
     "data": {
      "text/plain": [
       "array([0, 1, 0, 1, 1, 1, 0, 1, 1, 1, 1, 0, 1, 1, 0, 0, 1, 1, 0, 0, 0, 1,\n",
       "       0, 0, 1, 1, 1, 0, 0, 1, 0, 1, 1, 1, 0, 0, 0, 0, 0, 0, 0, 1, 1, 1,\n",
       "       1, 0, 0, 1, 0, 1, 1, 1, 0, 0, 1, 1, 1, 1, 1, 0, 1, 1, 1, 0, 1, 0,\n",
       "       0, 1, 0, 0, 0, 1, 0, 0, 1, 0, 0, 1, 0, 0, 1, 0, 0, 1, 1, 0, 1, 1,\n",
       "       1, 1, 0, 1, 1, 0, 1, 1, 1, 1, 1, 1, 0, 1, 0, 0, 0, 0, 0, 1, 1, 1,\n",
       "       0, 0, 1, 0, 0, 1, 0, 1, 0, 1, 1, 1, 0, 0, 0, 0, 1, 1, 1, 1, 0, 1,\n",
       "       0, 1, 1, 0, 0, 0, 1, 0, 1, 0, 0, 0, 1, 0, 0, 0, 1, 1, 0, 0, 0, 0,\n",
       "       1, 1, 0, 0, 1, 1, 0, 0, 0, 0, 1, 0, 0, 0, 0, 1, 0, 0, 1, 0, 1, 0,\n",
       "       0, 1, 1, 1, 1, 1, 1, 0, 0, 0, 0, 0, 0, 0, 0, 1, 0, 0, 0, 1, 0, 0,\n",
       "       1, 0, 1, 0, 0, 0, 1, 1, 0, 1, 0, 1, 1, 1, 1, 1, 1, 1, 1, 1, 1, 0,\n",
       "       0, 1, 0, 1, 0, 0, 0, 1, 0, 1, 0, 1, 1, 1, 0, 1, 1, 0, 0, 0, 1, 0,\n",
       "       1, 1, 1, 0, 0, 0, 1, 1, 1, 0, 0, 0, 1, 1, 1, 0, 1, 1, 1, 1, 0, 0,\n",
       "       0, 1, 0, 1, 0, 0, 0, 0, 1, 1, 0, 0, 0, 0, 1, 0, 1, 1, 1, 1, 1, 1,\n",
       "       1, 0, 0, 1])"
      ]
     },
     "execution_count": 48,
     "metadata": {},
     "output_type": "execute_result"
    }
   ],
   "source": [
    "np.array(Y)"
   ]
  },
  {
   "cell_type": "code",
   "execution_count": 148,
   "metadata": {
    "collapsed": true
   },
   "outputs": [],
   "source": [
    "def model(mod, X=X, Y=Y):\n",
    "    model_object=mod\n",
    "    #Data split to Train and test\n",
    "    global X_train, X_test, y_train, y_test\n",
    "    X_train, X_test, y_train, y_test = train_test_split(X, Y, test_size=0.25, random_state=3)\n",
    "    model_object.fit(X_train, y_train)\n",
    "    print (\"Model R-squared score is %0.2f\" % (model_object.score(X_train, y_train)) )\n",
    "    evaluation(model_object)\n",
    "    return model_object\n",
    "\n",
    "def evaluation(model_object):\n",
    "    #Evalution of model\n",
    "    score=cross_val_score(X=X_test, y=y_test, estimator=model_object, cv=10)\n",
    "    print(\" Cross_validation test score/Accuracy: %0.2f (+/- %0.2f)\\n\" % (score.mean(), score.std() * 2))\n",
    "    print (score)\n",
    "    \n",
    "    y_pred=model_object.predict(X_test)\n",
    "  \n",
    "   #Plotting the ROC-AUC curve   \n",
    "    \n",
    "    fpr, tpr, threshold = metrics.roc_curve(y_test, y_pred)\n",
    "    roc_auc = metrics.auc(fpr, tpr)\n",
    "    plt.title('Receiver Operating Characteristic')\n",
    "    plt.plot(fpr, tpr, 'b', linewidth=4,label = 'AUC = %0.2f' % roc_auc)\n",
    "    plt.legend(loc = 'lower right', fancybox=True, fontsize='large')\n",
    "    plt.plot([0, 1], [0, 1],'r--')\n",
    "    plt.xlim([0, 1])\n",
    "    plt.ylim([0, 1])\n",
    "    plt.ylabel('True Positive Rate')\n",
    "    plt.xlabel('False Positive Rate')\n",
    "    plt.show()\n",
    "    \n",
    "    fpr=fpr[1]\n",
    "    tpr=tpr[1]\n",
    "    print ('The sensitivity i.e true positives is {0:2f}% '.format(tpr*100))\n",
    "    print ('The specificity i.e true negatives is {0:2f}% '.format((1-fpr)*100))\n",
    "    print ('The Type I error i.e. false negatives is {0:2f}% '.format((1-tpr)*100))\n",
    "    print ('The Type II error i.e. false positives is {0:2f}% '.format(fpr*100))\n",
    "    return"
   ]
  },
  {
   "cell_type": "code",
   "execution_count": 149,
   "metadata": {
    "collapsed": true
   },
   "outputs": [],
   "source": [
    "### Naive Bayes Classifier"
   ]
  },
  {
   "cell_type": "code",
   "execution_count": 150,
   "metadata": {},
   "outputs": [
    {
     "name": "stdout",
     "output_type": "stream",
     "text": [
      "Model R-squared score is 0.95\n",
      " Cross_validation test score/Accuracy: 0.76 (+/- 0.22)\n",
      "\n",
      "[0.75       0.75       0.75       0.75       1.         0.57142857\n",
      " 0.85714286 0.71428571 0.66666667 0.83333333]\n"
     ]
    },
    {
     "data": {
      "image/png": "[encoded data removed]",
      "text/plain": [
       "<matplotlib.figure.Figure at 0x1a38a18dd8>"
      ]
     },
     "metadata": {},
     "output_type": "display_data"
    },
    {
     "name": "stdout",
     "output_type": "stream",
     "text": [
      "The sensitivity i.e true positives is 84.210526% \n",
      "The specificity i.e true negatives is 97.142857% \n",
      "The Type I error i.e. false negatives is 15.789474% \n",
      "The Type II error i.e. false positives is 2.857143% \n"
     ]
    },
    {
     "data": {
      "text/plain": [
       "BernoulliNB(alpha=1.0, binarize=0.0, class_prior=None, fit_prior=True)"
      ]
     },
     "execution_count": 150,
     "metadata": {},
     "output_type": "execute_result"
    }
   ],
   "source": [
    "model(BernoulliNB())"
   ]
  },
  {
   "cell_type": "code",
   "execution_count": 39,
   "metadata": {
    "collapsed": true
   },
   "outputs": [],
   "source": [
    "### kNN Classifier"
   ]
  },
  {
   "cell_type": "code",
   "execution_count": 40,
   "metadata": {},
   "outputs": [
    {
     "name": "stdout",
     "output_type": "stream",
     "text": [
      "Model R-squared score is 0.51\n",
      " Cross_validation test score/Accuracy: 0.48 (+/- 0.07)\n",
      "\n"
     ]
    },
    {
     "data": {
      "image/png": "[encoded data removed]",
      "text/plain": [
       "<matplotlib.figure.Figure at 0x1a38b934e0>"
      ]
     },
     "metadata": {},
     "output_type": "display_data"
    },
    {
     "name": "stdout",
     "output_type": "stream",
     "text": [
      "The sensitivity i.e true positives is 100.000000% \n",
      "The specificity i.e true negatives is 0.000000% \n",
      "The Type I error i.e. false negatives is 0.000000% \n",
      "The Type II error i.e. false positives is 100.000000% \n"
     ]
    },
    {
     "data": {
      "text/plain": [
       "KNeighborsClassifier(algorithm='auto', leaf_size=30, metric='minkowski',\n",
       "                     metric_params=None, n_jobs=None, n_neighbors=5, p=2,\n",
       "                     weights='uniform')"
      ]
     },
     "execution_count": 40,
     "metadata": {},
     "output_type": "execute_result"
    }
   ],
   "source": [
    "model(neighbors.KNeighborsClassifier(n_neighbors=5))"
   ]
  },
  {
   "cell_type": "code",
   "execution_count": 43,
   "metadata": {
    "collapsed": true
   },
   "outputs": [],
   "source": [
    "### Random Forest Classifier"
   ]
  },
  {
   "cell_type": "code",
   "execution_count": 44,
   "metadata": {},
   "outputs": [
    {
     "name": "stdout",
     "output_type": "stream",
     "text": [
      "Model R-squared score is 0.99\n",
      " Cross_validation test score/Accuracy: 0.64 (+/- 0.20)\n",
      "\n"
     ]
    },
    {
     "name": "stderr",
     "output_type": "stream",
     "text": [
      "/Users/Sri/anaconda3/lib/python3.6/site-packages/sklearn/ensemble/forest.py:245: FutureWarning: The default value of n_estimators will change from 10 in version 0.20 to 100 in 0.22.\n",
      "  \"10 in version 0.20 to 100 in 0.22.\", FutureWarning)\n"
     ]
    },
    {
     "data": {
      "image/png": "[encoded data removed]",
      "text/plain": [
       "<matplotlib.figure.Figure at 0x1a38c8f6d8>"
      ]
     },
     "metadata": {},
     "output_type": "display_data"
    },
    {
     "name": "stdout",
     "output_type": "stream",
     "text": [
      "The sensitivity i.e true positives is 52.631579% \n",
      "The specificity i.e true negatives is 100.000000% \n",
      "The Type I error i.e. false negatives is 47.368421% \n",
      "The Type II error i.e. false positives is 0.000000% \n"
     ]
    },
    {
     "data": {
      "text/plain": [
       "RandomForestClassifier(bootstrap=True, class_weight=None, criterion='gini',\n",
       "                       max_depth=None, max_features='auto', max_leaf_nodes=None,\n",
       "                       min_impurity_decrease=0.0, min_impurity_split=None,\n",
       "                       min_samples_leaf=1, min_samples_split=2,\n",
       "                       min_weight_fraction_leaf=0.0, n_estimators=10,\n",
       "                       n_jobs=None, oob_score=False, random_state=None,\n",
       "                       verbose=0, warm_start=False)"
      ]
     },
     "execution_count": 44,
     "metadata": {},
     "output_type": "execute_result"
    }
   ],
   "source": [
    "model(ensemble.RandomForestClassifier())"
   ]
  },
  {
   "cell_type": "code",
   "execution_count": 45,
   "metadata": {
    "collapsed": true
   },
   "outputs": [],
   "source": [
    "### Gradient Boost Classifier"
   ]
  },
  {
   "cell_type": "code",
   "execution_count": 46,
   "metadata": {},
   "outputs": [
    {
     "name": "stdout",
     "output_type": "stream",
     "text": [
      "Model R-squared score is 1.00\n",
      " Cross_validation test score/Accuracy: 0.70 (+/- 0.33)\n",
      "\n"
     ]
    },
    {
     "data": {
      "image/png": "[encoded data removed]",
      "text/plain": [
       "<matplotlib.figure.Figure at 0x1a38dec358>"
      ]
     },
     "metadata": {},
     "output_type": "display_data"
    },
    {
     "name": "stdout",
     "output_type": "stream",
     "text": [
      "The sensitivity i.e true positives is 81.578947% \n",
      "The specificity i.e true negatives is 94.285714% \n",
      "The Type I error i.e. false negatives is 18.421053% \n",
      "The Type II error i.e. false positives is 5.714286% \n"
     ]
    },
    {
     "data": {
      "text/plain": [
       "GradientBoostingClassifier(criterion='friedman_mse', init=None,\n",
       "                           learning_rate=0.1, loss='deviance', max_depth=2,\n",
       "                           max_features=None, max_leaf_nodes=None,\n",
       "                           min_impurity_decrease=0.0, min_impurity_split=None,\n",
       "                           min_samples_leaf=1, min_samples_split=2,\n",
       "                           min_weight_fraction_leaf=0.0, n_estimators=500,\n",
       "                           n_iter_no_change=None, presort='auto',\n",
       "                           random_state=None, subsample=1.0, tol=0.0001,\n",
       "                           validation_fraction=0.1, verbose=0,\n",
       "                           warm_start=False)"
      ]
     },
     "execution_count": 46,
     "metadata": {},
     "output_type": "execute_result"
    }
   ],
   "source": [
    "params = {'n_estimators': 500,\n",
    "          'max_depth': 2,\n",
    "          'loss': 'deviance'}\n",
    "model(ensemble.GradientBoostingClassifier(**params))"
   ]
  },
  {
   "cell_type": "code",
   "execution_count": 41,
   "metadata": {
    "collapsed": true
   },
   "outputs": [],
   "source": [
    "### Logistic Regression"
   ]
  },
  {
   "cell_type": "code",
   "execution_count": 42,
   "metadata": {},
   "outputs": [
    {
     "name": "stdout",
     "output_type": "stream",
     "text": [
      "Model R-squared score is 1.00\n",
      " Cross_validation test score/Accuracy: 0.81 (+/- 0.27)\n",
      "\n"
     ]
    },
    {
     "data": {
      "image/png": "[encoded data removed]",
      "text/plain": [
       "<matplotlib.figure.Figure at 0x1a38c7bbe0>"
      ]
     },
     "metadata": {},
     "output_type": "display_data"
    },
    {
     "name": "stdout",
     "output_type": "stream",
     "text": [
      "The sensitivity i.e true positives is 86.842105% \n",
      "The specificity i.e true negatives is 100.000000% \n",
      "The Type I error i.e. false negatives is 13.157895% \n",
      "The Type II error i.e. false positives is 0.000000% \n"
     ]
    },
    {
     "data": {
      "text/plain": [
       "LogisticRegression(C=1000000000.0, class_weight=None, dual=False,\n",
       "                   fit_intercept=True, intercept_scaling=1, l1_ratio=None,\n",
       "                   max_iter=100, multi_class='warn', n_jobs=None, penalty='l2',\n",
       "                   random_state=None, solver='liblinear', tol=0.0001, verbose=0,\n",
       "                   warm_start=False)"
      ]
     },
     "execution_count": 42,
     "metadata": {},
     "output_type": "execute_result"
    }
   ],
   "source": [
    "model(LogisticRegression(C=1e9, solver='liblinear'))"
   ]
  },
  {
   "cell_type": "markdown",
   "metadata": {},
   "source": [
    "The Logistic regression gives the best AUC of 0.93. percent 81% test accuracy and also low errors compared to other models."
   ]
  },
  {
   "cell_type": "markdown",
   "metadata": {},
   "source": [
    "### Word2Vec"
   ]
  },
  {
   "cell_type": "code",
   "execution_count": 69,
   "metadata": {},
   "outputs": [
    {
     "data": {
      "text/plain": [
       "186"
      ]
     },
     "execution_count": 69,
     "metadata": {},
     "output_type": "execute_result"
    }
   ],
   "source": [
    "len(all_reviews_list_cleaned_doc)"
   ]
  },
  {
   "cell_type": "code",
   "execution_count": 116,
   "metadata": {},
   "outputs": [],
   "source": [
    "# Cleaning the texts and making the reviews as a list of lists needed for word2vec.\n",
    "\n",
    "all_reviews_list_cleaned_doc = []\n",
    "all_reviews_positive_list_cleaned_doc = []\n",
    "all_reviews_negative_list_cleaned_doc = []\n",
    "temp=[]         \n",
    "for review in all_reviews_positive_list_doc:\n",
    "    for token in review:\n",
    "        if not token.is_punct and not token.is_space and not token.is_stop and  token.is_alpha:\n",
    "            temp.append(token.text.lower())\n",
    "    all_reviews_positive_list_cleaned_doc.append(temp)\n",
    "    temp=[]\n",
    "        \n",
    "for review in all_reviews_negative_list_doc:\n",
    "    for token in review:\n",
    "        if not token.is_punct and not token.is_space and not token.is_stop and  token.is_alpha:\n",
    "            temp.append(token.text.lower())\n",
    "    all_reviews_negative_list_cleaned_doc.append(temp)\n",
    "    temp=[]\n",
    "all_reviews_list_cleaned_doc = all_reviews_positive_list_cleaned_doc+all_reviews_negative_list_cleaned_doc"
   ]
  },
  {
   "cell_type": "code",
   "execution_count": 154,
   "metadata": {},
   "outputs": [
    {
     "name": "stdout",
     "output_type": "stream",
     "text": [
      "['saw', 'series', 'tv', 'imressed', 'second', 'time', 'story', 'line', 'moves', 'effortlessly', 'characters', 'intriguing', 'suspense', 'superb', 'highly', 'recommend', 'series', 'enjoy', 'horror', 'great', 'story', 'line', 'american', 'horror', 'story', 'good']\n"
     ]
    }
   ],
   "source": [
    "for item in all_reviews_list_cleaned_doc:\n",
    "    print ((string))\n",
    "    break"
   ]
  },
  {
   "cell_type": "code",
   "execution_count": 153,
   "metadata": {},
   "outputs": [
    {
     "data": {
      "text/plain": [
       "186"
      ]
     },
     "execution_count": 153,
     "metadata": {},
     "output_type": "execute_result"
    }
   ],
   "source": [
    "len(all_reviews_list_cleaned_doc)"
   ]
  },
  {
   "cell_type": "code",
   "execution_count": 108,
   "metadata": {},
   "outputs": [
    {
     "data": {
      "text/plain": [
       "(48667, 74110)"
      ]
     },
     "execution_count": 108,
     "metadata": {},
     "output_type": "execute_result"
    }
   ],
   "source": [
    "import gensim \n",
    "model = gensim.models.Word2Vec (all_reviews_list_cleaned_doc, size=10, window=5, min_count=2, workers=10)\n",
    "\n",
    "model.train(all_reviews_list_cleaned_doc,total_examples=len(all_reviews_list_cleaned_doc),epochs=10)"
   ]
  },
  {
   "cell_type": "code",
   "execution_count": 109,
   "metadata": {},
   "outputs": [],
   "source": [
    "vocab=model.wv.vocab.keys()"
   ]
  },
  {
   "cell_type": "code",
   "execution_count": 155,
   "metadata": {},
   "outputs": [
    {
     "name": "stdout",
     "output_type": "stream",
     "text": [
      "<class 'dict_keys'>\n"
     ]
    }
   ],
   "source": [
    "print (type(vocab))"
   ]
  },
  {
   "cell_type": "code",
   "execution_count": 114,
   "metadata": {},
   "outputs": [
    {
     "data": {
      "text/plain": [
       "[('keeps', 0.997807502746582),\n",
       " ('getting', 0.9966059327125549),\n",
       " ('tension', 0.9964543581008911),\n",
       " ('extreme', 0.9961746335029602),\n",
       " ('personal', 0.996010959148407),\n",
       " ('laugh', 0.9951336979866028),\n",
       " ('comes', 0.9949733018875122),\n",
       " ('wrote', 0.9949097633361816),\n",
       " ('involved', 0.9948766231536865),\n",
       " ('kids', 0.9946027398109436)]"
      ]
     },
     "execution_count": 114,
     "metadata": {},
     "output_type": "execute_result"
    }
   ],
   "source": [
    "\n",
    "model.wv.most_similar (positive='cool')"
   ]
  },
  {
   "cell_type": "code",
   "execution_count": 115,
   "metadata": {},
   "outputs": [
    {
     "name": "stderr",
     "output_type": "stream",
     "text": [
      "/Users/Sri/anaconda3/lib/python3.6/site-packages/ipykernel_launcher.py:1: DeprecationWarning: Call to deprecated `__getitem__` (Method will be removed in 4.0.0, use self.wv.__getitem__() instead).\n",
      "  \"\"\"Entry point for launching an IPython kernel.\n"
     ]
    },
    {
     "data": {
      "text/plain": [
       "array([ 0.16121443,  0.29191396, -0.2559786 , -0.00299301,  0.36317566,\n",
       "        0.48151812, -0.2713391 , -0.45047528,  0.07809529, -0.0410527 ],\n",
       "      dtype=float32)"
      ]
     },
     "execution_count": 115,
     "metadata": {},
     "output_type": "execute_result"
    }
   ],
   "source": [
    "model['excellent']"
   ]
  },
  {
   "cell_type": "code",
   "execution_count": 113,
   "metadata": {},
   "outputs": [
    {
     "name": "stdout",
     "output_type": "stream",
     "text": [
      "saw\n",
      "series\n",
      "tv\n",
      "second\n",
      "time\n",
      "story\n",
      "line\n",
      "moves\n",
      "characters\n",
      "intriguing\n",
      "suspense\n",
      "superb\n",
      "highly\n",
      "recommend\n",
      "enjoy\n",
      "horror\n",
      "great\n",
      "american\n",
      "good\n",
      "love\n",
      "police\n",
      "favorite\n",
      "standard\n",
      "compare\n",
      "single\n",
      "job\n",
      "entertaining\n",
      "making\n",
      "want\n",
      "acting\n",
      "actors\n",
      "believe\n",
      "complicated\n",
      "people\n",
      "small\n",
      "town\n",
      "edge\n",
      "lives\n",
      "lead\n",
      "enjoyed\n",
      "minute\n",
      "wild\n",
      "ride\n",
      "got\n",
      "violent\n",
      "bike\n",
      "guys\n",
      "seriously\n",
      "beer\n",
      "juice\n",
      "bobby\n",
      "matter\n",
      "soa\n",
      "minutes\n",
      "death\n",
      "prison\n",
      "scheme\n",
      "oh\n",
      "s\n",
      "moments\n",
      "says\n",
      "hit\n",
      "fan\n",
      "boring\n",
      "guarantee\n",
      "buy\n",
      "night\n",
      "watching\n",
      "simply\n",
      "happens\n",
      "highest\n",
      "possible\n",
      "rating\n",
      "like\n",
      "long\n",
      "reasons\n",
      "guess\n",
      "seasons\n",
      "complete\n",
      "collection\n",
      "seen\n",
      "shows\n",
      "try\n",
      "season\n",
      "think\n",
      "liked\n",
      "girl\n",
      "goes\n",
      "guy\n",
      "gives\n",
      "sort\n",
      "terrible\n",
      "deadly\n",
      "drink\n",
      "way\n",
      "man\n",
      "movies\n",
      "soooo\n",
      "found\n",
      "acted\n",
      "plot\n",
      "action\n",
      "ignorant\n",
      "doctor\n",
      "help\n",
      "mother\n",
      "thinks\n",
      "drugs\n",
      "clearly\n",
      "turning\n",
      "worldly\n",
      "movie\n",
      "close\n",
      "outstanding\n",
      "performances\n",
      "amazing\n",
      "wo\n",
      "able\n",
      "stop\n",
      "twists\n",
      "turns\n",
      "entire\n",
      "writing\n",
      "staff\n",
      "hope\n",
      "fast\n",
      "wait\n",
      "war\n",
      "world\n",
      "relations\n",
      "new\n",
      "game\n",
      "episode\n",
      "foyle\n",
      "home\n",
      "america\n",
      "miss\n",
      "looking\n",
      "day\n",
      "role\n",
      "work\n",
      "soviet\n",
      "spy\n",
      "ring\n",
      "london\n",
      "moral\n",
      "implications\n",
      "nuclear\n",
      "fact\n",
      "lines\n",
      "britain\n",
      "fine\n",
      "truly\n",
      "democratic\n",
      "process\n",
      "justice\n",
      "discovered\n",
      "protecting\n",
      "high\n",
      "methods\n",
      "weight\n",
      "ask\n",
      "question\n",
      "intentions\n",
      "married\n",
      "bringing\n",
      "charm\n",
      "dark\n",
      "period\n",
      "history\n",
      "sets\n",
      "mood\n",
      "poor\n",
      "right\n",
      "despite\n",
      "interesting\n",
      "pilot\n",
      "showing\n",
      "human\n",
      "worth\n",
      "wonder\n",
      "couple\n",
      "technology\n",
      "bring\n",
      "tomorrow\n",
      "crime\n",
      "different\n",
      "science\n",
      "fiction\n",
      "program\n",
      "writers\n",
      "newspaper\n",
      "weeks\n",
      "months\n",
      "maybe\n",
      "years\n",
      "scandal\n",
      "involving\n",
      "involved\n",
      "printing\n",
      "days\n",
      "thought\n",
      "deal\n",
      "use\n",
      "fight\n",
      "techniques\n",
      "need\n",
      "provide\n",
      "mindless\n",
      "dancing\n",
      "stars\n",
      "called\n",
      "reality\n",
      "sure\n",
      "renewed\n",
      "look\n",
      "family\n",
      "grow\n",
      "little\n",
      "bit\n",
      "parents\n",
      "viewing\n",
      "children\n",
      "final\n",
      "best\n",
      "showed\n",
      "things\n",
      "went\n",
      "wrong\n",
      "finally\n",
      "ended\n",
      "expect\n",
      "thinking\n",
      "hundreds\n",
      "smart\n",
      "knowledge\n",
      "better\n",
      "place\n",
      "plus\n",
      "comfortable\n",
      "added\n",
      "dracula\n",
      "experience\n",
      "multiple\n",
      "tale\n",
      "vampire\n",
      "television\n",
      "adults\n",
      "episodes\n",
      "year\n",
      "old\n",
      "viewer\n",
      "problems\n",
      "plays\n",
      "getting\n",
      "lot\n",
      "amazon\n",
      "draw\n",
      "watch\n",
      "particular\n",
      "computer\n",
      "play\n",
      "production\n",
      "australian\n",
      "add\n",
      "water\n",
      "fantasy\n",
      "female\n",
      "teens\n",
      "features\n",
      "school\n",
      "girls\n",
      "mysterious\n",
      "ability\n",
      "transform\n",
      "mermaids\n",
      "follows\n",
      "learn\n",
      "powers\n",
      "trying\n",
      "secret\n",
      "light\n",
      "fun\n",
      "silly\n",
      "violence\n",
      "special\n",
      "effects\n",
      "mermaid\n",
      "times\n",
      "convincing\n",
      "type\n",
      "taking\n",
      "emma\n",
      "cleo\n",
      "rikki\n",
      "end\n",
      "mako\n",
      "island\n",
      "accidentally\n",
      "pool\n",
      "ocean\n",
      "leads\n",
      "freedom\n",
      "soon\n",
      "strange\n",
      "effect\n",
      "discover\n",
      "wearing\n",
      "clothing\n",
      "legs\n",
      "tail\n",
      "appears\n",
      "cover\n",
      "change\n",
      "nudity\n",
      "power\n",
      "heat\n",
      "families\n",
      "initially\n",
      "friend\n",
      "lewis\n",
      "aware\n",
      "makes\n",
      "life\n",
      "especially\n",
      "takes\n",
      "matters\n",
      "sister\n",
      "kent\n",
      "rival\n",
      "classmate\n",
      "tries\n",
      "guide\n",
      "difficult\n",
      "coming\n",
      "usually\n",
      "linda\n",
      "discovers\n",
      "primarily\n",
      "star\n",
      "values\n",
      "nicely\n",
      "locations\n",
      "places\n",
      "overused\n",
      "contains\n",
      "progresses\n",
      "growth\n",
      "improvement\n",
      "adult\n",
      "themes\n",
      "kid\n",
      "developed\n",
      "challenge\n",
      "working\n",
      "fake\n",
      "strength\n",
      "women\n",
      "manage\n",
      "pull\n",
      "clean\n",
      "entertainment\n",
      "scenery\n",
      "course\n",
      "forward\n",
      "husband\n",
      "sons\n",
      "prime\n",
      "week\n",
      "watched\n",
      "idea\n",
      "going\n",
      "sci\n",
      "fi\n",
      "falling\n",
      "skies\n",
      "robert\n",
      "wonderful\n",
      "finished\n",
      "changed\n",
      "hour\n",
      "dirt\n",
      "order\n",
      "training\n",
      "future\n",
      "important\n",
      "come\n",
      "away\n",
      "business\n",
      "start\n",
      "personal\n",
      "interaction\n",
      "member\n",
      "cast\n",
      "usual\n",
      "kept\n",
      "believable\n",
      "mixed\n",
      "quick\n",
      "dialogue\n",
      "wish\n",
      "reading\n",
      "agatha\n",
      "christie\n",
      "david\n",
      "suchet\n",
      "poirot\n",
      "filming\n",
      "fourth\n",
      "earth\n",
      "age\n",
      "appreciate\n",
      "living\n",
      "bad\n",
      "thrown\n",
      "sorry\n",
      "kill\n",
      "sheriff\n",
      "actor\n",
      "liking\n",
      "woman\n",
      "origins\n",
      "clear\n",
      "dome\n",
      "attempts\n",
      "destroy\n",
      "success\n",
      "general\n",
      "happening\n",
      "reveal\n",
      "comes\n",
      "explode\n",
      "killed\n",
      "hearing\n",
      "stephen\n",
      "king\n",
      "looked\n",
      "continues\n",
      "recommended\n",
      "positive\n",
      "reaction\n",
      "expecting\n",
      "actually\n",
      "feel\n",
      "audience\n",
      "set\n",
      "apart\n",
      "mainstream\n",
      "nuanced\n",
      "subtle\n",
      "real\n",
      "style\n",
      "comedy\n",
      "chance\n",
      "blood\n",
      "cup\n",
      "tea\n",
      "act\n",
      "situations\n",
      "issues\n",
      "hard\n",
      "mix\n",
      "trouble\n",
      "british\n",
      "accents\n",
      "humor\n",
      "admit\n",
      "impressed\n",
      "rated\n",
      "thing\n",
      "flick\n",
      "crazy\n",
      "film\n",
      "members\n",
      "dead\n",
      "rest\n",
      "bunch\n",
      "trailer\n",
      "scene\n",
      "released\n",
      "house\n",
      "store\n",
      "pain\n",
      "pills\n",
      "originally\n",
      "daughter\n",
      "smoking\n",
      "pot\n",
      "nt\n",
      "afford\n",
      "hell\n",
      "cause\n",
      "jobs\n",
      "heard\n",
      "worse\n",
      "yeah\n",
      "compared\n",
      "jealous\n",
      "loved\n",
      "far\n",
      "hardly\n",
      "happen\n",
      "super\n",
      "caught\n",
      "attached\n",
      "adds\n",
      "original\n",
      "character\n",
      "slow\n",
      "left\n",
      "wanting\n",
      "afraid\n",
      "hooked\n",
      "nice\n",
      "turn\n",
      "unique\n",
      "answers\n",
      "questions\n",
      "haven\n",
      "supernatural\n",
      "afflictions\n",
      "live\n",
      "troubles\n",
      "appear\n",
      "causing\n",
      "troubled\n",
      "audrey\n",
      "parker\n",
      "case\n",
      "past\n",
      "mysteries\n",
      "colorado\n",
      "thriller\n",
      "pick\n",
      "missed\n",
      "waste\n",
      "bored\n",
      "prequel\n",
      "outside\n",
      "money\n",
      "cop\n",
      "focuses\n",
      "killer\n",
      "known\n",
      "red\n",
      "capture\n",
      "helps\n",
      "cases\n",
      "sense\n",
      "cold\n",
      "law\n",
      "brought\n",
      "team\n",
      "later\n",
      "follow\n",
      "stories\n",
      "spanish\n",
      "learning\n",
      "language\n",
      "started\n",
      "absolutely\n",
      "intrigue\n",
      "know\n",
      "continue\n",
      "video\n",
      "fit\n",
      "main\n",
      "street\n",
      "written\n",
      "drama\n",
      "played\n",
      "related\n",
      "thread\n",
      "familiar\n",
      "performed\n",
      "lady\n",
      "lovely\n",
      "gorgeous\n",
      "sitcom\n",
      "funny\n",
      "came\n",
      "excellent\n",
      "condition\n",
      "book\n",
      "screen\n",
      "harry\n",
      "bosch\n",
      "expectations\n",
      "importantly\n",
      "titus\n",
      "welliver\n",
      "imagine\n",
      "dying\n",
      "hear\n",
      "perfect\n",
      "early\n",
      "gripping\n",
      "supporting\n",
      "wife\n",
      "loves\n",
      "words\n",
      "review\n",
      "enjoying\n",
      "catch\n",
      "challenges\n",
      "true\n",
      "unexplained\n",
      "son\n",
      "starts\n",
      "dance\n",
      "theme\n",
      "music\n",
      "subtitles\n",
      "tosh\n",
      "weird\n",
      "offered\n",
      "comedic\n",
      "potential\n",
      "contrived\n",
      "modern\n",
      "comedies\n",
      "green\n",
      "plots\n",
      "elaborate\n",
      "millions\n",
      "dollars\n",
      "save\n",
      "revolves\n",
      "cost\n",
      "partners\n",
      "wants\n",
      "face\n",
      "brilliant\n",
      "manager\n",
      "manipulate\n",
      "system\n",
      "actions\n",
      "flaws\n",
      "criminal\n",
      "acts\n",
      "felt\n",
      "dragged\n",
      "moved\n",
      "slowly\n",
      "quentin\n",
      "dupieux\n",
      "probably\n",
      "tells\n",
      "tire\n",
      "hotel\n",
      "middle\n",
      "california\n",
      "desert\n",
      "looks\n",
      "point\n",
      "funniest\n",
      "assumed\n",
      "meant\n",
      "joke\n",
      "happy\n",
      "hiding\n",
      "reviews\n",
      "read\n",
      "surprisingly\n",
      "parts\n",
      "unfortunately\n",
      "tell\n",
      "haneke\n",
      "vis\n",
      "films\n",
      "kind\n",
      "criticism\n",
      "huge\n",
      "artificiality\n",
      "blows\n",
      "completely\n",
      "works\n",
      "peter\n",
      "baby\n",
      "yes\n",
      "including\n",
      "meta\n",
      "sweet\n",
      "suspect\n",
      "low\n",
      "sites\n",
      "write\n",
      "took\n",
      "keeping\n",
      "hate\n",
      "arrow\n",
      "included\n",
      "following\n",
      "smallville\n",
      "viewers\n",
      "dc\n",
      "darker\n",
      "fighting\n",
      "arrogant\n",
      "oliver\n",
      "queen\n",
      "father\n",
      "board\n",
      "encounters\n",
      "band\n",
      "setting\n",
      "attack\n",
      "teaches\n",
      "art\n",
      "rescue\n",
      "city\n",
      "elements\n",
      "head\n",
      "rooted\n",
      "villains\n",
      "closer\n",
      "superman\n",
      "knight\n",
      "killing\n",
      "decided\n",
      "hero\n",
      "find\n",
      "humans\n",
      "heroes\n",
      "runs\n",
      "christopher\n",
      "versus\n",
      "pays\n",
      "burning\n",
      "care\n",
      "comic\n",
      "lance\n",
      "harper\n",
      "fans\n",
      "major\n",
      "network\n",
      "mature\n",
      "presented\n",
      "picture\n",
      "sound\n",
      "brings\n",
      "exciting\n",
      "explore\n",
      "scenes\n",
      "alive\n",
      "creative\n",
      "establishing\n",
      "mystery\n",
      "gets\n",
      "development\n",
      "picks\n",
      "rome\n",
      "seeing\n",
      "camera\n",
      "programs\n",
      "points\n",
      "rufus\n",
      "sewell\n",
      "romance\n",
      "young\n",
      "moment\n",
      "room\n",
      "ok\n",
      "disappointed\n",
      "bbc\n",
      "free\n",
      "thousand\n",
      "pretty\n",
      "awesome\n",
      "scary\n",
      "hot\n",
      "stuff\n",
      "genre\n",
      "cool\n",
      "alum\n",
      "mention\n",
      "having\n",
      "recently\n",
      "lovelace\n",
      "release\n",
      "received\n",
      "larry\n",
      "flint\n",
      "boogie\n",
      "nights\n",
      "career\n",
      "porn\n",
      "industry\n",
      "deep\n",
      "throat\n",
      "deliciously\n",
      "chuck\n",
      "charming\n",
      "emotional\n",
      "oral\n",
      "stone\n",
      "learns\n",
      "meet\n",
      "butchie\n",
      "gerry\n",
      "adam\n",
      "likable\n",
      "beautiful\n",
      "stardom\n",
      "increasingly\n",
      "ran\n",
      "arms\n",
      "path\n",
      "revelation\n",
      "sadness\n",
      "eyes\n",
      "attention\n",
      "eventually\n",
      "million\n",
      "books\n",
      "keeps\n",
      "certainly\n",
      "hurt\n",
      "lovable\n",
      "deserves\n",
      "inspiring\n",
      "willing\n",
      "news\n",
      "ridiculous\n",
      "fat\n",
      "kids\n",
      "refreshing\n",
      "picked\n",
      "weekly\n",
      "relationship\n",
      "amazingly\n",
      "song\n",
      "basically\n",
      "angles\n",
      "monster\n",
      "men\n",
      "mad\n",
      "realized\n",
      "nonsensical\n",
      "soundtrack\n",
      "watchable\n",
      "mike\n",
      "hilarious\n",
      "word\n",
      "overall\n",
      "classic\n",
      "premise\n",
      "fabulous\n",
      "gave\n",
      "lee\n",
      "writer\n",
      "screenplay\n",
      "based\n",
      "wrote\n",
      "toxic\n",
      "durham\n",
      "offers\n",
      "return\n",
      "owned\n",
      "ellen\n",
      "firth\n",
      "bloom\n",
      "local\n",
      "underlying\n",
      "grass\n",
      "necessarily\n",
      "fence\n",
      "simplistic\n",
      "company\n",
      "brits\n",
      "totally\n",
      "late\n",
      "easy\n",
      "kung\n",
      "fu\n",
      "po\n",
      "given\n",
      "dragon\n",
      "deny\n",
      "level\n",
      "plain\n",
      "pure\n",
      "joy\n",
      "enemies\n",
      "clever\n",
      "forced\n",
      "short\n",
      "child\n",
      "overly\n",
      "obvious\n",
      "talking\n",
      "peek\n",
      "walking\n",
      "remember\n",
      "songs\n",
      "cute\n",
      "veronica\n",
      "mars\n",
      "learned\n",
      "decent\n",
      "area\n",
      "typical\n",
      "track\n",
      "quirky\n",
      "surprises\n",
      "cope\n",
      "lots\n",
      "curious\n",
      "big\n",
      "creators\n",
      "ones\n",
      "stargate\n",
      "annoying\n",
      "adventure\n",
      "twist\n",
      "martial\n",
      "arts\n",
      "enter\n",
      "similar\n",
      "samurai\n",
      "popular\n",
      "director\n",
      "country\n",
      "prone\n",
      "instead\n",
      "swinging\n",
      "turned\n",
      "seven\n",
      "seek\n",
      "miike\n",
      "assassins\n",
      "extreme\n",
      "gone\n",
      "group\n",
      "apparent\n",
      "current\n",
      "shogun\n",
      "naritsugo\n",
      "feels\n",
      "social\n",
      "scale\n",
      "knows\n",
      "shinzaemon\n",
      "handle\n",
      "situation\n",
      "reason\n",
      "battle\n",
      "honor\n",
      "saving\n",
      "plenty\n",
      "build\n",
      "political\n",
      "happened\n",
      "step\n",
      "evil\n",
      "payoff\n",
      "lost\n",
      "taken\n",
      "visible\n",
      "emotion\n",
      "satisfying\n",
      "quality\n",
      "purchase\n",
      "run\n",
      "delicious\n",
      "definitely\n",
      "checking\n",
      "grabbed\n",
      "stereotypical\n",
      "send\n",
      "survivors\n",
      "censored\n",
      "mental\n",
      "illness\n",
      "murder\n",
      "documentary\n",
      "ago\n",
      "schiele\n",
      "austrian\n",
      "klimt\n",
      "wally\n",
      "portrait\n",
      "cut\n",
      "half\n",
      "bondi\n",
      "anti\n",
      "vienna\n",
      "private\n",
      "painting\n",
      "returned\n",
      "pretending\n",
      "heirs\n",
      "continued\n",
      "met\n",
      "resistance\n",
      "york\n",
      "suggested\n",
      "knew\n",
      "novel\n",
      "understand\n",
      "tried\n",
      "figure\n",
      "holes\n",
      "arc\n",
      "bsg\n",
      "said\n",
      "positions\n",
      "baltar\n",
      "adama\n",
      "starbuck\n",
      "prove\n",
      "teeth\n",
      "seemingly\n",
      "illogical\n",
      "casting\n",
      "pay\n",
      "comedian\n",
      "average\n",
      "ghost\n",
      "ending\n",
      "tired\n",
      "enjoyable\n",
      "spent\n",
      "historical\n",
      "portland\n",
      "self\n",
      "heart\n",
      "waiting\n",
      "supposed\n",
      "natural\n",
      "iron\n",
      "centers\n",
      "cranford\n",
      "engaging\n",
      "loving\n",
      "addition\n",
      "dramas\n",
      "likeable\n",
      "realistic\n",
      "psychological\n",
      "view\n",
      "teenager\n",
      "drunk\n",
      "events\n",
      "explain\n",
      "ta\n",
      "intelligent\n",
      "fresh\n",
      "meaning\n",
      "blue\n",
      "decide\n",
      "cliched\n",
      "arguably\n",
      "wit\n",
      "native\n",
      "planet\n",
      "sharp\n",
      "nbc\n",
      "crews\n",
      "sub\n",
      "reese\n",
      "jay\n",
      "leno\n",
      "csi\n",
      "century\n",
      "dvd\n",
      "destroyed\n",
      "grace\n",
      "sex\n",
      "president\n",
      "olivia\n",
      "hype\n",
      "christ\n",
      "creation\n",
      "pass\n",
      "needs\n",
      "problem\n",
      "teen\n",
      "remakes\n",
      "identify\n",
      "element\n",
      "surrounding\n",
      "figuring\n",
      "addictive\n",
      "heroine\n",
      "fall\n",
      "meaningful\n",
      "childhood\n",
      "extent\n",
      "robin\n",
      "jokes\n",
      "direction\n",
      "date\n",
      "laugh\n",
      "banter\n",
      "workaholics\n",
      "talented\n",
      "delivery\n",
      "tension\n",
      "male\n",
      "predictable\n",
      "landmarks\n",
      "white\n",
      "interested\n",
      "previous\n",
      "awake\n",
      "messina\n",
      "triangle\n",
      "person\n",
      "hates\n",
      "wasted\n",
      "primaries\n",
      "position\n",
      "boss\n",
      "dropped\n",
      "soap\n",
      "pseudo\n",
      "histories\n",
      "font\n",
      "opt\n",
      "ancient\n",
      "picts\n",
      "speak\n",
      "english\n",
      "romans\n",
      "accent\n",
      "orders\n",
      "pict\n",
      "roman\n",
      "governor\n",
      "legion\n",
      "ninth\n",
      "captive\n",
      "attempt\n",
      "fail\n",
      "lack\n",
      "script\n",
      "notes\n",
      "lousy\n",
      "constantly\n",
      "bitter\n",
      "angry\n",
      "devito\n",
      "x\n",
      "mouthed\n",
      "f\n",
      "disappoints\n",
      "holding\n",
      "footage\n",
      "presentation\n",
      "discuss\n",
      "vague\n",
      "plane\n",
      "crash\n",
      "logic\n",
      "flight\n",
      "noise\n",
      "attendant\n",
      "thin\n",
      "endeavor\n",
      "simple\n",
      "giving\n",
      "contemporary\n",
      "specific\n",
      "interest\n",
      "alien\n",
      "mind\n",
      "motion\n",
      "innovative\n",
      "alternate\n",
      "ends\n",
      "atomsphere\n",
      "surprise\n",
      "innkeepers\n",
      "sara\n",
      "haunted\n",
      "apparently\n",
      "geeky\n",
      "spends\n",
      "upstairs\n",
      "jumping\n",
      "mock\n",
      "fulfill\n",
      "requirements\n",
      "parody\n",
      "clue\n"
     ]
    }
   ],
   "source": [
    "word2vec_df = pd.DataFrame()\n",
    "for word in vocab:\n",
    "    if word in \n",
    "    word2vec_df[word] = model[word]"
   ]
  },
  {
   "cell_type": "code",
   "execution_count": null,
   "metadata": {
    "collapsed": true
   },
   "outputs": [],
   "source": []
  },
  {
   "cell_type": "code",
   "execution_count": null,
   "metadata": {
    "collapsed": true
   },
   "outputs": [],
   "source": []
  },
  {
   "cell_type": "code",
   "execution_count": null,
   "metadata": {
    "collapsed": true
   },
   "outputs": [],
   "source": []
  },
  {
   "cell_type": "code",
   "execution_count": null,
   "metadata": {
    "collapsed": true
   },
   "outputs": [],
   "source": []
  },
  {
   "cell_type": "code",
   "execution_count": null,
   "metadata": {
    "collapsed": true
   },
   "outputs": [],
   "source": []
  },
  {
   "cell_type": "code",
   "execution_count": null,
   "metadata": {
    "collapsed": true
   },
   "outputs": [],
   "source": []
  },
  {
   "cell_type": "code",
   "execution_count": null,
   "metadata": {
    "collapsed": true
   },
   "outputs": [],
   "source": []
  },
  {
   "cell_type": "code",
   "execution_count": null,
   "metadata": {
    "collapsed": true
   },
   "outputs": [],
   "source": []
  },
  {
   "cell_type": "code",
   "execution_count": null,
   "metadata": {
    "collapsed": true
   },
   "outputs": [],
   "source": [
    "from gensim.test.utils import common_texts\n",
    "from gensim.models.doc2vec import Doc2Vec, TaggedDocument\n",
    "\n",
    "documents = [TaggedDocument(doc, [i]) for i, doc in enumerate(all_reviews_list_cleaned_doc)]\n",
    "model = Doc2Vec(documents, vector_size=5, window=2, min_count=1, workers=4)"
   ]
  },
  {
   "cell_type": "code",
   "execution_count": null,
   "metadata": {
    "collapsed": true
   },
   "outputs": [],
   "source": [
    "from gensim.test.utils import get_tmpfile\n",
    "\n",
    "fname = get_tmpfile(\"my_doc2vec_model\")\n",
    "\n",
    "model.save(fname)\n",
    "model = Doc2Vec.load(fname)  # you can continue training with the loaded model!"
   ]
  },
  {
   "cell_type": "code",
   "execution_count": null,
   "metadata": {
    "collapsed": true
   },
   "outputs": [],
   "source": []
  },
  {
   "cell_type": "markdown",
   "metadata": {},
   "source": [
    "The model can be enhanced even more using sentence2vec or doc2vec embedding to generalize more."
   ]
  }
 ],
 "metadata": {
  "kernelspec": {
   "display_name": "Python 3",
   "language": "python",
   "name": "python3"
  },
  "language_info": {
   "codemirror_mode": {
    "name": "ipython",
    "version": 3
   },
   "file_extension": ".py",
   "mimetype": "text/x-python",
   "name": "python",
   "nbconvert_exporter": "python",
   "pygments_lexer": "ipython3",
   "version": "3.6.2"
  }
 },
 "nbformat": 4,
 "nbformat_minor": 2
}
