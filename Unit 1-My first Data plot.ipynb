{
 "cells": [
  {
   "cell_type": "code",
   "execution_count": 1,
   "metadata": {},
   "outputs": [],
   "source": [
    "import pandas as pd\n",
    "import numpy as np\n",
    "import matplotlib.pyplot as plt"
   ]
  },
  {
   "cell_type": "code",
   "execution_count": 2,
   "metadata": {
    "scrolled": false
   },
   "outputs": [
    {
     "data": {
      "text/html": [
       "<div>\n",
       "<style scoped>\n",
       "    .dataframe tbody tr th:only-of-type {\n",
       "        vertical-align: middle;\n",
       "    }\n",
       "\n",
       "    .dataframe tbody tr th {\n",
       "        vertical-align: top;\n",
       "    }\n",
       "\n",
       "    .dataframe thead th {\n",
       "        text-align: right;\n",
       "    }\n",
       "</style>\n",
       "<table border=\"1\" class=\"dataframe\">\n",
       "  <thead>\n",
       "    <tr style=\"text-align: right;\">\n",
       "      <th></th>\n",
       "      <th>User_ID</th>\n",
       "      <th>Product_ID</th>\n",
       "      <th>Gender</th>\n",
       "      <th>Age</th>\n",
       "      <th>Occupation</th>\n",
       "      <th>City_Category</th>\n",
       "      <th>Stay_In_Current_City_Years</th>\n",
       "      <th>Marital_Status</th>\n",
       "      <th>Product_Category_1</th>\n",
       "      <th>Product_Category_2</th>\n",
       "      <th>Product_Category_3</th>\n",
       "      <th>Purchase</th>\n",
       "    </tr>\n",
       "  </thead>\n",
       "  <tbody>\n",
       "    <tr>\n",
       "      <th>0</th>\n",
       "      <td>1000001</td>\n",
       "      <td>P00069042</td>\n",
       "      <td>F</td>\n",
       "      <td>0-17</td>\n",
       "      <td>10</td>\n",
       "      <td>A</td>\n",
       "      <td>2</td>\n",
       "      <td>0</td>\n",
       "      <td>3</td>\n",
       "      <td>NaN</td>\n",
       "      <td>NaN</td>\n",
       "      <td>8370</td>\n",
       "    </tr>\n",
       "    <tr>\n",
       "      <th>1</th>\n",
       "      <td>1000001</td>\n",
       "      <td>P00248942</td>\n",
       "      <td>F</td>\n",
       "      <td>0-17</td>\n",
       "      <td>10</td>\n",
       "      <td>A</td>\n",
       "      <td>2</td>\n",
       "      <td>0</td>\n",
       "      <td>1</td>\n",
       "      <td>6.0</td>\n",
       "      <td>14.0</td>\n",
       "      <td>15200</td>\n",
       "    </tr>\n",
       "    <tr>\n",
       "      <th>2</th>\n",
       "      <td>1000001</td>\n",
       "      <td>P00087842</td>\n",
       "      <td>F</td>\n",
       "      <td>0-17</td>\n",
       "      <td>10</td>\n",
       "      <td>A</td>\n",
       "      <td>2</td>\n",
       "      <td>0</td>\n",
       "      <td>12</td>\n",
       "      <td>NaN</td>\n",
       "      <td>NaN</td>\n",
       "      <td>1422</td>\n",
       "    </tr>\n",
       "    <tr>\n",
       "      <th>3</th>\n",
       "      <td>1000001</td>\n",
       "      <td>P00085442</td>\n",
       "      <td>F</td>\n",
       "      <td>0-17</td>\n",
       "      <td>10</td>\n",
       "      <td>A</td>\n",
       "      <td>2</td>\n",
       "      <td>0</td>\n",
       "      <td>12</td>\n",
       "      <td>14.0</td>\n",
       "      <td>NaN</td>\n",
       "      <td>1057</td>\n",
       "    </tr>\n",
       "    <tr>\n",
       "      <th>4</th>\n",
       "      <td>1000002</td>\n",
       "      <td>P00285442</td>\n",
       "      <td>M</td>\n",
       "      <td>55+</td>\n",
       "      <td>16</td>\n",
       "      <td>C</td>\n",
       "      <td>5</td>\n",
       "      <td>0</td>\n",
       "      <td>8</td>\n",
       "      <td>NaN</td>\n",
       "      <td>NaN</td>\n",
       "      <td>7969</td>\n",
       "    </tr>\n",
       "  </tbody>\n",
       "</table>\n",
       "</div>"
      ],
      "text/plain": [
       "   User_ID Product_ID Gender   Age  Occupation City_Category  \\\n",
       "0  1000001  P00069042      F  0-17          10             A   \n",
       "1  1000001  P00248942      F  0-17          10             A   \n",
       "2  1000001  P00087842      F  0-17          10             A   \n",
       "3  1000001  P00085442      F  0-17          10             A   \n",
       "4  1000002  P00285442      M   55+          16             C   \n",
       "\n",
       "   Stay_In_Current_City_Years  Marital_Status  Product_Category_1  \\\n",
       "0                           2               0                   3   \n",
       "1                           2               0                   1   \n",
       "2                           2               0                  12   \n",
       "3                           2               0                  12   \n",
       "4                           5               0                   8   \n",
       "\n",
       "   Product_Category_2  Product_Category_3  Purchase  \n",
       "0                 NaN                 NaN      8370  \n",
       "1                 6.0                14.0     15200  \n",
       "2                 NaN                 NaN      1422  \n",
       "3                14.0                 NaN      1057  \n",
       "4                 NaN                 NaN      7969  "
      ]
     },
     "execution_count": 2,
     "metadata": {},
     "output_type": "execute_result"
    }
   ],
   "source": [
    " # Source of this dataset is kaggle\n",
    "df=pd.read_csv('BlackFriday.csv')\n",
    "df.head()"
   ]
  },
  {
   "cell_type": "code",
   "execution_count": 3,
   "metadata": {},
   "outputs": [
    {
     "data": {
      "text/html": [
       "<div>\n",
       "<style scoped>\n",
       "    .dataframe tbody tr th:only-of-type {\n",
       "        vertical-align: middle;\n",
       "    }\n",
       "\n",
       "    .dataframe tbody tr th {\n",
       "        vertical-align: top;\n",
       "    }\n",
       "\n",
       "    .dataframe thead th {\n",
       "        text-align: right;\n",
       "    }\n",
       "</style>\n",
       "<table border=\"1\" class=\"dataframe\">\n",
       "  <thead>\n",
       "    <tr style=\"text-align: right;\">\n",
       "      <th></th>\n",
       "      <th>Gender</th>\n",
       "      <th>Age</th>\n",
       "      <th>Occupation</th>\n",
       "      <th>Stay_In_Current_City_Years</th>\n",
       "      <th>Marital_Status</th>\n",
       "      <th>Purchase</th>\n",
       "    </tr>\n",
       "  </thead>\n",
       "  <tbody>\n",
       "    <tr>\n",
       "      <th>0</th>\n",
       "      <td>F</td>\n",
       "      <td>0-17</td>\n",
       "      <td>10</td>\n",
       "      <td>2</td>\n",
       "      <td>0</td>\n",
       "      <td>8370</td>\n",
       "    </tr>\n",
       "    <tr>\n",
       "      <th>1</th>\n",
       "      <td>F</td>\n",
       "      <td>0-17</td>\n",
       "      <td>10</td>\n",
       "      <td>2</td>\n",
       "      <td>0</td>\n",
       "      <td>15200</td>\n",
       "    </tr>\n",
       "    <tr>\n",
       "      <th>2</th>\n",
       "      <td>F</td>\n",
       "      <td>0-17</td>\n",
       "      <td>10</td>\n",
       "      <td>2</td>\n",
       "      <td>0</td>\n",
       "      <td>1422</td>\n",
       "    </tr>\n",
       "    <tr>\n",
       "      <th>3</th>\n",
       "      <td>F</td>\n",
       "      <td>0-17</td>\n",
       "      <td>10</td>\n",
       "      <td>2</td>\n",
       "      <td>0</td>\n",
       "      <td>1057</td>\n",
       "    </tr>\n",
       "    <tr>\n",
       "      <th>4</th>\n",
       "      <td>M</td>\n",
       "      <td>55+</td>\n",
       "      <td>16</td>\n",
       "      <td>5</td>\n",
       "      <td>0</td>\n",
       "      <td>7969</td>\n",
       "    </tr>\n",
       "  </tbody>\n",
       "</table>\n",
       "</div>"
      ],
      "text/plain": [
       "  Gender   Age  Occupation  Stay_In_Current_City_Years  Marital_Status  \\\n",
       "0      F  0-17          10                           2               0   \n",
       "1      F  0-17          10                           2               0   \n",
       "2      F  0-17          10                           2               0   \n",
       "3      F  0-17          10                           2               0   \n",
       "4      M   55+          16                           5               0   \n",
       "\n",
       "   Purchase  \n",
       "0      8370  \n",
       "1     15200  \n",
       "2      1422  \n",
       "3      1057  \n",
       "4      7969  "
      ]
     },
     "execution_count": 3,
     "metadata": {},
     "output_type": "execute_result"
    }
   ],
   "source": [
    "df1=df[['Gender', 'Age','Occupation', 'Stay_In_Current_City_Years', 'Marital_Status', 'Purchase']]\n",
    "df1.head()# Display a subset of Data to show the desired columns under study"
   ]
  },
  {
   "cell_type": "markdown",
   "metadata": {},
   "source": [
    "# Visual I"
   ]
  },
  {
   "cell_type": "code",
   "execution_count": 4,
   "metadata": {
    "scrolled": true
   },
   "outputs": [
    {
     "name": "stdout",
     "output_type": "stream",
     "text": [
      "The maximum purchase value is 23961\n",
      "The minimum purchase value is 185\n"
     ]
    }
   ],
   "source": [
    "# Visual I gives the look and feel of the most crucial column the purchases on Black Friday.\n",
    "print (\"The maximum purchase value is {}\" .format((df1['Purchase'].max())))\n",
    "print (\"The minimum purchase value is {}\" .format((df1['Purchase'].min())))\n"
   ]
  },
  {
   "cell_type": "code",
   "execution_count": 5,
   "metadata": {},
   "outputs": [
    {
     "data": {
      "image/png": "[encoded data removed]",
      "text/plain": [
       "<Figure size 1080x360 with 2 Axes>"
      ]
     },
     "metadata": {
      "needs_background": "light"
     },
     "output_type": "display_data"
    }
   ],
   "source": [
    "plt.figure (figsize=(15,5))\n",
    "\n",
    "plt.subplot(1,2,1)\n",
    "plt.hist(df1['Purchase'], bins=50) # Main Column distribution analysis\n",
    "plt.xlabel(\"Amount Purchased ($)\")\n",
    "plt.ylabel(\"Number of customers\")\n",
    "plt.title(\"Histogram - Purchase\")\n",
    "\n",
    "plt.subplot(1,2,2)\n",
    "plt.boxplot(df1['Purchase']) # Main Column distribution analysis\n",
    "plt.ylabel(\"Amount Purchased ($)\")\n",
    "plt.title(\"Box-Whisker plot - Purchase\")\n",
    "plt.show()"
   ]
  },
  {
   "cell_type": "raw",
   "metadata": {},
   "source": [
    "The above Histogram shows the distribution of the Purchases made by customers during Black Friday. We can see that the highest number of customers made purchases between $5,000 to $10,000. Above $20,000 are only few customers.\n",
    "\n",
    "The above Boxwhisker plot shows the range of purchase amounts made by customers. The IQR appears to be from $5,000 to $12,000 which is where most of the purchases are made. The median is the orange line which is around $8,000. The Whiskers are denoting the purchases made 1.5 times of the IQR. The fliers denote the outliers which are quite a few above $20,000.\n"
   ]
  },
  {
   "cell_type": "markdown",
   "metadata": {},
   "source": [
    "# Visual II"
   ]
  },
  {
   "cell_type": "code",
   "execution_count": 6,
   "metadata": {},
   "outputs": [
    {
     "data": {
      "text/plain": [
       "Gender\n",
       "F    1164624021\n",
       "M    3853044357\n",
       "Name: Purchase, dtype: int64"
      ]
     },
     "execution_count": 6,
     "metadata": {},
     "output_type": "execute_result"
    }
   ],
   "source": [
    "df_groupby=df1.groupby('Gender').aggregate((np.sum))\n",
    "df_groupby_purchase=df_groupby['Purchase']\n",
    "df_groupby_purchase"
   ]
  },
  {
   "cell_type": "code",
   "execution_count": 7,
   "metadata": {},
   "outputs": [],
   "source": [
    "gender_value_counts=df1['Gender'].value_counts().sort_values()"
   ]
  },
  {
   "cell_type": "code",
   "execution_count": 8,
   "metadata": {},
   "outputs": [
    {
     "data": {
      "text/plain": [
       "Gender\n",
       "F    8809.761349\n",
       "M    9504.771713\n",
       "dtype: float64"
      ]
     },
     "execution_count": 8,
     "metadata": {},
     "output_type": "execute_result"
    }
   ],
   "source": [
    "df_groupby_purchase/gender_value_counts"
   ]
  },
  {
   "cell_type": "code",
   "execution_count": 9,
   "metadata": {},
   "outputs": [
    {
     "data": {
      "image/png": "[encoded data removed]",
      "text/plain": [
       "<Figure size 1080x720 with 3 Axes>"
      ]
     },
     "metadata": {
      "needs_background": "light"
     },
     "output_type": "display_data"
    }
   ],
   "source": [
    "plt.figure (figsize=(15,10))\n",
    "\n",
    "plt.subplot(2,2,1)\n",
    "x_values=np.arange(1,3)\n",
    "plt.bar(x_values, df_groupby_purchase)\n",
    "plt.xticks(x_values, ('Female', 'Male'))\n",
    "plt.xlabel(\"Gender\")\n",
    "plt.ylabel(\"Amount Purchased ($)\")\n",
    "plt.title(\"Purchases VS Gender\")\n",
    "\n",
    "plt.subplot(2,2,2)\n",
    "plt.bar(x_values,gender_value_counts)\n",
    "plt.xticks(x_values, ('Female', 'Male'))\n",
    "plt.xlabel(\"Gender\")\n",
    "plt.ylabel(\"Number of Customers\")\n",
    "plt.title(\"Number of Customers in Gender column\")\n",
    "\n",
    "plt.subplot(2,2,3)\n",
    "plt.bar(x_values,df_groupby_purchase/gender_value_counts)\n",
    "plt.xticks(x_values, ('Female', 'Male'))\n",
    "plt.xlabel(\"Gender\")\n",
    "plt.ylabel(\"Amount Purchased ($)\")\n",
    "plt.title(\"Purchases VS Gender\")\n",
    "plt.show()\n"
   ]
  },
  {
   "cell_type": "markdown",
   "metadata": {},
   "source": [
    "Top left:\n",
    "This representation reveals the purchases made on Black friday gender wise. From this graph it appears that Males purchase around 3 times more than Females.  However, this might not be true since we did not see if equal number of males and females were considered for this study.\n",
    "\n",
    "Top Right:\n",
    " When the dataframe was counted for number of males and number of females in the Gender column, we get the count as a series 'gender_value_counts'. This gave the count of males as 3 times more than females. There were more number of males and so we got more purchases and vice versa with females. So this explains why we have seen more purchases by males than females.\n",
    " \n",
    "Bottom left:\n",
    "In order to solve this problem, I have normalized the data by dividing the purchases of males by number of males and purchases of females by number of females. This is what we see in this graph where the Tptal purchases made by males and females are aprroximately tending to be equal. Ofcourse this needs to further confirmed statistically but visually there is no difference in purchases made based on Gender on a Black Friday."
   ]
  },
  {
   "cell_type": "markdown",
   "metadata": {},
   "source": [
    "# Visual III"
   ]
  },
  {
   "cell_type": "code",
   "execution_count": 10,
   "metadata": {},
   "outputs": [
    {
     "data": {
      "text/plain": [
       "Stay_In_Current_City_Years\n",
       "0     672505429\n",
       "1    1763243917\n",
       "2     934676626\n",
       "3     872531130\n",
       "5     774711276\n",
       "Name: Purchase, dtype: int64"
      ]
     },
     "execution_count": 10,
     "metadata": {},
     "output_type": "execute_result"
    }
   ],
   "source": [
    "#Visual III\n",
    "df_groupby=df1.groupby('Stay_In_Current_City_Years')\n",
    "df_groupby['Purchase'].sum()"
   ]
  },
  {
   "cell_type": "code",
   "execution_count": 11,
   "metadata": {},
   "outputs": [
    {
     "data": {
      "text/plain": [
       "1    189192\n",
       "2     99459\n",
       "3     93312\n",
       "5     82889\n",
       "0     72725\n",
       "Name: Stay_In_Current_City_Years, dtype: int64"
      ]
     },
     "execution_count": 11,
     "metadata": {},
     "output_type": "execute_result"
    }
   ],
   "source": [
    "counts=df1['Stay_In_Current_City_Years'].value_counts()\n",
    "counts"
   ]
  },
  {
   "cell_type": "code",
   "execution_count": 12,
   "metadata": {},
   "outputs": [
    {
     "data": {
      "text/plain": [
       "0    9247.238625\n",
       "1    9319.865095\n",
       "2    9397.607316\n",
       "3    9350.685121\n",
       "5    9346.370158\n",
       "dtype: float64"
      ]
     },
     "execution_count": 12,
     "metadata": {},
     "output_type": "execute_result"
    }
   ],
   "source": [
    "norm_years=df_groupby['Purchase'].sum()/counts # Data as Purchases/Stay_in_current_city_years\n",
    "norm_years"
   ]
  },
  {
   "cell_type": "code",
   "execution_count": 13,
   "metadata": {},
   "outputs": [
    {
     "data": {
      "image/png": "[encoded data removed]",
      "text/plain": [
       "<Figure size 1080x360 with 2 Axes>"
      ]
     },
     "metadata": {
      "needs_background": "light"
     },
     "output_type": "display_data"
    }
   ],
   "source": [
    "plt.figure (figsize=(15,5))\n",
    "\n",
    "plt.subplot(1,2,1)\n",
    "plt.plot(df_groupby['Purchase'].sum())\n",
    "plt.xlabel(\"No. of years stayed in Current city\")\n",
    "plt.ylabel(\"Amount Purchased ($)\")\n",
    "plt.title(\"Total Purchases VS No. of years in current city\")\n",
    "\n",
    "plt.subplot(1,2,2)\n",
    "plt.plot(norm_years)\n",
    "plt.xlabel(\"No. of years stayed in Current city\")\n",
    "plt.ylabel(\"Amount Purchased ($) / Person\")\n",
    "plt.title(\" Purchases per person Vs. No. of years in current city\")\n",
    "plt.show()"
   ]
  },
  {
   "cell_type": "markdown",
   "metadata": {},
   "source": [
    "Left:\n",
    "The above representation reveals that maximum black friday purchases are made by customers when they stay one year in city atleast. There is steep downfall in purchases after First year. The purchases go down gradually from 2nd to 5th year. But this is the aggregate purchase made by customers year wise.\n",
    "\n",
    "Right:\n",
    "However, since the Left: figure is not true representation for data I have represented the data to the number of persons in each year. This gives us the Amount purchased per person for number of years stayed in current city. We see that maximum purchases are made by a person around 2years stay and there was steep increase till 2nd year. Afterwhich, there is a downfall at 3rd year and stays around the same or decreases by year 5."
   ]
  },
  {
   "cell_type": "markdown",
   "metadata": {},
   "source": [
    "# Visual IV"
   ]
  },
  {
   "cell_type": "code",
   "execution_count": 14,
   "metadata": {},
   "outputs": [
    {
     "data": {
      "text/plain": [
       "Age\n",
       "0-17      132659006\n",
       "18-25     901669280\n",
       "26-35    1999749106\n",
       "36-45    1010649565\n",
       "46-50     413418223\n",
       "51-55     361908356\n",
       "55+       197614842\n",
       "Name: Purchase, dtype: int64"
      ]
     },
     "execution_count": 14,
     "metadata": {},
     "output_type": "execute_result"
    }
   ],
   "source": [
    "#Visual IV\n",
    "age_groupby=df1.groupby('Age').aggregate((np.sum))\n",
    "age_groupby=age_groupby['Purchase']\n",
    "age_groupby"
   ]
  },
  {
   "cell_type": "code",
   "execution_count": 15,
   "metadata": {},
   "outputs": [
    {
     "data": {
      "text/plain": [
       "26-35    214690\n",
       "36-45    107499\n",
       "18-25     97634\n",
       "46-50     44526\n",
       "51-55     37618\n",
       "55+       20903\n",
       "0-17      14707\n",
       "Name: Age, dtype: int64"
      ]
     },
     "execution_count": 15,
     "metadata": {},
     "output_type": "execute_result"
    }
   ],
   "source": [
    "counts=df1['Age'].value_counts()\n",
    "counts"
   ]
  },
  {
   "cell_type": "code",
   "execution_count": 16,
   "metadata": {},
   "outputs": [
    {
     "data": {
      "text/plain": [
       "0-17     9020.126878\n",
       "18-25    9235.197575\n",
       "26-35    9314.588970\n",
       "36-45    9401.478758\n",
       "46-50    9284.872277\n",
       "51-55    9620.616620\n",
       "55+      9453.898579\n",
       "dtype: float64"
      ]
     },
     "execution_count": 16,
     "metadata": {},
     "output_type": "execute_result"
    }
   ],
   "source": [
    "norm_age=age_groupby/counts\n",
    "norm_age"
   ]
  },
  {
   "cell_type": "code",
   "execution_count": 17,
   "metadata": {},
   "outputs": [
    {
     "data": {
      "text/plain": [
       "Marital_Status\n",
       "0    2966289500\n",
       "1    2051378878\n",
       "Name: Purchase, dtype: int64"
      ]
     },
     "execution_count": 17,
     "metadata": {},
     "output_type": "execute_result"
    }
   ],
   "source": [
    "Marital_Status_groupby=df1.groupby('Marital_Status').aggregate((np.sum))\n",
    "Marital_Status_groupby=Marital_Status_groupby['Purchase']\n",
    "Marital_Status_groupby"
   ]
  },
  {
   "cell_type": "code",
   "execution_count": 18,
   "metadata": {},
   "outputs": [
    {
     "data": {
      "text/plain": [
       "0    317817\n",
       "1    219760\n",
       "Name: Marital_Status, dtype: int64"
      ]
     },
     "execution_count": 18,
     "metadata": {},
     "output_type": "execute_result"
    }
   ],
   "source": [
    "counts=df1['Marital_Status'].value_counts()\n",
    "counts"
   ]
  },
  {
   "cell_type": "code",
   "execution_count": 19,
   "metadata": {},
   "outputs": [
    {
     "data": {
      "text/plain": [
       "Marital_Status\n",
       "0    9333.325467\n",
       "1    9334.632681\n",
       "dtype: float64"
      ]
     },
     "execution_count": 19,
     "metadata": {},
     "output_type": "execute_result"
    }
   ],
   "source": [
    "norm_marital_status=Marital_Status_groupby/counts\n",
    "norm_marital_status"
   ]
  },
  {
   "cell_type": "code",
   "execution_count": 20,
   "metadata": {},
   "outputs": [
    {
     "data": {
      "image/png": "[encoded data removed]",
      "text/plain": [
       "<Figure size 1224x864 with 4 Axes>"
      ]
     },
     "metadata": {
      "needs_background": "light"
     },
     "output_type": "display_data"
    }
   ],
   "source": [
    "plt.figure (figsize=(17,12))\n",
    "\n",
    "plt.subplot(2,2,1)\n",
    "x_values=np.arange(1,8)\n",
    "plt.bar(x_values, age_groupby)\n",
    "plt.xticks(x_values, np.unique(df1['Age']))\n",
    "plt.xlabel(\"Age bins\")\n",
    "plt.ylabel(\"Amount Purchased ($)\")\n",
    "plt.title(\"Age VS Purchases\")\n",
    "\n",
    "plt.subplot(2,2,2)\n",
    "x_values=np.arange(1,8)\n",
    "plt.bar(x_values, norm_age)\n",
    "plt.xticks(x_values, np.unique(df1['Age']))\n",
    "plt.xlabel(\"Age bins\")\n",
    "plt.ylabel(\"Amount Purchased ($) / Person\")\n",
    "plt.title(\"NORMALIZED-Age VS Purchases\")\n",
    "\n",
    "plt.subplot(2,2,3)\n",
    "x_values=np.arange(1,3)\n",
    "plt.bar(x_values, Marital_Status_groupby)\n",
    "plt.xticks(x_values, ('Single', 'Married'))\n",
    "plt.xlabel(\"Marital Status\")\n",
    "plt.ylabel(\"Amount Purchased ($)\")\n",
    "plt.title(\"Marital Status VS Purchases\")\n",
    "\n",
    "plt.subplot(2,2,4)\n",
    "x_values=np.arange(1,3)\n",
    "plt.bar(x_values, norm_marital_status)\n",
    "plt.xticks(x_values, ('Single', 'Married'))\n",
    "plt.xlabel(\"Marital Status\")\n",
    "plt.ylabel(\"Amount Purchased ($) / Person\")\n",
    "plt.title(\"NORMALIZED-Marital Status VS Purchases\")\n",
    "#plt.tight_layout()\n",
    "plt.show()"
   ]
  },
  {
   "cell_type": "markdown",
   "metadata": {},
   "source": [
    "Top Left:\n",
    "This representation reveals the purchases made on Black friday age wise. From this graph it appears that customers in age bin 26-35 years purchased the highest atleast 2 times more than other ages. This age group was followed by 18-25 and 36-45. Ages 0-17 and 55+ were among the bottom two bins in purchase amounts. This is true only if there are equal number of people in age bin otherwise this will give false results.\n",
    "\n",
    "Top Right:\n",
    "This representation is the normalized version of the one on left. Here the aggregate of the purchases made according to age are divided by the number of people in each age bin. Thus giving the Purchase amounts per person which is the true represenation of the data as there is only one variable in the question i.e the age and not the number of people being used for aggregation of purchase amounts. Since all the amounts look more or less same, we can safely conclude from this data here that there is no influence of age on the purchase amounts on black friday.\n",
    "\n",
    "Bottom Left:\n",
    "This representation reveals the purchases made on Black friday Marital Status wise. It appears from this graph that Single Marital Status made more purchases than Married. Again, this data needs to be analysed further for the number of Singles and number of Married considered. If we want to make meaningful conclusion based on marital status the number of Singles or Married considered should be equal.\n",
    "\n",
    "Bottom Right:\n",
    "This representation is the normalized version of the one on left. Here the aggregate of the purchases made according to marital status are divided by the number of people in each group (Single or Married). Since the two groups here appear to have similar purchase amounts we conclude from this data here that Marital staus does not have any effect on purchasing amount on black friday."
   ]
  },
  {
   "cell_type": "code",
   "execution_count": null,
   "metadata": {},
   "outputs": [],
   "source": []
  }
 ],
 "metadata": {
  "kernelspec": {
   "display_name": "Python 3",
   "language": "python",
   "name": "python3"
  },
  "language_info": {
   "codemirror_mode": {
    "name": "ipython",
    "version": 3
   },
   "file_extension": ".py",
   "mimetype": "text/x-python",
   "name": "python",
   "nbconvert_exporter": "python",
   "pygments_lexer": "ipython3",
   "version": "3.7.1"
  }
 },
 "nbformat": 4,
 "nbformat_minor": 2
}
