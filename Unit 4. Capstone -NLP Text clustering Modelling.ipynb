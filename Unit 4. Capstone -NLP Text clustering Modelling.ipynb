{
 "cells": [
  {
   "cell_type": "code",
   "execution_count": 1,
   "metadata": {
    "scrolled": true
   },
   "outputs": [
    {
     "name": "stderr",
     "output_type": "stream",
     "text": [
      "/Users/Sri/anaconda3/lib/python3.6/site-packages/sklearn/externals/six.py:31: DeprecationWarning: The module is deprecated in version 0.21 and will be removed in version 0.23 since we've dropped support for Python 2.7. Please rely on the official version of six (https://pypi.org/project/six/).\n",
      "  \"(https://pypi.org/project/six/).\", DeprecationWarning)\n"
     ]
    }
   ],
   "source": [
    "\n",
    "from matplotlib import pyplot as plt\n",
    "from sklearn.naive_bayes import BernoulliNB\n",
    "from sklearn.naive_bayes import MultinomialNB\n",
    "from sklearn.model_selection import cross_val_score\n",
    "from sklearn.model_selection import train_test_split\n",
    "from sklearn import neighbors\n",
    "from imblearn.over_sampling import SMOTENC\n",
    "from imblearn.over_sampling import SMOTE\n",
    "from sklearn.linear_model import LogisticRegression\n",
    "from sklearn.metrics import confusion_matrix\n",
    "from sklearn.svm import SVC\n",
    "from collections import Counter\n",
    "from sklearn import ensemble\n",
    "from sklearn import metrics\n",
    "import numpy as np\n",
    "import pandas as pd\n",
    "import seaborn as sns\n",
    "from sklearn.preprocessing import scale\n",
    "from sklearn.cluster import SpectralClustering\n",
    "from sklearn.cluster import spectral_clustering\n",
    "from sklearn.neural_network import MLPClassifier\n",
    "from mpl_toolkits.mplot3d import Axes3D\n",
    "\n",
    "import spacy\n",
    "\n",
    "sns.set(rc={'figure.figsize':(12,7)}, style='whitegrid', color_codes=True)"
   ]
  },
  {
   "cell_type": "markdown",
   "metadata": {
    "collapsed": true
   },
   "source": [
    "Source = http://jmcauley.ucsd.edu/data/amazon/ "
   ]
  },
  {
   "cell_type": "markdown",
   "metadata": {},
   "source": [
    "## Challenge: Compare the stability or accuracy of text classifcation between clustering \n",
    "\n",
    "## and supervised modelling"
   ]
  },
  {
   "cell_type": "markdown",
   "metadata": {},
   "source": [
    "### Overview:\n",
    "#### 1) Data preprocessing\n",
    "#### 2) Generation of TF_IDF features (Supervised technique) and dimensionality reduction by SVD (Unsupervised technique)\n",
    "#### 3) Evaluation of models with TF_IDF features\n",
    "#### 4) Generation of word2vec features (Unsupervised technique)\n",
    "#### 5) Evaluation of models with Word2vec features\n",
    "#### 6) Clustering of data and Evalutaion\n",
    "#### 7) Conlusions: why Modelling is better than clustering. "
   ]
  },
  {
   "cell_type": "markdown",
   "metadata": {},
   "source": [
    "### 1) Data preprocessing"
   ]
  },
  {
   "cell_type": "code",
   "execution_count": 2,
   "metadata": {
    "collapsed": true
   },
   "outputs": [],
   "source": [
    "#df =  pd.read_csv('/Users/Sri/Downloads/Amazon_Books_Review.csv')\n",
    "df = pd.read_json('Amazon_Instant_Video_5.json', lines=True)"
   ]
  },
  {
   "cell_type": "code",
   "execution_count": 3,
   "metadata": {
    "scrolled": true
   },
   "outputs": [
    {
     "data": {
      "text/html": [
       "<div>\n",
       "<style>\n",
       "    .dataframe thead tr:only-child th {\n",
       "        text-align: right;\n",
       "    }\n",
       "\n",
       "    .dataframe thead th {\n",
       "        text-align: left;\n",
       "    }\n",
       "\n",
       "    .dataframe tbody tr th {\n",
       "        vertical-align: top;\n",
       "    }\n",
       "</style>\n",
       "<table border=\"1\" class=\"dataframe\">\n",
       "  <thead>\n",
       "    <tr style=\"text-align: right;\">\n",
       "      <th></th>\n",
       "      <th>asin</th>\n",
       "      <th>helpful</th>\n",
       "      <th>overall</th>\n",
       "      <th>reviewText</th>\n",
       "      <th>reviewTime</th>\n",
       "      <th>reviewerID</th>\n",
       "      <th>reviewerName</th>\n",
       "      <th>summary</th>\n",
       "      <th>unixReviewTime</th>\n",
       "    </tr>\n",
       "  </thead>\n",
       "  <tbody>\n",
       "    <tr>\n",
       "      <th>0</th>\n",
       "      <td>B000H00VBQ</td>\n",
       "      <td>[0, 0]</td>\n",
       "      <td>2</td>\n",
       "      <td>I had big expectations because I love English ...</td>\n",
       "      <td>05 3, 2014</td>\n",
       "      <td>A11N155CW1UV02</td>\n",
       "      <td>AdrianaM</td>\n",
       "      <td>A little bit boring for me</td>\n",
       "      <td>1399075200</td>\n",
       "    </tr>\n",
       "    <tr>\n",
       "      <th>1</th>\n",
       "      <td>B000H00VBQ</td>\n",
       "      <td>[0, 0]</td>\n",
       "      <td>5</td>\n",
       "      <td>I highly recommend this series. It is a must f...</td>\n",
       "      <td>09 3, 2012</td>\n",
       "      <td>A3BC8O2KCL29V2</td>\n",
       "      <td>Carol T</td>\n",
       "      <td>Excellent Grown Up TV</td>\n",
       "      <td>1346630400</td>\n",
       "    </tr>\n",
       "    <tr>\n",
       "      <th>2</th>\n",
       "      <td>B000H00VBQ</td>\n",
       "      <td>[0, 1]</td>\n",
       "      <td>1</td>\n",
       "      <td>This one is a real snoozer. Don't believe anyt...</td>\n",
       "      <td>10 16, 2013</td>\n",
       "      <td>A60D5HQFOTSOM</td>\n",
       "      <td>Daniel Cooper \"dancoopermedia\"</td>\n",
       "      <td>Way too boring for me</td>\n",
       "      <td>1381881600</td>\n",
       "    </tr>\n",
       "    <tr>\n",
       "      <th>3</th>\n",
       "      <td>B000H00VBQ</td>\n",
       "      <td>[0, 0]</td>\n",
       "      <td>4</td>\n",
       "      <td>Mysteries are interesting.  The tension betwee...</td>\n",
       "      <td>10 30, 2013</td>\n",
       "      <td>A1RJPIGRSNX4PW</td>\n",
       "      <td>J. Kaplan \"JJ\"</td>\n",
       "      <td>Robson Green is mesmerizing</td>\n",
       "      <td>1383091200</td>\n",
       "    </tr>\n",
       "    <tr>\n",
       "      <th>4</th>\n",
       "      <td>B000H00VBQ</td>\n",
       "      <td>[1, 1]</td>\n",
       "      <td>5</td>\n",
       "      <td>This show always is excellent, as far as briti...</td>\n",
       "      <td>02 11, 2009</td>\n",
       "      <td>A16XRPF40679KG</td>\n",
       "      <td>Michael Dobey</td>\n",
       "      <td>Robson green and great writing</td>\n",
       "      <td>1234310400</td>\n",
       "    </tr>\n",
       "  </tbody>\n",
       "</table>\n",
       "</div>"
      ],
      "text/plain": [
       "         asin helpful  overall  \\\n",
       "0  B000H00VBQ  [0, 0]        2   \n",
       "1  B000H00VBQ  [0, 0]        5   \n",
       "2  B000H00VBQ  [0, 1]        1   \n",
       "3  B000H00VBQ  [0, 0]        4   \n",
       "4  B000H00VBQ  [1, 1]        5   \n",
       "\n",
       "                                          reviewText   reviewTime  \\\n",
       "0  I had big expectations because I love English ...   05 3, 2014   \n",
       "1  I highly recommend this series. It is a must f...   09 3, 2012   \n",
       "2  This one is a real snoozer. Don't believe anyt...  10 16, 2013   \n",
       "3  Mysteries are interesting.  The tension betwee...  10 30, 2013   \n",
       "4  This show always is excellent, as far as briti...  02 11, 2009   \n",
       "\n",
       "       reviewerID                    reviewerName  \\\n",
       "0  A11N155CW1UV02                        AdrianaM   \n",
       "1  A3BC8O2KCL29V2                         Carol T   \n",
       "2   A60D5HQFOTSOM  Daniel Cooper \"dancoopermedia\"   \n",
       "3  A1RJPIGRSNX4PW                  J. Kaplan \"JJ\"   \n",
       "4  A16XRPF40679KG                   Michael Dobey   \n",
       "\n",
       "                          summary  unixReviewTime  \n",
       "0      A little bit boring for me      1399075200  \n",
       "1           Excellent Grown Up TV      1346630400  \n",
       "2           Way too boring for me      1381881600  \n",
       "3     Robson Green is mesmerizing      1383091200  \n",
       "4  Robson green and great writing      1234310400  "
      ]
     },
     "execution_count": 3,
     "metadata": {},
     "output_type": "execute_result"
    }
   ],
   "source": [
    "df.head()"
   ]
  },
  {
   "cell_type": "code",
   "execution_count": 4,
   "metadata": {},
   "outputs": [
    {
     "data": {
      "text/plain": [
       "5    0.562678\n",
       "4    0.227496\n",
       "3    0.112778\n",
       "2    0.050773\n",
       "1    0.046275\n",
       "Name: overall, dtype: float64"
      ]
     },
     "execution_count": 4,
     "metadata": {},
     "output_type": "execute_result"
    }
   ],
   "source": [
    "df.overall.value_counts(normalize=True)"
   ]
  },
  {
   "cell_type": "code",
   "execution_count": 5,
   "metadata": {},
   "outputs": [
    {
     "name": "stdout",
     "output_type": "stream",
     "text": [
      "<class 'pandas.core.frame.DataFrame'>\n",
      "Int64Index: 37126 entries, 0 to 37125\n",
      "Data columns (total 9 columns):\n",
      "asin              37126 non-null object\n",
      "helpful           37126 non-null object\n",
      "overall           37126 non-null int64\n",
      "reviewText        37126 non-null object\n",
      "reviewTime        37126 non-null object\n",
      "reviewerID        37126 non-null object\n",
      "reviewerName      36797 non-null object\n",
      "summary           37126 non-null object\n",
      "unixReviewTime    37126 non-null int64\n",
      "dtypes: int64(2), object(7)\n",
      "memory usage: 2.8+ MB\n"
     ]
    }
   ],
   "source": [
    "df.info()"
   ]
  },
  {
   "cell_type": "code",
   "execution_count": 6,
   "metadata": {
    "collapsed": true
   },
   "outputs": [],
   "source": [
    "# Making a subset dataframe of only the columns which are necessary for analysis.\n",
    "data=df[['reviewText', 'overall']]"
   ]
  },
  {
   "cell_type": "code",
   "execution_count": 7,
   "metadata": {
    "collapsed": true
   },
   "outputs": [],
   "source": [
    "# Making a subset of the data for faster run time\n",
    "#ata = data.sample(frac=0.005, replace=False, random_state=1)\n",
    "data = data.sample(frac=0.1, replace=False, random_state=1)"
   ]
  },
  {
   "cell_type": "code",
   "execution_count": 8,
   "metadata": {},
   "outputs": [
    {
     "name": "stdout",
     "output_type": "stream",
     "text": [
      "<class 'pandas.core.frame.DataFrame'>\n",
      "Int64Index: 3713 entries, 19223 to 2538\n",
      "Data columns (total 2 columns):\n",
      "reviewText    3713 non-null object\n",
      "overall       3713 non-null int64\n",
      "dtypes: int64(1), object(1)\n",
      "memory usage: 87.0+ KB\n"
     ]
    }
   ],
   "source": [
    "data.info()"
   ]
  },
  {
   "cell_type": "code",
   "execution_count": 9,
   "metadata": {},
   "outputs": [
    {
     "data": {
      "text/html": [
       "<div>\n",
       "<style>\n",
       "    .dataframe thead tr:only-child th {\n",
       "        text-align: right;\n",
       "    }\n",
       "\n",
       "    .dataframe thead th {\n",
       "        text-align: left;\n",
       "    }\n",
       "\n",
       "    .dataframe tbody tr th {\n",
       "        vertical-align: top;\n",
       "    }\n",
       "</style>\n",
       "<table border=\"1\" class=\"dataframe\">\n",
       "  <thead>\n",
       "    <tr style=\"text-align: right;\">\n",
       "      <th></th>\n",
       "      <th>reviewText</th>\n",
       "      <th>overall</th>\n",
       "    </tr>\n",
       "  </thead>\n",
       "  <tbody>\n",
       "    <tr>\n",
       "      <th>19223</th>\n",
       "      <td>i saw the series on TV and wasn;t too imressed...</td>\n",
       "      <td>5</td>\n",
       "    </tr>\n",
       "    <tr>\n",
       "      <th>8564</th>\n",
       "      <td>I love police procedurals. My favorite is the ...</td>\n",
       "      <td>5</td>\n",
       "    </tr>\n",
       "    <tr>\n",
       "      <th>10406</th>\n",
       "      <td>Very good well written series,  so sorry it di...</td>\n",
       "      <td>3</td>\n",
       "    </tr>\n",
       "    <tr>\n",
       "      <th>14717</th>\n",
       "      <td>One episode in, I plan to watch another. The a...</td>\n",
       "      <td>3</td>\n",
       "    </tr>\n",
       "    <tr>\n",
       "      <th>2554</th>\n",
       "      <td>This is a wild ride, on the one hand we've got...</td>\n",
       "      <td>5</td>\n",
       "    </tr>\n",
       "  </tbody>\n",
       "</table>\n",
       "</div>"
      ],
      "text/plain": [
       "                                              reviewText  overall\n",
       "19223  i saw the series on TV and wasn;t too imressed...        5\n",
       "8564   I love police procedurals. My favorite is the ...        5\n",
       "10406  Very good well written series,  so sorry it di...        3\n",
       "14717  One episode in, I plan to watch another. The a...        3\n",
       "2554   This is a wild ride, on the one hand we've got...        5"
      ]
     },
     "execution_count": 9,
     "metadata": {},
     "output_type": "execute_result"
    }
   ],
   "source": [
    "data.head()"
   ]
  },
  {
   "cell_type": "code",
   "execution_count": 10,
   "metadata": {},
   "outputs": [
    {
     "data": {
      "text/plain": [
       "Series([], dtype: int64)"
      ]
     },
     "execution_count": 10,
     "metadata": {},
     "output_type": "execute_result"
    }
   ],
   "source": [
    "data.isnull().sum()[data.isnull().sum()>0]"
   ]
  },
  {
   "cell_type": "code",
   "execution_count": 11,
   "metadata": {
    "collapsed": true
   },
   "outputs": [],
   "source": [
    "# Deleting the null values since they represent 0.006% of the data.\n",
    "data.dropna(inplace=True, axis=0)\n",
    "data.reset_index(inplace=True, drop=True)"
   ]
  },
  {
   "cell_type": "code",
   "execution_count": 12,
   "metadata": {},
   "outputs": [
    {
     "data": {
      "text/plain": [
       "array([5, 3, 4, 2, 1])"
      ]
     },
     "execution_count": 12,
     "metadata": {},
     "output_type": "execute_result"
    }
   ],
   "source": [
    "data.overall.unique()"
   ]
  },
  {
   "cell_type": "code",
   "execution_count": 13,
   "metadata": {
    "collapsed": true
   },
   "outputs": [],
   "source": [
    "# Creating outcome variable i.e review_sentiment as positive or negative\n",
    "data['review_sentiment'] = np.where(data['overall'] > 3, 1, 0)"
   ]
  },
  {
   "cell_type": "code",
   "execution_count": 14,
   "metadata": {},
   "outputs": [
    {
     "data": {
      "text/html": [
       "<div>\n",
       "<style>\n",
       "    .dataframe thead tr:only-child th {\n",
       "        text-align: right;\n",
       "    }\n",
       "\n",
       "    .dataframe thead th {\n",
       "        text-align: left;\n",
       "    }\n",
       "\n",
       "    .dataframe tbody tr th {\n",
       "        vertical-align: top;\n",
       "    }\n",
       "</style>\n",
       "<table border=\"1\" class=\"dataframe\">\n",
       "  <thead>\n",
       "    <tr style=\"text-align: right;\">\n",
       "      <th></th>\n",
       "      <th>reviewText</th>\n",
       "      <th>overall</th>\n",
       "      <th>review_sentiment</th>\n",
       "    </tr>\n",
       "  </thead>\n",
       "  <tbody>\n",
       "    <tr>\n",
       "      <th>0</th>\n",
       "      <td>i saw the series on TV and wasn;t too imressed...</td>\n",
       "      <td>5</td>\n",
       "      <td>1</td>\n",
       "    </tr>\n",
       "    <tr>\n",
       "      <th>1</th>\n",
       "      <td>I love police procedurals. My favorite is the ...</td>\n",
       "      <td>5</td>\n",
       "      <td>1</td>\n",
       "    </tr>\n",
       "    <tr>\n",
       "      <th>2</th>\n",
       "      <td>Very good well written series,  so sorry it di...</td>\n",
       "      <td>3</td>\n",
       "      <td>0</td>\n",
       "    </tr>\n",
       "    <tr>\n",
       "      <th>3</th>\n",
       "      <td>One episode in, I plan to watch another. The a...</td>\n",
       "      <td>3</td>\n",
       "      <td>0</td>\n",
       "    </tr>\n",
       "    <tr>\n",
       "      <th>4</th>\n",
       "      <td>This is a wild ride, on the one hand we've got...</td>\n",
       "      <td>5</td>\n",
       "      <td>1</td>\n",
       "    </tr>\n",
       "  </tbody>\n",
       "</table>\n",
       "</div>"
      ],
      "text/plain": [
       "                                          reviewText  overall  \\\n",
       "0  i saw the series on TV and wasn;t too imressed...        5   \n",
       "1  I love police procedurals. My favorite is the ...        5   \n",
       "2  Very good well written series,  so sorry it di...        3   \n",
       "3  One episode in, I plan to watch another. The a...        3   \n",
       "4  This is a wild ride, on the one hand we've got...        5   \n",
       "\n",
       "   review_sentiment  \n",
       "0                 1  \n",
       "1                 1  \n",
       "2                 0  \n",
       "3                 0  \n",
       "4                 1  "
      ]
     },
     "execution_count": 14,
     "metadata": {},
     "output_type": "execute_result"
    }
   ],
   "source": [
    "data.head()"
   ]
  },
  {
   "cell_type": "markdown",
   "metadata": {},
   "source": [
    "Before doing any of the next steps we need to extract the revies as positive or negative for creating features category wise."
   ]
  },
  {
   "cell_type": "code",
   "execution_count": 15,
   "metadata": {
    "collapsed": true
   },
   "outputs": [],
   "source": [
    "all_reviews_positive=[]\n",
    "all_reviews_negative=[]\n",
    "\n",
    "for text in (data.loc[data['review_sentiment'] == 1, 'reviewText'].values):\n",
    "    all_reviews_positive.append(text)\n",
    "    \n",
    "for text in (data.loc[data['review_sentiment'] == 0, 'reviewText'].values):\n",
    "    all_reviews_negative.append(text)"
   ]
  },
  {
   "cell_type": "code",
   "execution_count": 16,
   "metadata": {},
   "outputs": [
    {
     "data": {
      "text/plain": [
       "'This is a wild ride, on the one hand we\\'ve got this incredibly hyper violent bike gang made up of some really good guys. Seriously who would NOT want to go out for a beer with jackson, Opie, Chips, Scotty, Juice or Bobby Elvis?? Clay is another matter. Then there is the comparative morality of corrupt politicians, cynical, venal government agencies and morally compromised businessmen. So they get into all of these wild escapades, nothing is ever what it seems and the SOA is always about 15 minutes from death, destruction and prison as one scheme after another backfires. Someone should make a reel of the many \"oh s***\" moments in the series, whenever someone says it, it has already hit the fan. But it is never boring. I guarantee that if you buy the series you will be up all night watching it, simply to see what happens next. Highest possible rating.'"
      ]
     },
     "execution_count": 16,
     "metadata": {},
     "output_type": "execute_result"
    }
   ],
   "source": [
    "all_reviews_positive[2]"
   ]
  },
  {
   "cell_type": "code",
   "execution_count": 17,
   "metadata": {},
   "outputs": [
    {
     "data": {
      "text/plain": [
       "2954"
      ]
     },
     "execution_count": 17,
     "metadata": {},
     "output_type": "execute_result"
    }
   ],
   "source": [
    "len(all_reviews_positive)"
   ]
  },
  {
   "cell_type": "code",
   "execution_count": 18,
   "metadata": {},
   "outputs": [
    {
     "data": {
      "text/plain": [
       "759"
      ]
     },
     "execution_count": 18,
     "metadata": {},
     "output_type": "execute_result"
    }
   ],
   "source": [
    "len(all_reviews_negative)"
   ]
  },
  {
   "cell_type": "code",
   "execution_count": 19,
   "metadata": {},
   "outputs": [
    {
     "name": "stdout",
     "output_type": "stream",
     "text": [
      "341\n",
      "413\n",
      "110\n",
      "169\n",
      "861\n",
      "237\n",
      "505\n",
      "277\n",
      "1462\n",
      "111\n"
     ]
    }
   ],
   "source": [
    "# Finding the length of each review for 10 rows\n",
    "for i in range(10):\n",
    "    print (len (data['reviewText'][i]))"
   ]
  },
  {
   "cell_type": "markdown",
   "metadata": {},
   "source": [
    "Some of them have pretty long reviews. More the words better it is for word training."
   ]
  },
  {
   "cell_type": "markdown",
   "metadata": {},
   "source": [
    "Since the size of the text is greater than 1 million, Spacy gives an error. so broken down the text into a list of strings."
   ]
  },
  {
   "cell_type": "code",
   "execution_count": 20,
   "metadata": {
    "collapsed": true
   },
   "outputs": [],
   "source": [
    "# Parsing the texts\n",
    "nlp = spacy.load('en')\n",
    "\n",
    "all_reviews_positive_list_doc = [ nlp(text) for text in all_reviews_positive]\n",
    "all_reviews_negative_list_doc = [ nlp(text) for text in all_reviews_negative]"
   ]
  },
  {
   "cell_type": "markdown",
   "metadata": {},
   "source": [
    "### Data cleaning / processing / language parsing"
   ]
  },
  {
   "cell_type": "code",
   "execution_count": 21,
   "metadata": {
    "collapsed": true
   },
   "outputs": [],
   "source": [
    "# Cleaning the texts and making the words ready for further processing\n",
    "\n",
    "all_reviews_list_cleaned_doc=[]\n",
    "temp=''         \n",
    "for review in all_reviews_positive_list_doc:\n",
    "    for token in review:\n",
    "        if not token.is_punct and not token.is_space and  token.is_alpha:\n",
    "            temp = temp + ' ' + token.text.lower()\n",
    "    all_reviews_list_cleaned_doc.append(temp)\n",
    "    temp=''\n",
    "        \n",
    "for review in all_reviews_negative_list_doc:\n",
    "    for token in review:\n",
    "        if not token.is_punct and not token.is_space and  token.is_alpha:\n",
    "            temp = temp + ' ' + token.text.lower()\n",
    "    all_reviews_list_cleaned_doc.append(temp)\n",
    "    temp=''"
   ]
  },
  {
   "cell_type": "markdown",
   "metadata": {},
   "source": [
    "###  2) Generation of TF_IDF features (Supervised technique) and dimensionality reduction by SVD   \n",
    "### (Unsupervised technique)"
   ]
  },
  {
   "cell_type": "markdown",
   "metadata": {},
   "source": [
    "### TF-IDF Feature generation and selection/reduction with SVD"
   ]
  },
  {
   "cell_type": "code",
   "execution_count": 22,
   "metadata": {
    "collapsed": true
   },
   "outputs": [],
   "source": [
    "def tf_idf_svd_normalizer(doc):\n",
    "    from sklearn.feature_extraction.text import TfidfVectorizer\n",
    "\n",
    "\n",
    "    vectorizer = TfidfVectorizer(max_df=0.5, # drop words that occur in more than half the paragraphs\n",
    "                             min_df=2, # only use words that appear at least twice\n",
    "                             stop_words='english', \n",
    "                             lowercase=False, #convert everything to lower case (since Alice in Wonderland has the HABIT of CAPITALIZING WORDS for EMPHASIS)\n",
    "                             use_idf=True,#we definitely want to use inverse document frequencies in our weighting\n",
    "                             norm=u'l2', #Applies a correction factor so that longer paragraphs and shorter paragraphs get treated equally\n",
    "                             smooth_idf=True #Adds 1 to all document frequencies, as if an extra document existed that used every word once.  Prevents divide-by-zero errors\n",
    "                            )\n",
    "    #Applying the vectorizer\n",
    "    review_tfidf=vectorizer.fit_transform(doc)\n",
    "    print(\"Number of features: %d\" % review_tfidf.get_shape()[1])\n",
    "\n",
    "    from sklearn.decomposition import TruncatedSVD\n",
    "    from sklearn.pipeline import make_pipeline\n",
    "    from sklearn.preprocessing import Normalizer\n",
    "\n",
    "    #Our SVD data reducer.  We are going to reduce the feature space.\n",
    "    n = int((review_tfidf.get_shape()[1])/5)\n",
    "    print ('Dimension Reduction from %d to %d' % (review_tfidf.get_shape()[1], n))\n",
    "    svd= TruncatedSVD(n)\n",
    "    #lsa = make_pipeline(svd, Normalizer(copy=False))\n",
    "    # Run SVD.\n",
    "    review_lsa = svd.fit_transform(review_tfidf)\n",
    "\n",
    "    variance_explained=svd.explained_variance_ratio_\n",
    "    total_variance = variance_explained.sum()\n",
    "    print(\"\\nPercent variance captured by all components:\",total_variance*100)\n",
    "    reviews_by_component=pd.DataFrame(review_lsa, index=doc)\n",
    "\n",
    "    return reviews_by_component, review_tfidf"
   ]
  },
  {
   "cell_type": "code",
   "execution_count": 23,
   "metadata": {},
   "outputs": [
    {
     "data": {
      "text/plain": [
       "3713"
      ]
     },
     "execution_count": 23,
     "metadata": {},
     "output_type": "execute_result"
    }
   ],
   "source": [
    "len(all_reviews_list_cleaned_doc)"
   ]
  },
  {
   "cell_type": "code",
   "execution_count": 24,
   "metadata": {},
   "outputs": [
    {
     "name": "stdout",
     "output_type": "stream",
     "text": [
      "Number of features: 9544\n",
      "Dimension Reduction from 9544 to 1908\n",
      "\n",
      "Percent variance captured by all components: 89.86877354871659\n"
     ]
    }
   ],
   "source": [
    "reviews_by_component_original, review_tfidf = tf_idf_svd_normalizer(all_reviews_list_cleaned_doc)"
   ]
  },
  {
   "cell_type": "code",
   "execution_count": 25,
   "metadata": {},
   "outputs": [
    {
     "data": {
      "text/plain": [
       "<3713x9544 sparse matrix of type '<class 'numpy.float64'>'\n",
       "\twith 121976 stored elements in Compressed Sparse Row format>"
      ]
     },
     "execution_count": 25,
     "metadata": {},
     "output_type": "execute_result"
    }
   ],
   "source": [
    "review_tfidf"
   ]
  },
  {
   "cell_type": "code",
   "execution_count": 26,
   "metadata": {},
   "outputs": [
    {
     "data": {
      "text/html": [
       "<div>\n",
       "<style>\n",
       "    .dataframe thead tr:only-child th {\n",
       "        text-align: right;\n",
       "    }\n",
       "\n",
       "    .dataframe thead th {\n",
       "        text-align: left;\n",
       "    }\n",
       "\n",
       "    .dataframe tbody tr th {\n",
       "        vertical-align: top;\n",
       "    }\n",
       "</style>\n",
       "<table border=\"1\" class=\"dataframe\">\n",
       "  <thead>\n",
       "    <tr style=\"text-align: right;\">\n",
       "      <th></th>\n",
       "      <th>0</th>\n",
       "      <th>1</th>\n",
       "      <th>2</th>\n",
       "      <th>3</th>\n",
       "      <th>4</th>\n",
       "      <th>5</th>\n",
       "      <th>6</th>\n",
       "      <th>7</th>\n",
       "      <th>8</th>\n",
       "      <th>9</th>\n",
       "      <th>...</th>\n",
       "      <th>1898</th>\n",
       "      <th>1899</th>\n",
       "      <th>1900</th>\n",
       "      <th>1901</th>\n",
       "      <th>1902</th>\n",
       "      <th>1903</th>\n",
       "      <th>1904</th>\n",
       "      <th>1905</th>\n",
       "      <th>1906</th>\n",
       "      <th>1907</th>\n",
       "    </tr>\n",
       "  </thead>\n",
       "  <tbody>\n",
       "    <tr>\n",
       "      <th>i saw the series on tv and too imressed the second time around was much much story line moves effortlessly the characters are intriguing and the suspense is superb i highly recommend this series to all who would enjoy horror with a great story line also see the first american horror story that is really really good</th>\n",
       "      <td>0.298499</td>\n",
       "      <td>-0.112400</td>\n",
       "      <td>0.138161</td>\n",
       "      <td>-0.197416</td>\n",
       "      <td>0.010027</td>\n",
       "      <td>0.106044</td>\n",
       "      <td>-0.154466</td>\n",
       "      <td>-0.032914</td>\n",
       "      <td>-0.054195</td>\n",
       "      <td>0.101880</td>\n",
       "      <td>...</td>\n",
       "      <td>-0.006460</td>\n",
       "      <td>-0.010283</td>\n",
       "      <td>-0.005475</td>\n",
       "      <td>0.008490</td>\n",
       "      <td>0.007519</td>\n",
       "      <td>-0.000845</td>\n",
       "      <td>0.004776</td>\n",
       "      <td>-0.008953</td>\n",
       "      <td>-0.001267</td>\n",
       "      <td>-0.007183</td>\n",
       "    </tr>\n",
       "    <tr>\n",
       "      <th>i love police procedurals my favorite is the swedish wallander so that the standard i compare others against and single handed does a great job of entertaining me and making me want to see more the acting is superb so much so that you can forget they are actors and believe in these complicated people their small town on the western edge of ireland and the tough lives they lead i enjoyed every minute</th>\n",
       "      <td>0.142418</td>\n",
       "      <td>-0.045729</td>\n",
       "      <td>0.074410</td>\n",
       "      <td>0.024398</td>\n",
       "      <td>0.053790</td>\n",
       "      <td>-0.031364</td>\n",
       "      <td>-0.067318</td>\n",
       "      <td>-0.018246</td>\n",
       "      <td>0.015167</td>\n",
       "      <td>0.018415</td>\n",
       "      <td>...</td>\n",
       "      <td>0.008725</td>\n",
       "      <td>-0.001669</td>\n",
       "      <td>-0.000524</td>\n",
       "      <td>0.013131</td>\n",
       "      <td>-0.001843</td>\n",
       "      <td>0.021747</td>\n",
       "      <td>0.013827</td>\n",
       "      <td>-0.021818</td>\n",
       "      <td>0.007169</td>\n",
       "      <td>-0.010865</td>\n",
       "    </tr>\n",
       "    <tr>\n",
       "      <th>this is a wild ride on the one hand we got this incredibly hyper violent bike gang made up of some really good guys seriously who would not want to go out for a beer with jackson opie chips scotty juice or bobby elvis clay is another matter then there is the comparative morality of corrupt politicians cynical venal government agencies and morally compromised businessmen so they get into all of these wild escapades nothing is ever what it seems and the soa is always about minutes from death destruction and prison as one scheme after another backfires someone should make a reel of the many oh s moments in the series whenever someone says it it has already hit the fan but it is never boring i guarantee that if you buy the series you will be up all night watching it simply to see what happens next highest possible rating</th>\n",
       "      <td>0.102104</td>\n",
       "      <td>-0.034256</td>\n",
       "      <td>-0.004800</td>\n",
       "      <td>-0.019457</td>\n",
       "      <td>-0.065734</td>\n",
       "      <td>0.023796</td>\n",
       "      <td>-0.010851</td>\n",
       "      <td>0.033352</td>\n",
       "      <td>0.013031</td>\n",
       "      <td>-0.017299</td>\n",
       "      <td>...</td>\n",
       "      <td>-0.006127</td>\n",
       "      <td>0.004363</td>\n",
       "      <td>-0.016262</td>\n",
       "      <td>-0.012378</td>\n",
       "      <td>-0.005392</td>\n",
       "      <td>0.009119</td>\n",
       "      <td>-0.001293</td>\n",
       "      <td>0.014890</td>\n",
       "      <td>0.009759</td>\n",
       "      <td>0.012852</td>\n",
       "    </tr>\n",
       "    <tr>\n",
       "      <th>i like this tv series which nowadays may not last too long for reasons i can only guess at i have the other seasons and just want to complete my collection if you have seen any of the shows try season and see what you think of it</th>\n",
       "      <td>0.253275</td>\n",
       "      <td>0.068843</td>\n",
       "      <td>-0.039278</td>\n",
       "      <td>0.019491</td>\n",
       "      <td>-0.131146</td>\n",
       "      <td>-0.040717</td>\n",
       "      <td>0.010407</td>\n",
       "      <td>-0.024224</td>\n",
       "      <td>0.106662</td>\n",
       "      <td>-0.184526</td>\n",
       "      <td>...</td>\n",
       "      <td>0.005944</td>\n",
       "      <td>-0.019622</td>\n",
       "      <td>0.005067</td>\n",
       "      <td>-0.001014</td>\n",
       "      <td>0.005285</td>\n",
       "      <td>0.006177</td>\n",
       "      <td>-0.003845</td>\n",
       "      <td>-0.005706</td>\n",
       "      <td>-0.015572</td>\n",
       "      <td>-0.002230</td>\n",
       "    </tr>\n",
       "    <tr>\n",
       "      <th>i liked it a girl goes to a party and either a guy gives her some sort of terrible or puts something deadly in her drink eithier way we see a downward spiral to her health and apperance man i love horror movies but there soooo much bunk out there i found this well acted good plot and action i was puzzeled by the total ignorant doctor who ca seem to help and mother who thinks she s on drugs when she s clearly turning into something other worldly but hey its a movie and a good one</th>\n",
       "      <td>0.130296</td>\n",
       "      <td>-0.079036</td>\n",
       "      <td>-0.067046</td>\n",
       "      <td>0.025261</td>\n",
       "      <td>0.097886</td>\n",
       "      <td>0.071779</td>\n",
       "      <td>-0.051153</td>\n",
       "      <td>0.095807</td>\n",
       "      <td>0.017944</td>\n",
       "      <td>-0.009975</td>\n",
       "      <td>...</td>\n",
       "      <td>0.011736</td>\n",
       "      <td>0.000789</td>\n",
       "      <td>-0.011550</td>\n",
       "      <td>-0.006073</td>\n",
       "      <td>0.007587</td>\n",
       "      <td>0.008955</td>\n",
       "      <td>-0.009020</td>\n",
       "      <td>-0.006600</td>\n",
       "      <td>0.005432</td>\n",
       "      <td>0.010452</td>\n",
       "    </tr>\n",
       "  </tbody>\n",
       "</table>\n",
       "<p>5 rows × 1908 columns</p>\n",
       "</div>"
      ],
      "text/plain": [
       "                                                        0         1     \\\n",
       " i saw the series on tv and too imressed the se...  0.298499 -0.112400   \n",
       " i love police procedurals my favorite is the s...  0.142418 -0.045729   \n",
       " this is a wild ride on the one hand we got thi...  0.102104 -0.034256   \n",
       " i like this tv series which nowadays may not l...  0.253275  0.068843   \n",
       " i liked it a girl goes to a party and either a...  0.130296 -0.079036   \n",
       "\n",
       "                                                        2         3     \\\n",
       " i saw the series on tv and too imressed the se...  0.138161 -0.197416   \n",
       " i love police procedurals my favorite is the s...  0.074410  0.024398   \n",
       " this is a wild ride on the one hand we got thi... -0.004800 -0.019457   \n",
       " i like this tv series which nowadays may not l... -0.039278  0.019491   \n",
       " i liked it a girl goes to a party and either a... -0.067046  0.025261   \n",
       "\n",
       "                                                        4         5     \\\n",
       " i saw the series on tv and too imressed the se...  0.010027  0.106044   \n",
       " i love police procedurals my favorite is the s...  0.053790 -0.031364   \n",
       " this is a wild ride on the one hand we got thi... -0.065734  0.023796   \n",
       " i like this tv series which nowadays may not l... -0.131146 -0.040717   \n",
       " i liked it a girl goes to a party and either a...  0.097886  0.071779   \n",
       "\n",
       "                                                        6         7     \\\n",
       " i saw the series on tv and too imressed the se... -0.154466 -0.032914   \n",
       " i love police procedurals my favorite is the s... -0.067318 -0.018246   \n",
       " this is a wild ride on the one hand we got thi... -0.010851  0.033352   \n",
       " i like this tv series which nowadays may not l...  0.010407 -0.024224   \n",
       " i liked it a girl goes to a party and either a... -0.051153  0.095807   \n",
       "\n",
       "                                                        8         9     \\\n",
       " i saw the series on tv and too imressed the se... -0.054195  0.101880   \n",
       " i love police procedurals my favorite is the s...  0.015167  0.018415   \n",
       " this is a wild ride on the one hand we got thi...  0.013031 -0.017299   \n",
       " i like this tv series which nowadays may not l...  0.106662 -0.184526   \n",
       " i liked it a girl goes to a party and either a...  0.017944 -0.009975   \n",
       "\n",
       "                                                      ...         1898  \\\n",
       " i saw the series on tv and too imressed the se...    ...    -0.006460   \n",
       " i love police procedurals my favorite is the s...    ...     0.008725   \n",
       " this is a wild ride on the one hand we got thi...    ...    -0.006127   \n",
       " i like this tv series which nowadays may not l...    ...     0.005944   \n",
       " i liked it a girl goes to a party and either a...    ...     0.011736   \n",
       "\n",
       "                                                        1899      1900  \\\n",
       " i saw the series on tv and too imressed the se... -0.010283 -0.005475   \n",
       " i love police procedurals my favorite is the s... -0.001669 -0.000524   \n",
       " this is a wild ride on the one hand we got thi...  0.004363 -0.016262   \n",
       " i like this tv series which nowadays may not l... -0.019622  0.005067   \n",
       " i liked it a girl goes to a party and either a...  0.000789 -0.011550   \n",
       "\n",
       "                                                        1901      1902  \\\n",
       " i saw the series on tv and too imressed the se...  0.008490  0.007519   \n",
       " i love police procedurals my favorite is the s...  0.013131 -0.001843   \n",
       " this is a wild ride on the one hand we got thi... -0.012378 -0.005392   \n",
       " i like this tv series which nowadays may not l... -0.001014  0.005285   \n",
       " i liked it a girl goes to a party and either a... -0.006073  0.007587   \n",
       "\n",
       "                                                        1903      1904  \\\n",
       " i saw the series on tv and too imressed the se... -0.000845  0.004776   \n",
       " i love police procedurals my favorite is the s...  0.021747  0.013827   \n",
       " this is a wild ride on the one hand we got thi...  0.009119 -0.001293   \n",
       " i like this tv series which nowadays may not l...  0.006177 -0.003845   \n",
       " i liked it a girl goes to a party and either a...  0.008955 -0.009020   \n",
       "\n",
       "                                                        1905      1906  \\\n",
       " i saw the series on tv and too imressed the se... -0.008953 -0.001267   \n",
       " i love police procedurals my favorite is the s... -0.021818  0.007169   \n",
       " this is a wild ride on the one hand we got thi...  0.014890  0.009759   \n",
       " i like this tv series which nowadays may not l... -0.005706 -0.015572   \n",
       " i liked it a girl goes to a party and either a... -0.006600  0.005432   \n",
       "\n",
       "                                                        1907  \n",
       " i saw the series on tv and too imressed the se... -0.007183  \n",
       " i love police procedurals my favorite is the s... -0.010865  \n",
       " this is a wild ride on the one hand we got thi...  0.012852  \n",
       " i like this tv series which nowadays may not l... -0.002230  \n",
       " i liked it a girl goes to a party and either a...  0.010452  \n",
       "\n",
       "[5 rows x 1908 columns]"
      ]
     },
     "execution_count": 26,
     "metadata": {},
     "output_type": "execute_result"
    }
   ],
   "source": [
    "reviews_by_component_original.head()"
   ]
  },
  {
   "cell_type": "code",
   "execution_count": 27,
   "metadata": {
    "collapsed": true
   },
   "outputs": [],
   "source": [
    "#Scaling data for plotting the PC1 and PC2 plots in the next few cells\n",
    "X1 = scale(reviews_by_component_original)"
   ]
  },
  {
   "cell_type": "code",
   "execution_count": 28,
   "metadata": {
    "collapsed": true
   },
   "outputs": [],
   "source": [
    "#Adding review sentiment to the final dataframe with tfidf values\n",
    "reviews_by_component_original.reset_index(drop=True, inplace=True)\n",
    "data.reset_index(drop=True, inplace=True)\n",
    "\n",
    "reviews_by_component_original['review_sentiment'] = 0\n",
    "reviews_by_component_original.loc[0:len(all_reviews_positive_list_doc)-1, 'review_sentiment'] = 1"
   ]
  },
  {
   "cell_type": "code",
   "execution_count": 29,
   "metadata": {},
   "outputs": [
    {
     "data": {
      "text/html": [
       "<div>\n",
       "<style>\n",
       "    .dataframe thead tr:only-child th {\n",
       "        text-align: right;\n",
       "    }\n",
       "\n",
       "    .dataframe thead th {\n",
       "        text-align: left;\n",
       "    }\n",
       "\n",
       "    .dataframe tbody tr th {\n",
       "        vertical-align: top;\n",
       "    }\n",
       "</style>\n",
       "<table border=\"1\" class=\"dataframe\">\n",
       "  <thead>\n",
       "    <tr style=\"text-align: right;\">\n",
       "      <th></th>\n",
       "      <th>0</th>\n",
       "      <th>1</th>\n",
       "      <th>2</th>\n",
       "      <th>3</th>\n",
       "      <th>4</th>\n",
       "      <th>5</th>\n",
       "      <th>6</th>\n",
       "      <th>7</th>\n",
       "      <th>8</th>\n",
       "      <th>9</th>\n",
       "      <th>...</th>\n",
       "      <th>1899</th>\n",
       "      <th>1900</th>\n",
       "      <th>1901</th>\n",
       "      <th>1902</th>\n",
       "      <th>1903</th>\n",
       "      <th>1904</th>\n",
       "      <th>1905</th>\n",
       "      <th>1906</th>\n",
       "      <th>1907</th>\n",
       "      <th>review_sentiment</th>\n",
       "    </tr>\n",
       "  </thead>\n",
       "  <tbody>\n",
       "    <tr>\n",
       "      <th>0</th>\n",
       "      <td>0.298499</td>\n",
       "      <td>-0.112400</td>\n",
       "      <td>0.138161</td>\n",
       "      <td>-0.197416</td>\n",
       "      <td>0.010027</td>\n",
       "      <td>0.106044</td>\n",
       "      <td>-0.154466</td>\n",
       "      <td>-0.032914</td>\n",
       "      <td>-0.054195</td>\n",
       "      <td>0.101880</td>\n",
       "      <td>...</td>\n",
       "      <td>-0.010283</td>\n",
       "      <td>-0.005475</td>\n",
       "      <td>0.008490</td>\n",
       "      <td>0.007519</td>\n",
       "      <td>-0.000845</td>\n",
       "      <td>0.004776</td>\n",
       "      <td>-0.008953</td>\n",
       "      <td>-0.001267</td>\n",
       "      <td>-0.007183</td>\n",
       "      <td>1</td>\n",
       "    </tr>\n",
       "    <tr>\n",
       "      <th>1</th>\n",
       "      <td>0.142418</td>\n",
       "      <td>-0.045729</td>\n",
       "      <td>0.074410</td>\n",
       "      <td>0.024398</td>\n",
       "      <td>0.053790</td>\n",
       "      <td>-0.031364</td>\n",
       "      <td>-0.067318</td>\n",
       "      <td>-0.018246</td>\n",
       "      <td>0.015167</td>\n",
       "      <td>0.018415</td>\n",
       "      <td>...</td>\n",
       "      <td>-0.001669</td>\n",
       "      <td>-0.000524</td>\n",
       "      <td>0.013131</td>\n",
       "      <td>-0.001843</td>\n",
       "      <td>0.021747</td>\n",
       "      <td>0.013827</td>\n",
       "      <td>-0.021818</td>\n",
       "      <td>0.007169</td>\n",
       "      <td>-0.010865</td>\n",
       "      <td>1</td>\n",
       "    </tr>\n",
       "    <tr>\n",
       "      <th>2</th>\n",
       "      <td>0.102104</td>\n",
       "      <td>-0.034256</td>\n",
       "      <td>-0.004800</td>\n",
       "      <td>-0.019457</td>\n",
       "      <td>-0.065734</td>\n",
       "      <td>0.023796</td>\n",
       "      <td>-0.010851</td>\n",
       "      <td>0.033352</td>\n",
       "      <td>0.013031</td>\n",
       "      <td>-0.017299</td>\n",
       "      <td>...</td>\n",
       "      <td>0.004363</td>\n",
       "      <td>-0.016262</td>\n",
       "      <td>-0.012378</td>\n",
       "      <td>-0.005392</td>\n",
       "      <td>0.009119</td>\n",
       "      <td>-0.001293</td>\n",
       "      <td>0.014890</td>\n",
       "      <td>0.009759</td>\n",
       "      <td>0.012852</td>\n",
       "      <td>1</td>\n",
       "    </tr>\n",
       "    <tr>\n",
       "      <th>3</th>\n",
       "      <td>0.253275</td>\n",
       "      <td>0.068843</td>\n",
       "      <td>-0.039278</td>\n",
       "      <td>0.019491</td>\n",
       "      <td>-0.131146</td>\n",
       "      <td>-0.040717</td>\n",
       "      <td>0.010407</td>\n",
       "      <td>-0.024224</td>\n",
       "      <td>0.106662</td>\n",
       "      <td>-0.184526</td>\n",
       "      <td>...</td>\n",
       "      <td>-0.019622</td>\n",
       "      <td>0.005067</td>\n",
       "      <td>-0.001014</td>\n",
       "      <td>0.005285</td>\n",
       "      <td>0.006177</td>\n",
       "      <td>-0.003845</td>\n",
       "      <td>-0.005706</td>\n",
       "      <td>-0.015572</td>\n",
       "      <td>-0.002230</td>\n",
       "      <td>1</td>\n",
       "    </tr>\n",
       "    <tr>\n",
       "      <th>4</th>\n",
       "      <td>0.130296</td>\n",
       "      <td>-0.079036</td>\n",
       "      <td>-0.067046</td>\n",
       "      <td>0.025261</td>\n",
       "      <td>0.097886</td>\n",
       "      <td>0.071779</td>\n",
       "      <td>-0.051153</td>\n",
       "      <td>0.095807</td>\n",
       "      <td>0.017944</td>\n",
       "      <td>-0.009975</td>\n",
       "      <td>...</td>\n",
       "      <td>0.000789</td>\n",
       "      <td>-0.011550</td>\n",
       "      <td>-0.006073</td>\n",
       "      <td>0.007587</td>\n",
       "      <td>0.008955</td>\n",
       "      <td>-0.009020</td>\n",
       "      <td>-0.006600</td>\n",
       "      <td>0.005432</td>\n",
       "      <td>0.010452</td>\n",
       "      <td>1</td>\n",
       "    </tr>\n",
       "  </tbody>\n",
       "</table>\n",
       "<p>5 rows × 1909 columns</p>\n",
       "</div>"
      ],
      "text/plain": [
       "          0         1         2         3         4         5         6  \\\n",
       "0  0.298499 -0.112400  0.138161 -0.197416  0.010027  0.106044 -0.154466   \n",
       "1  0.142418 -0.045729  0.074410  0.024398  0.053790 -0.031364 -0.067318   \n",
       "2  0.102104 -0.034256 -0.004800 -0.019457 -0.065734  0.023796 -0.010851   \n",
       "3  0.253275  0.068843 -0.039278  0.019491 -0.131146 -0.040717  0.010407   \n",
       "4  0.130296 -0.079036 -0.067046  0.025261  0.097886  0.071779 -0.051153   \n",
       "\n",
       "          7         8         9        ...             1899      1900  \\\n",
       "0 -0.032914 -0.054195  0.101880        ...        -0.010283 -0.005475   \n",
       "1 -0.018246  0.015167  0.018415        ...        -0.001669 -0.000524   \n",
       "2  0.033352  0.013031 -0.017299        ...         0.004363 -0.016262   \n",
       "3 -0.024224  0.106662 -0.184526        ...        -0.019622  0.005067   \n",
       "4  0.095807  0.017944 -0.009975        ...         0.000789 -0.011550   \n",
       "\n",
       "       1901      1902      1903      1904      1905      1906      1907  \\\n",
       "0  0.008490  0.007519 -0.000845  0.004776 -0.008953 -0.001267 -0.007183   \n",
       "1  0.013131 -0.001843  0.021747  0.013827 -0.021818  0.007169 -0.010865   \n",
       "2 -0.012378 -0.005392  0.009119 -0.001293  0.014890  0.009759  0.012852   \n",
       "3 -0.001014  0.005285  0.006177 -0.003845 -0.005706 -0.015572 -0.002230   \n",
       "4 -0.006073  0.007587  0.008955 -0.009020 -0.006600  0.005432  0.010452   \n",
       "\n",
       "   review_sentiment  \n",
       "0                 1  \n",
       "1                 1  \n",
       "2                 1  \n",
       "3                 1  \n",
       "4                 1  \n",
       "\n",
       "[5 rows x 1909 columns]"
      ]
     },
     "execution_count": 29,
     "metadata": {},
     "output_type": "execute_result"
    }
   ],
   "source": [
    "reviews_by_component_original.head()"
   ]
  },
  {
   "cell_type": "code",
   "execution_count": 30,
   "metadata": {},
   "outputs": [
    {
     "data": {
      "image/png": "[encoded data removed]",
      "text/plain": [
       "<matplotlib.figure.Figure at 0x1a335cfcc0>"
      ]
     },
     "metadata": {},
     "output_type": "display_data"
    }
   ],
   "source": [
    "\n",
    "#Plotting the data of TF_IDF and Word2vec features together as SVD components\n",
    "plt.scatter(X1[:, 0], X1[:, 1], c=reviews_by_component_original['review_sentiment'])\n",
    "plt.xlabel('PC1')\n",
    "plt.ylabel('PC2')\n",
    "plt.show()"
   ]
  },
  {
   "cell_type": "code",
   "execution_count": 31,
   "metadata": {
    "collapsed": true
   },
   "outputs": [],
   "source": [
    "# To schuffle samples\n",
    "\n",
    "\n",
    "reviews_by_component = reviews_by_component_original.sample(frac=1, replace=False, random_state=2)\n",
    "reviews_by_component.reset_index(drop=True, inplace=True)\n",
    "\n",
    "# Splitting data into X and Y\n",
    "Y = reviews_by_component['review_sentiment']\n",
    "X = reviews_by_component.loc[:, ~(reviews_by_component.columns).isin(['review_sentiment'])]"
   ]
  },
  {
   "cell_type": "code",
   "execution_count": 32,
   "metadata": {},
   "outputs": [
    {
     "data": {
      "text/html": [
       "<div>\n",
       "<style>\n",
       "    .dataframe thead tr:only-child th {\n",
       "        text-align: right;\n",
       "    }\n",
       "\n",
       "    .dataframe thead th {\n",
       "        text-align: left;\n",
       "    }\n",
       "\n",
       "    .dataframe tbody tr th {\n",
       "        vertical-align: top;\n",
       "    }\n",
       "</style>\n",
       "<table border=\"1\" class=\"dataframe\">\n",
       "  <thead>\n",
       "    <tr style=\"text-align: right;\">\n",
       "      <th></th>\n",
       "      <th>0</th>\n",
       "      <th>1</th>\n",
       "      <th>2</th>\n",
       "      <th>3</th>\n",
       "      <th>4</th>\n",
       "      <th>5</th>\n",
       "      <th>6</th>\n",
       "      <th>7</th>\n",
       "      <th>8</th>\n",
       "      <th>9</th>\n",
       "      <th>...</th>\n",
       "      <th>1899</th>\n",
       "      <th>1900</th>\n",
       "      <th>1901</th>\n",
       "      <th>1902</th>\n",
       "      <th>1903</th>\n",
       "      <th>1904</th>\n",
       "      <th>1905</th>\n",
       "      <th>1906</th>\n",
       "      <th>1907</th>\n",
       "      <th>review_sentiment</th>\n",
       "    </tr>\n",
       "  </thead>\n",
       "  <tbody>\n",
       "    <tr>\n",
       "      <th>0</th>\n",
       "      <td>0.160905</td>\n",
       "      <td>-0.102257</td>\n",
       "      <td>-0.098262</td>\n",
       "      <td>0.026551</td>\n",
       "      <td>-0.003946</td>\n",
       "      <td>-0.003550</td>\n",
       "      <td>-0.008354</td>\n",
       "      <td>-0.062904</td>\n",
       "      <td>0.009398</td>\n",
       "      <td>0.003784</td>\n",
       "      <td>...</td>\n",
       "      <td>0.009534</td>\n",
       "      <td>-0.013625</td>\n",
       "      <td>-0.006741</td>\n",
       "      <td>0.007281</td>\n",
       "      <td>0.003687</td>\n",
       "      <td>-0.003465</td>\n",
       "      <td>-0.004064</td>\n",
       "      <td>0.022796</td>\n",
       "      <td>-0.023230</td>\n",
       "      <td>0</td>\n",
       "    </tr>\n",
       "    <tr>\n",
       "      <th>1</th>\n",
       "      <td>0.102133</td>\n",
       "      <td>-0.025592</td>\n",
       "      <td>0.030056</td>\n",
       "      <td>-0.023409</td>\n",
       "      <td>0.034973</td>\n",
       "      <td>-0.077979</td>\n",
       "      <td>0.018102</td>\n",
       "      <td>-0.004556</td>\n",
       "      <td>-0.003824</td>\n",
       "      <td>-0.086631</td>\n",
       "      <td>...</td>\n",
       "      <td>0.026142</td>\n",
       "      <td>-0.011362</td>\n",
       "      <td>0.005562</td>\n",
       "      <td>0.008676</td>\n",
       "      <td>-0.003591</td>\n",
       "      <td>-0.010985</td>\n",
       "      <td>0.002083</td>\n",
       "      <td>0.013415</td>\n",
       "      <td>0.014989</td>\n",
       "      <td>1</td>\n",
       "    </tr>\n",
       "    <tr>\n",
       "      <th>2</th>\n",
       "      <td>0.187413</td>\n",
       "      <td>-0.077934</td>\n",
       "      <td>0.045013</td>\n",
       "      <td>0.022424</td>\n",
       "      <td>-0.008640</td>\n",
       "      <td>0.095225</td>\n",
       "      <td>-0.097625</td>\n",
       "      <td>-0.022145</td>\n",
       "      <td>-0.004134</td>\n",
       "      <td>0.003956</td>\n",
       "      <td>...</td>\n",
       "      <td>0.008031</td>\n",
       "      <td>0.006879</td>\n",
       "      <td>0.003387</td>\n",
       "      <td>-0.010697</td>\n",
       "      <td>0.003762</td>\n",
       "      <td>-0.001739</td>\n",
       "      <td>-0.003597</td>\n",
       "      <td>-0.000193</td>\n",
       "      <td>0.007170</td>\n",
       "      <td>1</td>\n",
       "    </tr>\n",
       "    <tr>\n",
       "      <th>3</th>\n",
       "      <td>0.118752</td>\n",
       "      <td>-0.030300</td>\n",
       "      <td>0.070424</td>\n",
       "      <td>-0.042101</td>\n",
       "      <td>-0.147485</td>\n",
       "      <td>0.060381</td>\n",
       "      <td>-0.040060</td>\n",
       "      <td>0.021320</td>\n",
       "      <td>-0.026616</td>\n",
       "      <td>-0.002801</td>\n",
       "      <td>...</td>\n",
       "      <td>-0.012731</td>\n",
       "      <td>0.005649</td>\n",
       "      <td>0.010962</td>\n",
       "      <td>0.003628</td>\n",
       "      <td>-0.001695</td>\n",
       "      <td>-0.005032</td>\n",
       "      <td>-0.004046</td>\n",
       "      <td>-0.002777</td>\n",
       "      <td>-0.011828</td>\n",
       "      <td>1</td>\n",
       "    </tr>\n",
       "    <tr>\n",
       "      <th>4</th>\n",
       "      <td>0.117553</td>\n",
       "      <td>-0.026674</td>\n",
       "      <td>-0.035170</td>\n",
       "      <td>-0.037243</td>\n",
       "      <td>-0.017708</td>\n",
       "      <td>-0.013033</td>\n",
       "      <td>-0.043839</td>\n",
       "      <td>-0.009966</td>\n",
       "      <td>0.091136</td>\n",
       "      <td>0.040734</td>\n",
       "      <td>...</td>\n",
       "      <td>-0.012110</td>\n",
       "      <td>0.018684</td>\n",
       "      <td>-0.014368</td>\n",
       "      <td>0.018775</td>\n",
       "      <td>0.002638</td>\n",
       "      <td>0.007887</td>\n",
       "      <td>0.000425</td>\n",
       "      <td>-0.010877</td>\n",
       "      <td>0.003067</td>\n",
       "      <td>1</td>\n",
       "    </tr>\n",
       "  </tbody>\n",
       "</table>\n",
       "<p>5 rows × 1909 columns</p>\n",
       "</div>"
      ],
      "text/plain": [
       "          0         1         2         3         4         5         6  \\\n",
       "0  0.160905 -0.102257 -0.098262  0.026551 -0.003946 -0.003550 -0.008354   \n",
       "1  0.102133 -0.025592  0.030056 -0.023409  0.034973 -0.077979  0.018102   \n",
       "2  0.187413 -0.077934  0.045013  0.022424 -0.008640  0.095225 -0.097625   \n",
       "3  0.118752 -0.030300  0.070424 -0.042101 -0.147485  0.060381 -0.040060   \n",
       "4  0.117553 -0.026674 -0.035170 -0.037243 -0.017708 -0.013033 -0.043839   \n",
       "\n",
       "          7         8         9        ...             1899      1900  \\\n",
       "0 -0.062904  0.009398  0.003784        ...         0.009534 -0.013625   \n",
       "1 -0.004556 -0.003824 -0.086631        ...         0.026142 -0.011362   \n",
       "2 -0.022145 -0.004134  0.003956        ...         0.008031  0.006879   \n",
       "3  0.021320 -0.026616 -0.002801        ...        -0.012731  0.005649   \n",
       "4 -0.009966  0.091136  0.040734        ...        -0.012110  0.018684   \n",
       "\n",
       "       1901      1902      1903      1904      1905      1906      1907  \\\n",
       "0 -0.006741  0.007281  0.003687 -0.003465 -0.004064  0.022796 -0.023230   \n",
       "1  0.005562  0.008676 -0.003591 -0.010985  0.002083  0.013415  0.014989   \n",
       "2  0.003387 -0.010697  0.003762 -0.001739 -0.003597 -0.000193  0.007170   \n",
       "3  0.010962  0.003628 -0.001695 -0.005032 -0.004046 -0.002777 -0.011828   \n",
       "4 -0.014368  0.018775  0.002638  0.007887  0.000425 -0.010877  0.003067   \n",
       "\n",
       "   review_sentiment  \n",
       "0                 0  \n",
       "1                 1  \n",
       "2                 1  \n",
       "3                 1  \n",
       "4                 1  \n",
       "\n",
       "[5 rows x 1909 columns]"
      ]
     },
     "execution_count": 32,
     "metadata": {},
     "output_type": "execute_result"
    }
   ],
   "source": [
    "reviews_by_component.head()"
   ]
  },
  {
   "cell_type": "code",
   "execution_count": 33,
   "metadata": {},
   "outputs": [
    {
     "data": {
      "text/plain": [
       "array([0, 1, 1, ..., 1, 1, 0])"
      ]
     },
     "execution_count": 33,
     "metadata": {},
     "output_type": "execute_result"
    }
   ],
   "source": [
    "np.array(Y.T)"
   ]
  },
  {
   "cell_type": "code",
   "execution_count": 34,
   "metadata": {},
   "outputs": [
    {
     "name": "stdout",
     "output_type": "stream",
     "text": [
      "Number of review samples per each class\n",
      " Counter({1: 2954, 0: 759})\n"
     ]
    }
   ],
   "source": [
    "print('Number of review samples per each class\\n {}'.format(Counter(Y)))"
   ]
  },
  {
   "cell_type": "markdown",
   "metadata": {},
   "source": [
    "There is a lot of class imbalance here. Need to correct the problem before going further by over sampling and under sampling (SMOTE)."
   ]
  },
  {
   "cell_type": "code",
   "execution_count": 35,
   "metadata": {},
   "outputs": [
    {
     "name": "stdout",
     "output_type": "stream",
     "text": [
      "Number of review samples per each class\n",
      " Counter({0: 2954, 1: 2954})\n"
     ]
    }
   ],
   "source": [
    "# SMOTE i.e oversampling and undersampling\n",
    "smote = SMOTE(random_state=1)\n",
    "X, Y = smote.fit_resample(X, Y)\n",
    "print('Number of review samples per each class\\n {}'.format(Counter(Y)))"
   ]
  },
  {
   "cell_type": "markdown",
   "metadata": {},
   "source": [
    "Smote does minority oversampling...but adds them all together at the end causing a non-randomness in the samples.\n",
    "Need to shuffle again"
   ]
  },
  {
   "cell_type": "code",
   "execution_count": 36,
   "metadata": {
    "collapsed": true
   },
   "outputs": [],
   "source": [
    "#Shuffle again \n",
    "X = pd.DataFrame(X)\n",
    "Y = pd.DataFrame(Y,columns=['sentiment'])\n",
    "\n",
    "Xt = X.sample(frac=1, replace=False, random_state=2)\n",
    "Yt = Y.sample(frac=1, replace=False, random_state=2)\n",
    "\n",
    "Xt.reset_index(drop=True, inplace=True)\n",
    "Yt.reset_index(drop=True, inplace=True)\n",
    "Yt = Y['sentiment']\n",
    "\n",
    "#Saving the data for further use with clustering as Xs and Ys\n",
    "X = Xt\n",
    "Y = Yt"
   ]
  },
  {
   "cell_type": "code",
   "execution_count": 37,
   "metadata": {},
   "outputs": [
    {
     "name": "stdout",
     "output_type": "stream",
     "text": [
      "Number of review samples per each class\n",
      " Counter({0: 2954, 1: 2954})\n"
     ]
    }
   ],
   "source": [
    "print('Number of review samples per each class\\n {}'.format(Counter(np.array(Y))))"
   ]
  },
  {
   "cell_type": "code",
   "execution_count": 38,
   "metadata": {},
   "outputs": [
    {
     "data": {
      "text/plain": [
       "array([0, 1, 1, ..., 0, 0, 0])"
      ]
     },
     "execution_count": 38,
     "metadata": {},
     "output_type": "execute_result"
    }
   ],
   "source": [
    "np.array(Y)"
   ]
  },
  {
   "cell_type": "markdown",
   "metadata": {
    "collapsed": true
   },
   "source": [
    "### 3) Evaluation of models with TF_IDF features"
   ]
  },
  {
   "cell_type": "markdown",
   "metadata": {},
   "source": [
    "\n",
    "###  Model assessment and evalution with other models"
   ]
  },
  {
   "cell_type": "markdown",
   "metadata": {},
   "source": [
    "Before going with Model assessment created a function to handle this everytime we test a model"
   ]
  },
  {
   "cell_type": "code",
   "execution_count": 39,
   "metadata": {
    "collapsed": true
   },
   "outputs": [],
   "source": [
    "def model(mod, X=X, Y=Y):\n",
    "    model_object=mod\n",
    "    #Data split to Train and test\n",
    "    global X_train, X_test, y_train, y_test\n",
    "    X_train, X_test, y_train, y_test = train_test_split(X, Y, test_size=0.25, random_state=3)\n",
    "    model_object.fit(X_train, y_train)\n",
    "    print (\"Model train score is %0.2f\" % (model_object.score(X_train, y_train)) )\n",
    "    evaluation(model_object)\n",
    "    return model_object\n",
    "\n",
    "def evaluation(model_object):\n",
    "    #Evalution of model\n",
    "    score=cross_val_score(X=X_test, y=y_test, estimator=model_object, cv=10)\n",
    "    print ('\\nCross_validation scores below :\\n', score)\n",
    "    print(\"\\nMean/test accuracy: %0.2f (+/- %0.2f)\\n\" % (score.mean(), score.std() * 2))\n",
    "    \n",
    "    y_pred=model_object.predict(X_test)\n",
    "  \n",
    "   #Plotting the ROC-AUC curve   \n",
    "    \n",
    "    fpr, tpr, threshold = metrics.roc_curve(y_test, y_pred)\n",
    "    roc_auc = metrics.auc(fpr, tpr)\n",
    "    plt.title('Receiver Operating Characteristic')\n",
    "    plt.plot(fpr, tpr, 'b', linewidth=4,label = 'AUC = %0.2f' % roc_auc)\n",
    "    plt.legend(loc = 'lower right', fancybox=True, fontsize='large')\n",
    "    plt.plot([0, 1], [0, 1],'r--')\n",
    "    plt.xlim([0, 1])\n",
    "    plt.ylim([0, 1])\n",
    "    plt.ylabel('True Positive Rate')\n",
    "    plt.xlabel('False Positive Rate')\n",
    "    plt.show()\n",
    "    \n",
    "    fpr=fpr[1]\n",
    "    tpr=tpr[1]\n",
    "    print (\"\\n_______________Contingency table analysis:_________\\n\")\n",
    "    print ('The sensitivity i.e true positives is {0:2f}% '.format(tpr*100))\n",
    "    print ('The specificity i.e true negatives is {0:2f}% '.format((1-fpr)*100))\n",
    "    print ('The Type I error i.e. false negatives is {0:2f}% '.format((1-tpr)*100))\n",
    "    print ('The Type II error i.e. false positives is {0:2f}% '.format(fpr*100))\n",
    "    return"
   ]
  },
  {
   "cell_type": "code",
   "execution_count": 40,
   "metadata": {
    "collapsed": true
   },
   "outputs": [],
   "source": [
    "### Logistic Regression"
   ]
  },
  {
   "cell_type": "code",
   "execution_count": 41,
   "metadata": {},
   "outputs": [
    {
     "name": "stderr",
     "output_type": "stream",
     "text": [
      "/Users/Sri/anaconda3/lib/python3.6/site-packages/sklearn/linear_model/sag.py:337: ConvergenceWarning: The max_iter was reached which means the coef_ did not converge\n",
      "  \"the coef_ did not converge\", ConvergenceWarning)\n"
     ]
    },
    {
     "name": "stdout",
     "output_type": "stream",
     "text": [
      "Model train score is 0.84\n"
     ]
    },
    {
     "name": "stderr",
     "output_type": "stream",
     "text": [
      "/Users/Sri/anaconda3/lib/python3.6/site-packages/sklearn/linear_model/sag.py:337: ConvergenceWarning: The max_iter was reached which means the coef_ did not converge\n",
      "  \"the coef_ did not converge\", ConvergenceWarning)\n",
      "/Users/Sri/anaconda3/lib/python3.6/site-packages/sklearn/linear_model/sag.py:337: ConvergenceWarning: The max_iter was reached which means the coef_ did not converge\n",
      "  \"the coef_ did not converge\", ConvergenceWarning)\n",
      "/Users/Sri/anaconda3/lib/python3.6/site-packages/sklearn/linear_model/sag.py:337: ConvergenceWarning: The max_iter was reached which means the coef_ did not converge\n",
      "  \"the coef_ did not converge\", ConvergenceWarning)\n",
      "/Users/Sri/anaconda3/lib/python3.6/site-packages/sklearn/linear_model/sag.py:337: ConvergenceWarning: The max_iter was reached which means the coef_ did not converge\n",
      "  \"the coef_ did not converge\", ConvergenceWarning)\n",
      "/Users/Sri/anaconda3/lib/python3.6/site-packages/sklearn/linear_model/sag.py:337: ConvergenceWarning: The max_iter was reached which means the coef_ did not converge\n",
      "  \"the coef_ did not converge\", ConvergenceWarning)\n",
      "/Users/Sri/anaconda3/lib/python3.6/site-packages/sklearn/linear_model/sag.py:337: ConvergenceWarning: The max_iter was reached which means the coef_ did not converge\n",
      "  \"the coef_ did not converge\", ConvergenceWarning)\n",
      "/Users/Sri/anaconda3/lib/python3.6/site-packages/sklearn/linear_model/sag.py:337: ConvergenceWarning: The max_iter was reached which means the coef_ did not converge\n",
      "  \"the coef_ did not converge\", ConvergenceWarning)\n",
      "/Users/Sri/anaconda3/lib/python3.6/site-packages/sklearn/linear_model/sag.py:337: ConvergenceWarning: The max_iter was reached which means the coef_ did not converge\n",
      "  \"the coef_ did not converge\", ConvergenceWarning)\n",
      "/Users/Sri/anaconda3/lib/python3.6/site-packages/sklearn/linear_model/sag.py:337: ConvergenceWarning: The max_iter was reached which means the coef_ did not converge\n",
      "  \"the coef_ did not converge\", ConvergenceWarning)\n"
     ]
    },
    {
     "name": "stdout",
     "output_type": "stream",
     "text": [
      "\n",
      "Cross_validation scores below :\n",
      " [0.53691275 0.51677852 0.41891892 0.5        0.53378378 0.49659864\n",
      " 0.49659864 0.53061224 0.51020408 0.53061224]\n",
      "\n",
      "Mean/test accuracy: 0.51 (+/- 0.07)\n",
      "\n"
     ]
    },
    {
     "name": "stderr",
     "output_type": "stream",
     "text": [
      "/Users/Sri/anaconda3/lib/python3.6/site-packages/sklearn/linear_model/sag.py:337: ConvergenceWarning: The max_iter was reached which means the coef_ did not converge\n",
      "  \"the coef_ did not converge\", ConvergenceWarning)\n"
     ]
    },
    {
     "data": {
      "image/png": "[encoded data removed]",
      "text/plain": [
       "<matplotlib.figure.Figure at 0x1a337f6f60>"
      ]
     },
     "metadata": {},
     "output_type": "display_data"
    },
    {
     "name": "stdout",
     "output_type": "stream",
     "text": [
      "\n",
      "_______________Contingency table analysis:_________\n",
      "\n",
      "The sensitivity i.e true positives is 53.191489% \n",
      "The specificity i.e true negatives is 48.551724% \n",
      "The Type I error i.e. false negatives is 46.808511% \n",
      "The Type II error i.e. false positives is 51.448276% \n"
     ]
    },
    {
     "data": {
      "text/plain": [
       "LogisticRegression(C=1000000000.0, class_weight=None, dual=False,\n",
       "                   fit_intercept=True, intercept_scaling=1, l1_ratio=None,\n",
       "                   max_iter=200, multi_class='warn', n_jobs=None, penalty='l2',\n",
       "                   random_state=None, solver='saga', tol=0.0001, verbose=0,\n",
       "                   warm_start=False)"
      ]
     },
     "execution_count": 41,
     "metadata": {},
     "output_type": "execute_result"
    }
   ],
   "source": [
    "model(LogisticRegression(C=1e9, solver='saga', max_iter=200))"
   ]
  },
  {
   "cell_type": "code",
   "execution_count": null,
   "metadata": {
    "collapsed": true
   },
   "outputs": [],
   "source": [
    "### Gradient Boost Classifier"
   ]
  },
  {
   "cell_type": "code",
   "execution_count": null,
   "metadata": {
    "scrolled": false
   },
   "outputs": [],
   "source": [
    "params = {'n_estimators': 500,\n",
    "          'max_depth': 2,\n",
    "          'loss': 'deviance'}\n",
    "model(ensemble.GradientBoostingClassifier(**params))"
   ]
  },
  {
   "cell_type": "code",
   "execution_count": null,
   "metadata": {},
   "outputs": [],
   "source": [
    "model(SVC(gamma='auto'))"
   ]
  },
  {
   "cell_type": "code",
   "execution_count": null,
   "metadata": {},
   "outputs": [],
   "source": [
    "#model(MultinomialNB(), Xt, Yt)"
   ]
  },
  {
   "cell_type": "markdown",
   "metadata": {},
   "source": [
    "The Logistic regression gives the best AUC of 0.91. percent 80% test accuracy and also low errors compared to other models."
   ]
  },
  {
   "cell_type": "markdown",
   "metadata": {},
   "source": [
    "Using neural networks model for text classification"
   ]
  },
  {
   "cell_type": "code",
   "execution_count": null,
   "metadata": {},
   "outputs": [],
   "source": [
    "model(MLPClassifier(hidden_layer_sizes=(1000,2)), Xt, Yt)"
   ]
  },
  {
   "cell_type": "markdown",
   "metadata": {},
   "source": [
    "The neural network MLP classifer does not perform better than other models discussed above."
   ]
  },
  {
   "cell_type": "markdown",
   "metadata": {},
   "source": [
    "### 4) Generation of word2vec features (Unsupervised technique)"
   ]
  },
  {
   "cell_type": "markdown",
   "metadata": {},
   "source": [
    "### Word2Vec Unsupervised Feature generation"
   ]
  },
  {
   "cell_type": "code",
   "execution_count": null,
   "metadata": {},
   "outputs": [],
   "source": [
    "# We cannot use list of strings for word2vec. need list of lists\n",
    "for item in all_reviews_list_cleaned_doc:\n",
    "    print (type (item))\n",
    "    break"
   ]
  },
  {
   "cell_type": "code",
   "execution_count": null,
   "metadata": {
    "collapsed": true
   },
   "outputs": [],
   "source": [
    "# Cleaning the texts and making the reviews as a list of lists needed for word2vec.\n",
    "\n",
    "all_reviews_list_cleaned_doc = []\n",
    "all_reviews_positive_list_cleaned_doc = []\n",
    "all_reviews_negative_list_cleaned_doc = []\n",
    "temp=[]         \n",
    "for review in all_reviews_positive_list_doc:\n",
    "    for token in review:\n",
    "        if not token.is_punct and not token.is_space and not token.is_stop and  token.is_alpha:\n",
    "            temp.append(token.text.lower())\n",
    "    all_reviews_positive_list_cleaned_doc.append(temp)\n",
    "    temp=[]\n",
    "        \n",
    "for review in all_reviews_negative_list_doc:\n",
    "    for token in review:\n",
    "        if not token.is_punct and not token.is_space and not token.is_stop and  token.is_alpha:\n",
    "            temp.append(token.text.lower())\n",
    "    all_reviews_negative_list_cleaned_doc.append(temp)\n",
    "    temp=[]\n",
    "all_reviews_list_cleaned_doc = all_reviews_positive_list_cleaned_doc+all_reviews_negative_list_cleaned_doc"
   ]
  },
  {
   "cell_type": "code",
   "execution_count": null,
   "metadata": {},
   "outputs": [],
   "source": [
    "#Just checking whether each item in the list is a list or not since it is a requirement for Word2Vec\n",
    "for item in all_reviews_list_cleaned_doc:\n",
    "    print ((item))\n",
    "    print (type(item))\n",
    "    break"
   ]
  },
  {
   "cell_type": "code",
   "execution_count": null,
   "metadata": {},
   "outputs": [],
   "source": [
    "len(all_reviews_list_cleaned_doc)"
   ]
  },
  {
   "cell_type": "code",
   "execution_count": null,
   "metadata": {},
   "outputs": [],
   "source": [
    "import gensim \n",
    "model_W2V = gensim.models.Word2Vec (all_reviews_list_cleaned_doc, size=200, window=5, min_count=2, workers=10)\n",
    "\n",
    "model_W2V.train(all_reviews_list_cleaned_doc,total_examples=len(all_reviews_list_cleaned_doc),epochs=10)"
   ]
  },
  {
   "cell_type": "code",
   "execution_count": null,
   "metadata": {
    "collapsed": true
   },
   "outputs": [],
   "source": [
    "vocab=model_W2V.wv.vocab.keys()"
   ]
  },
  {
   "cell_type": "code",
   "execution_count": null,
   "metadata": {},
   "outputs": [],
   "source": [
    "print (type(vocab))"
   ]
  },
  {
   "cell_type": "code",
   "execution_count": null,
   "metadata": {},
   "outputs": [],
   "source": [
    "\n",
    "model_W2V.wv.most_similar (positive='cool')"
   ]
  },
  {
   "cell_type": "code",
   "execution_count": null,
   "metadata": {},
   "outputs": [],
   "source": [
    "model_W2V.wv['cool'] # Wanted to see the word to vector form"
   ]
  },
  {
   "cell_type": "code",
   "execution_count": null,
   "metadata": {},
   "outputs": [],
   "source": [
    "# Normalizes the word2vec vectors\n",
    "model_W2V.init_sims(replace=True)\n",
    "\n",
    "# remove out-of-vocab words\n",
    "word2vecFeature = np.zeros((len(all_reviews_list_cleaned_doc),200))\n",
    "for i,doc in enumerate(all_reviews_list_cleaned_doc): \n",
    "    \n",
    "    doc = [word for word in doc if word in vocab]\n",
    "    \n",
    "    word2vecFeature[i,:] = np.mean(model_W2V[doc],axis=0)\n",
    "\n",
    "#colName = getColName(300, \"w2v\")\n",
    "word2vecFeature = pd.DataFrame(word2vecFeature)\n",
    "word2vecFeature.head()"
   ]
  },
  {
   "cell_type": "code",
   "execution_count": null,
   "metadata": {},
   "outputs": [],
   "source": [
    "word2vecFeature.shape"
   ]
  },
  {
   "cell_type": "code",
   "execution_count": null,
   "metadata": {},
   "outputs": [],
   "source": [
    "# Adding the outcome variable to the data.\n",
    "word2vecFeature['review_sentiment'] = 0\n",
    "word2vecFeature.loc[0:len(all_reviews_positive_list_cleaned_doc)-1, 'review_sentiment'] = 1\n",
    "word2vecFeature.head()"
   ]
  },
  {
   "cell_type": "code",
   "execution_count": null,
   "metadata": {
    "scrolled": true
   },
   "outputs": [],
   "source": [
    "# Slitting into x and y\n",
    "Y = word2vecFeature['review_sentiment']\n",
    "X = word2vecFeature.loc[:, ~(word2vecFeature.columns).isin(['review_sentiment'])] \n",
    "print('Number of review samples per each class\\n {}'.format(Counter(Y)))"
   ]
  },
  {
   "cell_type": "code",
   "execution_count": null,
   "metadata": {
    "scrolled": true
   },
   "outputs": [],
   "source": [
    "# SMOTE i.e oversampling and undersampling\n",
    "smote = SMOTE(random_state=1)\n",
    "X, Y = smote.fit_resample(X, Y)\n",
    "print('Number of review samples per each class\\n {}'.format(Counter(Y)))"
   ]
  },
  {
   "cell_type": "markdown",
   "metadata": {},
   "source": [
    "Smote does minority oversampling...but adds them all together at the end causing a non-randomness in the samples.\n",
    "Need to shuffle again"
   ]
  },
  {
   "cell_type": "code",
   "execution_count": null,
   "metadata": {
    "collapsed": true
   },
   "outputs": [],
   "source": [
    "#Shuffle again \n",
    "X = pd.DataFrame(X)\n",
    "Y = pd.DataFrame(Y,columns=['review_sentiment'])\n",
    "\n",
    "\n",
    "Xw = X.sample(frac=1, replace=False, random_state=2)\n",
    "Yw = Y.sample(frac=1, replace=False, random_state=2)\n",
    "\n",
    "Xw.reset_index(drop=True, inplace=True)\n",
    "Yw.reset_index(drop=True, inplace=True)\n",
    "\n",
    "#Saving the data for later use for clustering\n",
    "Yw = Y['review_sentiment']\n",
    "X = Xw\n",
    "Y = Yw"
   ]
  },
  {
   "cell_type": "code",
   "execution_count": null,
   "metadata": {},
   "outputs": [],
   "source": [
    "X.head()"
   ]
  },
  {
   "cell_type": "markdown",
   "metadata": {},
   "source": [
    "### 5) Evaluation of models with Word2vec features"
   ]
  },
  {
   "cell_type": "markdown",
   "metadata": {},
   "source": [
    "\n",
    "###  Model assessment and evalution with other models"
   ]
  },
  {
   "cell_type": "code",
   "execution_count": null,
   "metadata": {
    "collapsed": true
   },
   "outputs": [],
   "source": [
    "### Gradient Boost Classifier"
   ]
  },
  {
   "cell_type": "code",
   "execution_count": null,
   "metadata": {
    "scrolled": true
   },
   "outputs": [],
   "source": [
    "params = {'n_estimators': 500,\n",
    "          'max_depth': 2,\n",
    "          'loss': 'deviance'}\n",
    "model (ensemble.GradientBoostingClassifier(**params))"
   ]
  },
  {
   "cell_type": "code",
   "execution_count": null,
   "metadata": {
    "collapsed": true
   },
   "outputs": [],
   "source": [
    "### Logistic Regression"
   ]
  },
  {
   "cell_type": "code",
   "execution_count": null,
   "metadata": {},
   "outputs": [],
   "source": [
    "model(LogisticRegression(C=1e9, solver='saga', max_iter=200))"
   ]
  },
  {
   "cell_type": "code",
   "execution_count": null,
   "metadata": {
    "collapsed": true
   },
   "outputs": [],
   "source": [
    "### SVC"
   ]
  },
  {
   "cell_type": "code",
   "execution_count": null,
   "metadata": {},
   "outputs": [],
   "source": [
    "model(SVC(gamma='auto'))"
   ]
  },
  {
   "cell_type": "code",
   "execution_count": null,
   "metadata": {
    "collapsed": true
   },
   "outputs": [],
   "source": [
    "#model(MultinomialNB(), Xt, Yt)"
   ]
  },
  {
   "cell_type": "markdown",
   "metadata": {
    "collapsed": true
   },
   "source": [
    "#####  With word2vec alone an accuracy of 75% is got . Now howabout if we add the TFIDF features."
   ]
  },
  {
   "cell_type": "code",
   "execution_count": null,
   "metadata": {
    "scrolled": true
   },
   "outputs": [],
   "source": [
    "# Slitting into x and y\n",
    "\n",
    "word2vecFeat_TFIDF=pd.DataFrame()\n",
    "\n",
    "columns_to_copy = reviews_by_component_original.columns[~(reviews_by_component_original.columns).isin(['review_sentiment'])]\n",
    "\n",
    "for name in columns_to_copy:\n",
    "    word2vecFeat_TFIDF[str(name)+'tf_idf'] = reviews_by_component_original[name]\n",
    "    \n",
    "word2vecFeat_TFIDF['review_sentiment'] = reviews_by_component_original['review_sentiment']\n",
    "\n",
    "Y = word2vecFeat_TFIDF['review_sentiment']\n",
    "X = word2vecFeat_TFIDF.loc[:, ~(word2vecFeat_TFIDF.columns).isin(['review_sentiment'])] \n",
    "print('Number of review samples per each class\\n {}'.format(Counter(Y)))\n",
    "word2vecFeat_TFIDF.head()"
   ]
  },
  {
   "cell_type": "code",
   "execution_count": null,
   "metadata": {
    "scrolled": true
   },
   "outputs": [],
   "source": [
    "# SMOTE i.e oversampling and undersampling\n",
    "smote = SMOTE(random_state=1)\n",
    "X, Y = smote.fit_resample(X, Y)\n",
    "print('Number of review samples per each class\\n {}'.format(Counter(Y)))"
   ]
  },
  {
   "cell_type": "markdown",
   "metadata": {},
   "source": [
    "Smote does minority oversampling...but adds them all together at the end causing a non-randomness in the samples.\n",
    "Need to shuffle again"
   ]
  },
  {
   "cell_type": "code",
   "execution_count": null,
   "metadata": {
    "collapsed": true
   },
   "outputs": [],
   "source": [
    "#Shuffle again \n",
    "X = pd.DataFrame(X)\n",
    "Y = pd.DataFrame(Y,columns=['review_sentiment'])\n",
    "\n",
    "\n",
    "X = X.sample(frac=1, replace=False, random_state=2)\n",
    "Y = Y.sample(frac=1, replace=False, random_state=2)\n",
    "\n",
    "X.reset_index(drop=True, inplace=True)\n",
    "Y.reset_index(drop=True, inplace=True)\n",
    "\n",
    "Y = Y['review_sentiment']"
   ]
  },
  {
   "cell_type": "code",
   "execution_count": null,
   "metadata": {},
   "outputs": [],
   "source": [
    "X.head()"
   ]
  },
  {
   "cell_type": "code",
   "execution_count": null,
   "metadata": {
    "collapsed": true
   },
   "outputs": [],
   "source": [
    "# Needs to be standardized by scaling\n",
    "#from sklearn.preprocessing import scale\n",
    "X1 = scale(X)"
   ]
  },
  {
   "cell_type": "code",
   "execution_count": null,
   "metadata": {},
   "outputs": [],
   "source": [
    "#Plotting the data of TF_IDF and Word2vec features together\n",
    "# Getting the X data from TF-IDF data and converting into an array for plotting i.e PC1 and PC2\n",
    "X1=np.array(Xt)\n",
    "plt.scatter(X1[:, 0], X1[:, 1], c=Y, cmap='viridis')\n",
    "plt.show()"
   ]
  },
  {
   "cell_type": "code",
   "execution_count": null,
   "metadata": {
    "collapsed": true
   },
   "outputs": [],
   "source": [
    "### Gradient Boost Classifier"
   ]
  },
  {
   "cell_type": "code",
   "execution_count": null,
   "metadata": {
    "scrolled": true
   },
   "outputs": [],
   "source": [
    "params = {'n_estimators': 500,\n",
    "          'max_depth': 2,\n",
    "          'loss': 'deviance'}\n",
    "model(ensemble.GradientBoostingClassifier(**params))"
   ]
  },
  {
   "cell_type": "markdown",
   "metadata": {
    "collapsed": true
   },
   "source": [
    "Still the accuracy was only around 76% with Gradient boost classifier"
   ]
  },
  {
   "cell_type": "markdown",
   "metadata": {},
   "source": [
    "## 6) Clustering of data and Evaluation"
   ]
  },
  {
   "cell_type": "markdown",
   "metadata": {},
   "source": [
    "#### All the data used for TF-IDF have undegone dimension reduction by SVD and so the first three components are used here to visualize"
   ]
  },
  {
   "cell_type": "markdown",
   "metadata": {},
   "source": [
    "#### Before going with the clustering lets us first define some functions to make to easier to build and analyse the clusters"
   ]
  },
  {
   "cell_type": "code",
   "execution_count": null,
   "metadata": {
    "collapsed": true
   },
   "outputs": [],
   "source": [
    "from sklearn.cluster import KMeans\n",
    "from sklearn.cluster import spectral_clustering\n",
    "from sklearn.cluster import AffinityPropagation\n",
    "from sklearn.cluster import MeanShift, estimate_bandwidth\n",
    "from scipy import cluster\n",
    "from mpl_toolkits.mplot3d import Axes3D\n",
    "from sklearn.metrics import adjusted_rand_score\n",
    "from sklearn.metrics import silhouette_score\n",
    "\n"
   ]
  },
  {
   "cell_type": "code",
   "execution_count": null,
   "metadata": {},
   "outputs": [],
   "source": [
    "def cluster_plot(mod, X=Xt, Y=Yt):\n",
    "    print ('\\nProjecting the data on a 3D scatter plot')\n",
    "    sns.set(rc={'figure.figsize':(15,10)}, style='whitegrid', color_codes=True)\n",
    "    #Plotting the TF_IDF data i.e Xt\n",
    "    X=np.array(X)\n",
    "    mod.fit(X)\n",
    "    labels = mod.labels_\n",
    "    centers=model_k.cluster_centers_\n",
    "\n",
    "    fig = plt.figure(1, figsize=(15, 10))\n",
    "    ax = Axes3D(fig, rect=[0, 0, .95, 1], elev=48, azim=134)\n",
    "    ax.scatter(X[:, 0], X[:, 1],X[:, 2],\n",
    "               c=labels.astype(np.float), edgecolor='c', cmap = 'prism',marker='o', s=60)\n",
    "    ax.scatter(centers[:, 0], centers[:, 1], c='black', s=200, alpha=0.5)\n",
    "    ax.w_xaxis.set_ticklabels([])\n",
    "    ax.w_yaxis.set_ticklabels([])\n",
    "    ax.w_zaxis.set_ticklabels([])\n",
    "    ax.set_xlabel('x')\n",
    "    ax.set_ylabel('y')\n",
    "    ax.set_zlabel('z')\n",
    "    ax.set_title('Text classification')\n",
    "    ax.dist = 12\n",
    "    plt.show()\n",
    "    return\n"
   ]
  },
  {
   "cell_type": "code",
   "execution_count": null,
   "metadata": {
    "collapsed": true
   },
   "outputs": [],
   "source": [
    "def clust_ROC_contingency(mod, X=X, Y=Y):\n",
    "    model_object=mod\n",
    "    #Data split to Train and test\n",
    "    global X_train, X_test, y_train, y_test\n",
    "    X_train, X_test, y_train, y_test = train_test_split(X, Y, test_size=0.5, random_state=3)\n",
    "    model_object.fit(X_train)\n",
    "    evaluation(model_object)\n",
    "    return model_object\n",
    "\n",
    "def evaluation(model_object):\n",
    "    #Evalution of model\n",
    "    y_pred=model_object.labels_\n",
    "  \n",
    "   #Plotting the ROC-AUC curve   \n",
    "    fpr, tpr, threshold = metrics.roc_curve(y_train, y_pred)\n",
    "    roc_auc = metrics.auc(fpr, tpr)\n",
    "    plt.title('Receiver Operating Characteristic')\n",
    "    plt.plot(fpr, tpr, 'b', linewidth=4,label = 'AUC = %0.2f' % roc_auc)\n",
    "    plt.legend(loc = 'lower right', fancybox=True, fontsize='large')\n",
    "    plt.plot([0, 1], [0, 1],'r--')\n",
    "    plt.xlim([0, 1])\n",
    "    plt.ylim([0, 1])\n",
    "    plt.ylabel('True Positive Rate')\n",
    "    plt.xlabel('False Positive Rate')\n",
    "    plt.show()\n",
    "    \n",
    "    fpr=fpr[1]\n",
    "    tpr=tpr[1]\n",
    "    print (\"\\n_______________Contingency table analysis:_________\\n\")\n",
    "    print ('The sensitivity i.e true positives is {0:2f}% '.format(tpr*100))\n",
    "    print ('The specificity i.e true negatives is {0:2f}% '.format((1-fpr)*100))\n",
    "    print ('The Type I error i.e. false negatives is {0:2f}% '.format((1-tpr)*100))\n",
    "    print ('The Type II error i.e. false positives is {0:2f}% '.format(fpr*100))\n",
    "    \n",
    "    return"
   ]
  },
  {
   "cell_type": "code",
   "execution_count": null,
   "metadata": {},
   "outputs": [],
   "source": [
    "#Evaluating the kmeans clustering\n",
    "# Evaluate the performance of the clusters\n",
    "\n",
    "def cluster_adj_rand_index(mod):\n",
    "    #Testing with the 25% holdout group\n",
    "    X_train, X_test, y_train, y_test = train_test_split(Xt, Yt, test_size=0.25, random_state=3)\n",
    "    mod.fit(X_train)\n",
    "    y_pred=mod.labels_\n",
    "    y_train=np.array(y_train)\n",
    "    print (\"________ADJUSTED RANDOM INDEX________\\n\")\n",
    "    print (\"ARI of 0 means random labelling and 1 indicates perfect labelling as expected\")\n",
    "    print('\\nAdjusted Rand Index: {:0.2f}'.format(adjusted_rand_score(y_train, y_pred)))\n",
    "    return"
   ]
  },
  {
   "cell_type": "code",
   "execution_count": null,
   "metadata": {
    "scrolled": true
   },
   "outputs": [],
   "source": [
    "#Evaluating the stability of clustering method\n",
    "\n",
    "def cluster_stability(mod):\n",
    "    print (\"______________CLUSTER SIMILARITY/STABILTIY___________\\n\")\n",
    "    print('Testing how stable is the clustering method by Silhouette_score:')\n",
    "    print ('The range of Silhouette score is from -1 for bad clusters to +1 for dense clusters.\\n')\n",
    "    for i in range(1,6):\n",
    "        X_train, X_test, y_train, y_test = train_test_split(Xt, Yt, test_size=0.25, random_state=i)\n",
    "        modClust = mod\n",
    "        modClust.fit(X_train)\n",
    "        labels = modClust.labels_\n",
    "        print(metrics.silhouette_score(X_train, labels, metric='euclidean'))\n",
    "    \n",
    "    return"
   ]
  },
  {
   "cell_type": "markdown",
   "metadata": {},
   "source": [
    "## K Means clustering"
   ]
  },
  {
   "cell_type": "markdown",
   "metadata": {},
   "source": [
    "Elbow plot to find number of clusters 'k'"
   ]
  },
  {
   "cell_type": "code",
   "execution_count": null,
   "metadata": {},
   "outputs": [],
   "source": [
    "#plot variance for each value for 'k' between 1,10\n",
    "\n",
    "initial = [cluster.vq.kmeans(Xt,i) for i in range(1,5)]\n",
    "plt.plot([var for (cent,var) in initial])\n",
    "plt.xlabel(' K values')\n",
    "plt.ylabel('Distortions')\n",
    "plt.title(\"Elbow plot\")\n",
    "plt.show()"
   ]
  },
  {
   "cell_type": "markdown",
   "metadata": {},
   "source": [
    "The Elbow plot above shows that the elbow or the kink is at two clusters suggesting 2 clusters which is great since that is what we want our model to expect to classify reviews by positive and negative."
   ]
  },
  {
   "cell_type": "code",
   "execution_count": null,
   "metadata": {
    "collapsed": true
   },
   "outputs": [],
   "source": [
    "# Projecting the data on a 2D scatter plot."
   ]
  },
  {
   "cell_type": "code",
   "execution_count": null,
   "metadata": {},
   "outputs": [],
   "source": [
    "# Plotting the clusters using a Scipy tool for Kmeans. (Scipy has this method only for Kmeans clustering method)\n",
    "\n",
    "cent, var = initial[1] # initial value of 1 means two clusters. i.e one has to be reduced \n",
    "model_k = KMeans(n_clusters=2, init='k-means++', n_init=20)\n",
    "model_k.fit(Xt)\n",
    "centers = model_k.cluster_centers_\n",
    "#use vq() to get as assignment for each obs.\n",
    "assignment,cdist = cluster.vq.vq(X1,cent)\n",
    "plt.scatter(X1[:,0], X1[:,1], c=assignment, cmap='viridis')\n",
    "plt.scatter(centers[:, 0], centers[:, 1], c='black', s=200, alpha=0.5)\n",
    "plt.title (\"Clustering by K-Means\")\n",
    "plt.show()"
   ]
  },
  {
   "cell_type": "code",
   "execution_count": null,
   "metadata": {},
   "outputs": [],
   "source": [
    "cluster_plot(KMeans(n_clusters=2, init='k-means++', n_init=20))"
   ]
  },
  {
   "cell_type": "code",
   "execution_count": null,
   "metadata": {},
   "outputs": [],
   "source": [
    "clust_ROC_contingency(KMeans(n_clusters=2, init='k-means++', n_init=20))"
   ]
  },
  {
   "cell_type": "code",
   "execution_count": null,
   "metadata": {},
   "outputs": [],
   "source": [
    "cluster_adj_rand_index(KMeans(n_clusters=2, init='k-means++', n_init=20))"
   ]
  },
  {
   "cell_type": "code",
   "execution_count": null,
   "metadata": {},
   "outputs": [],
   "source": [
    "cluster_stability(KMeans(n_clusters=2, init='k-means++', n_init=20))"
   ]
  },
  {
   "cell_type": "code",
   "execution_count": null,
   "metadata": {},
   "outputs": [],
   "source": [
    "model_k =KMeans(n_clusters=2)\n",
    "model_k.fit(Xt)\n",
    "centers=model_k.cluster_centers_\n",
    "plt.scatter(centers[:, 0], centers[:, 1], c='red', s=200, alpha=0.5)\n",
    "plt.scatter(X1[:,0], X1[:,1], c=assignment, cmap='viridis')\n",
    "plt.show()"
   ]
  },
  {
   "cell_type": "code",
   "execution_count": null,
   "metadata": {
    "collapsed": true
   },
   "outputs": [],
   "source": []
  },
  {
   "cell_type": "markdown",
   "metadata": {},
   "source": [
    "Methods of evaluation above show that Kmeans did not perform well in terms of stabilty as per the score range requirements and also clustering."
   ]
  },
  {
   "cell_type": "markdown",
   "metadata": {},
   "source": [
    "## Mean shift clustering"
   ]
  },
  {
   "cell_type": "code",
   "execution_count": null,
   "metadata": {
    "scrolled": true
   },
   "outputs": [],
   "source": [
    "# Mean shift used here to estimate the number the clusters.,..It estimated based on data that it is all \n",
    "#one cluster\n",
    "from sklearn.cluster import MeanShift, estimate_bandwidth\n",
    "\n",
    "#Using the TF_IDF data which is Xt\n",
    "bandwidth = estimate_bandwidth(Xt, quantile=0.1, n_samples=Xt.shape[0])\n",
    "ms = MeanShift(bandwidth=1, bin_seeding=True)\n",
    "ms.fit(Xt)\n",
    "labels = ms.labels_\n",
    "n_clusters_=len(np.unique(labels))\n",
    "print(\"\\nNumber of estimated clusters by the algorithm: {}\".format(n_clusters_))"
   ]
  },
  {
   "cell_type": "markdown",
   "metadata": {},
   "source": [
    "Mean shift clusters the data as One cluster only."
   ]
  },
  {
   "cell_type": "code",
   "execution_count": null,
   "metadata": {},
   "outputs": [],
   "source": [
    "# Visualizing the cluster labelling of the Meanshift method using the model object ms\n",
    "cluster_plot(MeanShift())"
   ]
  },
  {
   "cell_type": "markdown",
   "metadata": {},
   "source": [
    "The above visualization and below evalution of clustering is doesnot make sense since meanshift determined the number of clusters to be one but the data we are trying to classify has binary output i.e positive or negative."
   ]
  },
  {
   "cell_type": "code",
   "execution_count": null,
   "metadata": {},
   "outputs": [],
   "source": [
    "#clust_ROC_contingency(MeanShift())"
   ]
  },
  {
   "cell_type": "code",
   "execution_count": null,
   "metadata": {},
   "outputs": [],
   "source": [
    "#cluster_adj_rand_index(MeanShift())"
   ]
  },
  {
   "cell_type": "code",
   "execution_count": null,
   "metadata": {},
   "outputs": [],
   "source": [
    "# cluster_stability(MeanShift())"
   ]
  },
  {
   "cell_type": "markdown",
   "metadata": {},
   "source": [
    "## Affinity Propagation clustering"
   ]
  },
  {
   "cell_type": "code",
   "execution_count": null,
   "metadata": {
    "scrolled": false
   },
   "outputs": [],
   "source": [
    "cluster_plot(AffinityPropagation())"
   ]
  },
  {
   "cell_type": "markdown",
   "metadata": {},
   "source": [
    "#### Affinity propagation is known for predicting absurdly high clusters and we can see here that there lot of colours/cluster predicted."
   ]
  },
  {
   "cell_type": "code",
   "execution_count": null,
   "metadata": {},
   "outputs": [],
   "source": [
    "clust_ROC_contingency(AffinityPropagation())"
   ]
  },
  {
   "cell_type": "code",
   "execution_count": null,
   "metadata": {},
   "outputs": [],
   "source": [
    "cluster_adj_rand_index(AffinityPropagation())"
   ]
  },
  {
   "cell_type": "code",
   "execution_count": null,
   "metadata": {},
   "outputs": [],
   "source": [
    "cluster_stability(AffinityPropagation())"
   ]
  },
  {
   "cell_type": "markdown",
   "metadata": {},
   "source": [
    "## Spectral clustering"
   ]
  },
  {
   "cell_type": "code",
   "execution_count": null,
   "metadata": {},
   "outputs": [],
   "source": [
    "cluster_plot(SpectralClustering(n_clusters=2))"
   ]
  },
  {
   "cell_type": "code",
   "execution_count": null,
   "metadata": {},
   "outputs": [],
   "source": [
    "clust_ROC_contingency(SpectralClustering(n_clusters=2))"
   ]
  },
  {
   "cell_type": "code",
   "execution_count": null,
   "metadata": {},
   "outputs": [],
   "source": [
    "cluster_adj_rand_index(SpectralClustering(n_clusters=2))"
   ]
  },
  {
   "cell_type": "code",
   "execution_count": null,
   "metadata": {},
   "outputs": [],
   "source": [
    "cluster_stability(SpectralClustering(n_clusters=2))"
   ]
  },
  {
   "cell_type": "markdown",
   "metadata": {},
   "source": [
    "### 7) Conlusions: why Modelling is better than clustering. "
   ]
  },
  {
   "cell_type": "markdown",
   "metadata": {
    "collapsed": true
   },
   "source": [
    "First of all, I like Clustering as a technique to visualize the datapoints and see how the datapoints fall as samples to give an idea. It is also a great unsupervised model for getting the feel of data. Secondly, it is good for unlabelled data to quickly know the groups. The two groups expected here the positive and reviews to some extent could be visualized. The demarcation or the boundary of the two groups was more evident in 3D graphing compared to 2D as in hyper dimensional space with mulit-dimensions it is hard to see that data in 2D and expect to find clusters or segregated groups. However, with 3D it was little better in visualizing the clusters and the boundarys or segregation into groups.\n",
    "\n",
    "Clustering model methods are harder to evaluate compared to the all the supervised modelling methods. The Evalution or assessment of the results by clustering methods are mostly difficult to measure due to its inherent inexactness. When it comes to accuracy supervised models performed much better in accurately classifying the texts as positive or negative. This is especially seen with the errors in the contingency table, very high errors in classifying texts, where as the supervised models had very low error rates.\n",
    "\n",
    "With RandIndex and Silhouette coefficient  were used to evaluate the similarity of datapoints in cluster and stability of the model. The results were not great either. Atleast with this dataset it did not do a great job in clustering similar datapoints as per these two metrics. \n",
    "\n",
    "Clustering has a single phase of implementation i.e only fitting the data to the model unlike classification supervised models which also involves the mainly the testing phase. Although we tried to test or see how the clusters have segregated compared to expected, there is no test accuracy scores etc. for clustering."
   ]
  },
  {
   "cell_type": "markdown",
   "metadata": {},
   "source": [
    "###### Future Scope: The model can be further enhanced even more using sentence2vec or doc2vec embedding to generalize more."
   ]
  }
 ],
 "metadata": {
  "kernelspec": {
   "display_name": "Python 3",
   "language": "python",
   "name": "python3"
  },
  "language_info": {
   "codemirror_mode": {
    "name": "ipython",
    "version": 3
   },
   "file_extension": ".py",
   "mimetype": "text/x-python",
   "name": "python",
   "nbconvert_exporter": "python",
   "pygments_lexer": "ipython3",
   "version": "3.6.2"
  }
 },
 "nbformat": 4,
 "nbformat_minor": 2
}
